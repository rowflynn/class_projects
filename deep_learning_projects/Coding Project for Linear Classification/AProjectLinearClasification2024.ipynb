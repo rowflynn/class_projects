{
 "cells": [
  {
   "cell_type": "markdown",
   "id": "91299b",
   "metadata": {
    "collapsed": false
   },
   "source": [
    "# **Project: Linear Classification with PyTorch**\n",
    "\n",
    "### **Objective**:\n",
    "To develop a simple linear classification neural network using PyTorch. This project will involve creating, training, and evaluating a model on the MNIST dataset, allowing students to understand the core components of building neural networks for classification tasks.\n",
    "\n",
    "### **Prerequisites**:\n",
    "- Basic understanding of Python programming\n",
    "- Familiarity with matrix operations and probability\n",
    "- Introduction to neural networks and the concept of classification\n",
    "\n",
    "---\n",
    "\n",
    "## **Table of Contents**:\n",
    "\n",
    "1. [Setup and Imports](#1-setup-and-imports)\n",
    "2. [Data Preparation](#2-data-preparation)\n",
    "3. [Data Visualization](#3-data-visualization)\n",
    "4. [Model Definition](#4-model-definition)\n",
    "5. [Loss Function and Optimizer](#5-loss-function-and-optimizer)\n",
    "6. [Training the Model](#6-training-the-model)\n",
    "7. [Testing the Model](#7-testing-the-model)\n",
    "8. [Model Prediction Visualization](#8-model-prediction-visualization)\n",
    "\n",
    "---\n",
    "\n",
    "### **1. Setup and Imports**\n",
    "\n",
    "#### **Objective**:\n",
    "Initialize the environment by importing essential libraries needed for building, training, and visualizing the neural network model.\n"
   ]
  },
  {
   "cell_type": "code",
   "execution_count": 3,
   "id": "d567fc",
   "metadata": {
    "collapsed": false
   },
   "outputs": [
   ],
   "source": [
    "# PyTorch for neural network and tensor operations\n",
    "import torch\n",
    "import torch.nn as nn\n",
    "import torch.optim as optim\n",
    "from torchvision import datasets, transforms\n",
    "from torch.utils.data import DataLoader\n",
    "\n",
    "# Matplotlib for visualizing data and results\n",
    "import matplotlib.pyplot as plt"
   ]
  },
  {
   "cell_type": "markdown",
   "id": "8d6497",
   "metadata": {
    "collapsed": false
   },
   "source": [
    "### **2. Data Preparation**\n",
    "\n",
    "#### **Objective**:\n",
    "\n",
    "> To download and prepare the MNIST dataset for training and testing. We will normalize the images and convert them to tensors.\n",
    "\n",
    "#### The MNIST Dataset\n",
    "\n",
    "The **MNIST (Modified National Institute of Standards and Technology)** dataset is a large collection of handwritten digits commonly used for training and testing machine learning models, especially in computer vision. It includes **70,000 grayscale images** of handwritten digits (0 through 9), each **28x28 pixels** in size:\n",
    "\n",
    "- **Training Set**: 60,000 images\n",
    "- **Test Set**: 10,000 images\n",
    "\n",
    "Each image in MNIST is labeled with the correct digit (0–9), making it an ideal dataset for tasks like classification and digit recognition.\n",
    "\n",
    "#### Key Options in the `torchvision.datasets` Module for MNIST\n",
    "\n",
    "The `torchvision.datasets` module provides an easy way to load and preprocess the MNIST dataset. Below are some important parameters when using `datasets.MNIST`:\n",
    "\n",
    "- **`root`**: The directory where the dataset will be stored. If it doesn't exist, it will be created.\n",
    "  \n",
    "- **`train`**: If set to `True`, loads the training set (60,000 images). If `False`, loads the test set (10,000 images).\n",
    "\n",
    "- **`download`**: If `True`, downloads the dataset to the specified `root` directory if it is not already available.\n",
    "\n",
    "- **`transform`**: Accepts a transformation or series of transformations (like `ToTensor`) to apply to the images. For example, `transforms.ToTensor()` converts PIL images to PyTorch tensors and normalizes the pixel values to the range [0, 1].\n",
    "\n",
    "#### Example Usage\n",
    "\n",
    "The code below gives a simple example of the retrieval and displaying of the data items in the database MNIST using the torchvision.datasets module. \n"
   ]
  },
  {
   "cell_type": "code",
   "execution_count": 4,
   "id": "bc227d",
   "metadata": {
    "collapsed": false
   },
   "outputs": [
    {
     "name": "stdout",
     "output_type": "stream",
     "text": [
      "Downloading http://yann.lecun.com/exdb/mnist/train-images-idx3-ubyte.gz\n"
     ]
    },
    {
     "name": "stdout",
     "output_type": "stream",
     "text": [
      "Failed to download (trying next):\n",
      "HTTP Error 403: Forbidden\n",
      "\n",
      "Downloading https://ossci-datasets.s3.amazonaws.com/mnist/train-images-idx3-ubyte.gz\n",
      "Downloading https://ossci-datasets.s3.amazonaws.com/mnist/train-images-idx3-ubyte.gz to ./data/MNIST/raw/train-images-idx3-ubyte.gz\n"
     ]
    },
    {
     "name": "stderr",
     "output_type": "stream",
     "text": [
      "\r  0%|          | 0.00/9.91M [00:00<?, ?B/s]"
     ]
    },
    {
     "name": "stderr",
     "output_type": "stream",
     "text": [
      "\r  9%|▉         | 918k/9.91M [00:00<00:01, 7.77MB/s]"
     ]
    },
    {
     "name": "stderr",
     "output_type": "stream",
     "text": [
      "\r100%|██████████| 9.91M/9.91M [00:00<00:00, 49.2MB/s]"
     ]
    },
    {
     "name": "stderr",
     "output_type": "stream",
     "text": [
      "\n"
     ]
    },
    {
     "name": "stdout",
     "output_type": "stream",
     "text": [
      "Extracting ./data/MNIST/raw/train-images-idx3-ubyte.gz to ./data/MNIST/raw\n"
     ]
    },
    {
     "name": "stdout",
     "output_type": "stream",
     "text": [
      "\n",
      "Downloading http://yann.lecun.com/exdb/mnist/train-labels-idx1-ubyte.gz\n",
      "Failed to download (trying next):\n",
      "HTTP Error 403: Forbidden\n",
      "\n",
      "Downloading https://ossci-datasets.s3.amazonaws.com/mnist/train-labels-idx1-ubyte.gz\n"
     ]
    },
    {
     "name": "stdout",
     "output_type": "stream",
     "text": [
      "Downloading https://ossci-datasets.s3.amazonaws.com/mnist/train-labels-idx1-ubyte.gz to ./data/MNIST/raw/train-labels-idx1-ubyte.gz\n"
     ]
    },
    {
     "name": "stderr",
     "output_type": "stream",
     "text": [
      "\r  0%|          | 0.00/28.9k [00:00<?, ?B/s]"
     ]
    },
    {
     "name": "stderr",
     "output_type": "stream",
     "text": [
      "\r100%|██████████| 28.9k/28.9k [00:00<00:00, 1.96MB/s]"
     ]
    },
    {
     "name": "stdout",
     "output_type": "stream",
     "text": [
      "Extracting ./data/MNIST/raw/train-labels-idx1-ubyte.gz to ./data/MNIST/raw\n",
      "\n",
      "Downloading http://yann.lecun.com/exdb/mnist/t10k-images-idx3-ubyte.gz\n"
     ]
    },
    {
     "name": "stderr",
     "output_type": "stream",
     "text": [
      "\n"
     ]
    },
    {
     "name": "stdout",
     "output_type": "stream",
     "text": [
      "Failed to download (trying next):\n",
      "HTTP Error 403: Forbidden\n",
      "\n",
      "Downloading https://ossci-datasets.s3.amazonaws.com/mnist/t10k-images-idx3-ubyte.gz\n"
     ]
    },
    {
     "name": "stdout",
     "output_type": "stream",
     "text": [
      "Downloading https://ossci-datasets.s3.amazonaws.com/mnist/t10k-images-idx3-ubyte.gz to ./data/MNIST/raw/t10k-images-idx3-ubyte.gz\n"
     ]
    },
    {
     "name": "stderr",
     "output_type": "stream",
     "text": [
      "\r  0%|          | 0.00/1.65M [00:00<?, ?B/s]"
     ]
    },
    {
     "name": "stderr",
     "output_type": "stream",
     "text": [
      "\r 78%|███████▊  | 1.28M/1.65M [00:00<00:00, 11.4MB/s]"
     ]
    },
    {
     "name": "stderr",
     "output_type": "stream",
     "text": [
      "\r100%|██████████| 1.65M/1.65M [00:00<00:00, 14.3MB/s]"
     ]
    },
    {
     "name": "stderr",
     "output_type": "stream",
     "text": [
      "\n"
     ]
    },
    {
     "name": "stdout",
     "output_type": "stream",
     "text": [
      "Extracting ./data/MNIST/raw/t10k-images-idx3-ubyte.gz to ./data/MNIST/raw\n",
      "\n",
      "Downloading http://yann.lecun.com/exdb/mnist/t10k-labels-idx1-ubyte.gz\n",
      "Failed to download (trying next):\n",
      "HTTP Error 403: Forbidden\n",
      "\n",
      "Downloading https://ossci-datasets.s3.amazonaws.com/mnist/t10k-labels-idx1-ubyte.gz\n"
     ]
    },
    {
     "name": "stdout",
     "output_type": "stream",
     "text": [
      "Downloading https://ossci-datasets.s3.amazonaws.com/mnist/t10k-labels-idx1-ubyte.gz to ./data/MNIST/raw/t10k-labels-idx1-ubyte.gz\n"
     ]
    },
    {
     "name": "stderr",
     "output_type": "stream",
     "text": [
      "\r  0%|          | 0.00/4.54k [00:00<?, ?B/s]"
     ]
    },
    {
     "name": "stderr",
     "output_type": "stream",
     "text": [
      "\r100%|██████████| 4.54k/4.54k [00:00<00:00, 7.05MB/s]"
     ]
    },
    {
     "name": "stdout",
     "output_type": "stream",
     "text": [
      "Extracting ./data/MNIST/raw/t10k-labels-idx1-ubyte.gz to ./data/MNIST/raw\n",
      "\n"
     ]
    },
    {
     "name": "stderr",
     "output_type": "stream",
     "text": [
      "\n"
     ]
    },
    {
     "data": {
      "image/png": "[encoded data removed]",
      "text/plain": [
       "<Figure size 1000x200 with 5 Axes>"
      ]
     },
     "execution_count": 4,
     "metadata": {
      "image/png": {
       "height": 174,
       "width": 795
      }
     },
     "output_type": "execute_result"
    }
   ],
   "source": [
    "import matplotlib.pyplot as plt  # For plotting images\n",
    "from torchvision import datasets  # For loading the MNIST dataset\n",
    "\n",
    "# Download and load the MNIST dataset\n",
    "# `root='./data'` specifies where to store the dataset\n",
    "# `train=True` loads the training set (set to False for the test set)\n",
    "# `download=True` ensures the dataset is downloaded if not already present\n",
    "mnist_data = datasets.MNIST(root='./data', train=True, download=True)\n",
    "\n",
    "# Function to display a specified number of images from the dataset\n",
    "def show_images(dataset, num_images=5):\n",
    "    # Create a figure with a row of subplots\n",
    "    # `figsize=(10, 2)` controls the size of the entire figure\n",
    "    fig, axes = plt.subplots(1, num_images, figsize=(10, 2))\n",
    "    \n",
    "    # Loop through the first `num_images` items in the dataset\n",
    "    for i in range(num_images):\n",
    "        # Retrieve the image and label for the current item\n",
    "        image, label = dataset[i]\n",
    "        \n",
    "        # Display the image on the i-th subplot\n",
    "        # `cmap=\"gray\"` displays the image in grayscale\n",
    "        axes[i].imshow(image, cmap=\"gray\")\n",
    "        \n",
    "        # Set the title for the current subplot to show the label\n",
    "        axes[i].set_title(f\"Label: {label}\")\n",
    "        \n",
    "        # Turn off axis markers for a cleaner look\n",
    "        axes[i].axis(\"off\")\n",
    "    \n",
    "    # Show the figure with all images\n",
    "    plt.show()\n",
    "\n",
    "# Call the function to display 5 items from the dataset\n",
    "show_images(mnist_data, 5)"
   ]
  },
  {
   "cell_type": "markdown",
   "id": "d5aa6d",
   "metadata": {
    "collapsed": false
   },
   "source": [
    "<div class=\"alert alert-block alert-info\">\n",
    "<b>NOTE</b> It is important to note that in the example above we did not implement any **transformation** to the `datasets.MNIST()` command.\n",
    "</div>\n"
   ]
  },
  {
   "cell_type": "markdown",
   "id": "8dca1d",
   "metadata": {
    "collapsed": false
   },
   "source": [
    "**Activity Instructions**:\n",
    "\n",
    "For our purpose we need to input the data from MNIST with three important modifications\n",
    "\n",
    "\n",
    "Create a transform variable called `transform`  that does:\n",
    "1. **Normalization**: Normalize the pixel values from [0, 255] to [-1, 1] to help the network train more effectively.\n",
    "2.  **Transforms**  from images to tensors.\n",
    "\n",
    "Once this variable `transform` is defined, use it as a parameter to the `datasets.MNIST`  call to create two variables: `train_dataset` and `test_dataset`.\n",
    "\n",
    "2. **Batching**: Use the `train_dataset` and the `test_dataset` variables to create 2 instances of a `DataLoader `variable: `train_dataloader` and `test_dataloader`. When you define these datalaoder instances makes sure that you select a `batch_size` of 32. "
   ]
  },
  {
   "cell_type": "code",
   "execution_count": 11,
   "id": "6196fe",
   "metadata": {
    "collapsed": false
   },
   "outputs": [
   ],
   "source": [
    "#Complete the code below\n",
    "\n",
    "# Import necessary libraries for data visualization and manipulation\n",
    "import matplotlib.pyplot as plt # For plotting and visualizing images\n",
    "import numpy as np # For numerical operations, if needed\n",
    "# Import PyTorch libraries for data handling and transformations\n",
    "from torchvision import datasets, transforms  # For loading and transforming datasets\n",
    "from torch.utils.data import DataLoader  # For creating data loaders to handle batches\n",
    "#####################################################################\n",
    "# Data preprocessing transformations: Declare the variable transform that:\n",
    "# -Convert images to PyTorch tensors, \n",
    "# -Normalize to range [-1, 1]\n",
    "#complete the line below\n",
    "transform =  transforms.Compose([transforms.ToTensor(), transforms.Normalize(mean=(0.5,), std=(0.5,))])# Convert images to PyTorch tensors\n",
    "              # Normalizes pixel values to mean 0.5 and std 0.5, scaling to range [-1, 1]\n",
    "\n",
    "#####################################################################\n",
    "\n",
    "#####################################################################\n",
    "#Define the Dataset.MNIST variables train_dataset, testdataset with parameters\n",
    "# - root='./data': Saves the dataset to a local 'data' directory\n",
    "# - train=True: Loads the training set (60,000 images)\n",
    "# - download=True: Downloads the dataset if it is not already in the specified directory\n",
    "# - transform=transform: Applies the defined transformations to the dataset\n",
    "# Download and load MNIST training and test datasets\n",
    "#Complete the following two lines of code\n",
    "train_dataset = datasets.MNIST(root=\"./data\", train=True, download=True, transform=transform)\n",
    "test_dataset = datasets.MNIST(root=\"./data\", train=False, download=True, transform=transform)\n",
    "#####################################################################\n",
    "\n",
    "#####################################################################\n",
    "# DataLoader for batching and shuffling\n",
    "batch_size = 64  # Number of images per batch\n",
    "\n",
    "#Define two Dataloader variables: train_loader and test_loader\n",
    "#Parameters of the DataLoader call for training:\n",
    "# - batch_size=64: Defines the number of images in each batch\n",
    "# - shuffle=True: Shuffles the training dataset for better learning (randomizes each epoch)\n",
    "#Complete the line below\n",
    "# the variable will take its data from the train_dataset variable defined above\n",
    "train_loader = DataLoader(train_dataset, batch_size, shuffle=True)\n",
    "\n",
    "#Parameters of the DataLoader call for testing:\n",
    "# - batch_size=64: Defines the number of images in each batch\n",
    "# - shuffle=false: Does not shuffle the test dataset to maintain consistency during evaluation\n",
    "#Complete the line below\n",
    "# the variable will take its data from the test_dataset variable defined above\n",
    "test_loader = DataLoader(test_dataset, batch_size, shuffle=False)"
   ]
  },
  {
   "cell_type": "markdown",
   "id": "0e1e0c",
   "metadata": {
    "collapsed": false
   },
   "source": [
    "### **3. Data Visualization**\n",
    "\n",
    "#### **Objective**:\n",
    "Visualize a few images from the dataset to gain familiarity with the input data format and content.\n",
    "\n",
    "**Instructions**:\n",
    "1. Extract the first batch of images and labels from the variable `train_dataloader`.\n",
    "2. Store that batch into the tensor variables `images`, `labels`.\n",
    "3. Print the shapes of the tensors `images` and `labels`.\n",
    "4. Print the first vector in the tensor `images`.\n",
    "\n",
    "The code defined at the end of the code below prints the first 6 elements of `images` and `labels` as images and numbers.\n",
    "\n",
    "The output that you should get after you complete the code below and execute it correctly should be similar to:\n",
    "\n",
    "![images1](images1.png)"
   ]
  },
  {
   "cell_type": "code",
   "execution_count": 13,
   "id": "ad5505",
   "metadata": {
    "collapsed": false
   },
   "outputs": [
    {
     "name": "stdout",
     "output_type": "stream",
     "text": [
      "shape of tensor images:  torch.Size([64, 1, 28, 28])\n",
      "shape of tensor labels:  torch.Size([64])\n"
     ]
    },
    {
     "data": {
      "image/png": "[encoded data removed]",
      "text/plain": [
       "<Figure size 1200x700 with 6 Axes>"
      ]
     },
     "execution_count": 13,
     "metadata": {
      "image/png": {
       "height": 580,
       "width": 921
      }
     },
     "output_type": "execute_result"
    }
   ],
   "source": [
    "# Complete the code below\n",
    "\n",
    "#####################################################################\n",
    "# Retrieve the first batch of train_loader and store it as images and labels \n",
    "examples = next(iter(test_loader))   # Create an iterator for the training data called examples\n",
    "images, labels = examples  # Get the first batch of images and labels\n",
    "#print the shapeof the tensors `images` and `labels`.\n",
    "print(\"shape of tensor images: \", images.shape)\n",
    "print(\"shape of tensor labels: \", labels.shape)\n",
    "#####################################################################\n",
    "\n",
    "#####################################################################\n",
    "# Display a few images from `images` with their `labels`\n",
    "for i in range(6):\n",
    "    plt.subplot(2, 3, i+1)  # Create a 2x3 grid of subplots\n",
    "    plt.imshow(images[i][0], cmap='gray')  # Show the image (only 1 channel for grayscale)\n",
    "    plt.title(f'Label: {labels[i].item()}')  # Display the label\n",
    "    plt.axis('off')\n",
    "plt.show()\n",
    "#####################################################################"
   ]
  },
  {
   "cell_type": "markdown",
   "id": "4ebd12",
   "metadata": {
    "collapsed": false
   },
   "source": [
    "### **4. Model Definition**\n",
    "\n",
    "#### **Objective**:\n",
    "Define a linear classification model that maps input images to output classes.\n",
    "\n",
    "#### `nn.Sequential` in PyTorch\n",
    "\n",
    "The `nn.Sequential` class in PyTorch provides a simple way to build a neural network by stacking layers sequentially. \n",
    "\n",
    "It allows you to define a feed-forward model with a series of layers, such as fully connected layers, convolutional layers, or activation functions, in the order they should be executed. \n",
    "\n",
    "This approach is particularly useful for creating straightforward models that do not require complex, non-linear layer connections or branching.\n",
    "\n",
    "#### Using `nn.Sequential` in Classification Tasks\n",
    "\n",
    "In classification tasks, `nn.Sequential` is often used to define the sequence of operations that process input data through layers and activation functions, ultimately producing class probabilities. \n",
    "\n",
    "For example, a simple neural network can be built using `nn.Sequential` as follows:\n",
    "\n",
    "```python\n",
    "import torch\n",
    "import torch.nn as nn\n",
    "\n",
    "# Define a simple feed-forward neural network for classification\n",
    "model = nn.Sequential(\n",
    "    nn.Flatten(),           # Flatten the input (e.g., 28x28 image to 784 vector)\n",
    "    nn.Linear(784, 128),    # Fully connected layer with 784 inputs and 128 outputs\n",
    "    nn.ReLU(),              # ReLU activation function\n",
    "    nn.Linear(128, 64),     # Fully connected layer with 128 inputs and 64 outputs\n",
    "    nn.ReLU(),              # ReLU activation function\n",
    "    nn.Linear(64, 10),      # Final layer with 64 inputs and 10 outputs (for 10 classes)\n",
    "    nn.Softmax(dim=1)       # Softmax activation to output probabilities for each class\n",
    ")\n",
    "```\n",
    "\n",
    "In this example:\n",
    "\n",
    "* Layers are added sequentially, where each layer’s output feeds directly into the next layer.\n",
    "\n",
    "* Activation Functions (e.g., ReLU and Softmax) are placed between layers to introduce non-linearities, enabling the model to learn complex patterns.\n",
    "\n",
    "* The last layer typically outputs a vector representing class probabilities, allowing for straightforward prediction by taking the class with the highest probability.\n",
    "nn.Sequential is particularly effective for standard classification tasks, making the model architecture both readable and concise.\n",
    "\n",
    "**Activity Instructions**:\n",
    "\n",
    "First,  define the variable `model` of type `nn.sequential`. This variable will contain a single layer with 10 output nodes.\n",
    "For your variable `model`:\n",
    "\n",
    "1. Flatten each 28x28 pixel image into a 784-dimensional vector.\n",
    "\n",
    "2. Use a single linear layer to map the input vector to a 10-dimensional output (one for each digit class).\n",
    "\n",
    "3. Initialize the weights and biases as follows: the weights to be randomly assigned form a distribution with mean $0$ and standard deviation $0.01$, and the bias to be assigned the initial value of $0$.\n",
    "\n",
    "Your output should look like this:\n",
    "\n",
    "![output3](Output3.png)"
   ]
  },
  {
   "cell_type": "code",
   "execution_count": 16,
   "id": "83e193",
   "metadata": {
    "collapsed": false
   },
   "outputs": [
    {
     "name": "stdout",
     "output_type": "stream",
     "text": [
      "Model structure:\n",
      " Sequential(\n",
      "  (0): Flatten(start_dim=1, end_dim=-1)\n",
      "  (1): Linear(in_features=784, out_features=10, bias=True)\n",
      ")\n"
     ]
    }
   ],
   "source": [
    "# Write your answer here\n",
    "\n",
    "# Define the linear model\n",
    "input_size = 28 * 28  # Each image is 28x28 pixels\n",
    "num_classes = 10  # Digits 0-9\n",
    "model = nn.Sequential(nn.Flatten(),   # Flatten each 28x28 image into a 784-dimensional vector\n",
    "                      nn.Linear(input_size, num_classes)   # Single linear layer with 10 output nodes\n",
    "                     )\n",
    "# Initialize weights with a small Gaussian noise, biases as zero\n",
    "model[1].weight.data = torch.normal(0, 0.01, size=(num_classes, input_size), requires_grad=True)\n",
    "\n",
    "model[1].bias.data = torch.zeros(num_classes, requires_grad=True)\n",
    "\n",
    "print(\"Model structure:\\n\", model)"
   ]
  },
  {
   "cell_type": "markdown",
   "id": "3f9fd7",
   "metadata": {
    "collapsed": false
   },
   "source": [
    "### **5. Loss Function and Optimizer**\n",
    "\n",
    "#### **Objective**:\n",
    "Define the loss function and optimizer, which will help the model learn.\n",
    "\n",
    "**Instructions**:\n",
    "1. **Cross-Entropy Loss**: Use cross-entropy to measure the difference between predicted probabilities and actual labels, which is suitable for classification tasks. You may use the `nn.CrossEntropyLoss()` method from the class `nn`. Rename the `nn.CrossEntropyLoss()` as `criterion` so it is easier to write in what follows.\n",
    "\n",
    "2. **Stochastic Gradient Descent (SGD)**: Set up the optimizer as a variable called `optimizer` to update weights to minimize the loss following the SGD method. USe the `optim.SGD` with the learning rate set at 0.01. \n"
   ]
  },
  {
   "cell_type": "code",
   "execution_count": 17,
   "id": "356100",
   "metadata": {
    "collapsed": false
   },
   "outputs": [
   ],
   "source": [
    "#Complete the code below\n",
    "\n",
    "# Cross-entropy loss function (common for classification tasks) renamed as criterion\n",
    "criterion = nn.CrossEntropyLoss()\n",
    "\n",
    "# Define the lr value and Stochastic Gradient Descent (SGD) optimizer\n",
    "learning_rate = 0.01  # The step size for weight updates\n",
    "optimizer = optim.SGD(model.parameters(), lr=learning_rate)"
   ]
  },
  {
   "cell_type": "markdown",
   "id": "97567b",
   "metadata": {
    "collapsed": false
   },
   "source": [
    "### **6. Training the Model**\n",
    "\n",
    "#### **Objective**:\n",
    "Train the model over multiple epochs by feeding it batches of training data, calculating the loss, and updating the model parameters.\n",
    "\n",
    "**Loop Steps**:\n",
    "1. **Forward Pass**: Compute model predictions for each batch.\n",
    "2. **Backward Pass**: Calculate the gradients of the loss with respect to model parameters.\n",
    "3. **Optimizer Step**: Update model parameters using the calculated gradients.\n",
    "\n",
    "Your output should be similar to:\n",
    "\n",
    "![output](output.png)"
   ]
  },
  {
   "cell_type": "code",
   "execution_count": 34,
   "id": "a292ec",
   "metadata": {
    "collapsed": false
   },
   "outputs": [
    {
     "name": "stdout",
     "output_type": "stream",
     "text": [
      "Epoch [1/5], Loss: 567.9644, Accuracy: 85.04%\n"
     ]
    },
    {
     "name": "stdout",
     "output_type": "stream",
     "text": [
      "Epoch [2/5], Loss: 361.9403, Accuracy: 89.35%\n"
     ]
    },
    {
     "name": "stdout",
     "output_type": "stream",
     "text": [
      "Epoch [3/5], Loss: 329.9061, Accuracy: 90.17%\n"
     ]
    },
    {
     "name": "stdout",
     "output_type": "stream",
     "text": [
      "Epoch [4/5], Loss: 313.7467, Accuracy: 90.51%\n"
     ]
    },
    {
     "name": "stdout",
     "output_type": "stream",
     "text": [
      "Epoch [5/5], Loss: 303.5333, Accuracy: 90.74%\n"
     ]
    },
    {
     "data": {
      "image/png": "[encoded data removed]",
      "text/plain": [
       "<Figure size 600x400 with 1 Axes>"
      ]
     },
     "execution_count": 34,
     "metadata": {
      "image/png": {
       "height": 392,
       "width": 532
      }
     },
     "output_type": "execute_result"
    }
   ],
   "source": [
    "#Complete the code below\n",
    "#####################################################################\n",
    "#We initialize the required parameters\n",
    "epochs = 5  # Number of times to iterate over the entire dataset (full training process)\n",
    "accuracies = []  # List to store accuracy values for each epoch\n",
    "learning_rate = 0.01  # The step size for weight updates\n",
    "#####################################################################\n",
    "\n",
    "#####################################################################\n",
    "#We Reinitialize Model Parameters and we reset the Optimizer\n",
    "#so that we can rerun this code with different parameters.\n",
    "\n",
    "#Before starting a new training run, reinitialize the model's parameters to random values (as they were during the first initialization).\n",
    "torch.nn.init.normal_(model[1].weight, mean=0.0, std=0.01)\n",
    "torch.nn.init.constant_(model[1].bias, 0)\n",
    "\n",
    "# Reset Optimizer: Recreate the optimizer with the new learning rate and ensure it uses the reinitialized model's parameters.\n",
    "optimizer = optim.SGD(model.parameters(), lr=learning_rate)\n",
    "#####################################################################\n",
    "\n",
    "#####################################################################\n",
    "#We train now\n",
    "for epoch in range(epochs):  # Loop over each epoch\n",
    "    total_loss = 0  # Initialize the cumulative loss for the current epoch\n",
    "    correct = 0  # Initialize the count of correctly predicted labels for the epoch\n",
    "    total = 0  # Initialize the total number of labels processed in the epoch\n",
    "    \n",
    "    # Iterate over the data loader, which provides batches of images and their corresponding labels\n",
    "    for images, labels in train_loader:\n",
    "        # Flatten the 28x28 image tensors into 1D vectors of size 784\n",
    "        # I dont see why this is necessary as the model flattens the input itself\n",
    "        \n",
    "        # Perform a forward pass through the model to get output predictions\n",
    "        outputs = model(images)\n",
    "        \n",
    "        # Compute the loss using the defined criterion (e.g., CrossEntropyLoss)\n",
    "        loss = criterion(outputs,labels)\n",
    "        \n",
    "        # Clear any previously accumulated gradients in the optimizer\n",
    "        optimizer.zero_grad()\n",
    "        \n",
    "        # Perform backpropagation to compute gradients of the loss w.r.t. model parameters\n",
    "        loss.backward()\n",
    "        \n",
    "        # Update the model parameters using the computed gradients\n",
    "        optimizer.step()\n",
    "        \n",
    "        # Track training metrics\n",
    "        total_loss += loss.item()  # Add the loss for this batch to the cumulative loss\n",
    "        \n",
    "        # Determine the predicted class with the highest probability\n",
    "        _, predicted = outputs.max(1)  # `max(1)` returns the max value and its index for each sample along dim 1\n",
    "        \n",
    "        # Count the total number of labels in the batch\n",
    "        total += labels.size(0)\n",
    "        \n",
    "        # Count how many predictions match the true labels\n",
    "        correct += (predicted == labels).sum().item()\n",
    "\n",
    "    # After all batches in the epoch, calculate accuracy\n",
    "    accuracy = 100 * correct / total  # Convert accuracy to a percentage\n",
    "    accuracies.append(accuracy)  # Store accuracy for plotting\n",
    "    \n",
    "    # Print the metrics for the current epoch\n",
    "    print(f'Epoch [{epoch+1}/{epochs}], Loss: {total_loss:.4f}, Accuracy: {accuracy:.2f}%')\n",
    "\n",
    "#####################################################################\n",
    "# Plot epochs vs accuracy\n",
    "plt.figure(figsize=(6, 4))\n",
    "plt.plot(range(1, epochs + 1), accuracies, marker='o', linestyle='-', label='Accuracy')\n",
    "plt.xlabel('Epochs')\n",
    "plt.ylabel('Accuracy (%)')\n",
    "plt.title('Epochs vs Accuracy')\n",
    "plt.grid(True)\n",
    "plt.legend()\n",
    "plt.show()\n",
    "#####################################################################"
   ]
  },
  {
   "cell_type": "markdown",
   "id": "d16a89",
   "metadata": {
    "collapsed": false
   },
   "source": [
    "### **7. Testing the Model**\n",
    "\n",
    "#### **Objective**:\n",
    "Evaluate the model's accuracy on unseen test data to assess generalization.\n",
    "\n",
    "**Instructions**:\n",
    "1. **Evaluation Mode**: Disable gradient computation and backpropagation by setting the model to evaluation mode.\n",
    "2. Compute accuracy on the test dataset by comparing predictions with true label with the predictions obtained from your optimized neural network. The dataloader to use in this case is the `test_dataloader`, NOT the `train_dataloader`.\n",
    "\n",
    "Your output should be similar to this:\n",
    "\n",
    "![accuracy](accuracy.png)"
   ]
  },
  {
   "cell_type": "code",
   "execution_count": 35,
   "id": "bf14ba",
   "metadata": {
    "collapsed": false
   },
   "outputs": [
    {
     "name": "stdout",
     "output_type": "stream",
     "text": [
      "Test Accuracy: 91.36%\n"
     ]
    }
   ],
   "source": [
    "# Write your code here\n",
    "# Evaluation on the test set\n",
    "# Switch the model to evaluation mode to ensure proper behavior during evaluation\n",
    "# (e.g., disables dropout and batch normalization updates).\n",
    "model.eval()\n",
    "\n",
    "# Disable gradient computation since we are only evaluating the model and not updating weights.\n",
    "# This reduces memory usage and speeds up the computation.\n",
    "with torch.no_grad():  \n",
    "    correct = 0  # Initialize the count of correct predictions\n",
    "    total = 0  # Initialize the total number of samples in the test set\n",
    "\n",
    "    # Loop through the test data loader, which provides batches of images and labels.\n",
    "    for images, labels in test_loader:\n",
    "        # Flatten each 28x28 image into a 1D vector of size 784 to match the input shape expected by the model.\n",
    "        # I dont see why this is necessary as the model flattens the input itself\n",
    "        \n",
    "        # Perform a forward pass to obtain model predictions for the batch of images.\n",
    "        outputs = model(images)\n",
    "        \n",
    "        # `outputs.max(1)` returns the maximum value and its index for each row in the batch (dim=1).\n",
    "        # The index corresponds to the predicted class (e.g., 0-9 for digits in MNIST).\n",
    "        _, predicted = outputs.max(1)\n",
    "        \n",
    "        # Count the number of labels in the current batch and add it to the total count.\n",
    "        total += labels.size(0)\n",
    "        \n",
    "        # Compare the predicted labels to the true labels and count the number of correct predictions.\n",
    "        correct += (predicted == labels).sum().item()\n",
    "    \n",
    "    # Calculate the overall accuracy as a percentage.\n",
    "    # Accuracy = (Number of correct predictions / Total number of samples) * 100\n",
    "    accuracy = 100 * correct / total\n",
    "    \n",
    "    # Print the test accuracy in percentage format.\n",
    "    print(f'Test Accuracy: {accuracy:.2f}%')"
   ]
  },
  {
   "cell_type": "markdown",
   "id": "bb1e19",
   "metadata": {
    "collapsed": false
   },
   "source": [
    "### **8. Model Prediction Visualization**\n",
    "\n",
    "#### **Objective**:\n",
    "\n",
    "Visualize a few predictions to understand the model’s performance visually.\n",
    "\n",
    "**Instructions**:\n",
    "\n",
    "1. Display sample images with predicted and actual labels to see the model’s accuracy on specific cases. "
   ]
  },
  {
   "cell_type": "code",
   "execution_count": 44,
   "id": "ce58a5",
   "metadata": {
    "collapsed": false
   },
   "outputs": [
    {
     "data": {
      "image/png": "[encoded data removed]",
      "text/plain": [
       "<Figure size 1200x700 with 6 Axes>"
      ]
     },
     "execution_count": 44,
     "metadata": {
      "image/png": {
       "height": 580,
       "width": 921
      }
     },
     "output_type": "execute_result"
    }
   ],
   "source": [
    "# Write your code here\n",
    "\n",
    "# Display predictions for a few images\n",
    "examples = next(iter(test_loader))          # Create an iterator for the test data\n",
    "images, labels = examples                   # Get the first batch of images and labels\n",
    "outputs = model(images)                     # Forward pass for predictions\n",
    "predictions = torch.argmax(outputs, dim=1)  # Get index of max probability for each image\n",
    "\n",
    "# Display a few images with their predictions and true labels\n",
    "for i in range(6):\n",
    "    plt.subplot(2, 3, i+1)\n",
    "    plt.imshow(images[i][0], cmap='gray')  # Show the image\n",
    "    plt.title(f'Actual: {labels[i].item()}, Predicted: {predictions[i].item()}')\n",
    "    plt.axis('off')\n",
    "plt.show()"
   ]
  },
  {
   "cell_type": "markdown",
   "id": "f7bfe7",
   "metadata": {
    "collapsed": false
   },
   "source": [
    "### Summary\n",
    "\n",
    "This notebook walks through the process of building, training, and testing a simple linear classification model on the MNIST dataset using PyTorch.\n",
    "\n",
    "By completing these exercises, students will gain hands-on experience with the fundamental steps in building a classification neural network, including data preparation, model definition, training, and evaluation."
   ]
  },
  {
   "cell_type": "markdown",
   "id": "7ef284",
   "metadata": {
    "collapsed": false
   },
   "source": [
    "**END OF WORKSHEET**\n",
    "\n",
    "Make sure that you answered all the questions on time. This completed `Jupyter Notebook` will be collected and graded. \n",
    "\n",
    "Once the `Jupyter Notebook` is collected it can not be modified."
   ]
  },
  {
   "cell_type": "code",
   "execution_count": 0,
   "id": "ded196",
   "metadata": {
    "collapsed": false
   },
   "outputs": [
   ],
   "source": [
   ]
  }
 ],
 "metadata": {
  "kernelspec": {
   "argv": [
    "/usr/bin/python3",
    "-m",
    "ipykernel",
    "--HistoryManager.enabled=False",
    "--matplotlib=inline",
    "-c",
    "%config InlineBackend.figure_formats = set(['retina'])\nimport matplotlib; matplotlib.rcParams['figure.figsize'] = (12, 7)",
    "-f",
    "{connection_file}"
   ],
   "display_name": "Python 3 (system-wide)",
   "env": {
   },
   "language": "python",
   "metadata": {
    "cocalc": {
     "description": "Python 3 programming language",
     "priority": 100,
     "url": "https://www.python.org/"
    }
   },
   "name": "python3",
   "resource_dir": "/ext/jupyter/kernels/python3"
  },
  "language_info": {
   "codemirror_mode": {
    "name": "ipython",
    "version": 3
   },
   "file_extension": ".py",
   "mimetype": "text/x-python",
   "name": "python",
   "nbconvert_exporter": "python",
   "pygments_lexer": "ipython3",
   "version": "3.10.12"
  }
 },
 "nbformat": 4,
 "nbformat_minor": 4
}