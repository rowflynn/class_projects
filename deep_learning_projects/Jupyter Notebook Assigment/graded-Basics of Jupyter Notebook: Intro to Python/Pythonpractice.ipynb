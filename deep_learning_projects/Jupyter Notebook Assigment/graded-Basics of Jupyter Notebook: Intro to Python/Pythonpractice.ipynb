{
 "cells": [
  {
   "cell_type": "markdown",
   "id": "e5dda9",
   "metadata": {
    "collapsed": false
   },
   "source": [
    "# Homework 2: Intro to Python"
   ]
  },
  {
   "cell_type": "markdown",
   "id": "f29476",
   "metadata": {
    "collapsed": false
   },
   "source": [
    "In this lab you will be familiarizing yourself with the programming language called [**Python**](https://www.python.org/). \n",
    "\n",
    ">Feel free to execute and modify the code cell. You should experiment with **Python** statements to understand the language.\n",
    "\n",
    "**Python** is a so-called high level programming language. Which means it is very abstracted from machine languages and are easily readable by humans. \n",
    "\n",
    "**Python** is one of the most popular programming languages nowadays, and is used in various spheres from research and Data Science to Machine Learning and Artificial Intelligence.\n",
    "\n",
    "In this worksheet you will also learn some of the most popular **Python** libraries such as `Pandas`, `Numpy`, and `Matplotlib`. Libraries are used to make **Python** more efficient. By itself (solely with built-in functions and methods), Python is not a very useful language, hence people keep building libraries (sets of functions and methods) that can be used together with **Python** in order to make it more useful."
   ]
  },
  {
   "cell_type": "markdown",
   "id": "51eb86",
   "metadata": {
    "collapsed": false
   },
   "source": [
    "# Python's Data Types "
   ]
  },
  {
   "cell_type": "markdown",
   "id": "26ef88",
   "metadata": {
    "collapsed": false
   },
   "source": [
    "## Numerals"
   ]
  },
  {
   "cell_type": "markdown",
   "id": "1193e3",
   "metadata": {
    "collapsed": false
   },
   "source": [
    "One of the data types that is commonly used in **Python** are numerals (aka numbers). \n",
    "With numerals, **Python** can be used as a calculator. Run the cells below (and modify them as you wish)  to see it for yourself."
   ]
  },
  {
   "cell_type": "code",
   "execution_count": 1,
   "id": "f40665",
   "metadata": {
    "collapsed": false
   },
   "outputs": [
    {
     "data": {
      "text/plain": [
       "8"
      ]
     },
     "execution_count": 1,
     "metadata": {
     },
     "output_type": "execute_result"
    }
   ],
   "source": [
    "3+5"
   ]
  },
  {
   "cell_type": "code",
   "execution_count": 2,
   "id": "c6723d",
   "metadata": {
    "collapsed": false
   },
   "outputs": [
    {
     "data": {
      "text/plain": [
       "120"
      ]
     },
     "execution_count": 2,
     "metadata": {
     },
     "output_type": "execute_result"
    }
   ],
   "source": [
    "140-20"
   ]
  },
  {
   "cell_type": "code",
   "execution_count": 3,
   "id": "500389",
   "metadata": {
    "collapsed": false
   },
   "outputs": [
    {
     "data": {
      "text/plain": [
       "20.0"
      ]
     },
     "execution_count": 3,
     "metadata": {
     },
     "output_type": "execute_result"
    }
   ],
   "source": [
    "40/2"
   ]
  },
  {
   "cell_type": "code",
   "execution_count": 0,
   "id": "9d0b1a",
   "metadata": {
    "collapsed": false
   },
   "outputs": [
   ],
   "source": [
    "2*2"
   ]
  },
  {
   "cell_type": "markdown",
   "id": "ee14a1",
   "metadata": {
    "collapsed": false
   },
   "source": [
    "**Python** follows the same arithmetic rules as we do. So guess what the output of the next cell will be:"
   ]
  },
  {
   "cell_type": "code",
   "execution_count": 4,
   "id": "28e01a",
   "metadata": {
    "collapsed": false
   },
   "outputs": [
    {
     "data": {
      "text/plain": [
       "11"
      ]
     },
     "execution_count": 4,
     "metadata": {
     },
     "output_type": "execute_result"
    }
   ],
   "source": [
    "2*5+1"
   ]
  },
  {
   "cell_type": "markdown",
   "id": "0669fe",
   "metadata": {
    "collapsed": false
   },
   "source": [
    "What about this cell:"
   ]
  },
  {
   "cell_type": "code",
   "execution_count": 5,
   "id": "2cccfc",
   "metadata": {
    "collapsed": false
   },
   "outputs": [
    {
     "data": {
      "text/plain": [
       "12"
      ]
     },
     "execution_count": 5,
     "metadata": {
     },
     "output_type": "execute_result"
    }
   ],
   "source": [
    "2*(5+1)"
   ]
  },
  {
   "cell_type": "markdown",
   "id": "a2d4c0",
   "metadata": {
    "collapsed": false
   },
   "source": [
    "Guess what a double star notation does? Run the cell below to see if you had the right intuition about it."
   ]
  },
  {
   "cell_type": "code",
   "execution_count": 6,
   "id": "f4d8ef",
   "metadata": {
    "collapsed": false
   },
   "outputs": [
    {
     "data": {
      "text/plain": [
       "9"
      ]
     },
     "execution_count": 6,
     "metadata": {
     },
     "output_type": "execute_result"
    }
   ],
   "source": [
    "3**2"
   ]
  },
  {
   "cell_type": "markdown",
   "id": "a13e05",
   "metadata": {
    "collapsed": false
   },
   "source": [
    "There are a few types of numerals: `integers` and `floats`. \n",
    "\n",
    "They are not compatible, so it is important to remember which one you are using in order to avoid bugs. Floats use decimal points, so it will be easy for you to spot them. See how the output changes when we print the same number as an `integer` and as a `float`."
   ]
  },
  {
   "cell_type": "code",
   "execution_count": 7,
   "id": "55ab6e",
   "metadata": {
    "collapsed": false
   },
   "outputs": [
    {
     "data": {
      "text/plain": [
       "1776"
      ]
     },
     "execution_count": 7,
     "metadata": {
     },
     "output_type": "execute_result"
    }
   ],
   "source": [
    "int(1776)"
   ]
  },
  {
   "cell_type": "code",
   "execution_count": 8,
   "id": "2b9ac0",
   "metadata": {
    "collapsed": false
   },
   "outputs": [
    {
     "data": {
      "text/plain": [
       "1776.0"
      ]
     },
     "execution_count": 8,
     "metadata": {
     },
     "output_type": "execute_result"
    }
   ],
   "source": [
    "float(1776)"
   ]
  },
  {
   "cell_type": "markdown",
   "id": "f34428",
   "metadata": {
    "collapsed": false
   },
   "source": [
    "## Variables"
   ]
  },
  {
   "cell_type": "markdown",
   "id": "18b4b4",
   "metadata": {
    "collapsed": false
   },
   "source": [
    "To store the values in **Python** (and in many other programming languages) we need to use variables. Variables can store all kinds of information. This is useful if you plan to use the same values later on in your project. It will save you time and make your code more readable. To see how we store values in variables run the cell below."
   ]
  },
  {
   "cell_type": "code",
   "execution_count": 9,
   "id": "481b43",
   "metadata": {
    "collapsed": false
   },
   "outputs": [
    {
     "data": {
      "text/plain": [
       "'Wait for it!'"
      ]
     },
     "execution_count": 9,
     "metadata": {
     },
     "output_type": "execute_result"
    }
   ],
   "source": [
    "burr = \"Wait for it!\"\n",
    "burr"
   ]
  },
  {
   "cell_type": "code",
   "execution_count": 10,
   "id": "49b0d3",
   "metadata": {
    "collapsed": false
   },
   "outputs": [
    {
     "data": {
      "text/plain": [
       "'Wait for it!'"
      ]
     },
     "execution_count": 10,
     "metadata": {
     },
     "output_type": "execute_result"
    }
   ],
   "source": [
    "burr"
   ]
  },
  {
   "cell_type": "markdown",
   "id": "860215",
   "metadata": {
    "collapsed": false
   },
   "source": [
    "If you don't assign any value to the variable and call it later, it will give you an error. We can see it in the cell below. (It will give you an error, but it was planned that way)"
   ]
  },
  {
   "cell_type": "code",
   "execution_count": 11,
   "id": "598039",
   "metadata": {
    "collapsed": false
   },
   "outputs": [
    {
     "ename": "NameError",
     "evalue": "name 'x' is not defined",
     "output_type": "error",
     "traceback": [
      "\u001b[0;31m---------------------------------------------------------------------------\u001b[0m",
      "\u001b[0;31mNameError\u001b[0m                                 Traceback (most recent call last)",
      "\u001b[0;32m/tmp/ipykernel_428/2809545446.py\u001b[0m in \u001b[0;36m<cell line: 2>\u001b[0;34m()\u001b[0m\n\u001b[1;32m      1\u001b[0m \u001b[0my\u001b[0m \u001b[0;34m=\u001b[0m \u001b[0;36m8\u001b[0m\u001b[0;34m\u001b[0m\u001b[0;34m\u001b[0m\u001b[0m\n\u001b[0;32m----> 2\u001b[0;31m \u001b[0mz\u001b[0m \u001b[0;34m=\u001b[0m \u001b[0mx\u001b[0m\u001b[0;34m+\u001b[0m\u001b[0my\u001b[0m\u001b[0;34m\u001b[0m\u001b[0;34m\u001b[0m\u001b[0m\n\u001b[0m",
      "\u001b[0;31mNameError\u001b[0m: name 'x' is not defined"
     ]
    }
   ],
   "source": [
    "y = 8\n",
    "z = x+y"
   ]
  },
  {
   "cell_type": "markdown",
   "id": "d40603",
   "metadata": {
    "collapsed": false
   },
   "source": [
    "```\n",
    "---------------------------------------------------------------------------\n",
    "NameError                                 Traceback (most recent call last)\n",
    "<ipython-input-25-33c5b6ca9af3> in <module>()\n",
    "      1 y = 8\n",
    "----> 2 z = x+y\n",
    "\n",
    "NameError: name 'x' is not defined\n",
    "```"
   ]
  },
  {
   "cell_type": "markdown",
   "id": "cebd02",
   "metadata": {
    "collapsed": false
   },
   "source": [
    "Here, we did not assign x to anything, and since x was not defined, we cannot add its value to y, so this produces an error."
   ]
  },
  {
   "cell_type": "markdown",
   "id": "c5abed",
   "metadata": {
    "collapsed": false
   },
   "source": [
    "## Strings"
   ]
  },
  {
   "cell_type": "markdown",
   "id": "ec6481",
   "metadata": {
    "collapsed": false
   },
   "source": [
    "The phrases and words in Python are always stored inbetween double or single quotation marks. They are formally called strings."
   ]
  },
  {
   "cell_type": "code",
   "execution_count": 0,
   "id": "4c713e",
   "metadata": {
    "collapsed": false
   },
   "outputs": [
   ],
   "source": [
    "\"History has its eyes on you\""
   ]
  },
  {
   "cell_type": "markdown",
   "id": "99cfba",
   "metadata": {
    "collapsed": false
   },
   "source": [
    "Also, you can use both single and double quotes for the strings, but sometimes you need to use single quotes inside of the string and that might cause a problem (it will \"exit it out\"). \n",
    "\n",
    "You can just always use the double quotation marks on the outside to avoid such problem. Or, you can use a backslash before the single quotation mark. It will tell Python to ignore it and not to exit it out. You can see an example of it below:"
   ]
  },
  {
   "cell_type": "code",
   "execution_count": 12,
   "id": "b506ea",
   "metadata": {
    "collapsed": false
   },
   "outputs": [
    {
     "name": "stdout",
     "output_type": "stream",
     "text": [
      "What'd I miss\n",
      "You'll be back\n"
     ]
    }
   ],
   "source": [
    "print(\"What'd I miss\")\n",
    "print('You\\'ll be back')"
   ]
  },
  {
   "cell_type": "markdown",
   "id": "9b32a6",
   "metadata": {
    "collapsed": false
   },
   "source": [
    "The strings can also be \"added\" onto one another. Run the cell below to see how it works."
   ]
  },
  {
   "cell_type": "code",
   "execution_count": 13,
   "id": "4fd6ae",
   "metadata": {
    "collapsed": false
   },
   "outputs": [
    {
     "data": {
      "text/plain": [
       "'Yorktown'"
      ]
     },
     "execution_count": 13,
     "metadata": {
     },
     "output_type": "execute_result"
    }
   ],
   "source": [
    "\"York\"+\"town\""
   ]
  },
  {
   "cell_type": "markdown",
   "id": "d04bdd",
   "metadata": {
    "collapsed": false
   },
   "source": [
    "When we are using **Jupyter Notebooks**, the last line is printed out automatically (unless it is performing some other operation, eg. getting assigned to a specific value). \n",
    "\n",
    "But if you would like to print more than just the last line, you can use the `print( )` method. If you just run the next cell, it will not give you any output."
   ]
  },
  {
   "cell_type": "code",
   "execution_count": 14,
   "id": "f684a8",
   "metadata": {
    "collapsed": false
   },
   "outputs": [
   ],
   "source": [
    "aaron = \"Ev’ryone give it up for America’s favorite fighting Frenchman\"\n",
    "everyone = \"Lafayette!\"\n",
    "mdl = \"I’m takin this horse by the reins\""
   ]
  },
  {
   "cell_type": "markdown",
   "id": "586d9e",
   "metadata": {
    "collapsed": false
   },
   "source": [
    "**QUESTION 1**\n",
    "\n",
    "Try using print( ) in the cell below to output all the three lines of lyrics of \"Guns and Ships\".\n",
    "\n",
    "**Hint:** you'll need to use it three times."
   ]
  },
  {
   "cell_type": "code",
   "execution_count": 16,
   "id": "897293",
   "metadata": {
    "collapsed": false
   },
   "outputs": [
    {
     "name": "stdout",
     "output_type": "stream",
     "text": [
      "Ev’ryone give it up for America’s favorite fighting Frenchman\n",
      "Lafayette!\n",
      "I’m takin this horse by the reins\n"
     ]
    }
   ],
   "source": [
    "## Write your answer to the question in this cell\n",
    "print(aaron)\n",
    "print(everyone)\n",
    "print(mdl)\n"
   ]
  },
  {
   "cell_type": "markdown",
   "id": "7d320e",
   "metadata": {
    "collapsed": false
   },
   "source": [
    "A string is a sequence of characters. If you want to see how many characters your string has, use the len() method. Do you think spaces are considered characters in Python? Check if your intuition was correct by running the cell below."
   ]
  },
  {
   "cell_type": "code",
   "execution_count": 17,
   "id": "65cd1e",
   "metadata": {
    "collapsed": false
   },
   "outputs": [
    {
     "data": {
      "text/plain": [
       "12"
      ]
     },
     "execution_count": 17,
     "metadata": {
     },
     "output_type": "execute_result"
    }
   ],
   "source": [
    "len(burr)"
   ]
  },
  {
   "cell_type": "markdown",
   "id": "a2b966",
   "metadata": {
    "collapsed": false
   },
   "source": [
    "**QUESTION 2**\n",
    "\n",
    "Now create a variable name in which you will save your full name. Note that you need to call the variable once again in order to get an output."
   ]
  },
  {
   "cell_type": "code",
   "execution_count": 21,
   "id": "d2ce9f",
   "metadata": {
    "collapsed": false
   },
   "outputs": [
    {
     "data": {
      "text/plain": [
       "'Rowan Flynn'"
      ]
     },
     "execution_count": 21,
     "metadata": {
     },
     "output_type": "execute_result"
    }
   ],
   "source": [
    "## Write your answer to the question in this cell\n",
    "name = \"Rowan Flynn\"\n",
    "name"
   ]
  },
  {
   "cell_type": "markdown",
   "id": "98da22",
   "metadata": {
    "collapsed": false
   },
   "source": [
    "\n",
    "**QUESTION 3**\n",
    "\n",
    "Sometimes you need to switch the values in two variables. \n",
    "In the cell below we have the last names mixed up. The variable theodosia should have an output \"burr\" and philip should return \"hamilton\".\n",
    "How would you approach this problem without manually retyping the outputs?\n",
    "\n",
    "**Hint** Use a temporary variable in which you can temporarily save the value of one of the other variables. "
   ]
  },
  {
   "cell_type": "code",
   "execution_count": 23,
   "id": "ba9852",
   "metadata": {
    "collapsed": false
   },
   "outputs": [
    {
     "ename": "ValueError",
     "evalue": "too many values to unpack (expected 2)",
     "output_type": "error",
     "traceback": [
      "\u001b[0;31m---------------------------------------------------------------------------\u001b[0m",
      "\u001b[0;31mValueError\u001b[0m                                Traceback (most recent call last)",
      "\u001b[0;32m/tmp/ipykernel_428/737499921.py\u001b[0m in \u001b[0;36m<cell line: 6>\u001b[0;34m()\u001b[0m\n\u001b[1;32m      4\u001b[0m \u001b[0;34m\u001b[0m\u001b[0m\n\u001b[1;32m      5\u001b[0m \u001b[0;31m##fill these in, Version 1:\u001b[0m\u001b[0;34m\u001b[0m\u001b[0;34m\u001b[0m\u001b[0m\n\u001b[0;32m----> 6\u001b[0;31m \u001b[0mtheodosia\u001b[0m\u001b[0;34m,\u001b[0m \u001b[0mphilip\u001b[0m \u001b[0;34m=\u001b[0m \u001b[0;34m\"test\"\u001b[0m\u001b[0;34m\u001b[0m\u001b[0;34m\u001b[0m\u001b[0m\n\u001b[0m\u001b[1;32m      7\u001b[0m \u001b[0;34m\u001b[0m\u001b[0m\n\u001b[1;32m      8\u001b[0m \u001b[0;31m# Version 2\u001b[0m\u001b[0;34m\u001b[0m\u001b[0;34m\u001b[0m\u001b[0m\n",
      "\u001b[0;31mValueError\u001b[0m: too many values to unpack (expected 2)"
     ]
    }
   ],
   "source": [
    "## Answer the question here by completing the code below\n",
    "theodosia = \"hamilton\"\n",
    "philip = \"burr\"\n",
    "\n",
    "##fill these in, Version 1:\n",
    "theodosia, philip = ...\n",
    "\n",
    "# Version 2\n",
    "temp = theodosia\n",
    "theodosia = philip\n",
    "philip = temp"
   ]
  },
  {
   "cell_type": "markdown",
   "id": "a0949a",
   "metadata": {
    "collapsed": false
   },
   "source": [
    "# Lists"
   ]
  },
  {
   "cell_type": "markdown",
   "id": "a91177",
   "metadata": {
    "collapsed": false
   },
   "source": [
    "You have learnt about the strings and numerals, it's time to take it up a notch. Another useful and very popular data type is a **Python** list.\n",
    "Lists can take various data types (both numerals, strings, arrays, other lists, etc). \n",
    "\n",
    "To create an empty list just make your variable equal to \"[ ]\", like so:"
   ]
  },
  {
   "cell_type": "code",
   "execution_count": 0,
   "id": "f408ec",
   "metadata": {
    "collapsed": false
   },
   "outputs": [
   ],
   "source": [
    "washington = []\n",
    "washington"
   ]
  },
  {
   "cell_type": "markdown",
   "id": "57e9e0",
   "metadata": {
    "collapsed": false
   },
   "source": [
    "To add the values into your list you can either use lst.append( ), lst.insert( ), or lst.extend( )."
   ]
  },
  {
   "cell_type": "code",
   "execution_count": 0,
   "id": "010d85",
   "metadata": {
    "collapsed": false
   },
   "outputs": [
   ],
   "source": [
    "washington.extend([\"Right Hand Man\"])\n",
    "washington"
   ]
  },
  {
   "cell_type": "code",
   "execution_count": 0,
   "id": "7ab184",
   "metadata": {
    "collapsed": false
   },
   "outputs": [
   ],
   "source": [
    "washington.insert(0, \"I need my\")\n",
    "washington"
   ]
  },
  {
   "cell_type": "code",
   "execution_count": 0,
   "id": "4ef730",
   "metadata": {
    "collapsed": false
   },
   "outputs": [
   ],
   "source": [
    "washington.append(\"Back\")\n",
    "washington"
   ]
  },
  {
   "cell_type": "markdown",
   "id": "96491b",
   "metadata": {
    "collapsed": false
   },
   "source": [
    "Notice, that the `insert` method takes two positional values. You need to specify the index in the list at which it will be inserted, whilst append just adds the value to the end of the list. \n",
    "`extend` takes another list as its input. If you try to use a string or a number by itself, it will give you an error."
   ]
  },
  {
   "cell_type": "markdown",
   "id": "a0d346",
   "metadata": {
    "collapsed": false
   },
   "source": [
    "When you need to access an element at a specific index, you can use the following code.\n",
    "The code below returns the second element of the list."
   ]
  },
  {
   "cell_type": "code",
   "execution_count": 0,
   "id": "060807",
   "metadata": {
    "collapsed": false
   },
   "outputs": [
   ],
   "source": [
    "washington[1]"
   ]
  },
  {
   "cell_type": "markdown",
   "id": "95543f",
   "metadata": {
    "collapsed": false
   },
   "source": [
    "**Note:** Python starts counting at 0, not 1."
   ]
  },
  {
   "cell_type": "markdown",
   "id": "4c2ccd",
   "metadata": {
    "collapsed": false
   },
   "source": [
    "Sometimes you just need to use part of the list. In this case you can use \":\" to modify your list. Let's make a new list:"
   ]
  },
  {
   "cell_type": "code",
   "execution_count": 0,
   "id": "a36fc1",
   "metadata": {
    "collapsed": false
   },
   "outputs": [
   ],
   "source": [
    "lst = [1,2,3,4,5]"
   ]
  },
  {
   "cell_type": "markdown",
   "id": "c9946b",
   "metadata": {
    "collapsed": false
   },
   "source": [
    "Sometimes you just need to use part of the list or copy the whole list into a new variable. In this\n",
    "case you can use \":\" to modify your list.\n",
    "The notation is:\n",
    "\n",
    "**a = b[start:stop:step]**\n",
    "\n",
    "***start***: the index you want to start with. (the default is 0)\n",
    "\n",
    "***stop***: the index you want to end with. (the default is the last number)\n",
    "\n",
    "***step***: use it, if you wish to skip some indeces (eg. use only every other value). For example, if you start with index 1 and step is 2, you will iterate through the 1st index, then 3rd, then 5th, etc. until you get to the stopping index. (the default is 1)\n",
    "\n",
    "Note that python will stop iterating at the value before the last index. See the following example:"
   ]
  },
  {
   "cell_type": "code",
   "execution_count": 0,
   "id": "cf40f0",
   "metadata": {
    "collapsed": false,
    "scrolled": true
   },
   "outputs": [
   ],
   "source": [
    "lst[0:5:1]"
   ]
  },
  {
   "cell_type": "markdown",
   "id": "3c6eef",
   "metadata": {
    "collapsed": false
   },
   "source": [
    "Note: if you wish to start iterating from the end of a list backwards, we use a negative step:"
   ]
  },
  {
   "cell_type": "code",
   "execution_count": 25,
   "id": "759044",
   "metadata": {
    "collapsed": false
   },
   "outputs": [
    {
     "ename": "NameError",
     "evalue": "name 'lst' is not defined",
     "output_type": "error",
     "traceback": [
      "\u001b[0;31m---------------------------------------------------------------------------\u001b[0m",
      "\u001b[0;31mNameError\u001b[0m                                 Traceback (most recent call last)",
      "\u001b[0;32m/tmp/ipykernel_428/3894335210.py\u001b[0m in \u001b[0;36m<cell line: 1>\u001b[0;34m()\u001b[0m\n\u001b[0;32m----> 1\u001b[0;31m \u001b[0mlst\u001b[0m\u001b[0;34m[\u001b[0m\u001b[0;34m:\u001b[0m\u001b[0;34m:\u001b[0m\u001b[0;34m-\u001b[0m\u001b[0;36m1\u001b[0m\u001b[0;34m]\u001b[0m\u001b[0;34m\u001b[0m\u001b[0;34m\u001b[0m\u001b[0m\n\u001b[0m",
      "\u001b[0;31mNameError\u001b[0m: name 'lst' is not defined"
     ]
    }
   ],
   "source": [
    "lst[::-1]"
   ]
  },
  {
   "cell_type": "code",
   "execution_count": 26,
   "id": "446d19",
   "metadata": {
    "collapsed": false
   },
   "outputs": [
    {
     "data": {
      "text/plain": [
       "['Alexander Hamilton',\n",
       " 'My Shot',\n",
       " 'The Schuyler Sisters',\n",
       " \"You'll be Back\",\n",
       " \"A Winter's Ball\",\n",
       " 'Satisfied']"
      ]
     },
     "execution_count": 26,
     "metadata": {
     },
     "output_type": "execute_result"
    }
   ],
   "source": [
    "ham_songs = [\"Alexander Hamilton\", \"Aaron Burr, Sir\", \"My Shot\", \\\n",
    "             \"The Story of Tonight\", \"The Schuyler Sisters\", \"Farmer Refuted\",\n",
    "             \"You'll be Back\", \"Right Hand Man\", \"A Winter's Ball\", \\\n",
    "             \"Helpless\", \"Satisfied\"]\n",
    "\n",
    "every_other = ham_songs[::2] \n",
    "every_other"
   ]
  },
  {
   "cell_type": "code",
   "execution_count": 0,
   "id": "bee5fc",
   "metadata": {
    "collapsed": false
   },
   "outputs": [
   ],
   "source": [
    "lyrics = [\"I\", \"am\", \"not\", \"throwing\", \"away\", \"my\", \"shot\"]\n",
    "lyrics"
   ]
  },
  {
   "cell_type": "markdown",
   "id": "423327",
   "metadata": {
    "collapsed": false
   },
   "source": [
    "Let's say you want to save only the two last words from your old list into your new list. That's what you will need to do then:"
   ]
  },
  {
   "cell_type": "code",
   "execution_count": 0,
   "id": "3d5d3a",
   "metadata": {
    "collapsed": false
   },
   "outputs": [
   ],
   "source": [
    "alex = lyrics[-2:]\n",
    "alex\n",
    "\n",
    "# alternatively you can use lyrics[5:]"
   ]
  },
  {
   "cell_type": "markdown",
   "id": "9ada4a",
   "metadata": {
    "collapsed": false
   },
   "source": [
    "Notice also that if you want to learn the length of your list, you can use the same method \"len( )\", but it will not count all the characters anymore. Instead, it will count all the elements in it. Like so:"
   ]
  },
  {
   "cell_type": "code",
   "execution_count": 0,
   "id": "10fe0e",
   "metadata": {
    "collapsed": false
   },
   "outputs": [
   ],
   "source": [
    "len(washington)"
   ]
  },
  {
   "cell_type": "markdown",
   "id": "8ee166",
   "metadata": {
    "collapsed": false
   },
   "source": [
    "**QUESTION 4)** \n",
    "\n",
    "Create a list with the values 1, 2, 3, 4, and 5 and only get the values 2 and 4"
   ]
  },
  {
   "cell_type": "code",
   "execution_count": 28,
   "id": "552459",
   "metadata": {
    "collapsed": false
   },
   "outputs": [
    {
     "data": {
      "text/plain": [
       "[2, 4]"
      ]
     },
     "execution_count": 28,
     "metadata": {
     },
     "output_type": "execute_result"
    }
   ],
   "source": [
    "## Write your answer to the question in this cell\n",
    "test = [1,2,3,4,5]\n",
    "test[1::2]"
   ]
  },
  {
   "cell_type": "markdown",
   "id": "a519b4",
   "metadata": {
    "collapsed": false
   },
   "source": [
    "#  Built-in Functions"
   ]
  },
  {
   "cell_type": "markdown",
   "id": "73c7eb",
   "metadata": {
    "collapsed": false
   },
   "source": [
    "Although Python doesn't have a lot of functions and methods by itself, it is not like it doesn't have any. Let's go over some of the most valuable built-in funsctions in Python."
   ]
  },
  {
   "cell_type": "code",
   "execution_count": 0,
   "id": "85c6b9",
   "metadata": {
    "collapsed": false
   },
   "outputs": [
   ],
   "source": [
    "min(1, 3)"
   ]
  },
  {
   "cell_type": "code",
   "execution_count": 0,
   "id": "485113",
   "metadata": {
    "collapsed": false
   },
   "outputs": [
   ],
   "source": [
    "max(15, 25, 70)"
   ]
  },
  {
   "cell_type": "markdown",
   "id": "406e09",
   "metadata": {
    "collapsed": false
   },
   "source": [
    "You can also use these functions with strings. Can you guess what the output will be?"
   ]
  },
  {
   "cell_type": "code",
   "execution_count": 29,
   "id": "9d6283",
   "metadata": {
    "collapsed": false
   },
   "outputs": [
    {
     "data": {
      "text/plain": [
       "'Washington'"
      ]
     },
     "execution_count": 29,
     "metadata": {
     },
     "output_type": "execute_result"
    }
   ],
   "source": [
    "max(\"Hamilton\", \"Washington\")"
   ]
  },
  {
   "cell_type": "markdown",
   "id": "38f8b8",
   "metadata": {
    "collapsed": false
   },
   "source": [
    "So does Python know that George Washington was older than Alexander Hamilton? Of course not, when comparing strings, Python goes of off the letters of alphabet. Since \"W\" goes after \"H\" in the alphabet, \"Washington\" is a value that is \"bigger\" than \"Hamilton\"."
   ]
  },
  {
   "cell_type": "markdown",
   "id": "e689cd",
   "metadata": {
    "collapsed": false
   },
   "source": [
    "**QUESTION 5)**\n",
    "\n",
    "We have created two lists with different integers. Let's now find the biggest number among the two smallest numbers in two lists. In other words, let's find the max( ) of the two min( ). You can achieve it with either 3 or 1 lines of code."
   ]
  },
  {
   "cell_type": "code",
   "execution_count": 34,
   "id": "b76f65",
   "metadata": {
    "collapsed": false
   },
   "outputs": [
    {
     "name": "stdout",
     "output_type": "stream",
     "text": [
      "1782\n",
      "1782\n"
     ]
    }
   ],
   "source": [
    "## Answer the question here by completing the code below\n",
    "dob = [1757, 1756, 1732, 1737, 1754]\n",
    "dod = [1804, 1836, 1799, 1793, 1782] \n",
    "\n",
    "##fill in\n",
    "min_dob = min(dob)\n",
    "min_dod = min(dod)\n",
    "max_of_mins = max(min_dob,min_dod)\n",
    "\n",
    "\n",
    "# you can do it in one line\n",
    "\n",
    "max_mins = max(min(dob), min(dod))\n",
    "\n",
    "print(max_of_mins)\n",
    "print(max_mins)"
   ]
  },
  {
   "cell_type": "markdown",
   "id": "3b55b0",
   "metadata": {
    "collapsed": false
   },
   "source": [
    "Another valuable function you can use with your numerals is \"round\". It will round your floats to the nearest integer. Like so:"
   ]
  },
  {
   "cell_type": "code",
   "execution_count": 35,
   "id": "c3a37f",
   "metadata": {
    "collapsed": false
   },
   "outputs": [
    {
     "data": {
      "text/plain": [
       "9"
      ]
     },
     "execution_count": 35,
     "metadata": {
     },
     "output_type": "execute_result"
    }
   ],
   "source": [
    "round(8.7)"
   ]
  },
  {
   "cell_type": "markdown",
   "id": "93eaa7",
   "metadata": {
    "collapsed": false
   },
   "source": [
    "Another useful function we can use with numbers is \"abs\". It outputs an absolute value of a number:"
   ]
  },
  {
   "cell_type": "code",
   "execution_count": 36,
   "id": "5a366d",
   "metadata": {
    "collapsed": false
   },
   "outputs": [
    {
     "data": {
      "text/plain": [
       "3.5"
      ]
     },
     "execution_count": 36,
     "metadata": {
     },
     "output_type": "execute_result"
    }
   ],
   "source": [
    "abs(-3.5)"
   ]
  },
  {
   "cell_type": "markdown",
   "id": "6a6763",
   "metadata": {
    "collapsed": false
   },
   "source": [
    "# Conditionals and For-loops"
   ]
  },
  {
   "cell_type": "markdown",
   "id": "9f6f13",
   "metadata": {
    "collapsed": false
   },
   "source": [
    "## Conditionals"
   ]
  },
  {
   "cell_type": "markdown",
   "id": "2c8351",
   "metadata": {
    "collapsed": false
   },
   "source": [
    "Conditionals are also known as **booleans**. With conditional statements we can let the computer know when (aka under which condition) we want a specific operation to be executed. Under the hood the computer evaluates if the condition is True and performs a specific operation (like print( ), return( ), etc). Some of the most popular conditional statements are:"
   ]
  },
  {
   "cell_type": "markdown",
   "id": "862273",
   "metadata": {
    "collapsed": false
   },
   "source": [
    "**A == B: True if A equals B**\n",
    "\n",
    "**A != B: True if A is not equal to B**\n",
    "\n",
    "**A > B: True if A is greater than B. Same syntax for \"<\"**\n",
    "\n",
    "**A >= B: True if A is greater than or equal to B. Same syntax for \"<=\"**"
   ]
  },
  {
   "cell_type": "markdown",
   "id": "03a569",
   "metadata": {
    "collapsed": false
   },
   "source": [
    "We have three types of statements in the **Python** conditionals: `if`, `elif`, and `else`. We always start with \"if\", we always end with \"else\". The \"elif\" statement is optional. It literally means \"else if\". While both \"if\" and \"else\" can only be used once, \"elif\" can be used multiple times, and let you add many more conditions to your statement.\n",
    "\n",
    "If the condition in the `if` case is False, then we move to the `elif` case. If the `elif` case is false, then we will move to the else case and perform whatever is inside the else condition. We move into the condition that has a True conditional value first and evaluate that."
   ]
  },
  {
   "cell_type": "code",
   "execution_count": 37,
   "id": "f6625a",
   "metadata": {
    "collapsed": false
   },
   "outputs": [
    {
     "name": "stdout",
     "output_type": "stream",
     "text": [
      "True\n"
     ]
    }
   ],
   "source": [
    "playwright = \"Lin-Manuel Miranda\"\n",
    "\n",
    "if playwright == \"Lin-Manuel Miranda\":\n",
    "    print (True)\n",
    "else:\n",
    "    print (False)"
   ]
  },
  {
   "cell_type": "markdown",
   "id": "b7ce09",
   "metadata": {
    "collapsed": false
   },
   "source": [
    "**Note:** \"=\" and \"==\" are not the same operations in **Python**. A single equals sign (=) assignes the value to the right of it to the variable name to the left of it. While the double equals sign (==) compares if the value on the right is equal to the value to the left of it. "
   ]
  },
  {
   "cell_type": "markdown",
   "id": "690a69",
   "metadata": {
    "collapsed": false
   },
   "source": [
    "In the next line, let's ask **Python** to print the name of the school two of the Founding Fathers went based on their name. Feel free to change the string our \"name\" variable is assigned to."
   ]
  },
  {
   "cell_type": "code",
   "execution_count": 39,
   "id": "fbdfad",
   "metadata": {
    "collapsed": false
   },
   "outputs": [
    {
     "name": "stdout",
     "output_type": "stream",
     "text": [
      "Princeton\n"
     ]
    }
   ],
   "source": [
    "name = \"Burr\"\n",
    "\n",
    "# Feel free to change the value of the variable \"name\"\n",
    "\n",
    "if name == \"Hamilton\":\n",
    "    print(\"Arcadia\")\n",
    "elif name == \"Burr\":\n",
    "    print(\"Princeton\")\n",
    "else:\n",
    "    print(\"I don't know\")"
   ]
  },
  {
   "cell_type": "markdown",
   "id": "bb116d",
   "metadata": {
    "collapsed": false
   },
   "source": [
    "In the cell below guess what the output will be, before you run it. Feel free to change the numeral under the variable \"year\"."
   ]
  },
  {
   "cell_type": "code",
   "execution_count": 40,
   "id": "98dbd7",
   "metadata": {
    "collapsed": false
   },
   "outputs": [
    {
     "name": "stdout",
     "output_type": "stream",
     "text": [
      "George Washington\n"
     ]
    }
   ],
   "source": [
    "year = 1789\n",
    "\n",
    "# Who's the president\n",
    "\n",
    "if year>=1789 and year<1797:\n",
    "    print(\"George Washington\")\n",
    "elif year>=1797:\n",
    "    print(\"John Adams\")\n",
    "else:\n",
    "    print(\"King George\")"
   ]
  },
  {
   "cell_type": "markdown",
   "id": "1d9ee2",
   "metadata": {
    "collapsed": false
   },
   "source": [
    "We can also search through lists of values in our conditional statements to see if a word is in our list using the keyword 'in':"
   ]
  },
  {
   "cell_type": "code",
   "execution_count": 42,
   "id": "f8fdcc",
   "metadata": {
    "collapsed": false
   },
   "outputs": [
    {
     "name": "stdout",
     "output_type": "stream",
     "text": [
      "You are not throwing away your shot!\n"
     ]
    }
   ],
   "source": [
    "founding_fathers = [\"Jefferson\", \"Hancock\", \"Hamilton\", \"Adams\", \"Washington\", \"Burr\", \"Madison\"]\n",
    "\n",
    "# change the name in \"any_name\"\n",
    "if \"Jefferson\" in founding_fathers:\n",
    "    print(\"You are not throwing away your shot!\")\n",
    "else:\n",
    "    print(\"You've got to be in the room where it happens!\")"
   ]
  },
  {
   "cell_type": "markdown",
   "id": "8404f7",
   "metadata": {
    "collapsed": false
   },
   "source": [
    "## Loops"
   ]
  },
  {
   "cell_type": "markdown",
   "id": "15ae43",
   "metadata": {
    "collapsed": false
   },
   "source": [
    "Loops (aka for-loops) allow for some code to be executed repeatedly. For example, if you wish to print the numbers from 0 to 10, you can do that with the for-loop. \n",
    "\n",
    "A for-loop iterates through a sequence of elements (list, string, array, etc.) and reassigns an element (which can have any name, most common are \"x\", \"i\", \"elem\", the name in itself doesn't matter) to each element of the sequence sequentially. "
   ]
  },
  {
   "cell_type": "code",
   "execution_count": 43,
   "id": "d7e13f",
   "metadata": {
    "collapsed": false
   },
   "outputs": [
    {
     "name": "stdout",
     "output_type": "stream",
     "text": [
      "a\n",
      "b\n",
      "c\n"
     ]
    },
    {
     "data": {
      "text/plain": [
       "'c'"
      ]
     },
     "execution_count": 43,
     "metadata": {
     },
     "output_type": "execute_result"
    }
   ],
   "source": [
    "for elem in ['a', 'b', 'c']:   \n",
    "    print(elem)\n",
    "\n",
    "elem"
   ]
  },
  {
   "cell_type": "markdown",
   "id": "d292a3",
   "metadata": {
    "collapsed": false
   },
   "source": [
    "That is why in the previous code cell we can see that when an \"elem\" is called at the end of the loop, it is equal to \"c\" which is the last element of the sequence."
   ]
  },
  {
   "cell_type": "markdown",
   "id": "1ea40e",
   "metadata": {
    "collapsed": false
   },
   "source": [
    "\n",
    "In the cell below we will be using the built-in function called range( ). It enumerates the numbers from 0 up to a number you put in (exclusive of that last number).\n",
    "\n",
    "**Note:** remember that Python starts to count from 0, hence the last number you specify is not going to be included."
   ]
  },
  {
   "cell_type": "code",
   "execution_count": 44,
   "id": "fed1aa",
   "metadata": {
    "collapsed": false
   },
   "outputs": [
    {
     "name": "stdout",
     "output_type": "stream",
     "text": [
      "0\n",
      "1\n",
      "2\n",
      "3\n",
      "4\n",
      "5\n",
      "6\n",
      "7\n",
      "8\n",
      "9\n",
      "10\n"
     ]
    }
   ],
   "source": [
    "for i in range(11):\n",
    "    print(i)"
   ]
  },
  {
   "cell_type": "markdown",
   "id": "9f6914",
   "metadata": {
    "collapsed": false
   },
   "source": [
    "**QUESTION 6)**\n",
    "\n",
    "Let's combine what you know so far about lists, conditionals, and for loops. Create a list with values 1, 2, 3, 4, 5. Iterate through the list with a for loop, and print only the values that are greater than 2. Otherwise, print the statement \"This value is not greater than 2.\""
   ]
  },
  {
   "cell_type": "code",
   "execution_count": 49,
   "id": "f8b16c",
   "metadata": {
    "collapsed": false
   },
   "outputs": [
    {
     "name": "stdout",
     "output_type": "stream",
     "text": [
      "This value is not greater than 2.\n",
      "This value is not greater than 2.\n",
      "3\n",
      "4\n",
      "5\n"
     ]
    }
   ],
   "source": [
    "## Write your answer to the question in this cell\n",
    "lst = [1,2,3,4,5]\n",
    "for elem in lst:\n",
    "    if elem > 2:\n",
    "        print(elem)\n",
    "    else:\n",
    "        print('This value is not greater than 2.')\n",
    "\n"
   ]
  },
  {
   "cell_type": "markdown",
   "id": "bef1b6",
   "metadata": {
    "collapsed": false
   },
   "source": [
    "# Working with Libraries"
   ]
  },
  {
   "cell_type": "markdown",
   "id": "a3eede",
   "metadata": {
    "collapsed": false
   },
   "source": [
    "It is time for us to introduce a concept of **Python** libraries. \n",
    "\n",
    "As we mentioned before, **Python** is not a very powerful programming language by itself. What makes it powerful are the libraries people wrote for it. Libraries are the sets of different functions that you can import and use. The two most popular libraries are numpy and pandas.\n",
    "\n",
    "\n",
    "Since we are using **Cocalc**, a lot of libraries have been preloaded for you. You just need to \"call\" them. Just run the cell below. It will make our notebook know that we will be using these preinstalled libraries from that point on. "
   ]
  },
  {
   "cell_type": "code",
   "execution_count": 50,
   "id": "f956aa",
   "metadata": {
    "collapsed": false
   },
   "outputs": [
   ],
   "source": [
    "import pandas as pd\n",
    "import numpy as np"
   ]
  },
  {
   "cell_type": "markdown",
   "id": "bc1035",
   "metadata": {
    "collapsed": false
   },
   "source": [
    "With the help of numpy we can introduce a new data type - arrays. \n",
    "\n",
    "Arrays are commonly used with Data Frames (basically, tables of values). There are a lot of functions and methods that can be used with arrays when one is analysing their data. The main difference between the lists and arrays is that an array can take only one type of data (eg. only numerals, or strings, but never both).\n",
    "\n",
    "To create an array with values, just make your variable equal to np.array(\"your value\")"
   ]
  },
  {
   "cell_type": "code",
   "execution_count": 0,
   "id": "e4fd94",
   "metadata": {
    "collapsed": false
   },
   "outputs": [
   ],
   "source": [
    "arr = np.array(10)\n",
    "arr"
   ]
  },
  {
   "cell_type": "markdown",
   "id": "ea1bf7",
   "metadata": {
    "collapsed": false
   },
   "source": [
    "A very useful method that can be used with an array of numbers is np.arange( ). It takes at least 2, sometimes 3 positional arguments. The first number will be the starting point of your array, the last one will identify up to which number your array will go (not inclusive). The third positional argument is optional, it shows how many steps an array should skip through. (This is very similar to lists)\n",
    "\n",
    "For example, if you need an array with numbers from 0 to 20, but you only want for it to include every other number, you will need add a third positional argument."
   ]
  },
  {
   "cell_type": "code",
   "execution_count": 51,
   "id": "dfb5b6",
   "metadata": {
    "collapsed": false
   },
   "outputs": [
    {
     "data": {
      "text/plain": [
       "array([ 0,  2,  4,  6,  8, 10, 12, 14, 16, 18, 20])"
      ]
     },
     "execution_count": 51,
     "metadata": {
     },
     "output_type": "execute_result"
    }
   ],
   "source": [
    "every_other = np.arange(0, 21, 2)\n",
    "every_other"
   ]
  },
  {
   "cell_type": "markdown",
   "id": "a80684",
   "metadata": {
    "collapsed": false
   },
   "source": [
    "You can also convert a list of numbers in Python into an array:"
   ]
  },
  {
   "cell_type": "code",
   "execution_count": 52,
   "id": "f82e8a",
   "metadata": {
    "collapsed": false
   },
   "outputs": [
    {
     "data": {
      "text/plain": [
       "array([1, 2, 3, 4, 5])"
      ]
     },
     "execution_count": 52,
     "metadata": {
     },
     "output_type": "execute_result"
    }
   ],
   "source": [
    "num_lst = [1, 2, 3, 4, 5]\n",
    "num_arr = np.array(num_lst)\n",
    "num_arr"
   ]
  },
  {
   "cell_type": "markdown",
   "id": "e715ac",
   "metadata": {
    "collapsed": false
   },
   "source": [
    "You can do some arithmetic with arrays. Guess what will be the output of this line of code before you run it:"
   ]
  },
  {
   "cell_type": "code",
   "execution_count": 53,
   "id": "5483f9",
   "metadata": {
    "collapsed": false
   },
   "outputs": [
    {
     "data": {
      "text/plain": [
       "array([ 2,  4,  6,  8, 10])"
      ]
     },
     "execution_count": 53,
     "metadata": {
     },
     "output_type": "execute_result"
    }
   ],
   "source": [
    "num_arr*2"
   ]
  },
  {
   "cell_type": "markdown",
   "id": "c52a4f",
   "metadata": {
    "collapsed": false
   },
   "source": [
    "As you can see, all the values in our array got mutliplied by 2."
   ]
  },
  {
   "cell_type": "markdown",
   "id": "b11288",
   "metadata": {
    "collapsed": false
   },
   "source": [
    "Try performing the same operation with the initial list of numbers instead. What do you think the output will be in the cell below?"
   ]
  },
  {
   "cell_type": "markdown",
   "id": "f9b456",
   "metadata": {
    "collapsed": false
   },
   "source": [
    "As you can see, lists and arrays not only can be used differently, but they also give different outputs when we are using the same operations on them."
   ]
  },
  {
   "cell_type": "markdown",
   "id": "b6c6a4",
   "metadata": {
    "collapsed": false
   },
   "source": [
    "# Plots\n",
    "\n",
    "To do visualizations, we will need to import yet another library."
   ]
  },
  {
   "cell_type": "code",
   "execution_count": 54,
   "id": "dc95aa",
   "metadata": {
    "collapsed": false
   },
   "outputs": [
    {
     "data": {
      "image/png": "[encoded data removed]",
      "text/plain": [
       "<Figure size 864x504 with 1 Axes>"
      ]
     },
     "execution_count": 54,
     "metadata": {
      "image/png": {
       "height": 411,
       "width": 721
      },
      "needs_background": "light"
     },
     "output_type": "execute_result"
    }
   ],
   "source": [
    "import matplotlib.pyplot as plt\n",
    "import numpy as np\n",
    "\n",
    "x = np.linspace(0, 5, 100)  # Adjust range and number of points as needed\n",
    "y = np.sin(x)\n",
    "\n",
    "plt.plot(x, y)\n",
    "plt.show()"
   ]
  },
  {
   "cell_type": "markdown",
   "id": "de454d",
   "metadata": {
    "collapsed": false
   },
   "source": [
    "**END OF WORKSHEET**\n",
    "\n",
    "* Make sure that you answered all the questions. \n",
    "\n",
    "* When done, please go to the `File` option for Cocalc and select export as a pdf:\n",
    "\n",
    "![finalimage](finalimage.png)\n",
    "\n",
    "---\n",
    "\n",
    "**RECALL**: This completed `Jupyter Notebook Assigment` will be collected and graded. \n",
    "\n",
    "Once the `Jupyter Notebook Assigment ` is collected it can not be modified.\n",
    "\n",
    "---"
   ]
  },
  {
   "cell_type": "code",
   "execution_count": 0,
   "id": "c40b41",
   "metadata": {
    "collapsed": false
   },
   "outputs": [
   ],
   "source": [
   ]
  }
 ],
 "metadata": {
  "kernelspec": {
   "argv": [
    "/usr/bin/python3",
    "-m",
    "ipykernel",
    "--HistoryManager.enabled=False",
    "--matplotlib=inline",
    "-c",
    "%config InlineBackend.figure_formats = set(['retina'])\nimport matplotlib; matplotlib.rcParams['figure.figsize'] = (12, 7)",
    "-f",
    "{connection_file}"
   ],
   "display_name": "Python 3 (system-wide)",
   "env": {
   },
   "language": "python",
   "metadata": {
    "cocalc": {
     "description": "Python 3 programming language",
     "priority": 100,
     "url": "https://www.python.org/"
    }
   },
   "name": "python3",
   "resource_dir": "/ext/jupyter/kernels/python3"
  },
  "language_info": {
   "codemirror_mode": {
    "name": "ipython",
    "version": 3
   },
   "file_extension": ".py",
   "mimetype": "text/x-python",
   "name": "python",
   "nbconvert_exporter": "python",
   "pygments_lexer": "ipython3",
   "version": "3.10.12"
  }
 },
 "nbformat": 4,
 "nbformat_minor": 4
}