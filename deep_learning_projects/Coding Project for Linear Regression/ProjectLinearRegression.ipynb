{
 "cells": [
  {
   "cell_type": "markdown",
   "id": "555724",
   "metadata": {
    "collapsed": false
   },
   "source": [
    "# Project: Linear Regression Model for Predicting California House Prices\n",
    "\n",
    "> > 👉🏾 Objective: Develop a linear regression neural network using PyTorch to predict house prices based on various features in the California Housing dataset."
   ]
  },
  {
   "cell_type": "markdown",
   "id": "0e2280",
   "metadata": {
    "collapsed": false
   },
   "source": [
    "## Dataset Information\n",
    "\n",
    "The California Housing dataset provides information on median house values in various districts in California, along with other demographic and geographic data. \n",
    "\n",
    "This dataset, introduced by the U.S. Census, is often used for regression problems and is available in the `sklearn.datasets` module of Pytorch.\n",
    "\n",
    "### Dataset Overview\n",
    "\n",
    "The California Housing dataset contains the following attributes:\n",
    "\n",
    "* `MedInc`: Median income in the district (in tens of thousands of dollars).\n",
    "* `HouseAge`: Median house age in the district.\n",
    "* `AveRooms`: Average number of rooms per household.\n",
    "* `AveBedrms`: Average number of bedrooms per household.\n",
    "* `Population`: Population in the district.\n",
    "* `AveOccup`: Average number of occupants per household.\n",
    "* `Latitude`: Latitude of the district's location.\n",
    "* `Longitude`: Longitude of the district's location.\n",
    "\n",
    "#### Target Variable\n",
    "\n",
    "The target variable, which we aim to predict using linear regression, is:\n",
    "\n",
    "`MedHouseVal`: Median house value for households within a district (in hundreds of thousands of dollars).\n",
    "\n",
    "#### Pytorch Implementation of the Data Set\n",
    "\n",
    "We need to import `fetch_california_housing `from `sklearn.datasets` to load the California Housing dataset.\n",
    "\n",
    "Here is a sample code that imports the required data into Pytorch"
   ]
  },
  {
   "cell_type": "code",
   "execution_count": 3,
   "id": "0fd026",
   "metadata": {
    "collapsed": false
   },
   "outputs": [
    {
     "name": "stdout",
     "output_type": "stream",
     "text": [
      "Sample data item with attributes:\n",
      "MedInc: 8.3252\n",
      "HouseAge: 41.0\n",
      "AveRooms: 6.984126984126984\n",
      "AveBedrms: 1.0238095238095237\n",
      "Population: 322.0\n",
      "AveOccup: 2.5555555555555554\n",
      "Latitude: 37.88\n",
      "Longitude: -122.23\n",
      "\n",
      "Target (Median House Value): 4.526\n",
      "*******************************\n",
      "Sample data item with attributes:\n",
      "MedInc: 8.3014\n",
      "HouseAge: 21.0\n",
      "AveRooms: 6.238137082601054\n",
      "AveBedrms: 0.9718804920913884\n",
      "Population: 2401.0\n",
      "AveOccup: 2.109841827768014\n",
      "Latitude: 37.86\n",
      "Longitude: -122.22\n",
      "\n",
      "Target (Median House Value): 3.585\n"
     ]
    }
   ],
   "source": [
    "# Import necessary modules\n",
    "from sklearn.datasets import fetch_california_housing\n",
    "\n",
    "# Load the California Housing dataset\n",
    "data = fetch_california_housing()\n",
    "X, y = data.data, data.target\n",
    "\n",
    "# Define the attribute names\n",
    "feature_names = [\n",
    "    \"MedInc\", \"HouseAge\", \"AveRooms\", \"AveBedrms\", \n",
    "    \"Population\", \"AveOccup\", \"Latitude\", \"Longitude\"\n",
    "]\n",
    "\n",
    "# Function to print a sample data item with attribute names\n",
    "def print_sample_data(X, y, feature_names, sample_index=0):\n",
    "    # Select the sample at the specified index\n",
    "    X_sample = X[sample_index]\n",
    "    y_sample = y[sample_index]\n",
    "    \n",
    "    # Print each feature with its attribute name\n",
    "    print(\"Sample data item with attributes:\")\n",
    "    for feature_name, value in zip(feature_names, X_sample):\n",
    "        print(f\"{feature_name}: {value}\")\n",
    "    \n",
    "    print(f\"\\nTarget (Median House Value): {y_sample}\")\n",
    "\n",
    "# Print the first sample data item\n",
    "print_sample_data(X, y, feature_names, sample_index=0)\n",
    "print(\"*******************************\")\n",
    "# Print the second sample data item\n",
    "print_sample_data(X, y, feature_names, sample_index=1)"
   ]
  },
  {
   "cell_type": "markdown",
   "id": "17ef17",
   "metadata": {
    "collapsed": false
   },
   "source": [
    "### Curating the Data\n",
    "\n",
    "Before using the dataset, we need to process it: transform it into a batch of tensors.\n",
    "\n",
    "#### Why Normalize the Data?\n",
    "\n",
    "Normalization is essential for the following reasons:\n",
    "\n",
    "* Consistent Scale: Each feature (e.g., income, population, latitude) has different scales. Standardizing these features to a mean of 0 and a standard deviation of 1 ensures that each feature contributes proportionally to the model’s learning, preventing some variables from dominating others.\n",
    "\n",
    "* Improved Training Stability: Neural networks, especially those using gradient-based optimization, converge faster and more reliably when inputs are normalized. Without normalization, larger values can lead to large gradients that destabilize the training process.\n",
    "\n",
    "* Reduced Bias in Coefficients: Normalizing also helps ensure that each feature is treated equally by the model, preventing any inherent bias toward features with larger values.\n",
    "\n",
    "##### Pytorch Code\n",
    "\n",
    "* We will Import `train_test_spli`t from `sklearn.model_selection` to split the data into training and testing sets.\n",
    "We will Import `Standard Scaler`t from `sklearn.preprocessing` to split the data into training and testing sets.\n",
    "\n",
    "##### Why Splitting the Data?\n",
    "\n",
    "Splitting the data into training and testing sets is a critical step in machine learning, as it allows us to evaluate the model’s performance on unseen data. Here are the key reasons for splitting the California Housing dataset in this context:\n",
    "\n",
    "1. Model Evaluation on Unseen Data\n",
    "   - A fundamental goal of machine learning is to generalize well on new, unseen data. By splitting the dataset, we train the model on one portion (the training set) and assess its performance on another (the test set). This helps us estimate how well the model might perform on real-world data.\n",
    "\n",
    "2. Avoiding Overfitting\n",
    "   - Without a test set, there’s a risk that the model will \"memorize\" the training data instead of learning meaningful patterns (a problem called overfitting). Testing on a separate dataset lets us verify that the model captures the underlying trends rather than just fitting to the noise in the training data.\n",
    "\n",
    "3. Hyperparameter Tuning and Model Selection\n",
    "   - Often, we need to try different model architectures, hyperparameters, or regularization methods to find the best performing model. Using a test set allows us to evaluate these choices objectively, helping us choose the model and settings that generalize well.\n",
    "\n",
    "4. Performance Metrics\n",
    "   - A dedicated test set provides unbiased performance metrics. For instance, in regression tasks like this housing dataset, we might want metrics like Mean Squared Error (MSE) or Mean Absolute Error (MAE). These metrics calculated on the test set are good indicators of expected performance in real-world applications.\n",
    "\n",
    "#### Transforming dataset into Tensors\n",
    "\n",
    "This last step is required to feed the data to a neural network.\n",
    "\n",
    "#### Practical Example in the Provided Code\n",
    "\n",
    "In this code:\n",
    "- `train_test_split` with `test_size=0.2` splits 80% of the data for training and 20% for testing.\n",
    "- `train_loader` and `test_loader` then serve as data sources for training and evaluating the model separately.\n",
    "\n",
    "This separation enables a realistic assessment of model performance and facilitates selecting the best model and settings."
   ]
  },
  {
   "cell_type": "code",
   "execution_count": 4,
   "id": "a474b2",
   "metadata": {
    "collapsed": false
   },
   "outputs": [
   ],
   "source": [
    "from sklearn.model_selection import train_test_split\n",
    "from sklearn.preprocessing import StandardScaler\n",
    "import torch\n",
    "from torch.utils.data import TensorDataset, DataLoader\n",
    "# Standardize the features and target variable\n",
    "scaler_X = StandardScaler()\n",
    "scaler_y = StandardScaler()\n",
    "X = scaler_X.fit_transform(X)\n",
    "y = scaler_y.fit_transform(y.reshape(-1, 1)).flatten()\n",
    "# Convert to PyTorch tensors\n",
    "X_tensor = torch.tensor(X, dtype=torch.float32)\n",
    "y_tensor = torch.tensor(y, dtype=torch.float32)\n",
    "\n",
    "# Split the data into training and testing sets\n",
    "X_train, X_test, y_train, y_test = train_test_split(X_tensor, y_tensor, test_size=0.2, random_state=42)\n",
    "\n",
    "# Create TensorDataset and DataLoader for training and testing\n",
    "train_ds = TensorDataset(X_train, y_train)\n",
    "test_ds = TensorDataset(X_test, y_test)\n",
    "train_loader = DataLoader(train_ds, batch_size=32, shuffle=True)\n",
    "test_loader = DataLoader(test_ds, batch_size=32)"
   ]
  },
  {
   "cell_type": "markdown",
   "id": "f35998",
   "metadata": {
    "collapsed": false
   },
   "source": [
    "### Question 1\n",
    "\n",
    "Use the variables `train_loader` and `test_loader`, to write code to:\n",
    "\n",
    "* Retrieve the first batch of data from `train_loader`.\n",
    "\n",
    "* Print the shapes of the feature tensor `X_batch` and target tensor `y_batch` for that batch to verify correctness.\n",
    "\n",
    "Your output should look like this:\n",
    "\n",
    "![output1](Output1.png)\n",
    "\n",
    "\n",
    "Please write your code below."
   ]
  },
  {
   "cell_type": "code",
   "execution_count": 5,
   "id": "100185",
   "metadata": {
    "collapsed": false
   },
   "outputs": [
    {
     "name": "stdout",
     "output_type": "stream",
     "text": [
      "Shape of X_batch:  torch.Size([32, 8])\n",
      "Shape of y_batch:  torch.Size([32])\n"
     ]
    }
   ],
   "source": [
    "# Write your code here\n",
    "\n",
    "# Retrieve the first batch of data\n",
    "X_batch, y_batch = next(iter(train_loader))\n",
    "#Print the shape of X_batch and of y_batch\n",
    "print(\"Shape of X_batch: \",X_batch.shape)\n",
    "print(\"Shape of y_batch: \",y_batch.shape)"
   ]
  },
  {
   "cell_type": "markdown",
   "id": "7688ee",
   "metadata": {
    "collapsed": false
   },
   "source": [
    "## Define the class LinearRegressionModel\n",
    "\n",
    "> In this section we define the class `LinearRegressionModel` class.\n",
    "\n",
    "\n",
    "### Question 2\n",
    "\n",
    "In this exercise, you'll define a class `LinearRegressionModel` that inherits from `torch.nn.Module`. This class will represent a simple linear regression model using PyTorch's neural network module.\n",
    "\n",
    "* **Objective:** Use PyTorch's `nn.Linear` layer to create a linear regression model that can take in a set of input features and map them to a single output value. This is useful for predicting continuous values (e.g., predicting house prices based on size, age, location, etc.).\n",
    "\n",
    "Recall some basic info about torch.nn.Linear\n",
    "* Class: `torch.nn.Linear`\n",
    "* Module: `torch.nn`\n",
    "The `torch.nn.Linear` class represents a fully connected (or dense) layer, also known as a linear layer. This layer applies a linear transformation to the incoming data using the formula:\n",
    "\n",
    "$$\n",
    "y = xW^T + b\n",
    "$$\n",
    "\n",
    "where:\n",
    "- $ x $ is the input,\n",
    "- $W$ is the weight matrix,\n",
    "- $ b$ is the bias vector.\n",
    "\n",
    "[Look](https://pytorch.org/docs/stable/generated/torch.nn.Linear.html) into the API for `torch.nn.linear` to see how you initialize layers for that class.\n",
    "\n",
    "* **Instructions:**\n",
    "  1. Define a class named `LinearRegressionModel` that inherits from `torch.nn.Module`.\n",
    "  2. Inside the class, initialize a single `nn.Linear` layer in the `__init__` method, which takes in the number of input features (`input_dim`) and outputs a single value.\n",
    "  3. Implement the `forward` method, which defines the forward pass of the model. This method should take an input tensor `x` and return the output of the `nn.Linear` layer.\n",
    "\n",
    "* **Hint:** The `nn.Linear` layer performs a linear transformation using weights and bias, i.e., `output = x * weight + bias`. By setting the `out_features` argument to 1 in the `nn.Linear` layer, you're ensuring the model outputs a single continuous prediction for each input sample.\n",
    "\n",
    "Write your code below"
   ]
  },
  {
   "cell_type": "code",
   "execution_count": 6,
   "id": "771ce4",
   "metadata": {
    "collapsed": false
   },
   "outputs": [
   ],
   "source": [
    "# Write your code here\n",
    "\n",
    "from torch import nn\n",
    "\n",
    "class LinearRegressionModel(nn.Module):\n",
    "    def __init__(self, input_features, output_features=1):\n",
    "        # Define the initializator using the corresponding one for nn.Linear\n",
    "        super().__init__()\n",
    "        self.linear = nn.LazyLinear(output_features)\n",
    "\n",
    "    def forward(self, x):\n",
    "        #Define the forwarrd pass with input x\n",
    "        return self.linear(x)\n",
    "    \n"
   ]
  },
  {
   "cell_type": "markdown",
   "id": "fa7e17",
   "metadata": {
    "collapsed": false
   },
   "source": [
    "### Question 3\n",
    "\n",
    "After defining the `LinearRegressionModel` class, you'll now write code to:\n",
    "\n",
    "1. **Initialize the Model:** Create an instance of `LinearRegressionModel` called `model` and ensure that it has the correct input dimension.\n",
    "   * Use `X.shape[1]` as the input dimension, where `X` is your dataset with features. This ensures the model knows how many features to expect in each sample.\n",
    "   \n",
    "2. **Verify the Model's Output Shape:** Pass a sample batch of data (e.g., `X_batch` from Question 1) through the model to ensure that the output shape matches what you'd expect.\n",
    "   * When you pass `X_batch` (a sample batch of your input data) through the model, it should return predictions with the same number of rows as `X_batch`, but with only one column, since this is a single-output linear regression model.\n",
    "   \n",
    "3. **Print the Output Shape:** After obtaining the output from the model, use `print` to display the shape of the output tensor to verify it matches the expected shape.\n",
    "\n",
    "The output of your code should be something like this (the shape should be the same, the other values not since they correspond to output of the model for the batch input, and those  depend on the random assigment of the weights ):\n",
    "\n",
    "![output2](Output2.png)\n",
    "\n",
    "Write your code below"
   ]
  },
  {
   "cell_type": "code",
   "execution_count": 7,
   "id": "37bf00",
   "metadata": {
    "collapsed": false
   },
   "outputs": [
    {
     "name": "stdout",
     "output_type": "stream",
     "text": [
      "torch.Size([32, 1])\n",
      "tensor([[-0.3866],\n",
      "        [-0.0542],\n",
      "        [ 0.1352],\n",
      "        [ 0.2114],\n",
      "        [ 0.3163],\n",
      "        [ 0.4983],\n",
      "        [-0.1779],\n",
      "        [-0.8946],\n",
      "        [-0.3630],\n",
      "        [ 0.0704],\n",
      "        [-0.8580],\n",
      "        [-0.5582],\n",
      "        [-0.3896],\n",
      "        [-0.4940],\n",
      "        [-0.3690],\n",
      "        [-0.2837],\n",
      "        [-0.8333],\n",
      "        [ 0.3048],\n",
      "        [ 0.9007],\n",
      "        [-0.5305],\n",
      "        [ 0.3927],\n",
      "        [-0.3488],\n",
      "        [ 0.4452],\n",
      "        [-0.5494],\n",
      "        [-0.3636],\n",
      "        [ 2.0084],\n",
      "        [-0.7371],\n",
      "        [ 0.7144],\n",
      "        [-0.4066],\n",
      "        [-0.3889],\n",
      "        [ 0.6491],\n",
      "        [-0.0892]], grad_fn=<AddmmBackward0>)\n"
     ]
    }
   ],
   "source": [
    "# Write your code here\n",
    "\n",
    "# Initialize the model\n",
    "input_features = X.shape[1]\n",
    "model = LinearRegressionModel(input_features)\n",
    "\n",
    "# Pass a batch through the model to verify output shape\n",
    "X = X_batch\n",
    "y_hat = model(X)\n",
    "\n",
    "# Print the output shape and the output batch\n",
    "print(y_hat.shape)\n",
    "print(y_hat)\n"
   ]
  },
  {
   "cell_type": "markdown",
   "id": "5af84d",
   "metadata": {
    "collapsed": false
   },
   "source": [
    "## Define the Loss Function and Optimizer\n",
    "\n",
    "In this section, you'll define the loss function and optimizer, which are essential for training the linear regression model.\n",
    "\n",
    "### Question 4\n",
    "\n",
    "1. **Define the Loss Function:**\n",
    "   * Use `nn.MSELoss` as the loss function, which is commonly used for regression tasks.\n",
    "   * The Mean Squared Error (MSE) loss measures the average squared difference between the predicted and actual values, which helps in minimizing prediction errors during training.\n",
    "   * you can check the API of the `nn.MSEloss` function [here](https://pytorch.org/docs/stable/generated/torch.nn.MSELoss.html).\n",
    "\n",
    "2. **Set Up the Optimizer:**\n",
    "   * Use `torch.optim.SGD` as the optimizer for updating the model parameters during training.\n",
    "   * Set the learning rate (`lr`) to 0.001, which controls how much the optimizer adjusts the weights with each step.\n",
    "   * Initialize the optimizer to work with the parameters of your model, which we defined in Question 3 above as the variable `model`, which you can access with `model.parameters()`in the `optim.SGD call`.\n",
    "\n",
    "* **Code Outline:**\n",
    "  - Import `torch.optim` as `optim`.\n",
    "  - Define `criterion` as `nn.MSELoss()`.\n",
    "  - Define `optimizer` as a call to `optim.SGD()` with the right parameters.\n",
    "  \n",
    "\n",
    "This setup will prepare the model for training, allowing it to minimize the MSE loss through gradient descent.\n",
    "\n",
    "Write your code below\n",
    "\n"
   ]
  },
  {
   "cell_type": "code",
   "execution_count": 8,
   "id": "f87afd",
   "metadata": {
    "collapsed": false
   },
   "outputs": [
   ],
   "source": [
    "#Write your code here\n",
    "\n",
    "import torch.optim as optim\n",
    "\n",
    "# Define the loss function, call it criterion and define the optimizer\n",
    "criterion = nn.MSELoss()\n",
    "params = model.parameters()\n",
    "lr = 0.001\n",
    "optimizer = optim.SGD(params, lr)\n",
    "    "
   ]
  },
  {
   "cell_type": "markdown",
   "id": "bfc4ef",
   "metadata": {
    "collapsed": false
   },
   "source": [
    "### Question 5\n",
    "\n",
    "After defining the loss function and optimizer, write code to:\n",
    "\n",
    "* Calculate the loss for the predictions from the outputs of `model(X_batch)` (from question 1) against `y_batch`.\n",
    "\n",
    "* Print the computed loss to verify the setup is correct.\n",
    "\n",
    "Write your answer below"
   ]
  },
  {
   "cell_type": "code",
   "execution_count": 9,
   "id": "ce858d",
   "metadata": {
    "collapsed": false
   },
   "outputs": [
    {
     "name": "stdout",
     "output_type": "stream",
     "text": [
      "tensor(1.0932, grad_fn=<MseLossBackward0>)\n"
     ]
    }
   ],
   "source": [
    "# Write your code here\n",
    "\n",
    "#Calculate the output of the model with input X.batch. Call the output prediction\n",
    "prediction = y_hat\n",
    "#calculate the loss using the criterion function (loss function) evaluated with prediction and y-batch\n",
    "loss = criterion(prediction.reshape(-1,1), y_batch.reshape(-1,1))\n",
    "#print the value of the loss just calculated\n",
    "print(loss)"
   ]
  },
  {
   "cell_type": "markdown",
   "id": "9f4af3",
   "metadata": {
    "collapsed": false
   },
   "source": [
    "## Train the Model\n",
    "\n",
    "Implement a training loop over multiple epochs, updating model weights using backpropagation.\n",
    "\n",
    "### Question 6\n",
    "\n",
    "* Train the model for 100 epochs.\n",
    "\n",
    "* Record the training loss at each epoch and plot it at the end.\n",
    "\n",
    "You should see something like this (the number may not be the same because we are running the training starting with random assigments of the parameters):\n",
    "\n",
    "![output3](Output3.png)\n",
    "\n",
    "\n",
    "Write your answer below"
   ]
  },
  {
   "cell_type": "code",
   "execution_count": 10,
   "id": "6c791d",
   "metadata": {
    "collapsed": false
   },
   "outputs": [
    {
     "name": "stdout",
     "output_type": "stream",
     "text": [
      "Epoch [10/100], Loss: 0.4130\n"
     ]
    },
    {
     "name": "stdout",
     "output_type": "stream",
     "text": [
      "Epoch [20/100], Loss: 0.3948\n"
     ]
    },
    {
     "name": "stdout",
     "output_type": "stream",
     "text": [
      "Epoch [30/100], Loss: 0.3906\n"
     ]
    },
    {
     "name": "stdout",
     "output_type": "stream",
     "text": [
      "Epoch [40/100], Loss: 0.3899\n"
     ]
    },
    {
     "name": "stdout",
     "output_type": "stream",
     "text": [
      "Epoch [50/100], Loss: 0.3896\n"
     ]
    },
    {
     "name": "stdout",
     "output_type": "stream",
     "text": [
      "Epoch [60/100], Loss: 0.3896\n"
     ]
    },
    {
     "name": "stdout",
     "output_type": "stream",
     "text": [
      "Epoch [70/100], Loss: 0.3895\n"
     ]
    },
    {
     "name": "stdout",
     "output_type": "stream",
     "text": [
      "Epoch [80/100], Loss: 0.3895\n"
     ]
    },
    {
     "name": "stdout",
     "output_type": "stream",
     "text": [
      "Epoch [90/100], Loss: 0.3894\n"
     ]
    },
    {
     "name": "stdout",
     "output_type": "stream",
     "text": [
      "Epoch [100/100], Loss: 0.3895\n"
     ]
    },
    {
     "data": {
      "image/png": "[encoded data removed]",
      "text/plain": [
       "<Figure size 1200x700 with 1 Axes>"
      ]
     },
     "execution_count": 10,
     "metadata": {
      "image/png": {
       "height": 602,
       "width": 1010
      }
     },
     "output_type": "execute_result"
    }
   ],
   "source": [
    "# Write your code here\n",
    "import matplotlib.pyplot as plt\n",
    "\n",
    "# Set the number of epochs and set train-losses to the empty array.\n",
    "epochs = 100\n",
    "train_losses = []  # List to record the training loss for each epoch\n",
    "\n",
    "# Training loop\n",
    "for epoch in range(epochs):\n",
    "    running_loss = 0.0  # Initialize running loss for each epoch\n",
    "    \n",
    "    # Loop over batches in the train_loader\n",
    "    for inputs, targets in train_loader:\n",
    "                      # Clear the gradients from the previous batch\n",
    "        optimizer.zero_grad()\n",
    "                    # Forward pass: compute model predictions\n",
    "        y_hat = model(inputs)\n",
    "                      # Compute the loss for this batch\n",
    "        loss = criterion( targets.reshape(-1,1),y_hat.reshape(-1,1))\n",
    "                     # Backward pass: calculate gradients\n",
    "        loss.backward()\n",
    "                     # Update model parameters based on gradients\n",
    "        optimizer.step()\n",
    "                      # Accumulate loss for this epoch\n",
    "        running_loss += loss.item()\n",
    "    #end of inner loop\n",
    "    # Calculate and record the average loss for the current epoch\n",
    "    average_loss = running_loss / len(train_loader)\n",
    "    train_losses.append(average_loss)\n",
    "\n",
    "    # Print the loss every 10 epochs\n",
    "    if (epoch + 1) % 10 == 0:\n",
    "        print(f\"Epoch [{epoch + 1}/{epochs}], Loss: {average_loss:.4f}\")\n",
    "\n",
    "# Plot the training loss over epochs\n",
    "plt.plot(train_losses, label=\"Training Loss\")\n",
    "plt.xlabel(\"Epoch\")\n",
    "plt.ylabel(\"Loss\")\n",
    "plt.legend()\n",
    "plt.show()"
   ]
  },
  {
   "cell_type": "markdown",
   "id": "92f9ef",
   "metadata": {
    "collapsed": false
   },
   "source": [
    "<div class=\"alert alert-block alert-warning\">\n",
    "<b>IMPORTANT</b> If your code is correct the neural network must have an error less than $0.6$.\n",
    "</div>\n",
    "\n",
    "We could improve the prediction accuracy by increasing the number of epochs, and doing other things. But at this point we will keep the error obtained and we will pass to the validation phase.\n"
   ]
  },
  {
   "cell_type": "markdown",
   "id": "6c03cc",
   "metadata": {
    "collapsed": false
   },
   "source": [
    "## Evaluate the Model\n",
    "\n",
    "In this section, you'll evaluate the performance of your trained model on a test dataset.\n",
    "\n",
    "### Question 7\n",
    "\n",
    "We will evaluate the model’s total loss on the test dataset using the mean_square_error() from the module sklearn.metrics (find how to do this on the internet). Do not forget to import it.\n",
    "\n",
    "1. **Set the Model to Evaluation Mode:**\n",
    "   * Use `model.eval()` to set the model to evaluation mode. This ensures that any layers that behave differently during training (like dropout) are correctly configured for inference.\n",
    "\n",
    "2. **Disable Gradient Computation:**\n",
    "   * Use `torch.no_grad()` to disable gradient calculations, which saves memory and speeds up computation since we are only performing inference.\n",
    "\n",
    "3. **Generate Predictions on the Test Data:**\n",
    "   * Pass `X_test` (your test dataset inputs) through the model to get predictions.\n",
    "   * Use `.flatten()` on the output to ensure the predictions have the same shape as `y_test` (your target values), which is necessary for calculating mean squared error.\n",
    "\n",
    "4. **Calculate Mean Squared Error (MSE):**\n",
    "   * Use `mean_squared_error()` from `sklearn.metrics` to calculate the model’s MSE on the test dataset. This function provides an easy way to compute MSE between the predictions and true labels (`y_test`).\n",
    "   * If you're unfamiliar with `mean_squared_error()` or `sklearn.metrics`, try searching online for \"sklearn mean_squared_error\" for usage details and examples.\n",
    "\n",
    "5. **Display the Test MSE:**\n",
    "   * Use `print` to output the test MSE, rounding to four decimal places to keep the results concise.\n",
    "\n",
    "Write your answer below."
   ]
  },
  {
   "cell_type": "code",
   "execution_count": 11,
   "id": "fa1b8b",
   "metadata": {
    "collapsed": false
   },
   "outputs": [
    {
     "name": "stdout",
     "output_type": "stream",
     "text": [
      "0.41983175\n"
     ]
    }
   ],
   "source": [
    "# Write answer here\n",
    "from sklearn.metrics import mean_squared_error\n",
    "\n",
    "# Set the model to evaluation mode to disable any training-specific features\n",
    "model.eval()\n",
    "\n",
    "# Disable gradient computation to save memory and computation during inference\n",
    "with torch.no_grad():\n",
    "    # Generate predictions on the test data\n",
    "                  # Flatten to ensure consistency with target shape\n",
    "    y_predicted = model(X_test)\n",
    "    y_predicted.flatten()\n",
    "    # Calculate Mean Squared Error (MSE) on the test set\n",
    "    error = mean_squared_error(y_test, y_predicted)\n",
    "#end of loop\n",
    "# Print the evaluation metrics\n",
    "print(error)"
   ]
  },
  {
   "cell_type": "markdown",
   "id": "9c74f8",
   "metadata": {
    "collapsed": false
   },
   "source": [
    "## Experiment with Hyperparameters\n",
    "\n",
    "Analyze the effect of different learning rates on model performance.\n",
    "\n",
    "### Question 8\n",
    "\n",
    "* Change the learning rate to 0.0001 and 0.01, re-train the model, and compare the training and test MSE.\n",
    "\n",
    "* Discuss the impact of learning rate on model convergence and stability.\n",
    "\n",
    "Write your answer below."
   ]
  },
  {
   "cell_type": "code",
   "execution_count": 12,
   "id": "dc5632",
   "metadata": {
    "collapsed": false
   },
   "outputs": [
    {
     "name": "stdout",
     "output_type": "stream",
     "text": [
      "Epoch [10/100], Loss: 2372.6659\n"
     ]
    },
    {
     "name": "stdout",
     "output_type": "stream",
     "text": [
      "Epoch [20/100], Loss: 73409383480.4806\n"
     ]
    },
    {
     "name": "stdout",
     "output_type": "stream",
     "text": [
      "Epoch [30/100], Loss: 7592126244774516736.0000\n"
     ]
    },
    {
     "name": "stdout",
     "output_type": "stream",
     "text": [
      "Epoch [40/100], Loss: 6915894929682333947658240.0000\n"
     ]
    },
    {
     "name": "stdout",
     "output_type": "stream",
     "text": [
      "Epoch [50/100], Loss: 6918676630764683450846289076420608.0000\n"
     ]
    },
    {
     "name": "stdout",
     "output_type": "stream",
     "text": [
      "Epoch [60/100], Loss: inf\n"
     ]
    },
    {
     "name": "stdout",
     "output_type": "stream",
     "text": [
      "Epoch [70/100], Loss: inf\n"
     ]
    },
    {
     "name": "stdout",
     "output_type": "stream",
     "text": [
      "Epoch [80/100], Loss: inf\n"
     ]
    },
    {
     "name": "stdout",
     "output_type": "stream",
     "text": [
      "Epoch [90/100], Loss: inf\n"
     ]
    },
    {
     "name": "stdout",
     "output_type": "stream",
     "text": [
      "Epoch [100/100], Loss: inf\n"
     ]
    },
    {
     "data": {
      "image/png": "[encoded data removed]",
      "text/plain": [
       "<Figure size 1200x700 with 1 Axes>"
      ]
     },
     "execution_count": 12,
     "metadata": {
      "image/png": {
       "height": 617,
       "width": 988
      }
     },
     "output_type": "execute_result"
    }
   ],
   "source": [
    "#Write your code here for the learning rate 0.01\n",
    "\n",
    "#Redefine the optimizer with the new learning rate\n",
    "params = model.parameters()\n",
    "lr = 0.01\n",
    "optimizer1 = optim.SGD(params, lr)\n",
    "\n",
    "# rerun your training loop with the new learning rate above.\n",
    "import matplotlib.pyplot as plt\n",
    "model.train()\n",
    "# Set the number of epochs and set train-losses to the empty array.\n",
    "epochs = 100\n",
    "train_losses = []  # List to record the training loss for each epoch\n",
    "\n",
    "# Training loop\n",
    "for epoch in range(epochs):\n",
    "    running_loss = 0.0  # Initialize running loss for each epoch\n",
    "    \n",
    "    # Loop over batches in the train_loader\n",
    "    for inputs, targets in train_loader:\n",
    "                      # Clear the gradients from the previous batch\n",
    "        optimizer1.zero_grad()\n",
    "                    # Forward pass: compute model predictions\n",
    "        y_hat = model(inputs)\n",
    "                      # Compute the loss for this batch\n",
    "        loss = criterion( targets.reshape(-1,1),y_hat.reshape(-1,1))\n",
    "                     # Backward pass: calculate gradients\n",
    "        loss.backward()\n",
    "                     # Update model parameters based on gradients\n",
    "        optimizer1.step()\n",
    "                      # Accumulate loss for this epoch\n",
    "        running_loss += loss.item()\n",
    "    #end of inner loop\n",
    "    # Calculate and record the average loss for the current epoch\n",
    "    average_loss = running_loss / len(train_loader)\n",
    "    train_losses.append(average_loss)\n",
    "\n",
    "    # Print the loss every 10 epochs\n",
    "    if (epoch + 1) % 10 == 0:\n",
    "        print(f\"Epoch [{epoch + 1}/{epochs}], Loss: {average_loss:.4f}\")\n",
    "\n",
    "# Plot the training loss over epochs\n",
    "plt.plot(train_losses, label=\"Training Loss\")\n",
    "plt.xlabel(\"Epoch\")\n",
    "plt.ylabel(\"Loss\")\n",
    "plt.legend()\n",
    "plt.show()"
   ]
  },
  {
   "cell_type": "code",
   "execution_count": 13,
   "id": "8d1c67",
   "metadata": {
    "collapsed": false
   },
   "outputs": [
    {
     "name": "stdout",
     "output_type": "stream",
     "text": [
      "Epoch [10/100], Loss: inf\n"
     ]
    },
    {
     "name": "stdout",
     "output_type": "stream",
     "text": [
      "Epoch [20/100], Loss: inf\n"
     ]
    },
    {
     "name": "stdout",
     "output_type": "stream",
     "text": [
      "Epoch [30/100], Loss: inf\n"
     ]
    },
    {
     "name": "stdout",
     "output_type": "stream",
     "text": [
      "Epoch [40/100], Loss: inf\n"
     ]
    },
    {
     "name": "stdout",
     "output_type": "stream",
     "text": [
      "Epoch [50/100], Loss: inf\n"
     ]
    },
    {
     "name": "stdout",
     "output_type": "stream",
     "text": [
      "Epoch [60/100], Loss: inf\n"
     ]
    },
    {
     "name": "stdout",
     "output_type": "stream",
     "text": [
      "Epoch [70/100], Loss: inf\n"
     ]
    },
    {
     "name": "stdout",
     "output_type": "stream",
     "text": [
      "Epoch [80/100], Loss: inf\n"
     ]
    },
    {
     "name": "stdout",
     "output_type": "stream",
     "text": [
      "Epoch [90/100], Loss: inf\n"
     ]
    },
    {
     "name": "stdout",
     "output_type": "stream",
     "text": [
      "Epoch [100/100], Loss: inf\n"
     ]
    },
    {
     "data": {
      "image/png": "[encoded data removed]",
      "text/plain": [
       "<Figure size 1200x700 with 1 Axes>"
      ]
     },
     "execution_count": 13,
     "metadata": {
      "image/png": {
       "height": 602,
       "width": 1021
      }
     },
     "output_type": "execute_result"
    }
   ],
   "source": [
    "#Write your code here for the learning rate 0.0001\n",
    "\n",
    "#Redefine the optimizer with the new learning rate\n",
    "params = model.parameters()\n",
    "lr = 0.0001\n",
    "optimizer2 = optim.SGD(params, lr)\n",
    "\n",
    "# rerun your training loop with the new learning rate above.\n",
    "import matplotlib.pyplot as plt\n",
    "model.train()\n",
    "# Set the number of epochs and set train-losses to the empty array.\n",
    "epochs = 100\n",
    "train_losses = []  # List to record the training loss for each epoch\n",
    "\n",
    "# Training loop\n",
    "for epoch in range(epochs):\n",
    "    running_loss = 0.0  # Initialize running loss for each epoch\n",
    "    \n",
    "    # Loop over batches in the train_loader\n",
    "    for inputs, targets in train_loader:\n",
    "                      # Clear the gradients from the previous batch\n",
    "        optimizer2.zero_grad()\n",
    "                    # Forward pass: compute model predictions\n",
    "        y_hat = model(inputs)\n",
    "                      # Compute the loss for this batch\n",
    "        loss = criterion( targets.reshape(-1,1),y_hat.reshape(-1,1))\n",
    "                     # Backward pass: calculate gradients\n",
    "        loss.backward()\n",
    "                     # Update model parameters based on gradients\n",
    "        optimizer2.step()\n",
    "                      # Accumulate loss for this epoch\n",
    "        running_loss += loss.item()\n",
    "    #end of inner loop\n",
    "    # Calculate and record the average loss for the current epoch\n",
    "    average_loss = running_loss / len(train_loader)\n",
    "    train_losses.append(average_loss)\n",
    "\n",
    "    # Print the loss every 10 epochs\n",
    "    if (epoch + 1) % 10 == 0:\n",
    "        print(f\"Epoch [{epoch + 1}/{epochs}], Loss: {average_loss:.4f}\")\n",
    "\n",
    "# Plot the training loss over epochs\n",
    "plt.plot(train_losses, label=\"Training Loss\")\n",
    "plt.xlabel(\"Epoch\")\n",
    "plt.ylabel(\"Loss\")\n",
    "plt.legend()\n",
    "plt.show()"
   ]
  },
  {
   "cell_type": "markdown",
   "id": "5ca034",
   "metadata": {
    "collapsed": false
   },
   "source": [
    "#### Explanation of the Results\n",
    "\n",
    "Write your explanation here.\n",
    "\n",
    "In this example, the learning rate of 0.01 quickly approaches infinity rather than converging to 0. The learning rate of 0.0001 approaches 0 but slower than 0.001 so 0.001 seems to be the ideal rate for this specific example.\n"
   ]
  },
  {
   "cell_type": "markdown",
   "id": "1f0804",
   "metadata": {
    "collapsed": false
   },
   "source": [
    "**END OF WORKSHEET**\n",
    "\n",
    "Make sure that you answered all the questions on time. This completed `Jupyter Notebook` will be collected and graded. \n",
    "\n",
    "Once the `Jupyter Notebook` is collected it can not be modified."
   ]
  },
  {
   "cell_type": "code",
   "execution_count": 0,
   "id": "5d1bb3",
   "metadata": {
    "collapsed": false
   },
   "outputs": [
   ],
   "source": [
   ]
  }
 ],
 "metadata": {
  "kernelspec": {
   "argv": [
    "/usr/bin/python3",
    "-m",
    "ipykernel",
    "--HistoryManager.enabled=False",
    "--matplotlib=inline",
    "-c",
    "%config InlineBackend.figure_formats = set(['retina'])\nimport matplotlib; matplotlib.rcParams['figure.figsize'] = (12, 7)",
    "-f",
    "{connection_file}"
   ],
   "display_name": "Python 3 (system-wide)",
   "env": {
   },
   "language": "python",
   "metadata": {
    "cocalc": {
     "description": "Python 3 programming language",
     "priority": 100,
     "url": "https://www.python.org/"
    }
   },
   "name": "python3",
   "resource_dir": "/ext/jupyter/kernels/python3"
  },
  "language_info": {
   "codemirror_mode": {
    "name": "ipython",
    "version": 3
   },
   "file_extension": ".py",
   "mimetype": "text/x-python",
   "name": "python",
   "nbconvert_exporter": "python",
   "pygments_lexer": "ipython3",
   "version": "3.10.12"
  }
 },
 "nbformat": 4,
 "nbformat_minor": 4
}