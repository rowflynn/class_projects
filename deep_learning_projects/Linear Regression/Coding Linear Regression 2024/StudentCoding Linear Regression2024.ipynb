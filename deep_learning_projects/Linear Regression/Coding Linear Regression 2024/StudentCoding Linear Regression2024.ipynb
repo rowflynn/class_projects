{
 "cells": [
  {
   "cell_type": "markdown",
   "id": "6304c4",
   "metadata": {
    "collapsed": false,
    "slideshow": {
     "slide_type": "slide"
    }
   },
   "source": [
    "# Training a Linear Regression Neural Network\n"
   ]
  },
  {
   "cell_type": "markdown",
   "id": "adf45c",
   "metadata": {
    "collapsed": false,
    "slideshow": {
     "slide_type": "slide"
    }
   },
   "source": [
    "## Introduction"
   ]
  },
  {
   "cell_type": "markdown",
   "id": "587c3d",
   "metadata": {
    "collapsed": false,
    "slideshow": {
     "slide_type": "subslide"
    }
   },
   "source": [
    "## Model of a Linear Regression Problem\n",
    "\n",
    "For a typical linear regression problem we are given a training dataset $(\\mathbf{X},\\mathbf{y})$, where $\\mathbf{X}$ is a matrix $n\\times d$ and $\\mathbf{y}$ is a vector of dimension $n\\times 1$.\n",
    "\n",
    "We assume that the data in $\\mathbf{X}$ and $\\mathbf{y}$ are linearly related in the following fashion:\n",
    "\n",
    "$$\n",
    "\\mathbf{y}=\\begin{pmatrix} y_{1} \\\\ y_{2} \\\\ \\ldots \\\\ y_{n}\\end{pmatrix}= \\mathbf{X} \\mathbf{w} + b\\\\\n",
    "\\begin{pmatrix}\n",
    "x_{1}^{(1)} & x_{2}^{(1)} & \\ldots & x_{d}^{(1)}\\\\\n",
    "x_{1}^{(2)} & x_{2}^{(2)} & \\ldots & x_{d}^{(2)}\\\\\n",
    "\\ldots\\\\\n",
    "x_{1}^{(n)} & x_{1}^{(n)} & \\ldots & x_{d}^{(n)}\n",
    "\\end{pmatrix}\\cdot \\begin{pmatrix} w_1 \\\\ w_2 \\\\ \\ldots \\\\ w_{d}\\end{pmatrix}+b\\begin{pmatrix} 1 \\\\ 1 \\\\ \\ldots \\\\ 1\\end{pmatrix}. \\tag{1}\n",
    "$$\n",
    "\n",
    "The task is to find the values of $\\mathbf{w}$ and $b$ that make the equation (1) true."
   ]
  },
  {
   "cell_type": "markdown",
   "id": "0dcfd8",
   "metadata": {
    "collapsed": false,
    "slideshow": {
     "slide_type": "subslide"
    }
   },
   "source": [
    "\n",
    "Clearly, this may be impossible, so we settle by asking to find the values of $\\mathbf{w},b$ that **minimizes** the error between $\\mathbf{y}$(data given) and $$\\mathbf{y}_{hat}=\\mathbf{X} \\mathbf{w} + b$$.\n",
    "\n",
    "> We will find these values of $\\mathbf{w},b$ by a process that we may call the _training of a neural network_."
   ]
  },
  {
   "cell_type": "markdown",
   "id": "0580b7",
   "metadata": {
    "collapsed": false,
    "slideshow": {
     "slide_type": "slide"
    }
   },
   "source": [
    "## Key Ingredients to the Training of a Neural Network\n",
    "\n",
    "Here are the key ingredients:\n",
    "1. A neural model $\\mathbf{M}(\\mathbf{w},b)$ containing weights ($\\mathbf{w}$) and bias ($b$).\n",
    "\n",
    "1. A training data set ($(\\mathbf{X},\\mathbf{y})$).\n",
    "\n",
    "   - From the training data, a collection of batch data is generated.\n",
    "\n",
    "2. A loss function $L(\\mathbf{w},b)$ that measures the error between the predicted data $\\hat{\\mathbf{y}}=\\mathbf{X}\\mathbf{w}+b$ and the label data $\\mathbf{y}$.\n",
    "\n",
    "3. The **Batch Stochastic Gradient Descent** is implemented. \n",
    "\n",
    "\t- This process uses a batch of the data and then calculates the gradient (derivative) of the batch loss function with respect to the parameters $\\mathbf{w},b$.\n",
    "\n",
    "   - For this process the values of $\\mathbf{w},b$ are updated by substracting an multiple of the gradient of the loss function. The multiple is the parameter $\\eta$, the learning rate.\n"
   ]
  },
  {
   "cell_type": "markdown",
   "id": "44cd68",
   "metadata": {
    "collapsed": false,
    "slideshow": {
     "slide_type": "subslide"
    }
   },
   "source": [
    "These ingredients are used in the fitting process for a neural network given a data set by going over the following steps:\n",
    "\n",
    "- Generate/Obtain the training Data\n",
    "- Define the Model\n",
    "- Define the loss (fitting) function\n",
    "- Define the Optimization process\n",
    "- Train\n",
    "\n",
    "> In this worksheet we will explore how to accomplish this process using **Pytorch**.\n",
    "\n",
    "* We begin by importing the necessary libraries."
   ]
  },
  {
   "cell_type": "code",
   "execution_count": 3,
   "id": "5570e2",
   "metadata": {
    "collapsed": false,
    "slideshow": {
     "slide_type": "subslide"
    }
   },
   "outputs": [
   ],
   "source": [
    "import matplotlib.pyplot as plt  #for plotting our graphs\n",
    "%matplotlib inline\n",
    "import random\n",
    "import torch\n",
    "from torch import nn\n",
    "#The torch.nn namespace provides all the building blocks you need to build your own neural network. Every module in PyTorch subclasses the nn.Module. A neural network is a module itself that consists of other modules (layers).\n",
    "#from d2l import torch as d2l# the command from d2l import torch as d2l is used to import the torch module from the d2l package/module and refer to it as d2l in the rest of the code for brevity or convenience.\n"
   ]
  },
  {
   "cell_type": "markdown",
   "id": "0af545",
   "metadata": {
    "collapsed": false,
    "slideshow": {
     "slide_type": "slide"
    }
   },
   "source": [
    "# Generating the Training Data\n",
    "\n",
    "For this example, we will work in low dimension for succinctness."
   ]
  },
  {
   "cell_type": "markdown",
   "id": "0c9a92",
   "metadata": {
    "collapsed": false
   },
   "source": [
    "- We want to generate 1,000 examples with 2-dimensional features drawn from a standard normal distribution. The resulting design matrix $\\mathbf{X}$ belongs to $\\mathbb{R}^{1000 \\times 2}$.\n",
    "- We generate each label by applying a _ground truth_ linear function, corrupting them via additive noise $\\boldsymbol{\\epsilon}$, drawn independently and identically for each example:\n",
    "\n",
    "**$$\\mathbf{y}= \\mathbf{X} \\mathbf{w}_1 + b_1 + \\boldsymbol{\\epsilon}.$$**\n",
    "\n",
    "For convenience we assume that $\\boldsymbol{\\epsilon}$ is drawn\n",
    "from a normal distribution with mean $\\mu= 0$\n",
    "and standard deviation $\\sigma = 0.01$."
   ]
  },
  {
   "cell_type": "markdown",
   "id": "aa6ac2",
   "metadata": {
    "collapsed": false,
    "slideshow": {
     "slide_type": "subslide"
    }
   },
   "source": [
    "*  In this setup we will only make available to the linear regression neural network the values of $\\mathbf{X}$ and $\\mathbf{y}$, called the **training dataset**. \n",
    "\n",
    "* With this data, the network should generate the values of $\\mathbf{w}_1,b_1$ after **training** with the data.\n",
    "\n",
    "![image training](training.png)\n",
    "\n",
    "Below, we set the true parameters to $\\mathbf{w}_1=[2,−3.4]^⊤$ and $b_1=4.2$. Later, we can check our estimated parameters against these ground truth _1values."
   ]
  },
  {
   "cell_type": "code",
   "execution_count": 4,
   "id": "677e33",
   "metadata": {
    "collapsed": false
   },
   "outputs": [
   ],
   "source": [
    "#True parameters to be obtained after training\n",
    "w1 = torch.tensor([2, -3.4])\n",
    "b1 = 4.2"
   ]
  },
  {
   "cell_type": "markdown",
   "id": "9b34a2",
   "metadata": {
    "collapsed": false,
    "slideshow": {
     "slide_type": "subslide"
    }
   },
   "source": [
    "Recall that for this example, our training data set is made of $\\mathbf{X},\\mathbf{y}$ with\n",
    "\n",
    "$$\n",
    "\\mathbf{X}=\\begin{pmatrix}\n",
    "x_1^{(1)} & x_2^{(1)} \\\\\n",
    "x_1^{(2)} & x_2^{(2)} \\\\\n",
    "\\ldots\\\\\n",
    "x_1^{(2,000)} & x_2^{(2,000)}\n",
    "\\end{pmatrix}\n",
    "$$\n",
    "\n",
    "and that the generated (synthetic data) values of $\\mathbf{y}$ will be obtained as:\n",
    "\n",
    "$$\n",
    "\\begin{pmatrix} y^{(1)}\\\\y^{(2)}\\\\ \\ldots \\\\ y^{(2,000)}\\end{pmatrix}=\\mathbf{y}=\\mathbf{X}\\cdot \\mathbf{w_1}^T+ b_1+ noise=\\\\\n",
    "\\begin{pmatrix}\n",
    "x_1^{(1)} & x_2^{(1)} \\\\\n",
    "x_1^{(2)} & x_2^{(2)} \\\\\n",
    "\\ldots & \\ldots\\\\\n",
    "x_1^{(2,000)} & x_2^{(2,000)}\n",
    "\\end{pmatrix}\\cdot \\begin{pmatrix} 2.0\\\\ -3.4 \\end{pmatrix}+(4.2)\\begin{pmatrix} 1 \\\\ 1\\\\ \\ldots \\\\1 \\end{pmatrix}+\\begin{pmatrix} \\epsilon_1 \\\\ \\epsilon_2 \\\\ \\ldots \\\\ \\epsilon_{2000} \\end{pmatrix}.\n",
    "$$\n",
    "\n",
    "We define the tensors $\\mathbf{X}$ and $\\mathbf{noise}$, and the result tensor $\\mathbf{y}$ as follows."
   ]
  },
  {
   "cell_type": "code",
   "execution_count": 5,
   "id": "0b9d32",
   "metadata": {
    "collapsed": false,
    "slideshow": {
     "slide_type": "subslide"
    }
   },
   "outputs": [
   ],
   "source": [
    "n = 2000  #Size of X\n",
    "standev = 0.01  #Standard deviation of the normal distribution centered at 0.\n",
    "X = torch.randn(n, len(w1))  #Creates a random matrix X of size (n by len(w))\n",
    "noise = torch.randn(n, 1) * standev  # creates a random matrix of size (n by 1)\n",
    "y = torch.matmul(\n",
    "    X, w1.reshape((-1, 1))) + b1 + noise  #w.reshape(-1,1) is w^T, the column vector version of the row vector w."
   ]
  },
  {
   "cell_type": "markdown",
   "id": "87c1f0",
   "metadata": {
    "collapsed": false
   },
   "source": [
    "- Note that $b_1$ is a scalar, but in the last operation above, **Pytorch** incorporates it as a vector so that the addition in the code above works (broadcasting)."
   ]
  },
  {
   "cell_type": "markdown",
   "id": "08e0cb",
   "metadata": {
    "collapsed": false,
    "slideshow": {
     "slide_type": "subslide"
    }
   },
   "source": [
    "Let's have a look at the tensors in our definition"
   ]
  },
  {
   "cell_type": "code",
   "execution_count": 6,
   "id": "d01ba4",
   "metadata": {
    "collapsed": false
   },
   "outputs": [
    {
     "name": "stdout",
     "output_type": "stream",
     "text": [
      "Shape of X: torch.Size([2000, 2])\n",
      "Shape of y: torch.Size([2000, 1])\n",
      "Shape of w: torch.Size([2])\n",
      "Some particular values:X[0]= "
     ]
    },
    {
     "name": "stdout",
     "output_type": "stream",
     "text": [
      "tensor([-1.1204, -0.1320]) \n",
      "y[0]: tensor([2.4201]) \n",
      "number of training data: 2000\n"
     ]
    }
   ],
   "source": [
    "print('Shape of X:', X.shape)\n",
    "print('Shape of y:', y.shape)\n",
    "print('Shape of w:', w1.shape)\n",
    "print('Some particular values:X[0]=', X[0], '\\ny[0]:', y[0],\n",
    "      '\\nnumber of training data:', n)"
   ]
  },
  {
   "cell_type": "markdown",
   "id": "10bb8d",
   "metadata": {
    "collapsed": false
   },
   "source": [
    "> **REMARK** your (synthetic) data for this problem is the pair $(\\mathbf{X},\\mathbf{y})$. The vector $\\mathbf{y}$ is made of the **labels**."
   ]
  },
  {
   "cell_type": "markdown",
   "id": "343f68",
   "metadata": {
    "collapsed": false,
    "slideshow": {
     "slide_type": "subslide"
    }
   },
   "source": [
    "## Generating the batch data\n",
    "\n",
    "Recall that for this training process, we will iteratively execute the _minibatch stochastic gradient descent_ algorithm to minimize our error.\n",
    "\n",
    "- Recall also that this algorithm is based on taking a minibatch of the training data.\n",
    "\n",
    "- The specific choice of the size of the said minibatch depends on many factors, such as the amount of memory, the number of accelerators, the choice of layers, and the total dataset size.\n",
    "\n",
    "- Despite all that, a number between 32 and 256, preferably a multiple of a large power of $2$, is a good start."
   ]
  },
  {
   "cell_type": "markdown",
   "id": "ae1868",
   "metadata": {
    "collapsed": false,
    "slideshow": {
     "slide_type": "subslide"
    }
   },
   "source": [
    "- In its most basic form, in each iteration $t$, we first randomly sample a minibatch $\\mathcal{B}_t$ consisting of a fixed number $|\\mathcal{B}|$ of training examples.\n",
    "\n",
    "- We then compute the derivative (gradient) of the average loss on the minibatch with respect to the model parameters.\n",
    "\n",
    "- Finally, we multiply the gradient by a predetermined small positive value $\\eta$, called the _learning rate_, and subtract the resulting term from the current parameter values.\n",
    "\n",
    "- Recall that we expressed this updated process as:\n",
    "  $$(\\mathbf{w},b) \\leftarrow (\\mathbf{w},b) - \\frac{\\eta}{|\\mathcal{B}|} \\sum_{i \\in \\mathcal{B}_t} \\partial_{(\\mathbf{w},b)} l^{(i)}(\\mathbf{w},b).$$\n"
   ]
  },
  {
   "cell_type": "markdown",
   "id": "b7a6d2",
   "metadata": {
    "collapsed": false,
    "slideshow": {
     "slide_type": "subslide"
    }
   },
   "source": [
    "In summary, minibatch SGD proceeds as follows:\n",
    "\n",
    "1. initialize the values of the model parameters, typically at random;\n",
    "2. iteratively sample random minibatches from the data, updating the parameters in the direction of the negative gradient.\n",
    "\n",
    "For quadratic losses and affine transformations,\n",
    "this has a closed-form expansion:\n",
    "$$\\begin{aligned} \\mathbf{w} & \\leftarrow \\mathbf{w} - \\frac{\\eta}{|\\mathcal{B}|} \\sum_{i \\in \\mathcal{B}_t} \\partial_{\\mathbf{w}} l^{(i)}(\\mathbf{w}, b) && = \\mathbf{w} - \\frac{\\eta}{|\\mathcal{B}|} \\sum_{i \\in \\mathcal{B}_t} \\mathbf{x}^{(i)} \\left(\\mathbf{w}^\\top \\mathbf{x}^{(i)} + b - y^{(i)}\\right)\\\\ b &\\leftarrow b -  \\frac{\\eta}{|\\mathcal{B}|} \\sum_{i \\in \\mathcal{B}_t} \\partial_b l^{(i)}(\\mathbf{w}, b) &&  = b - \\frac{\\eta}{|\\mathcal{B}|} \\sum_{i \\in \\mathcal{B}_t} \\left(\\mathbf{w}^\\top \\mathbf{x}^{(i)} + b - y^{(i)}\\right). \\end{aligned}. \\tag{eq\\_linreg\\_batch\\_update}$$\n",
    "\n",
    "After training for some predetermined number of iterations\n",
    "(or until some other stopping criterion is met),\n",
    "we record the estimated model parameters,\n",
    "denoted $\\hat{\\mathbf{w}}, \\hat{b}$."
   ]
  },
  {
   "cell_type": "markdown",
   "id": "498493",
   "metadata": {
    "collapsed": false,
    "slideshow": {
     "slide_type": "subslide"
    }
   },
   "source": [
    "### Implementing minibatches using Dataloader in Pytorch\n",
    "\n",
    "We will use the class `DataLoader ` in the Pytorch module. See [here](https://www.educative.io/answers/what-is-pytorch-dataloader) for a detailed explanation of the use of that class.\n",
    "\n",
    "The `DataLoader` class in **PyTorch** is a utility class that is used to load data in batches. It takes a dataset and a batch size as input, and it yields batches of data from the dataset.\n",
    "\n",
    "Here is a brief overview of the `DataLoader` class:"
   ]
  },
  {
   "cell_type": "markdown",
   "id": "4296e7",
   "metadata": {
    "collapsed": false,
    "slideshow": {
     "slide_type": "subslide"
    }
   },
   "source": [
    "_What is it?_\n",
    "\n",
    "The `DataLoader` is an iterable that allows you to load data in batches from a **PyTorch** dataset.\n",
    "\n",
    "_What does it do?_\n",
    "\n",
    "The `DataLoader` does several things:\n",
    "\n",
    "- It creates a sampler to iterate over the dataset.\n",
    "- It splits the dataset into batches according to the batch size.\n",
    "- It yields batches of data from the dataset.\n",
    "\n",
    "_How does it work?_\n",
    "\n",
    "- The `DataLoader` works by creating a sampler to iterate over the dataset. \n",
    "- The sampler can be a random sampler, a sequential sampler, or a custom sampler. \n",
    "- The sampler is used to select indices from the dataset. \n",
    "- The `DataLoader` then splits the dataset into batches according to the batch size. \n",
    "- Finally, the `DataLoader` yields batches of data from the dataset.\n",
    "\n"
   ]
  },
  {
   "cell_type": "markdown",
   "id": "e3792d",
   "metadata": {
    "collapsed": false,
    "slideshow": {
     "slide_type": "subslide"
    }
   },
   "source": [
    "Why is it useful?\n",
    "\n",
    "The `DataLoader` is useful for loading data in batches because it can improve the performance of training machine learning models. By loading data in batches, you can avoid loading the entire dataset into memory at once. This can save memory and improve the speed of training.\n",
    "\n",
    "Here is an example of how to use the `DataLoader` class to load data from the `FashionMNIST` dataset:\n",
    "\n",
    "<details>\n",
    "  <summary><b>Example</b></summary>\n",
    "\n",
    "```Python\n",
    "import torch\n",
    "from torchvision import datasets, transforms\n",
    "\n",
    "### Load the FashionMNIST training dataset\n",
    "train_dataset = datasets.FashionMNIST(root=\"./data\", train=True, download=True)\n",
    "\n",
    "### Create a transform to convert the images to tensors\n",
    "transform = transforms.ToTensor()\n",
    "\n",
    "### Create a DataLoader object\n",
    "train_dataloader = torch.utils.data.DataLoader(train_dataset, batch_size=32, transform=transform)\n",
    "\n",
    "### Iterate over the DataLoader object and print the first batch of data\n",
    "for batch in train_dataloader:\n",
    "    images, labels = batch\n",
    "    print(images.shape)\n",
    "    print(labels.shape)\n",
    "    break\n",
    "```\n",
    "\n",
    "</details>\n",
    "\n",
    "In order to run the `DataLoader command`, we need to have defined a training dataset, a batch size and, if necessaty the type of transform because the `DataLoader `object is of type tensor.\n",
    "\n",
    "The code below defines the required parameter and the `Dataloader` variable.\n",
    "\n",
    "The `TensorDataset` class takes a list of tensors as input, and it stores the tensors in a dataset."
   ]
  },
  {
   "cell_type": "code",
   "execution_count": 7,
   "id": "451884",
   "metadata": {
    "collapsed": false,
    "slideshow": {
     "slide_type": "subslide"
    }
   },
   "outputs": [
    {
     "name": "stdout",
     "output_type": "stream",
     "text": [
      "number of batches in dataloader: 63\n",
      "newbatchX shape: torch.Size([32, 2]) \n",
      "newbatchy shape: torch.Size([32, 1])\n",
      "Length of batch: 32\n",
      "first value of X: tensor([-1.1751,  0.9408])\n",
      "first value of y_hat: tensor([-1.3597])\n",
      "newbatchX shape: torch.Size([32, 2]) \n",
      "newbatchy shape: torch.Size([32, 1])\n",
      "first value of batch X: tensor([0.5019, 0.6739])\n",
      "first value of batch y_yhat: tensor([2.9259])\n"
     ]
    }
   ],
   "source": [
    "# we first generate a TensorDataset variable for the input data\n",
    "#X,y presented as a list.\n",
    "dataset = torch.utils.data.TensorDataset(X, y)\n",
    "# now we create the iterator that will extract batches from\n",
    "# the data\n",
    "batch_size = 32  # we define the batch size\n",
    "#The call below pases the data set, the batch size and request that the batches are shuffled randomly from the whole dataset.\n",
    "dataloader = torch.utils.data.DataLoader(dataset, batch_size, shuffle=True)\n",
    "#once we create the variable dataloader,we can iterated over\n",
    "#all of the batches.\n",
    "print(\"number of batches in dataloader:\", len(dataloader))\n",
    "#Note that number of batches in dataloader * batch size is approximately equal\n",
    "# to the number of items in the data set.\n",
    "#Below is an example of a typical batch\n",
    "newbatchX, newbatchy = next(\n",
    "    iter(dataloader)\n",
    ")  # call tensorloader function to select a batch of the trainig dataset X and y\n",
    "print('newbatchX shape:', newbatchX.shape, '\\nnewbatchy shape:',\n",
    "      newbatchy.shape)\n",
    "print(\"Length of batch:\", len(newbatchy))\n",
    "print(\"first value of X:\", newbatchX[0])\n",
    "print(\"first value of y_hat:\", newbatchy[0])\n",
    "#we get the next batch\n",
    "newbatchX, newbatchy = next(iter(dataloader))  # call tensorloader function\n",
    "print('newbatchX shape:', newbatchX.shape, '\\nnewbatchy shape:',\n",
    "      newbatchy.shape)\n",
    "print(\"first value of batch X:\", newbatchX[0])\n",
    "print(\"first value of batch y_yhat:\", newbatchy[0])"
   ]
  },
  {
   "cell_type": "markdown",
   "id": "e8643c",
   "metadata": {
    "collapsed": false,
    "slideshow": {
     "slide_type": "subslide"
    }
   },
   "source": [
    "> Now that we have the batch of the training data set generated, we move to te second step: define our neural network in **Pytorch**."
   ]
  },
  {
   "cell_type": "markdown",
   "id": "13aa1c",
   "metadata": {
    "collapsed": false,
    "slideshow": {
     "slide_type": "slide"
    }
   },
   "source": [
    "# Defining the Neural Network\n",
    "\n",
    "Once we defined the data that will be used to train the neural network, and how we will access that data, we must defined the model to be working with, i.e. the neural network that we will be using.\n",
    "\n",
    "For this case, the neural network to be defined is particular class of the neural networks in **Pytorch**.\n",
    "\n",
    "> Our class for this example will be a `LazyLinear` class.\n",
    "\n",
    "- This class allows users to specify merely the output dimension, there is no need to additionally asks for how many inputs go into this layer.\n",
    "\n",
    "- Specifying input shapes is inconvenient and may require nontrivial calculations (such as in convolutional layers). Thus, for simplicity, we will use such \"lazy\" layers whenever we can.\n"
   ]
  },
  {
   "cell_type": "markdown",
   "id": "354d3e",
   "metadata": {
    "collapsed": false,
    "slideshow": {
     "slide_type": "subslide"
    }
   },
   "source": [
    "This neural network is made of a set of weights $\\hat{\\mathbf{w}}$ and a constant $\\hat{b}$ such that for any input data $X^\\prime$,\n",
    "\n",
    "$$\n",
    "X^\\prime=\\begin{pmatrix}\n",
    "x_{0} & x_{1}\n",
    "\\end{pmatrix}\n",
    "$$\n",
    "\n",
    "the output of the neural network is going to be scalar $\\hat{y}$:\n",
    "\n",
    "$$\n",
    "\\tag{1}\n",
    "\\hat{y}=X^\\prime\\cdot \\hat{\\mathbf{w}}^T+ \\hat{b}=\\\\\n",
    "\\begin{pmatrix}\n",
    "x_{0} & x_{1}\n",
    "\\end{pmatrix}\\cdot \\begin{pmatrix} \\hat{\\mathbf{w}_1}\\\\ \\hat{\\mathbf{w}_2 }\\end{pmatrix}+\\hat{b}\n",
    "$$\n",
    "\n",
    "> The following code defines our linear model in **Pytorch**. Note that despite the model being  defined the random values of the parameters have not been assigned yet."
   ]
  },
  {
   "cell_type": "code",
   "execution_count": 8,
   "id": "593b23",
   "metadata": {
    "collapsed": false,
    "slideshow": {
     "slide_type": "subslide"
    }
   },
   "outputs": [
    {
     "name": "stdout",
     "output_type": "stream",
     "text": [
      "<UninitializedParameter>\n",
      "<UninitializedParameter>\n"
     ]
    }
   ],
   "source": [
    "#we define a linear neural network. We do not need to define the size of the input yet. This neural network will have one layer.\n",
    "LinearModel = nn.LazyLinear(1)  #This layer will have output dimension 1\n",
    "LinearModel.weight.data.normal_(\n",
    "    0, 0.01)  #(We initialize the parameters (weights) of the neural network\n",
    "#randomly, from a normal distribution with mean 0 and standard deviation 0.01.\n",
    "LinearModel.bias.data.fill_(\n",
    "    0)  # We initialize the array of b (the bias) with zeros.\n",
    "# We can see the values of the parameters w and b of this neural network\n",
    "#by using the method parameters() as shown below\n",
    "parameters = LinearModel.parameters()\n",
    "# Print the parameters of the neural network\n",
    "for parameter in parameters:\n",
    "    print(parameter\n",
    "          )  # Note that at this point the parameters have not been initialized"
   ]
  },
  {
   "cell_type": "markdown",
   "id": "4f3891",
   "metadata": {
    "collapsed": false,
    "slideshow": {
     "slide_type": "subslide"
    }
   },
   "source": [
    "# How to Calculate the Outputs of the Linear Neural Network (_forward pass_)?\n",
    "\n",
    "Given any input $X^\\prime$, the neural network `LinearModel` calculates the output given by the equation (1) above.\n",
    "\n",
    "> **OBSERVATION** In **Pytorch**, neural networks have a particular behavior depending if you are **evaluating it** or **training it**.\n"
   ]
  },
  {
   "cell_type": "markdown",
   "id": "466a57",
   "metadata": {
    "collapsed": false,
    "slideshow": {
     "slide_type": "subslide"
    }
   },
   "source": [
    "\n",
    "- **Training mode** is the **default** mode for neural network models. In training mode, the model is constantly learning and updating its weights and biases.\n",
    "\n",
    "  - This is done using a process called **backpropagation**, which is a method for computing the gradient of the loss function with respect to the weights and biases of the model.\n",
    "\n",
    "- **Evaluation mode** is used when you want to evaluate the performance of a trained model on a test dataset.\n",
    "\n",
    "\t- In evaluation mode, the model will not updated its weights and biases. This is because the model has already been trained, and there is no need to continue training it."
   ]
  },
  {
   "cell_type": "markdown",
   "id": "915075",
   "metadata": {
    "collapsed": false,
    "slideshow": {
     "slide_type": "subslide"
    }
   },
   "source": [
    "<div class=\"alert alert-block alert-warning\">\n",
    "<b>WARNING!</b> In the PyTorch nn package, the `.eval()` method is used to switch a neural network model from training mode to evaluation mode. This means that the model will no longer perform certain operations that are specifically for training, such as dropout and batch normalization.\n",
    "    The `train()` method is used to switch a neural network model from evaluation mode to training mode.\n",
    "</div>\n",
    "Below we can see an example of the behavior of the neural network in the evaluation mode."
   ]
  },
  {
   "cell_type": "code",
   "execution_count": 9,
   "id": "38e420",
   "metadata": {
    "collapsed": false,
    "slideshow": {
     "slide_type": "subslide"
    }
   },
   "outputs": [
    {
     "name": "stdout",
     "output_type": "stream",
     "text": [
      "We evaluate now the output of the neural network for an input of [1.0,0.0]\n",
      "Output is= tensor([[-0.0030],\n",
      "        [-0.1939]], grad_fn=<AddmmBackward0>)\n",
      "Parameter containing:\n",
      "tensor([[ 0.3150, -0.1909]], requires_grad=True)\n",
      "Parameter containing:\n",
      "tensor([-0.3179], requires_grad=True)\n"
     ]
    }
   ],
   "source": [
    "LinearModel.eval()  # We make sure that the neural network is in evaluation mode\n",
    "print(\n",
    "    \"We evaluate now the output of the neural network for an input of [1.0,0.0]\"\n",
    ")\n",
    "#input of the  neural network\n",
    "input = torch.tensor([[1.0, 0.0],[1.0, 1.0]])\n",
    "#here is how we calculate the output: w_1*x_1+w_2*x_0+b=w_1+b\n",
    "output = LinearModel(input)\n",
    "print(\"Output is=\", output)  #Note that the output of the neural network is as\n",
    "# expected w_1+b\n",
    "#Now we check the parameters of the neural network\n",
    "parameters = LinearModel.parameters()\n",
    "# Print the parameters of the neural network\n",
    "for parameter in parameters:\n",
    "    print(parameter)  #Prints w and b"
   ]
  },
  {
   "cell_type": "markdown",
   "id": "e41f27",
   "metadata": {
    "collapsed": false,
    "slideshow": {
     "slide_type": "slide"
    }
   },
   "source": [
    "# The Loss Function\n",
    "\n",
    "In order to optimize the weights of the neural network, we need to iterate a procedure (the gradient method) that updates the values of the weights and bias in such a way that ot minimizes the error, or loss.\n",
    "\n",
    "The **loss function** is calculated by looking at the aggregated difference between the given data ($\\mathbf{y}$) and the corresponding generated data $\\hat{\\mathbf{y}}$, for a given data input $X^\\prime$.\n",
    "\n",
    "We calculate this error using a predefined error function in **Pytorch**.\n",
    "\n",
    "- The `MSELoss` class computes the mean squared error (without the $1/2$ factor in :eqref:`eq_mse`).\n",
    "- By default, `MSELoss` returns the average loss over examples.\n",
    "\n",
    "It is faster (and easier to use) than implementing our own.\n",
    "\n",
    "We will use this in our definition of the loss function."
   ]
  },
  {
   "cell_type": "code",
   "execution_count": 10,
   "id": "5c86d0",
   "metadata": {
    "collapsed": false,
    "slideshow": {
     "slide_type": "subslide"
    }
   },
   "outputs": [
    {
     "name": "stdout",
     "output_type": "stream",
     "text": [
      "loss for batch is: tensor(0.2500)\n"
     ]
    }
   ],
   "source": [
    "def loss(y_hat, y):  # Define function loss\n",
    "    fn = nn.MSELoss()\n",
    "    return fn(y_hat, y)\n",
    "\n",
    "\n",
    "# Here is an example of the calculation of the average loss over a batch\n",
    "y2 = torch.tensor([[1.0], [1.0], [1.0]])  # 3 labels in this made up batch\n",
    "y2_hat = torch.tensor([[0.5], [0.5], [0.5]\n",
    "                       ])  #3 corresponding calculated values for the batch\n",
    "print(\"loss for batch is:\", loss(y2_hat, y2))"
   ]
  },
  {
   "cell_type": "markdown",
   "id": "4534c3",
   "metadata": {
    "collapsed": false,
    "slideshow": {
     "slide_type": "slide"
    }
   },
   "source": [
    "# Defining The Optimizer\n",
    "\n",
    "Now we need to define the optimizing process for the loss function of the neural network.\n",
    "\n",
    "> As discussed before, all of these methods are based on the _gradient descent_ idea.\n",
    "\n",
    "- In this particular example, the optimization process will iterate over the values of the parameters of the neural network `LinearModel`.\n",
    "\n",
    "- **PyTorch** provides several optimization methods for adjusting the parameters of a neural network during training.\n",
    "\n",
    "- These methods differ in their algorithms and characteristics, making them suitable for different types of models and datasets. Here's an overview of some common optimization methods in torch.optim:\n"
   ]
  },
  {
   "cell_type": "markdown",
   "id": "f7019c",
   "metadata": {
    "collapsed": false,
    "slideshow": {
     "slide_type": "subslide"
    }
   },
   "source": [
    "- **Stochastic Gradient Descent (SGD)**: `SGD` is a widely used optimization method that updates the parameters of the neural network in the direction of the steepest descent of the loss function. It's computationally efficient and works well for simple models and datasets.\n",
    "\n",
    "- **Momentum** `Momentum` is an extension of `SGD` that adds a momentum term to the weight updates. This helps to smooth out the updates and accelerate convergence, especially in cases where the loss function has a complex landscape.\n",
    "\n",
    "- **Nesterov Accelerated Gradient Descent (NAG)**: `NAG` is another variant of `SGD` that uses a different momentum scheme to further improve convergence. It often performs better than `SGD` and momentum on convex problems.\n",
    "\n",
    "- **AdaGrad**: `AdaGrad` is an adaptive learning rate optimizer that adjusts the learning rate for each parameter based on its past gradients. This can help to prevent oscillations and improve convergence for problems with highly variable gradients.\n",
    "\n",
    "- **RMSProp**: `RMSProp` is another adaptive learning rate optimizer that uses a moving average of the squared gradients to adjust the learning rate. It's similar to `AdaGrad` but often performs better in practice.\n",
    "\n",
    "- **Adam**: `Adam` is a popular optimization method that combines the adaptive learning rate approach of `AdaGrad` and `RMSProp` with `momentum`. It's generally more stable and faster than `SGD` and can work well for a wide range of models and datasets.\n"
   ]
  },
  {
   "cell_type": "markdown",
   "id": "62440b",
   "metadata": {
    "collapsed": false,
    "slideshow": {
     "slide_type": "subslide"
    }
   },
   "source": [
    "\n",
    "The choice of optimization method depends on several factors, including the complexity of the model, the characteristics of the dataset, and the desired performance.\n",
    "\n",
    "It's often beneficial to experiment with different optimization methods to find the one that works best for a specific problem.\n",
    "\n",
    "For this example we select SGD.\n",
    "\n",
    "<details>\n",
    "  <summary><b>Detailed Explanation of the SGD code</b></summary>\n",
    "\n",
    "Stochastic Gradient Descent (SGD) is an optimization algorithm commonly used in machine learning to minimize an objective function, especially for large datasets. It's a simplified version of gradient descent that updates the parameters of a neural network in the direction of the steepest descent of the loss function, but instead of using the entire dataset, it uses a small batch of data at each iteration.\n",
    "\n",
    "Algorithm:\n",
    "\n",
    "Initialize the parameters of the neural network: Set the initial values for the weights and biases of the neural network.\n",
    "\n",
    "Iterate over the training data: For each training example, do the following:\n",
    "\n",
    "a. Compute the predicted output: Pass the training example through the neural network to obtain the predicted output.\n",
    "\n",
    "b. Compute the loss: Compute the loss between the predicted output and the target output.\n",
    "\n",
    "c. Compute the gradient: Compute the gradient of the loss function with respect to the parameters of the neural network.\n",
    "\n",
    "d. Update the parameters: Update the parameters of the neural network using the gradient and a learning rate.\n",
    "\n",
    "</details>\n",
    "\n",
    "Here is how we define the optimizer for the linear network."
   ]
  },
  {
   "cell_type": "code",
   "execution_count": 11,
   "id": "839a20",
   "metadata": {
    "collapsed": false,
    "slideshow": {
     "slide_type": "subslide"
    }
   },
   "outputs": [
   ],
   "source": [
    "#We select to optimize the loss function using the SGD method\n",
    "# lr is the learning rate. This is the amount by which you multiply each one of the partial derivatives of the gradient to substract from the parameters values.\n",
    "#We use the command optim.GEd to optimize the parameters of the linear model.\n",
    "LinearOptimizer = torch.optim.SGD(LinearModel.parameters(), lr=0.01)"
   ]
  },
  {
   "cell_type": "markdown",
   "id": "986178",
   "metadata": {
    "collapsed": false,
    "slideshow": {
     "slide_type": "slide"
    }
   },
   "source": [
    "# Training the Neural Network\n",
    "\n",
    "The final step is to **train** our neural network. To do this, we must define first the total number of iterations (**epochs**) to be performed.\n",
    "\n",
    "For every **epoch**, we iterate over all the training data in batches:\n",
    "\n",
    "- For each training batch, we compute the predicted output of the neural network using the forward pass.\n",
    "\n",
    "- Then, compute the loss between the predicted output and the target output.\n",
    "\n",
    "- Then, update the parameters of the neural network using the backward pass and the optimizer."
   ]
  },
  {
   "cell_type": "markdown",
   "id": "3f84a8",
   "metadata": {
    "collapsed": false,
    "slideshow": {
     "slide_type": "subslide"
    }
   },
   "source": [
    "**NOTE** Up to this points we have the following items for our model:\n",
    "\n",
    "---\n",
    "1. **Data**: The data info `X`, `y` transformed into the `dataloader` iterator that generates our batches.\n",
    "2. **The linear model** `LinearModel` defined above\n",
    "3. The **loss function** `loss` defined above\n",
    "4. The **linear optimizer** `LinearOptimizer` which we selected to be `SGD`.\n",
    "5. the **learning rate** `lr=0.01`\n",
    "6. The number of **epochs**, `epochs` which the total number of times that we will iterate over all the data on the batches is 5.\n",
    "\n",
    "---"
   ]
  },
  {
   "cell_type": "markdown",
   "id": "2bc60d",
   "metadata": {
    "collapsed": false,
    "slideshow": {
     "slide_type": "subslide"
    }
   },
   "source": [
    "Comments on the code below:\n",
    "\n",
    "`LinearOptimizer.zero_grad()`: This line sets the gradients of all parameters in the optimizer to zero. This is necessary because the gradients accumulate over time, and if they are not reset before each training step, the updates will be based on the gradients from all previous steps, which can lead to unstable training.\n",
    "\n",
    "`Loss.backward()`: This line computes the gradient of the loss function with respect to the parameters of the model. This is done using a technique called backpropagation, which recursively computes the derivatives of the loss function with respect to all of the parameters in the model.\n",
    "\n",
    "`LinearOptimizer.step()`: This line updates the parameters of the model based on the gradients that were computed in the previous step. The optimizer uses a specific algorithm to update the parameters, such as stochastic gradient descent (SGD) or Adam. The algorithm takes into account the learning rate, which controls the size of the updates, and any other parameters that are specific to the optimizer."
   ]
  },
  {
   "cell_type": "code",
   "execution_count": 12,
   "id": "440cf6",
   "metadata": {
    "collapsed": false,
    "slideshow": {
     "slide_type": "subslide"
    }
   },
   "outputs": [
    {
     "data": {
      "image/png": "[encoded data removed]",
      "text/plain": [
       "<Figure size 1200x700 with 1 Axes>"
      ]
     },
     "execution_count": 12,
     "metadata": {
      "image/png": {
       "height": 602,
       "width": 996
      }
     },
     "output_type": "execute_result"
    },
    {
     "name": "stdout",
     "output_type": "stream",
     "text": [
      "Final Values of parameters of the linear neural network\n",
      "Parameter containing:\n",
      "tensor([[ 1.9983, -3.3951]], requires_grad=True)\n",
      "Parameter containing:\n",
      "tensor([4.1925], requires_grad=True)\n",
      "target value of w: tensor([ 2.0000, -3.4000]) target value of b: 4.2\n"
     ]
    }
   ],
   "source": [
    "# Set the model to training mode!\n",
    "LinearModel.train()\n",
    "# Initialize a list to store the loss values for each epoch\n",
    "total_loss = []\n",
    "#we define the max number of epochs:\n",
    "max_epochs = 5\n",
    "#We loop over each epoch\n",
    "for epoch in range(max_epochs):  # Adjust number of epochs as needed\n",
    "    #initialize loss_value to 0\n",
    "    loss_value = 0.0\n",
    "    #for every epoch we iterate over all the batches in dataloader\n",
    "    for batch_idx, (batchX, batchy) in enumerate(dataloader):\n",
    "        LinearOptimizer.zero_grad()  # Clear gradients before each batch\n",
    "        #Forward pass\n",
    "        y_hat = LinearModel(batchX)\n",
    "        # Calculate loss\n",
    "        lossbatch = loss(y_hat, batchy)\n",
    "        # Backward pass and update weights\n",
    "        lossbatch.backward()\n",
    "        LinearOptimizer.step()\n",
    "        #Add to loss_value the value of lossbatch\n",
    "        loss_value = loss_value + lossbatch\n",
    "        #End Loop\n",
    "    # We calculate now the average loss for the epoch\n",
    "    epoch_loss = loss_value.item() / len(dataloader)\n",
    "    #we append the average loss to the list of epoch losses\n",
    "    total_loss.append(epoch_loss)\n",
    "    #End of Epoch\n",
    "# we plot now the graph of total_loss values against the epochs.\n",
    "plt.plot(total_loss, label='Training Loss')\n",
    "plt.xlabel('Epoch')\n",
    "plt.ylabel('Loss')\n",
    "plt.legend()\n",
    "plt.show()\n",
    "\n",
    "# finally, we print the optimized parameters of the linear neural network and compare them with the target parameters.\n",
    "parameters = LinearModel.parameters()\n",
    "# Print the parameters of the neural network\n",
    "print(\"Final Values of parameters of the linear neural network\")\n",
    "for parameter in parameters:\n",
    "    print(parameter)\n",
    "print(\"target value of w:\", w1, \"target value of b:\", b1)"
   ]
  },
  {
   "cell_type": "markdown",
   "id": "2b907f",
   "metadata": {
    "collapsed": false,
    "slideshow": {
     "slide_type": "slide"
    }
   },
   "source": [
    "**QUESTION 0** What would happen if we were to initialize the weights of the model to zero instead of randomly?. Would the training algorithm still work? Write some code that implements this initial set of values of w being zero."
   ]
  },
  {
   "cell_type": "code",
   "execution_count": 13,
   "id": "031aa8",
   "metadata": {
    "collapsed": false,
    "slideshow": {
     "slide_type": "subslide"
    }
   },
   "outputs": [
    {
     "data": {
      "image/png": "[encoded data removed]",
      "text/plain": [
       "<Figure size 1200x700 with 1 Axes>"
      ]
     },
     "execution_count": 13,
     "metadata": {
      "image/png": {
       "height": 602,
       "width": 996
      }
     },
     "output_type": "execute_result"
    },
    {
     "name": "stdout",
     "output_type": "stream",
     "text": [
      "Final Values of parameters of the linear neural network\n",
      "Parameter containing:\n",
      "tensor([[ 1.9987, -3.3937]], requires_grad=True)\n",
      "Parameter containing:\n",
      "tensor([4.1928], requires_grad=True)\n",
      "target value of w: tensor([ 2.0000, -3.4000]) target value of b: 4.2\n"
     ]
    }
   ],
   "source": [
    "# Write your code here\n",
    "\n",
    "\n",
    "#we define a linear neural network. We do not need to define the size of the input yet. This neural network will have one layer.\n",
    "LinearModel1 = nn.LazyLinear(1)  #This layer will have output dimension 1\n",
    "LinearModel1.weight.data.fill_(0)  #(We initialize the parameters (weights) of the neural network\n",
    "LinearModel1.bias.data.fill_(0)  # We initialize the array of b (the bias) with zeros.\n",
    "\n",
    "    \n",
    "LinearOptimizer1 = torch.optim.SGD(LinearModel1.parameters(), lr=0.01)\n",
    "    \n",
    "# Initialize a list to store the loss values for each epoch\n",
    "total_loss1 = []\n",
    "#we define the max number of epochs:\n",
    "max_epochs = 5\n",
    "#We loop over each epoch\n",
    "for epoch in range(max_epochs):  # Adjust number of epochs as needed\n",
    "    #initialize loss_value to 0\n",
    "    loss_value = 0.0\n",
    "    #for every epoch we iterate over all the batches in dataloader\n",
    "    for batch_idx, (batchX, batchy) in enumerate(dataloader):\n",
    "        LinearOptimizer1.zero_grad()  # Clear gradients before each batch\n",
    "        #Forward pass\n",
    "        y_hat = LinearModel1(batchX)\n",
    "        # Calculate loss\n",
    "        lossbatch = loss(y_hat, batchy)\n",
    "        # Backward pass and update weights\n",
    "        lossbatch.backward()\n",
    "        LinearOptimizer1.step()\n",
    "        #Add to loss_value the value of lossbatch\n",
    "        loss_value = loss_value + lossbatch\n",
    "        #End Loop\n",
    "    # We calculate now the average loss for the epoch\n",
    "    epoch_loss = loss_value.item() / len(dataloader)\n",
    "    #we append the average loss to the list of epoch losses\n",
    "    total_loss1.append(epoch_loss)\n",
    "    #End of Epoch\n",
    "# we plot now the graph of total_loss values against the epochs.\n",
    "plt.plot(total_loss1, label='Training Loss')\n",
    "plt.xlabel('Epoch')\n",
    "plt.ylabel('Loss')\n",
    "plt.legend()\n",
    "plt.show()\n",
    "\n",
    "# finally, we print the optimized parameters of the linear neural network and compare them with the target parameters.\n",
    "parameters = LinearModel1.parameters()\n",
    "# Print the parameters of the neural network\n",
    "print(\"Final Values of parameters of the linear neural network\")\n",
    "for parameter in parameters:\n",
    "    print(parameter)\n",
    "print(\"target value of w:\", w1, \"target value of b:\", b1)"
   ]
  },
  {
   "cell_type": "code",
   "execution_count": 14,
   "id": "b40b91",
   "metadata": {
    "collapsed": false
   },
   "outputs": [
    {
     "data": {
      "image/png": "[encoded data removed]",
      "text/plain": [
       "<Figure size 1200x700 with 1 Axes>"
      ]
     },
     "execution_count": 14,
     "metadata": {
      "image/png": {
       "height": 602,
       "width": 1019
      }
     },
     "output_type": "execute_result"
    },
    {
     "name": "stdout",
     "output_type": "stream",
     "text": [
      "Final Values of parameters of the linear neural network\n",
      "Parameter containing:\n",
      "tensor([[ 0.6955, -0.4565]], requires_grad=True)\n",
      "Parameter containing:\n",
      "tensor([-0.6165], requires_grad=True)\n",
      "target value of w: tensor([ 2.0000, -3.4000]) target value of b: 4.2\n"
     ]
    }
   ],
   "source": [
    "# Write your code here\n",
    "\n",
    "\n",
    "#we define a linear neural network. We do not need to define the size of the input yet. This neural network will have one layer.\n",
    "LinearModel2 = nn.LazyLinear(1)  #This layer will have output dimension 1\n",
    "LinearModel2.weight.data.fill_(100)  #(We initialize the parameters (weights) of the neural network\n",
    "LinearModel2.bias.data.fill_(0)  # We initialize the array of b (the bias) with zeros.\n",
    "\n",
    "    \n",
    "LinearOptimizer2 = torch.optim.SGD(LinearModel1.parameters(), lr=0.01)\n",
    "    \n",
    "# Initialize a list to store the loss values for each epoch\n",
    "total_loss2 = []\n",
    "#we define the max number of epochs:\n",
    "max_epochs = 5\n",
    "#We loop over each epoch\n",
    "for epoch in range(max_epochs):  # Adjust number of epochs as needed\n",
    "    #initialize loss_value to 0\n",
    "    loss_value = 0.0\n",
    "    #for every epoch we iterate over all the batches in dataloader\n",
    "    for batch_idx, (batchX, batchy) in enumerate(dataloader):\n",
    "        LinearOptimizer2.zero_grad()  # Clear gradients before each batch\n",
    "        #Forward pass\n",
    "        y_hat = LinearModel2(batchX)\n",
    "        # Calculate loss\n",
    "        lossbatch = loss(y_hat, batchy)\n",
    "        # Backward pass and update weights\n",
    "        lossbatch.backward()\n",
    "        LinearOptimizer2.step()\n",
    "        #Add to loss_value the value of lossbatch\n",
    "        loss_value = loss_value + lossbatch\n",
    "        #End Loop\n",
    "    # We calculate now the average loss for the epoch\n",
    "    epoch_loss = loss_value.item() / len(dataloader)\n",
    "    #we append the average loss to the list of epoch losses\n",
    "    total_loss2.append(epoch_loss)\n",
    "    #End of Epoch\n",
    "# we plot now the graph of total_loss values against the epochs.\n",
    "plt.plot(total_loss2, label='Training Loss')\n",
    "plt.xlabel('Epoch')\n",
    "plt.ylabel('Loss')\n",
    "plt.legend()\n",
    "plt.show()\n",
    "\n",
    "\n",
    "# finally, we print the optimized parameters of the linear neural network and compare them with the target parameters.\n",
    "parameters = LinearModel2.parameters()\n",
    "# Print the parameters of the neural network\n",
    "print(\"Final Values of parameters of the linear neural network\")\n",
    "for parameter in parameters:\n",
    "    print(parameter)\n",
    "print(\"target value of w:\", w1, \"target value of b:\", b1)"
   ]
  },
  {
   "cell_type": "markdown",
   "id": "65d00e",
   "metadata": {
    "collapsed": false,
    "slideshow": {
     "slide_type": "subslide"
    }
   },
   "source": [
    "**QUESTION 0.0**\n",
    "\n",
    "What will happen if we changed the learning rate? Please run some experiments with this training to see the effects of modifying the learning rate `lr`.\n"
   ]
  },
  {
   "cell_type": "code",
   "execution_count": 15,
   "id": "a37436",
   "metadata": {
    "collapsed": false,
    "slideshow": {
     "slide_type": "subslide"
    }
   },
   "outputs": [
    {
     "ename": "NameError",
     "evalue": "name 'LinearOptimizer3' is not defined",
     "output_type": "error",
     "traceback": [
      "\u001b[0;31m---------------------------------------------------------------------------\u001b[0m",
      "\u001b[0;31mNameError\u001b[0m                                 Traceback (most recent call last)",
      "Cell \u001b[0;32mIn[15], line 1\u001b[0m\n\u001b[0;32m----> 1\u001b[0m \u001b[43mLinearOptimizer3\u001b[49m\u001b[38;5;241m.\u001b[39mzero_grad()\n\u001b[1;32m      4\u001b[0m \u001b[38;5;66;03m#we define a linear neural network. We do not need to define the size of the input yet. This neural network will have one layer.\u001b[39;00m\n\u001b[1;32m      5\u001b[0m LinearModel3 \u001b[38;5;241m=\u001b[39m nn\u001b[38;5;241m.\u001b[39mLazyLinear(\u001b[38;5;241m1\u001b[39m)  \u001b[38;5;66;03m#This layer will have output dimension 1\u001b[39;00m\n",
      "\u001b[0;31mNameError\u001b[0m: name 'LinearOptimizer3' is not defined"
     ]
    }
   ],
   "source": [
    "LinearOptimizer3.zero_grad()\n",
    "\n",
    "\n",
    "#we define a linear neural network. We do not need to define the size of the input yet. This neural network will have one layer.\n",
    "LinearModel3 = nn.LazyLinear(1)  #This layer will have output dimension 1\n",
    "LinearModel3.weight.data.normal_(0,0.1)  #(We initialize the parameters (weights) of the neural network\n",
    "LinearModel3.bias.data.fill_(0)  # We initialize the array of b (the bias) with zeros.\n",
    "\n",
    "    \n",
    "LinearOptimizer3 = torch.optim.SGD(LinearModel3.parameters(), lr=1)\n",
    "    \n",
    "# Initialize a list to store the loss values for each epoch\n",
    "total_loss3 = []\n",
    "#we define the max number of epochs:\n",
    "max_epochs = 40\n",
    "#We loop over each epoch\n",
    "for epoch in range(max_epochs):  # Adjust number of epochs as needed\n",
    "    #initialize loss_value to 0\n",
    "    loss_value = 0.0\n",
    "    #for every epoch we iterate over all the batches in dataloader\n",
    "    for batch_idx, (batchX, batchy) in enumerate(dataloader):\n",
    "        LinearOptimizer3.zero_grad()  # Clear gradients before each batch\n",
    "        #Forward pass\n",
    "        y_hat = LinearModel3(batchX)\n",
    "        # Calculate loss\n",
    "        lossbatch = loss(y_hat, batchy)\n",
    "        # Backward pass and update weights\n",
    "        lossbatch.backward()\n",
    "        LinearOptimizer3.step()\n",
    "        #Add to loss_value the value of lossbatch\n",
    "        loss_value = loss_value + lossbatch\n",
    "        #End Loop\n",
    "    # We calculate now the average loss for the epoch\n",
    "    epoch_loss = loss_value.item() / len(dataloader)\n",
    "    #we append the average loss to the list of epoch losses\n",
    "    total_loss3.append(epoch_loss)\n",
    "    #End of Epoch\n",
    "# we plot now the graph of total_loss values against the epochs.\n",
    "plt.plot(total_loss3, label='Training Loss')\n",
    "plt.xlabel('Epoch')\n",
    "plt.ylabel('Loss')\n",
    "plt.legend()\n",
    "plt.show()\n",
    "\n",
    "# finally, we print the optimized parameters of the linear neural network and compare them with the target parameters.\n",
    "parameters = LinearModel3.parameters()\n",
    "# Print the parameters of the neural network\n",
    "print(\"Final Values of parameters of the linear neural network\")\n",
    "for parameter in parameters:\n",
    "    print(parameter)\n",
    "print(\"target value of w:\", w1, \"target value of b:\", b1)\n",
    "\n"
   ]
  },
  {
   "cell_type": "markdown",
   "id": "2e46ee",
   "metadata": {
    "collapsed": false,
    "slideshow": {
     "slide_type": "slide"
    }
   },
   "source": [
    "## Object Oriented Programming Approach to Linear Regression\n",
    "\n",
    "- Our code for the Linear Regression optimization is an easy one.\n",
    "\n",
    "- We can take this opportunity to create the same code using OOD.\n",
    "\n",
    "We will create the following classes:\n",
    "\n",
    "| Class Name | Purpose|\n",
    "| -------- | ------- |\n",
    "| `LinerRegressionDataset` | Data Generation |\n",
    "| `LinearRegressionModel` | Linear Model |\n",
    "| `MSELossWrapper` | Loss Function |\n",
    "| `SGDOptimizer` | Optimizer |"
   ]
  },
  {
   "cell_type": "markdown",
   "id": "fc67ee",
   "metadata": {
    "collapsed": false,
    "slideshow": {
     "slide_type": "slide"
    }
   },
   "source": [
    "### Data Generation\n",
    "\n",
    "for our synthetic data generation, we will create a class named `LinearRegressionDataset` that inherits from `torch.utils.data.Dataset` to handle data generation and hold the true parameters (`w1` and `b1`).\n",
    "\n",
    "[Here](https://pytorch.org/docs/stable/data.html) is some basic information on the class `torch.utils.data.Dataset`.\n",
    "\n",
    "Please take a look at the code defining this class."
   ]
  },
  {
   "cell_type": "code",
   "execution_count": 16,
   "id": "b1ccab",
   "metadata": {
    "collapsed": false,
    "slideshow": {
     "slide_type": "subslide"
    }
   },
   "outputs": [
   ],
   "source": [
    "import torch\n",
    "\n",
    "class LinearRegressionDataset(torch.utils.data.Dataset):\n",
    "    \"\"\"\n",
    "  Custom Dataset class for generating linear regression data.\n",
    "\n",
    "  This class inherits from `torch.utils.data.Dataset` and provides methods\n",
    "  to generate data points for training a linear regression model.\n",
    "  \"\"\"\n",
    "\n",
    "    def __init__(self, n, w1, b1, standev=0.01):\n",
    "        \"\"\"\n",
    "    Initializes the dataset with the following parameters:\n",
    "\n",
    "    - n (int): Number of data points to generate.\n",
    "    - w1 (torch.Tensor): True weight vector for the linear model.\n",
    "    - b1 (float): True bias term for the linear model.\n",
    "    - standev (float, optional): Standard deviation of the noise added \n",
    "                                  to the data (default: 0.01).\n",
    "    \"\"\"\n",
    "        self.n = n\n",
    "        self.w1 = w1\n",
    "        self.b1 = b1\n",
    "        self.standev = standev\n",
    "\n",
    "    def __len__(self):\n",
    "        \"\"\"\n",
    "    Returns the total number of data points in the dataset.\n",
    "    \"\"\"\n",
    "        return self.n\n",
    "\n",
    "    def __getitem__(self, idx):\n",
    "        \"\"\"\n",
    "    Returns a single data point (X, y) at the specified index.\n",
    "\n",
    "    - idx (int): Index of the data point to be retrieved.\n",
    "\n",
    "    Returns:\n",
    "      - X (torch.Tensor): A tensor representing a single data point (feature vector).\n",
    "      - y (torch.Tensor): A tensor representing the corresponding target value.\n",
    "    \"\"\"\n",
    "        X = torch.randn(1, len(self.w1))  # Generate random feature vector\n",
    "        noise = torch.randn(1, 1) * self.standev  # Generate random noise\n",
    "        y = torch.matmul(X, self.w1.reshape(\n",
    "            (-1, 1))) + self.b1 + noise  # Calculate target value\n",
    "        return X, y"
   ]
  },
  {
   "cell_type": "markdown",
   "id": "bff226",
   "metadata": {
    "collapsed": false,
    "slideshow": {
     "slide_type": "subslide"
    }
   },
   "source": [
    "**QUESTION 1** For this class, how many attributes (also know at fields) are there? How many methods? What does every method do?Please answer in the cell below."
   ]
  },
  {
   "cell_type": "markdown",
   "id": "9d5474",
   "metadata": {
    "collapsed": false,
    "slideshow": {
     "slide_type": "fragment"
    }
   },
   "source": [
    "Write your answer here. 3 methods 4 fields\n"
   ]
  },
  {
   "cell_type": "markdown",
   "id": "a22756",
   "metadata": {
    "collapsed": false,
    "slideshow": {
     "slide_type": "subslide"
    }
   },
   "source": [
   ]
  },
  {
   "cell_type": "markdown",
   "id": "124a9a",
   "metadata": {
    "collapsed": false,
    "slideshow": {
     "slide_type": "subslide"
    }
   },
   "source": [
    "**QUESTION 2** Write a **Pytorch** code snippet that demonstrates how to declare, initialize, and use the methods in the `LinearRegressionDataset` class."
   ]
  },
  {
   "cell_type": "code",
   "execution_count": 17,
   "id": "fb2983",
   "metadata": {
    "collapsed": false,
    "slideshow": {
     "slide_type": "subslide"
    }
   },
   "outputs": [
    {
     "name": "stdout",
     "output_type": "stream",
     "text": [
      "Length of dataset:  1000\n",
      "Items at index 100:  (tensor([[-0.3042, -1.2328]]), tensor([[-0.7471]]))\n"
     ]
    }
   ],
   "source": [
    "# write you answer here.\n",
    "n = 1000\n",
    "w1 = torch.tensor([-2.0,1.5])\n",
    "b1 = 0.5\n",
    "standev = 0.01\n",
    "\n",
    "dataset = LinearRegressionDataset(n,w1,b1,standev)\n",
    "\n",
    "length = dataset.__len__()\n",
    "print(\"Length of dataset: \",length)\n",
    "\n",
    "xitem = dataset.__getitem__(100)\n",
    "print(\"Items at index 100: \",xitem)\n",
    "\n",
    "for x in range(dataset.__len__()):\n",
    "    xitem = dataset.__getitem__(x)\n"
   ]
  },
  {
   "cell_type": "markdown",
   "id": "80223f",
   "metadata": {
    "collapsed": false,
    "slideshow": {
     "slide_type": "subslide"
    }
   },
   "source": [
    "**Explanation**\n",
    "\n",
    "dataset.**len**() directly calls the **len** method to get the dataset's length.\n",
    "\n",
    "dataset.**getitem**(500) directly calls the **getitem** method to retrieve the data point at index 500.\n",
    "\n",
    "The for loop iterates over the dataset's length using dataset.**len**() and retrieves data points using dataset.**getitem**(i).\n",
    "\n",
    "<div class=\"alert alert-block alert-success\">\n",
    "<b>NOTE</b> While it's generally more common to use the shorthand syntax (e.g., len(dataset), dataset[i]), directly calling the methods can be useful in specific scenarios, such as when you need to override or customize these methods in a subclass.\n",
    "</div>"
   ]
  },
  {
   "cell_type": "markdown",
   "id": "d7f338",
   "metadata": {
    "collapsed": false,
    "slideshow": {
     "slide_type": "slide"
    }
   },
   "source": [
    "### Linear Model\n",
    "\n",
    "for our linear model, we will create a classnamed `LinearRegressionModel` that uses features from `torch.nn.azyLinear` to represent the linear model with a single `nn.LazyLinear` layer.\n",
    "\n",
    "[Here](https://pytorch.org/docs/stable/generated/torch.nn.LazyLinear.html) is some basic information on the class `nn.LazyLinear layer`.\n",
    "\n",
    "Please take a look at the code defining this class.\n",
    "\n",
    "Note that we directly inherit from `nn.LazyLinear`.\n",
    "\n",
    "Let's briefly understand `nn.LazyLinear`. It's a lazy module that delays the creation of parameters until the first forward pass. This can be beneficial in certain scenarios, especially when you're unsure about the input dimensions beforehand."
   ]
  },
  {
   "cell_type": "code",
   "execution_count": 18,
   "id": "90e83b",
   "metadata": {
    "collapsed": false,
    "slideshow": {
     "slide_type": "subslide"
    }
   },
   "outputs": [
   ],
   "source": [
    "\n",
    "class LinearRegressionModel(nn.Module):\n",
    "    \"\"\"\n",
    "    Linear regression model using nn.LazyLinear for lazy parameter initialization.\n",
    "    \"\"\"\n",
    "\n",
    "    def __init__(self, input_features, output_features=1):\n",
    "        \"\"\"\n",
    "        Initializes the linear regression model.\n",
    "\n",
    "        Args:\n",
    "            input_features (int): Number of input features.\n",
    "            output_features (int, optional): Number of output features (default: 1).\n",
    "        \"\"\"\n",
    "        super().__init__()\n",
    "        self.linear = nn.LazyLinear(output_features)\n",
    "\n",
    "    def forward(self, X):\n",
    "        \"\"\"\n",
    "        Forward pass through the linear model.\n",
    "\n",
    "        Args:\n",
    "            X (torch.Tensor): Input tensor.\n",
    "\n",
    "        Returns:\n",
    "            torch.Tensor: Output tensor.\n",
    "        \"\"\"\n",
    "        return self.linear(X)"
   ]
  },
  {
   "cell_type": "markdown",
   "id": "af6a3c",
   "metadata": {
    "collapsed": false,
    "slideshow": {
     "slide_type": "subslide"
    }
   },
   "source": [
    "**QUESTION 3** For this class, how many attributes (also known at fields) are there? How many methods? What does every method do?Please answer in the cell below."
   ]
  },
  {
   "cell_type": "markdown",
   "id": "6d583b",
   "metadata": {
    "collapsed": false,
    "slideshow": {
     "slide_type": "subslide"
    }
   },
   "source": [
    "Answer here\n",
    "\n",
    "**Fields** \n",
    "\n",
    "3\n"
   ]
  },
  {
   "cell_type": "markdown",
   "id": "bed94c",
   "metadata": {
    "collapsed": false,
    "slideshow": {
     "slide_type": "subslide"
    }
   },
   "source": [
    "Answer here\n",
    "\n",
    "**Methods** \n",
    "\n",
    "2\n"
   ]
  },
  {
   "cell_type": "markdown",
   "id": "ce358a",
   "metadata": {
    "collapsed": false,
    "slideshow": {
     "slide_type": "subslide"
    }
   },
   "source": [
   ]
  },
  {
   "cell_type": "markdown",
   "id": "b6f032",
   "metadata": {
    "collapsed": false,
    "slideshow": {
     "slide_type": "subslide"
    }
   },
   "source": [
    "**QUESTION 4** Write a **Pytorch** code snippet that demonstrates how to declare, initialize, and use the methods in the `LinearRegressionModel` class."
   ]
  },
  {
   "cell_type": "code",
   "execution_count": 19,
   "id": "d10096",
   "metadata": {
    "collapsed": false,
    "slideshow": {
     "slide_type": "subslide"
    }
   },
   "outputs": [
    {
     "name": "stdout",
     "output_type": "stream",
     "text": [
      "Output: tensor([[ 0.2590],\n",
      "        [-0.2257],\n",
      "        [ 0.1091],\n",
      "        [-0.6540],\n",
      "        [ 0.3766],\n",
      "        [ 0.5023],\n",
      "        [-0.0625],\n",
      "        [ 0.3945],\n",
      "        [ 0.0442],\n",
      "        [-0.4084]], grad_fn=<AddmmBackward0>)\n",
      "Shape of y_hat: torch.Size([10, 1])\n",
      "Weight: Parameter containing:\n",
      "tensor([[-0.3309,  0.2289]], requires_grad=True)\n",
      "Bias: Parameter containing:\n",
      "tensor([-0.0441], requires_grad=True)\n",
      "Output with the new input dimensions: tensor([[ 0.5168],\n",
      "        [ 0.0795],\n",
      "        [ 0.6253],\n",
      "        [-0.6816],\n",
      "        [-0.1833]], grad_fn=<AddmmBackward0>)\n",
      "Shape of y_hat_new: torch.Size([5, 1])\n"
     ]
    }
   ],
   "source": [
    "#Write your example here.\n",
    "input_features = 2\n",
    "model = LinearRegressionModel(input_features)\n",
    "\n",
    "X = torch.randn(10,input_features)\n",
    "\n",
    "y_hat = model(X)\n",
    "\n",
    "print(\"Output:\", y_hat)\n",
    "print(\"Shape of y_hat:\", y_hat.size())\n",
    "\n",
    "model.eval()\n",
    "\n",
    "weight = model.linear.weight\n",
    "bias = model.linear.bias\n",
    "print(\"Weight:\", weight)\n",
    "print(\"Bias:\", bias)\n",
    "\n",
    "X_new = torch.randn(5, 2)\n",
    "y_hat_new = model(X_new)\n",
    "print(\"Output with the new input dimensions:\", y_hat_new)\n",
    "print(\"Shape of y_hat_new:\", y_hat_new.shape)"
   ]
  },
  {
   "cell_type": "markdown",
   "id": "7bb172",
   "metadata": {
    "collapsed": false,
    "slideshow": {
     "slide_type": "slide"
    }
   },
   "source": [
    "### Loss Function\n",
    "\n",
    "We create a wrapper class named `MSELossWrapper` that encapsulates the `nn.MSELoss` function.\n",
    "\n",
    "We recall first what is a wrapper.\n",
    "\n",
    "---\n",
    "\n",
    "**DEFINITION Python Wrappers**\n",
    "\n",
    "Python wrappers are functions or classes that can encapsulate, or “wrap,” the behavior of another function.\n",
    "\n",
    "Wrappers allow an existing function to be modified or extended without changing its core source code.Common applications include monitoring the runtime of function calls or debugging other functions.\n",
    "\n",
    "---"
   ]
  },
  {
   "cell_type": "markdown",
   "id": "1bbfc1",
   "metadata": {
    "collapsed": false
   },
   "source": [
    "Please take a look at the code below:"
   ]
  },
  {
   "cell_type": "code",
   "execution_count": 20,
   "id": "b40163",
   "metadata": {
    "collapsed": false,
    "slideshow": {
     "slide_type": "subslide"
    }
   },
   "outputs": [
   ],
   "source": [
    "class MSELossWrapper:\n",
    "    \"\"\"\n",
    "  Wrapper class for nn.MSELoss.\n",
    "\n",
    "  This class encapsulates the `nn.MSELoss` function, providing a simplified interface\n",
    "  and potentially additional functionalities.\n",
    "  \"\"\"\n",
    "\n",
    "    def __init__(self):\n",
    "        \"\"\"\n",
    "    Initializes the MSELossWrapper.\n",
    "    \"\"\"\n",
    "        self.criterion = nn.MSELoss()  # Create an instance of nn.MSELoss\n",
    "\n",
    "    def __call__(self, y_hat, y):\n",
    "        \"\"\"\n",
    "    Calls the encapsulated MSELoss function.\n",
    "\n",
    "    Args:\n",
    "      y_hat (torch.Tensor): Predicted values.\n",
    "      y (torch.Tensor): Target values.\n",
    "\n",
    "    Returns:\n",
    "      torch.Tensor: Calculated mean squared error loss.\n",
    "    \"\"\"\n",
    "        return self.criterion(y_hat,\n",
    "                              y)  # Call the encapsulated MSELoss function"
   ]
  },
  {
   "cell_type": "markdown",
   "id": "819b39",
   "metadata": {
    "collapsed": false,
    "slideshow": {
     "slide_type": "subslide"
    }
   },
   "source": [
    "**Explanation**\n",
    "\n",
    "- Encapsulation: The `MSELossWrapper` class encapsulates the `nn.MSELoss` function within its self.criterion attribute.\n",
    "\n",
    "- Simplified Interface: The `__call__` method provides a simplified interface for using the loss function. You can call it directly on an instance of `MSELossWrapper`, just like calling a function.\n",
    "\n",
    "- Potential for Additional Features: While this basic wrapper class simply calls the encapsulated function, you could extend it to add features like:\n",
    "  - Logging loss values\n",
    "    - Applying regularization\n",
    "    - Implementing custom reduction strategies\n",
    "- By using a wrapper class, you can:\n",
    "  - Improve code readability: The wrapper class provides a more meaningful name and interface for the loss function.\n",
    "    - Add flexibility: You can customize the wrapper class to suit your specific needs.\n",
    "    - Maintain modularity: The wrapper class can be reused in different parts of your code."
   ]
  },
  {
   "cell_type": "markdown",
   "id": "431103",
   "metadata": {
    "collapsed": false,
    "slideshow": {
     "slide_type": "subslide"
    }
   },
   "source": [
    "**QUESTION 5**\n",
    "\n",
    "How many methods and fields are in the class `MSELossWrapper`? Please answer in the cell below."
   ]
  },
  {
   "cell_type": "markdown",
   "id": "aca940",
   "metadata": {
    "collapsed": false,
    "slideshow": {
     "slide_type": "subslide"
    }
   },
   "source": [
    "Two methods, no fields.\n"
   ]
  },
  {
   "cell_type": "markdown",
   "id": "4a6bcf",
   "metadata": {
    "collapsed": false
   },
   "source": [
   ]
  },
  {
   "cell_type": "markdown",
   "id": "6482ce",
   "metadata": {
    "collapsed": false,
    "slideshow": {
     "slide_type": "subslide"
    }
   },
   "source": [
    "**QUESTION 6**\n",
    "\n",
    "Write a **Pytorch** code snippet that demonstrates how to declare, initialize, and use the methods in the `MSELossWrapper` class."
   ]
  },
  {
   "cell_type": "code",
   "execution_count": 21,
   "id": "2c4c7f",
   "metadata": {
    "collapsed": false,
    "slideshow": {
     "slide_type": "subslide"
    }
   },
   "outputs": [
    {
     "name": "stdout",
     "output_type": "stream",
     "text": [
      "Calculated loss: tensor(0.6903)\n"
     ]
    }
   ],
   "source": [
    "# Write your answer here\n",
    "loss_wrapper = MSELossWrapper()\n",
    "\n",
    "y_hat = torch.randn(5, 1)\n",
    "y = torch.randn(5, 1)\n",
    "\n",
    "loss = loss_wrapper(y_hat, y)\n",
    "print(\"Calculated loss:\", loss)"
   ]
  },
  {
   "cell_type": "markdown",
   "id": "284869",
   "metadata": {
    "collapsed": false,
    "slideshow": {
     "slide_type": "slide"
    }
   },
   "source": [
    "### Optimizer\n",
    "\n",
    "We create a wrapper class named `SGDOptimizer` that encapsulates the `torch.optim.SGD optimizer`.\n",
    "\n",
    "Please take a look at the code defining this class."
   ]
  },
  {
   "cell_type": "code",
   "execution_count": 22,
   "id": "b31542",
   "metadata": {
    "collapsed": false,
    "slideshow": {
     "slide_type": "subslide"
    }
   },
   "outputs": [
   ],
   "source": [
    "class SGDOptimizer:\n",
    "    \"\"\"\n",
    "  Wrapper class for torch.optim.SGD.\n",
    "\n",
    "  This class encapsulates the `torch.optim.SGD` optimizer, providing a simplified interface\n",
    "  and potentially additional functionalities.\n",
    "  \"\"\"\n",
    "\n",
    "    def __init__(self, model_params, lr=0.01):\n",
    "        \"\"\"\n",
    "    Initializes the SGDOptimizer.\n",
    "\n",
    "    Args:\n",
    "      model_params (iterable): An iterable containing the model parameters to be optimized.\n",
    "      lr (float, optional): Learning rate for the optimizer (default: 0.01).\n",
    "    \"\"\"\n",
    "        self.optimizer = torch.optim.SGD(\n",
    "            model_params, lr=lr)  # Create an instance of SGD optimizer\n",
    "\n",
    "    def zero_grad(self):\n",
    "        \"\"\"\n",
    "    Zeros the gradients of the optimized parameters.\n",
    "    \"\"\"\n",
    "        self.optimizer.zero_grad()\n",
    "\n",
    "    def step(self):\n",
    "        \"\"\"\n",
    "    Performs a single optimization step, updating the model parameters.\n",
    "    \"\"\"\n",
    "        self.optimizer.step()"
   ]
  },
  {
   "cell_type": "markdown",
   "id": "721add",
   "metadata": {
    "collapsed": false,
    "slideshow": {
     "slide_type": "subslide"
    }
   },
   "source": [
    "**Explanation**\n",
    "\n",
    "- Encapsulation: The `SGDOptimizer` class encapsulates the `torch.optim.SGD` optimizer within its self.optimizer attribute.\n",
    "\n",
    "- Simplified Interface: The `zero_grad` and `step` methods provide a simplified interface for using the optimizer.\n",
    "\n",
    "- Potential for Additional Features: While this basic wrapper class simply calls the encapsulated functions, you could extend it to add features like:\n",
    "  - Logging optimization progress\n",
    "    - Implementing custom learning rate schedules\n",
    "    - Applying gradient clipping\n"
   ]
  },
  {
   "cell_type": "markdown",
   "id": "472d21",
   "metadata": {
    "collapsed": false,
    "slideshow": {
     "slide_type": "subslide"
    }
   },
   "source": [
    "By using a wrapper class, you can:\n",
    "\n",
    "- Improve code readability: The wrapper class provides a more meaningful name and interface for the optimizer.\n",
    "\n",
    "- Add flexibility: You can customize the wrapper class to suit your specific needs.\n",
    "\n",
    "- Maintain modularity: The wrapper class can be reused in different parts of your code."
   ]
  },
  {
   "cell_type": "markdown",
   "id": "6e57c9",
   "metadata": {
    "collapsed": false,
    "slideshow": {
     "slide_type": "subslide"
    }
   },
   "source": [
    "**QUESTION 7**\n",
    "\n",
    "How many methods and fields are in the class `SGDOptimizer`? What do they do? Please answer in the cell below."
   ]
  },
  {
   "cell_type": "markdown",
   "id": "451508",
   "metadata": {
    "collapsed": false,
    "slideshow": {
     "slide_type": "subslide"
    }
   },
   "source": [
    "3 methods 0 fields\n"
   ]
  },
  {
   "cell_type": "markdown",
   "id": "9bad11",
   "metadata": {
    "collapsed": false,
    "slideshow": {
     "slide_type": "subslide"
    }
   },
   "source": [
   ]
  },
  {
   "cell_type": "markdown",
   "id": "a5bf34",
   "metadata": {
    "collapsed": false,
    "slideshow": {
     "slide_type": "subslide"
    }
   },
   "source": [
    "**QUESTION 8**\n",
    "\n",
    "Write a **Pytorch** code snippet that demonstrates how to declare, initialize, and use all the methods in the  `SGDOptimizer` class."
   ]
  },
  {
   "cell_type": "code",
   "execution_count": 23,
   "id": "08388d",
   "metadata": {
    "collapsed": false,
    "slideshow": {
     "slide_type": "subslide"
    }
   },
   "outputs": [
   ],
   "source": [
    "#Write your code here\n",
    "\n",
    "num_epochs = 1000\n",
    "batch_size = 32\n",
    "lr = 0.01\n",
    "   \n",
    "dataloader = torch.utils.data.DataLoader(dataset, batch_size)\n",
    "loss_wrapper = MSELossWrapper()\n",
    "\n",
    "model.train()\n",
    "    \n",
    "optimizer = SGDOptimizer(model.linear.parameters(), lr=0.01)\n",
    "    \n",
    "batchX, batchy = next(iter(dataloader))\n",
    "    \n",
    "optimizer.zero_grad()\n",
    "    \n",
    "y_hat = model(batchX)\n",
    "    \n",
    "loss = loss_wrapper(y_hat, batchy)\n",
    "\n",
    "loss.backward()\n",
    "    \n",
    "optimizer.step()\n"
   ]
  },
  {
   "cell_type": "markdown",
   "id": "1f89c1",
   "metadata": {
    "collapsed": false
   },
   "source": [
    "\n",
    "**Usage in Training Loop**\n",
    "\n",
    "* Within your training loop:\n",
    "\t* Clear gradients using optimizer.zero_grad().\n",
    "    * Backpropagate gradients using loss.backward().\n",
    "    * Update model parameters using optimizer.step()."
   ]
  },
  {
   "cell_type": "markdown",
   "id": "72e81c",
   "metadata": {
    "collapsed": false,
    "slideshow": {
     "slide_type": "slide"
    }
   },
   "source": [
    "### Training Loop\n",
    "\n",
    "Now that we have defined all the important classes for the encapsulation of our linear regression neural network, let us use these classes to run the training of the linear regression neural network with the following parameters:\n",
    "\n",
    "| Type | Class | Variable |\n",
    "|:--------:|:--------:|:--------:|\n",
    "|  Data (`X,y`)   |  `LinearRegressionDataSet`  |  `dataset`   |\n",
    "| Data Loader | `torch.utils.data.DataLoader` | `dataloader` |\n",
    "|  Model   |  `LinearRegressionModel`  |  `model`   |\n",
    "|  Loss   |  `MSELossWrapper`   |  `loss_fn`   |\n",
    "| SGD Optimization | `SGDOptimizer` | optimizer |\n"
   ]
  },
  {
   "cell_type": "markdown",
   "id": "cd53f1",
   "metadata": {
    "collapsed": false,
    "slideshow": {
     "slide_type": "subslide"
    }
   },
   "source": [
    "**ADDITIONAL EXPLANATION**\n",
    "\n",
    "1. **Data**: The data info `X`, `y` is transformed into the `dataloader` iterator that generates our batches. This si the same data set as before.\n",
    "\n",
    "2. the **learning rate** `lr` is the same as before.\n",
    "3. The number of **epochs**, `epochs` which the total number of times that we will iterate over all the data on the batches is the same as before.\n",
    "\n",
    "![image](training2.png)"
   ]
  },
  {
   "cell_type": "code",
   "execution_count": 24,
   "id": "dad025",
   "metadata": {
    "collapsed": false,
    "slideshow": {
     "slide_type": "subslide"
    }
   },
   "outputs": [
    {
     "data": {
      "image/png": "[encoded data removed]",
      "text/plain": [
       "<Figure size 1200x700 with 1 Axes>"
      ]
     },
     "execution_count": 24,
     "metadata": {
      "image/png": {
       "height": 602,
       "width": 996
      }
     },
     "output_type": "execute_result"
    },
    {
     "name": "stdout",
     "output_type": "stream",
     "text": [
      "Final Values of parameters of the linear neural network\n",
      "Parameter containing:\n",
      "tensor([[ 1.9965, -3.3948]], requires_grad=True)\n",
      "Parameter containing:\n",
      "tensor([4.1928], requires_grad=True)\n",
      "Target Values of the Parameters\n",
      "\n",
      "target value of w: tensor([ 2.0000, -3.4000]) target value of b: 4.2\n"
     ]
    }
   ],
   "source": [
    "\n",
    "#####DEFINING PARAMETERS###########################\n",
    "n = 2000  #Size of X\n",
    "#True parameters to be used to generate the dataset\n",
    "w1 = torch.tensor([2, -3.4])\n",
    "b1 = 4.2\n",
    "batch_size=32\n",
    "###################################################\n",
    "##Create dataset##\n",
    "dataset = LinearRegressionDataset(n, w1, b1)\n",
    "# This line creates a custom dataset class that generates linear regression data points.\n",
    "# It takes parameters 'n' (number of data points), 'w1' (true weight vector), and 'b1' (true bias term).\n",
    "###################################################\n",
    "##Create dataloader**\n",
    "dataloader = torch.utils.data.DataLoader(dataset, batch_size)\n",
    "# This line creates a data loader that efficiently iterates over the dataset in batches.\n",
    "# 'batch_size' specifies the number of data points processed together in each iteration.\n",
    "###################################################\n",
    "# Create model\n",
    "model = LinearRegressionModel(len(w1))\n",
    "# This line creates the linear regression model using the LinearRegressionModel class.\n",
    "# It takes the length of the weight vector ('len(w1)') as input to define the model architecture.\n",
    "###################################################\n",
    "##Create loss function##\n",
    "loss_fn = MSELossWrapper()\n",
    "# This line creates an instance of the MSELossWrapper class. This class encapsulates the\n",
    "# PyTorch mean squared error loss function ('nn.MSELoss') and provides a simplified interface.\n",
    "###################################################\n",
    "##Create optimizer##\n",
    "optimizer = SGDOptimizer(model.parameters())\n",
    "# This line creates an instance of the SGDOptimizer class. This class encapsulates the\n",
    "# PyTorch SGD optimizer ('torch.optim.SGD') and provides a simplified interface for updating\n",
    "# the model parameters during training. It takes the model parameters retrieved by 'model.parameters()' as input.\n",
    "###################################################\n",
    "##Training loop##\n",
    "total_loss = []\n",
    "for epoch in range(max_epochs):\n",
    "  loss_value = 0.0\n",
    "  for batch_idx, (batchX, batchy) in enumerate(dataloader):\n",
    "    optimizer.zero_grad()\n",
    "    # Clear the gradients accumulated from the previous iteration\n",
    "\n",
    "    y_hat = model(batchX)\n",
    "    # Perform the forward pass of the model on the current batch (batchX) to get predictions (y_hat)\n",
    "\n",
    "    loss = loss_fn(y_hat, batchy)\n",
    "    # Calculate the loss between the predictions (y_hat) and the true targets (batchy) using the loss function\n",
    "\n",
    "    loss.backward()\n",
    "    # Backpropagate the loss to calculate gradients with respect to the model parameters\n",
    "\n",
    "    optimizer.step()\n",
    "    # Update the model parameters based on the calculated gradients and the learning rate\n",
    "\n",
    "    loss_value += loss.item()\n",
    "  epoch_loss = loss_value / len(dataloader)\n",
    "  total_loss.append(epoch_loss)\n",
    "\n",
    "###################################################\n",
    "##Plotting Error**\n",
    "# we plot now the graph of total_loss values against the epochs.\n",
    "plt.plot(total_loss, label='Training Loss')\n",
    "plt.xlabel('Epoch')\n",
    "plt.ylabel('Loss')\n",
    "plt.legend()\n",
    "plt.show()\n",
    "###################################################\n",
    "##Print final parameters$$\n",
    "print(\"Final Values of parameters of the linear neural network\")\n",
    "for parameter in model.parameters():\n",
    "  print(parameter)\n",
    "#We compare tis to the target values of the parameters.\n",
    "print(\"Target Values of the Parameters\\n\")\n",
    "print(\"target value of w:\", w1, \"target value of b:\", b1)\n",
    "# Print the final learned values of the model parameters (weights and bias) and compare them \n",
    "# to the target values (w1 and b1) used for generating the data."
   ]
  },
  {
   "cell_type": "markdown",
   "id": "e313f8",
   "metadata": {
    "collapsed": false,
    "slideshow": {
     "slide_type": "subslide"
    }
   },
   "source": [
    "**QUESTION 9**\n",
    "\n",
    "We might ask which number of epochs (`max-epochs`) is the \"optimal\" for our training, in the sense of being the minimal number that obtains a meaningful approximation.\n",
    "\n",
    "Typically, you want to balance between underfitting (too few epochs) and overfitting (too many epochs). The best epoch number is usually just before the loss starts to plateau or increase due to overfitting.\n",
    "\n",
    "Please run the training with the number of epochs from 4 to 10 and plot the final errors. Can you guess from that plot what is an optimal epoch number?"
   ]
  },
  {
   "cell_type": "code",
   "execution_count": 25,
   "id": "980dd9",
   "metadata": {
    "collapsed": false,
    "slideshow": {
     "slide_type": "subslide"
    }
   },
   "outputs": [
    {
     "name": "stdout",
     "output_type": "stream",
     "text": [
      "Epoch loss:  13.934555628943064\n",
      "Epoch loss:  1.059441620395297\n"
     ]
    },
    {
     "name": "stdout",
     "output_type": "stream",
     "text": [
      "Epoch loss:  0.08222721017424077\n",
      "Epoch loss:  0.006242701999976167\n"
     ]
    },
    {
     "name": "stdout",
     "output_type": "stream",
     "text": [
      "Epoch loss:  0.0006409213367280447\n"
     ]
    },
    {
     "data": {
      "image/png": "[encoded data removed]",
      "text/plain": [
       "<Figure size 1200x700 with 1 Axes>"
      ]
     },
     "execution_count": 25,
     "metadata": {
      "image/png": {
       "height": 602,
       "width": 996
      }
     },
     "output_type": "execute_result"
    },
    {
     "name": "stdout",
     "output_type": "stream",
     "text": [
      "Final Values of parameters of the linear neural network\n",
      "Parameter containing:\n",
      "tensor([[ 1.9968, -3.3931]], requires_grad=True)\n",
      "Parameter containing:\n",
      "tensor([4.1915], requires_grad=True)\n",
      "Target Values of the Parameters\n",
      "\n",
      "target value of w: tensor([ 2.0000, -3.4000]) target value of b: 4.2\n"
     ]
    }
   ],
   "source": [
    "#Write your code here\n",
    "\n",
    "#####DEFINING PARAMETERS###########################\n",
    "n = 2000  #Size of X\n",
    "#True parameters to be used to generate the dataset\n",
    "w1 = torch.tensor([2, -3.4])\n",
    "b1 = 4.2\n",
    "batch_size=32\n",
    "###################################################\n",
    "##Create dataset##\n",
    "dataset = LinearRegressionDataset(n, w1, b1)\n",
    "# This line creates a custom dataset class that generates linear regression data points.\n",
    "# It takes parameters 'n' (number of data points), 'w1' (true weight vector), and 'b1' (true bias term).\n",
    "###################################################\n",
    "##Create dataloader**\n",
    "dataloader = torch.utils.data.DataLoader(dataset, batch_size)\n",
    "# This line creates a data loader that efficiently iterates over the dataset in batches.\n",
    "# 'batch_size' specifies the number of data points processed together in each iteration.\n",
    "###################################################\n",
    "# Create model\n",
    "model = LinearRegressionModel(len(w1))\n",
    "# This line creates the linear regression model using the LinearRegressionModel class.\n",
    "# It takes the length of the weight vector ('len(w1)') as input to define the model architecture.\n",
    "###################################################\n",
    "##Create loss function##\n",
    "loss_fn = MSELossWrapper()\n",
    "# This line creates an instance of the MSELossWrapper class. This class encapsulates the\n",
    "# PyTorch mean squared error loss function ('nn.MSELoss') and provides a simplified interface.\n",
    "###################################################\n",
    "##Create optimizer##\n",
    "optimizer = SGDOptimizer(model.parameters())\n",
    "# This line creates an instance of the SGDOptimizer class. This class encapsulates the\n",
    "# PyTorch SGD optimizer ('torch.optim.SGD') and provides a simplified interface for updating\n",
    "# the model parameters during training. It takes the model parameters retrieved by 'model.parameters()' as input.\n",
    "###################################################\n",
    "##Training loop##\n",
    "total_loss = []\n",
    "for epoch in range(max_epochs):\n",
    "  loss_value = 0.0\n",
    "  for batch_idx, (batchX, batchy) in enumerate(dataloader):\n",
    "    optimizer.zero_grad()\n",
    "    # Clear the gradients accumulated from the previous iteration\n",
    "\n",
    "    y_hat = model(batchX)\n",
    "    # Perform the forward pass of the model on the current batch (batchX) to get predictions (y_hat)\n",
    "\n",
    "    loss = loss_fn(y_hat, batchy)\n",
    "    # Calculate the loss between the predictions (y_hat) and the true targets (batchy) using the loss function\n",
    "\n",
    "    loss.backward()\n",
    "    # Backpropagate the loss to calculate gradients with respect to the model parameters\n",
    "\n",
    "    optimizer.step()\n",
    "    # Update the model parameters based on the calculated gradients and the learning rate\n",
    "\n",
    "    loss_value += loss.item()\n",
    "  epoch_loss = loss_value / len(dataloader)\n",
    "  print(\"Epoch loss: \",epoch_loss)\n",
    "  total_loss.append(epoch_loss)\n",
    "\n",
    "###################################################\n",
    "##Plotting Error**\n",
    "# we plot now the graph of total_loss values against the epochs.\n",
    "plt.plot(total_loss, label='Training Loss')\n",
    "plt.xlabel('Epoch')\n",
    "plt.ylabel('Loss')\n",
    "plt.legend()\n",
    "plt.show()\n",
    "###################################################\n",
    "##Print final parameters$$\n",
    "print(\"Final Values of parameters of the linear neural network\")\n",
    "for parameter in model.parameters():\n",
    "  print(parameter)\n",
    "#We compare tis to the target values of the parameters.\n",
    "print(\"Target Values of the Parameters\\n\")\n",
    "print(\"target value of w:\", w1, \"target value of b:\", b1)\n",
    "# Print the final learned values of the model parameters (weights and bias) and compare them \n",
    "# to the target values (w1 and b1) used for generating the data."
   ]
  },
  {
   "cell_type": "markdown",
   "id": "32421b",
   "metadata": {
    "collapsed": false
   },
   "source": [
    "The optimal epochs is 1 there are greatly diminishing returns after that.\n"
   ]
  },
  {
   "cell_type": "markdown",
   "id": "e3ee7d",
   "metadata": {
    "collapsed": false
   },
   "source": [
    "**END OF WORKSHEET**\n",
    "\n",
    "Make sure that you answered all the questions on time. This completed `Jupyter Notebook` will be collected and graded. \n",
    "\n",
    "Once the `Jupyter Notebook` is collected it can not be modified."
   ]
  },
  {
   "cell_type": "code",
   "execution_count": 0,
   "id": "ada2eb",
   "metadata": {
    "collapsed": false
   },
   "outputs": [
   ],
   "source": [
   ]
  }
 ],
 "metadata": {
  "kernelspec": {
   "argv": [
    "/usr/bin/python3",
    "-m",
    "ipykernel",
    "--HistoryManager.enabled=False",
    "--matplotlib=inline",
    "-c",
    "%config InlineBackend.figure_formats = set(['retina'])\nimport matplotlib; matplotlib.rcParams['figure.figsize'] = (12, 7)",
    "-f",
    "{connection_file}"
   ],
   "display_name": "Python 3 (system-wide)",
   "env": {
   },
   "language": "python",
   "metadata": {
    "cocalc": {
     "description": "Python 3 programming language",
     "priority": 100,
     "url": "https://www.python.org/"
    }
   },
   "name": "python3",
   "resource_dir": "/ext/jupyter/kernels/python3"
  },
  "language_info": {
   "codemirror_mode": {
    "name": "ipython",
    "version": 3
   },
   "file_extension": ".py",
   "mimetype": "text/x-python",
   "name": "python",
   "nbconvert_exporter": "python",
   "pygments_lexer": "ipython3",
   "version": "3.10.12"
  }
 },
 "nbformat": 4,
 "nbformat_minor": 4
}