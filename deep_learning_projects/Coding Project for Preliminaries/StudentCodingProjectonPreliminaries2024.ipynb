{
 "cells": [
  {
   "cell_type": "markdown",
   "id": "820fce",
   "metadata": {
    "collapsed": false
   },
   "source": [
    "# Jupyter Notebook Project: Understanding the Building Blocks of Neural Networks\n",
    "\n",
    "**Goal** : To explore the fundamental concepts of neural networks without constructing a full-fledged network."
   ]
  },
  {
   "cell_type": "code",
   "execution_count": 48,
   "id": "be7b93",
   "metadata": {
    "collapsed": false
   },
   "outputs": [
   ],
   "source": [
    "import torch\n",
    "import matplotlib.pyplot as plt\n",
    "import numpy as np\n",
    "from matplotlib_inline import backend_inline\n",
    "from d2l import torch as d2l\n",
    "import os\n",
    "import pandas as pd"
   ]
  },
  {
   "cell_type": "markdown",
   "id": "6db703",
   "metadata": {
    "collapsed": false
   },
   "source": [
    "## Tensor Operations:\n",
    "\n",
    "**QUESTION 1** : Create two tensors of size (3, 4), one containing only 1s and the other one containing only 2s, and perform element-wise addition, subtraction, and multiplication. Print the results."
   ]
  },
  {
   "cell_type": "code",
   "execution_count": 7,
   "id": "f3b8ce",
   "metadata": {
    "collapsed": false
   },
   "outputs": [
    {
     "name": "stdout",
     "output_type": "stream",
     "text": [
      "Tensor 1 =  tensor([[1., 1., 1., 1.],\n",
      "        [1., 1., 1., 1.],\n",
      "        [1., 1., 1., 1.]])\n",
      "Tensor 2 =  tensor([[2., 2., 2., 2.],\n",
      "        [2., 2., 2., 2.],\n",
      "        [2., 2., 2., 2.]])\n",
      "Adiidion =  tensor([[3., 3., 3., 3.],\n",
      "        [3., 3., 3., 3.],\n",
      "        [3., 3., 3., 3.]])\n",
      "Subtraction =  tensor([[-1., -1., -1., -1.],\n",
      "        [-1., -1., -1., -1.],\n",
      "        [-1., -1., -1., -1.]])\n",
      "Multiplication =  tensor([[2., 2., 2., 2.],\n",
      "        [2., 2., 2., 2.],\n",
      "        [2., 2., 2., 2.]])\n"
     ]
    }
   ],
   "source": [
    "x = torch.ones(12).reshape(3,4)\n",
    "y = torch.ones(12).reshape(3,4) * 2\n",
    "add = x+y\n",
    "sub = x-y\n",
    "mult = x*y\n",
    "print(\"Tensor 1 = \",x)\n",
    "print(\"Tensor 2 = \",y)\n",
    "\n",
    "print(\"Adiidion = \",add)\n",
    "print(\"Subtraction = \",sub)\n",
    "print(\"Multiplication = \",mult)"
   ]
  },
  {
   "cell_type": "markdown",
   "id": "7d05c9",
   "metadata": {
    "collapsed": false
   },
   "source": [
    "**QUESTION 2**: Gradient Calculation\n",
    "\n",
    "Let $\\mathbf{x}=( x_1 , x_2, x_3 , x_4)$. Use PyTorch's Autograd to calculate the gradient of the function  $y(\\mathbf{x})=x_1^2+x_2^2+x_3^2+x_4^2-x_1-x_2-x_3-x_4$ when $\\mathbf{x}=( 1,2,3,4)$. Print the gradient in your code, together with $\\mathbf{x}$."
   ]
  },
  {
   "cell_type": "code",
   "execution_count": 10,
   "id": "3edd0a",
   "metadata": {
    "collapsed": false
   },
   "outputs": [
    {
     "data": {
      "text/plain": [
       "tensor([-1.,  1.,  3.,  5.], dtype=torch.float64)"
      ]
     },
     "execution_count": 10,
     "metadata": {
     },
     "output_type": "execute_result"
    }
   ],
   "source": [
    "x = torch.arange(4, dtype=float)\n",
    "x.requires_grad_(True)\n",
    "Y = sum((x**2) - x)\n",
    "Y.backward()\n",
    "x.grad\n"
   ]
  },
  {
   "cell_type": "markdown",
   "id": "ddd1db",
   "metadata": {
    "collapsed": false
   },
   "source": [
    "**QUESTION 3** Linear Algebra Operations\n",
    "\n",
    "Define matrices:\n",
    "$$\n",
    "A=\\begin{pmatrix} 1.0 & 2.0 & 3.0 & 4.0\\\\ 5.0 & 6.0 & 7.0 & 8.0\\\\ 9.0 & 10.0 & 11.0 & 12.0\\end{pmatrix}\\\\ B=\\begin{pmatrix} -1.0 & -2.0 & -2.0 \\\\ -2.0 & -3.0 & -3.0 \\\\ -3.0 & -4.0 & -4.0 \\end{pmatrix} \n",
    "$$\n",
    "\n",
    "Perform matrix multiplication, transpose, and inversion using PyTorch tensors as follows:\n",
    "* Calculate and print $BA$ ( the product of matrix $A$ times matrix $B$).\n",
    "* Calculate and print $A^T$.\n",
    "* Reshape matrix $A^T$ so it becomes a matrix $B$ of shape $6*2$. Print the reshaped matrix.\n",
    "* find the sum of elements of $A$ along the second axis and print the result.\n",
    "* Perform element-wise addition of $B$ with the scalar 5. Print the result of the addition."
   ]
  },
  {
   "cell_type": "code",
   "execution_count": 16,
   "id": "ffc914",
   "metadata": {
    "collapsed": false
   },
   "outputs": [
    {
     "name": "stdout",
     "output_type": "stream",
     "text": [
      "A =  tensor([[ 1,  2,  3,  4],\n",
      "        [ 5,  6,  7,  8],\n",
      "        [ 9, 10, 11, 12]])\n",
      "B =  tensor([[-1, -2, -2],\n",
      "        [-2, -3, -3],\n",
      "        [-3, -4, -4]])\n",
      "B x A =  tensor([[-29, -34, -39, -44],\n",
      "        [-44, -52, -60, -68],\n",
      "        [-59, -70, -81, -92]])\n",
      "A transpose =  tensor([[ 1,  5,  9],\n",
      "        [ 2,  6, 10],\n",
      "        [ 3,  7, 11],\n",
      "        [ 4,  8, 12]])\n",
      "A transpose reshape =  tensor([[ 1,  5],\n",
      "        [ 9,  2],\n",
      "        [ 6, 10],\n",
      "        [ 3,  7],\n",
      "        [11,  4],\n",
      "        [ 8, 12]])\n",
      "A sum =  tensor([10, 26, 42])\n",
      "B scaled =  tensor([[4, 3, 3],\n",
      "        [3, 2, 2],\n",
      "        [2, 1, 1]])\n"
     ]
    }
   ],
   "source": [
    "A = torch.arange(1,13).reshape(3,4)\n",
    "B = torch.tensor([-1,-2,-2,-2,-3,-3,-3,-4,-4]).reshape(3,3)\n",
    "BA = torch.mm(B,A)\n",
    "At = A.t()\n",
    "AtReshape = At.reshape(6,2)\n",
    "Asum = torch.sum(A, dim=1)\n",
    "Bscale = B + 5\n",
    "print(\"A = \",A)\n",
    "print(\"B = \",B)\n",
    "print(\"B x A = \",BA)\n",
    "print(\"A transpose = \",At)\n",
    "print(\"A transpose reshape = \",AtReshape)\n",
    "print(\"A sum = \",Asum)\n",
    "print(\"B scaled = \",Bscale)\n"
   ]
  },
  {
   "cell_type": "markdown",
   "id": "dfb239",
   "metadata": {
    "collapsed": false
   },
   "source": [
    "**QUESTION 4** Derivatives\n",
    "\n",
    "Define a function $h(x) =(\\ln(x))^2$. Use **only** automatic differentiation to plot the graph of $f(x)$ and $f^\\prime(x)$  together for $x$ in the interval $[1,3]$."
   ]
  },
  {
   "cell_type": "code",
   "execution_count": 45,
   "id": "942a1d",
   "metadata": {
    "collapsed": false
   },
   "outputs": [
    {
     "data": {
      "image/svg+xml": "<?xml version=\"1.0\" encoding=\"utf-8\" standalone=\"no\"?>\n<!DOCTYPE svg PUBLIC \"-//W3C//DTD SVG 1.1//EN\"\n  \"http://www.w3.org/Graphics/SVG/1.1/DTD/svg11.dtd\">\n<svg xmlns:xlink=\"http://www.w3.org/1999/xlink\" width=\"252.64375pt\" height=\"183.35625pt\" viewBox=\"0 0 252.64375 183.35625\" xmlns=\"http://www.w3.org/2000/svg\" version=\"1.1\">\n <metadata>\n  <rdf:RDF xmlns:dc=\"http://purl.org/dc/elements/1.1/\" xmlns:cc=\"http://creativecommons.org/ns#\" xmlns:rdf=\"http://www.w3.org/1999/02/22-rdf-syntax-ns#\">\n   <cc:Work>\n    <dc:type rdf:resource=\"http://purl.org/dc/dcmitype/StillImage\"/>\n    <dc:date>2024-10-26T00:00:28.612350</dc:date>\n    <dc:format>image/svg+xml</dc:format>\n    <dc:creator>\n     <cc:Agent>\n      <dc:title>Matplotlib v3.7.2, https://matplotlib.org/</dc:title>\n     </cc:Agent>\n    </dc:creator>\n   </cc:Work>\n  </rdf:RDF>\n </metadata>\n <defs>\n  <style type=\"text/css\">*{stroke-linejoin: round; stroke-linecap: butt}</style>\n </defs>\n <g id=\"figure_1\">\n  <g id=\"patch_1\">\n   <path d=\"M 0 183.35625 \nL 252.64375 183.35625 \nL 252.64375 0 \nL 0 0 \nz\n\" style=\"fill: #ffffff\"/>\n  </g>\n  <g id=\"axes_1\">\n   <g id=\"patch_2\">\n    <path d=\"M 50.14375 145.8 \nL 245.44375 145.8 \nL 245.44375 7.2 \nL 50.14375 7.2 \nz\n\" style=\"fill: #ffffff\"/>\n   </g>\n   <g id=\"matplotlib.axis_1\">\n    <g id=\"xtick_1\">\n     <g id=\"line2d_1\">\n      <path d=\"M 59.021023 145.8 \nL 59.021023 7.2 \n\" clip-path=\"url(#p3a585c6f0a)\" style=\"fill: none; stroke: #b0b0b0; stroke-width: 0.8; stroke-linecap: square\"/>\n     </g>\n     <g id=\"line2d_2\">\n      <defs>\n       <path id=\"m60a3f91587\" d=\"M 0 0 \nL 0 3.5 \n\" style=\"stroke: #000000; stroke-width: 0.8\"/>\n      </defs>\n      <g>\n       <use xlink:href=\"#m60a3f91587\" x=\"59.021023\" y=\"145.8\" style=\"stroke: #000000; stroke-width: 0.8\"/>\n      </g>\n     </g>\n     <g id=\"text_1\">\n      <!-- 1.0 -->\n      <g transform=\"translate(51.06946 160.398438) scale(0.1 -0.1)\">\n       <defs>\n        <path id=\"DejaVuSans-31\" d=\"M 794 531 \nL 1825 531 \nL 1825 4091 \nL 703 3866 \nL 703 4441 \nL 1819 4666 \nL 2450 4666 \nL 2450 531 \nL 3481 531 \nL 3481 0 \nL 794 0 \nL 794 531 \nz\n\" transform=\"scale(0.015625)\"/>\n        <path id=\"DejaVuSans-2e\" d=\"M 684 794 \nL 1344 794 \nL 1344 0 \nL 684 0 \nL 684 794 \nz\n\" transform=\"scale(0.015625)\"/>\n        <path id=\"DejaVuSans-30\" d=\"M 2034 4250 \nQ 1547 4250 1301 3770 \nQ 1056 3291 1056 2328 \nQ 1056 1369 1301 889 \nQ 1547 409 2034 409 \nQ 2525 409 2770 889 \nQ 3016 1369 3016 2328 \nQ 3016 3291 2770 3770 \nQ 2525 4250 2034 4250 \nz\nM 2034 4750 \nQ 2819 4750 3233 4129 \nQ 3647 3509 3647 2328 \nQ 3647 1150 3233 529 \nQ 2819 -91 2034 -91 \nQ 1250 -91 836 529 \nQ 422 1150 422 2328 \nQ 422 3509 836 4129 \nQ 1250 4750 2034 4750 \nz\n\" transform=\"scale(0.015625)\"/>\n       </defs>\n       <use xlink:href=\"#DejaVuSans-31\"/>\n       <use xlink:href=\"#DejaVuSans-2e\" x=\"63.623047\"/>\n       <use xlink:href=\"#DejaVuSans-30\" x=\"95.410156\"/>\n      </g>\n     </g>\n    </g>\n    <g id=\"xtick_2\">\n     <g id=\"line2d_3\">\n      <path d=\"M 105.743508 145.8 \nL 105.743508 7.2 \n\" clip-path=\"url(#p3a585c6f0a)\" style=\"fill: none; stroke: #b0b0b0; stroke-width: 0.8; stroke-linecap: square\"/>\n     </g>\n     <g id=\"line2d_4\">\n      <g>\n       <use xlink:href=\"#m60a3f91587\" x=\"105.743508\" y=\"145.8\" style=\"stroke: #000000; stroke-width: 0.8\"/>\n      </g>\n     </g>\n     <g id=\"text_2\">\n      <!-- 1.5 -->\n      <g transform=\"translate(97.791946 160.398438) scale(0.1 -0.1)\">\n       <defs>\n        <path id=\"DejaVuSans-35\" d=\"M 691 4666 \nL 3169 4666 \nL 3169 4134 \nL 1269 4134 \nL 1269 2991 \nQ 1406 3038 1543 3061 \nQ 1681 3084 1819 3084 \nQ 2600 3084 3056 2656 \nQ 3513 2228 3513 1497 \nQ 3513 744 3044 326 \nQ 2575 -91 1722 -91 \nQ 1428 -91 1123 -41 \nQ 819 9 494 109 \nL 494 744 \nQ 775 591 1075 516 \nQ 1375 441 1709 441 \nQ 2250 441 2565 725 \nQ 2881 1009 2881 1497 \nQ 2881 1984 2565 2268 \nQ 2250 2553 1709 2553 \nQ 1456 2553 1204 2497 \nQ 953 2441 691 2322 \nL 691 4666 \nz\n\" transform=\"scale(0.015625)\"/>\n       </defs>\n       <use xlink:href=\"#DejaVuSans-31\"/>\n       <use xlink:href=\"#DejaVuSans-2e\" x=\"63.623047\"/>\n       <use xlink:href=\"#DejaVuSans-35\" x=\"95.410156\"/>\n      </g>\n     </g>\n    </g>\n    <g id=\"xtick_3\">\n     <g id=\"line2d_5\">\n      <path d=\"M 152.465994 145.8 \nL 152.465994 7.2 \n\" clip-path=\"url(#p3a585c6f0a)\" style=\"fill: none; stroke: #b0b0b0; stroke-width: 0.8; stroke-linecap: square\"/>\n     </g>\n     <g id=\"line2d_6\">\n      <g>\n       <use xlink:href=\"#m60a3f91587\" x=\"152.465994\" y=\"145.8\" style=\"stroke: #000000; stroke-width: 0.8\"/>\n      </g>\n     </g>\n     <g id=\"text_3\">\n      <!-- 2.0 -->\n      <g transform=\"translate(144.514432 160.398438) scale(0.1 -0.1)\">\n       <defs>\n        <path id=\"DejaVuSans-32\" d=\"M 1228 531 \nL 3431 531 \nL 3431 0 \nL 469 0 \nL 469 531 \nQ 828 903 1448 1529 \nQ 2069 2156 2228 2338 \nQ 2531 2678 2651 2914 \nQ 2772 3150 2772 3378 \nQ 2772 3750 2511 3984 \nQ 2250 4219 1831 4219 \nQ 1534 4219 1204 4116 \nQ 875 4013 500 3803 \nL 500 4441 \nQ 881 4594 1212 4672 \nQ 1544 4750 1819 4750 \nQ 2544 4750 2975 4387 \nQ 3406 4025 3406 3419 \nQ 3406 3131 3298 2873 \nQ 3191 2616 2906 2266 \nQ 2828 2175 2409 1742 \nQ 1991 1309 1228 531 \nz\n\" transform=\"scale(0.015625)\"/>\n       </defs>\n       <use xlink:href=\"#DejaVuSans-32\"/>\n       <use xlink:href=\"#DejaVuSans-2e\" x=\"63.623047\"/>\n       <use xlink:href=\"#DejaVuSans-30\" x=\"95.410156\"/>\n      </g>\n     </g>\n    </g>\n    <g id=\"xtick_4\">\n     <g id=\"line2d_7\">\n      <path d=\"M 199.18848 145.8 \nL 199.18848 7.2 \n\" clip-path=\"url(#p3a585c6f0a)\" style=\"fill: none; stroke: #b0b0b0; stroke-width: 0.8; stroke-linecap: square\"/>\n     </g>\n     <g id=\"line2d_8\">\n      <g>\n       <use xlink:href=\"#m60a3f91587\" x=\"199.18848\" y=\"145.8\" style=\"stroke: #000000; stroke-width: 0.8\"/>\n      </g>\n     </g>\n     <g id=\"text_4\">\n      <!-- 2.5 -->\n      <g transform=\"translate(191.236917 160.398438) scale(0.1 -0.1)\">\n       <use xlink:href=\"#DejaVuSans-32\"/>\n       <use xlink:href=\"#DejaVuSans-2e\" x=\"63.623047\"/>\n       <use xlink:href=\"#DejaVuSans-35\" x=\"95.410156\"/>\n      </g>\n     </g>\n    </g>\n    <g id=\"text_5\">\n     <!-- x -->\n     <g transform=\"translate(144.834375 174.076563) scale(0.1 -0.1)\">\n      <defs>\n       <path id=\"DejaVuSans-78\" d=\"M 3513 3500 \nL 2247 1797 \nL 3578 0 \nL 2900 0 \nL 1881 1375 \nL 863 0 \nL 184 0 \nL 1544 1831 \nL 300 3500 \nL 978 3500 \nL 1906 2253 \nL 2834 3500 \nL 3513 3500 \nz\n\" transform=\"scale(0.015625)\"/>\n      </defs>\n      <use xlink:href=\"#DejaVuSans-78\"/>\n     </g>\n    </g>\n   </g>\n   <g id=\"matplotlib.axis_2\">\n    <g id=\"ytick_1\">\n     <g id=\"line2d_9\">\n      <path d=\"M 50.14375 139.5 \nL 245.44375 139.5 \n\" clip-path=\"url(#p3a585c6f0a)\" style=\"fill: none; stroke: #b0b0b0; stroke-width: 0.8; stroke-linecap: square\"/>\n     </g>\n     <g id=\"line2d_10\">\n      <defs>\n       <path id=\"m888786ecbe\" d=\"M 0 0 \nL -3.5 0 \n\" style=\"stroke: #000000; stroke-width: 0.8\"/>\n      </defs>\n      <g>\n       <use xlink:href=\"#m888786ecbe\" x=\"50.14375\" y=\"139.5\" style=\"stroke: #000000; stroke-width: 0.8\"/>\n      </g>\n     </g>\n     <g id=\"text_6\">\n      <!-- 0.00 -->\n      <g transform=\"translate(20.878125 143.299219) scale(0.1 -0.1)\">\n       <use xlink:href=\"#DejaVuSans-30\"/>\n       <use xlink:href=\"#DejaVuSans-2e\" x=\"63.623047\"/>\n       <use xlink:href=\"#DejaVuSans-30\" x=\"95.410156\"/>\n       <use xlink:href=\"#DejaVuSans-30\" x=\"159.033203\"/>\n      </g>\n     </g>\n    </g>\n    <g id=\"ytick_2\">\n     <g id=\"line2d_11\">\n      <path d=\"M 50.14375 111.71264 \nL 245.44375 111.71264 \n\" clip-path=\"url(#p3a585c6f0a)\" style=\"fill: none; stroke: #b0b0b0; stroke-width: 0.8; stroke-linecap: square\"/>\n     </g>\n     <g id=\"line2d_12\">\n      <g>\n       <use xlink:href=\"#m888786ecbe\" x=\"50.14375\" y=\"111.71264\" style=\"stroke: #000000; stroke-width: 0.8\"/>\n      </g>\n     </g>\n     <g id=\"text_7\">\n      <!-- 0.25 -->\n      <g transform=\"translate(20.878125 115.511858) scale(0.1 -0.1)\">\n       <use xlink:href=\"#DejaVuSans-30\"/>\n       <use xlink:href=\"#DejaVuSans-2e\" x=\"63.623047\"/>\n       <use xlink:href=\"#DejaVuSans-32\" x=\"95.410156\"/>\n       <use xlink:href=\"#DejaVuSans-35\" x=\"159.033203\"/>\n      </g>\n     </g>\n    </g>\n    <g id=\"ytick_3\">\n     <g id=\"line2d_13\">\n      <path d=\"M 50.14375 83.925279 \nL 245.44375 83.925279 \n\" clip-path=\"url(#p3a585c6f0a)\" style=\"fill: none; stroke: #b0b0b0; stroke-width: 0.8; stroke-linecap: square\"/>\n     </g>\n     <g id=\"line2d_14\">\n      <g>\n       <use xlink:href=\"#m888786ecbe\" x=\"50.14375\" y=\"83.925279\" style=\"stroke: #000000; stroke-width: 0.8\"/>\n      </g>\n     </g>\n     <g id=\"text_8\">\n      <!-- 0.50 -->\n      <g transform=\"translate(20.878125 87.724498) scale(0.1 -0.1)\">\n       <use xlink:href=\"#DejaVuSans-30\"/>\n       <use xlink:href=\"#DejaVuSans-2e\" x=\"63.623047\"/>\n       <use xlink:href=\"#DejaVuSans-35\" x=\"95.410156\"/>\n       <use xlink:href=\"#DejaVuSans-30\" x=\"159.033203\"/>\n      </g>\n     </g>\n    </g>\n    <g id=\"ytick_4\">\n     <g id=\"line2d_15\">\n      <path d=\"M 50.14375 56.137919 \nL 245.44375 56.137919 \n\" clip-path=\"url(#p3a585c6f0a)\" style=\"fill: none; stroke: #b0b0b0; stroke-width: 0.8; stroke-linecap: square\"/>\n     </g>\n     <g id=\"line2d_16\">\n      <g>\n       <use xlink:href=\"#m888786ecbe\" x=\"50.14375\" y=\"56.137919\" style=\"stroke: #000000; stroke-width: 0.8\"/>\n      </g>\n     </g>\n     <g id=\"text_9\">\n      <!-- 0.75 -->\n      <g transform=\"translate(20.878125 59.937138) scale(0.1 -0.1)\">\n       <defs>\n        <path id=\"DejaVuSans-37\" d=\"M 525 4666 \nL 3525 4666 \nL 3525 4397 \nL 1831 0 \nL 1172 0 \nL 2766 4134 \nL 525 4134 \nL 525 4666 \nz\n\" transform=\"scale(0.015625)\"/>\n       </defs>\n       <use xlink:href=\"#DejaVuSans-30\"/>\n       <use xlink:href=\"#DejaVuSans-2e\" x=\"63.623047\"/>\n       <use xlink:href=\"#DejaVuSans-37\" x=\"95.410156\"/>\n       <use xlink:href=\"#DejaVuSans-35\" x=\"159.033203\"/>\n      </g>\n     </g>\n    </g>\n    <g id=\"ytick_5\">\n     <g id=\"line2d_17\">\n      <path d=\"M 50.14375 28.350559 \nL 245.44375 28.350559 \n\" clip-path=\"url(#p3a585c6f0a)\" style=\"fill: none; stroke: #b0b0b0; stroke-width: 0.8; stroke-linecap: square\"/>\n     </g>\n     <g id=\"line2d_18\">\n      <g>\n       <use xlink:href=\"#m888786ecbe\" x=\"50.14375\" y=\"28.350559\" style=\"stroke: #000000; stroke-width: 0.8\"/>\n      </g>\n     </g>\n     <g id=\"text_10\">\n      <!-- 1.00 -->\n      <g transform=\"translate(20.878125 32.149777) scale(0.1 -0.1)\">\n       <use xlink:href=\"#DejaVuSans-31\"/>\n       <use xlink:href=\"#DejaVuSans-2e\" x=\"63.623047\"/>\n       <use xlink:href=\"#DejaVuSans-30\" x=\"95.410156\"/>\n       <use xlink:href=\"#DejaVuSans-30\" x=\"159.033203\"/>\n      </g>\n     </g>\n    </g>\n    <g id=\"text_11\">\n     <!-- f(x) -->\n     <g transform=\"translate(14.798437 85.121094) rotate(-90) scale(0.1 -0.1)\">\n      <defs>\n       <path id=\"DejaVuSans-66\" d=\"M 2375 4863 \nL 2375 4384 \nL 1825 4384 \nQ 1516 4384 1395 4259 \nQ 1275 4134 1275 3809 \nL 1275 3500 \nL 2222 3500 \nL 2222 3053 \nL 1275 3053 \nL 1275 0 \nL 697 0 \nL 697 3053 \nL 147 3053 \nL 147 3500 \nL 697 3500 \nL 697 3744 \nQ 697 4328 969 4595 \nQ 1241 4863 1831 4863 \nL 2375 4863 \nz\n\" transform=\"scale(0.015625)\"/>\n       <path id=\"DejaVuSans-28\" d=\"M 1984 4856 \nQ 1566 4138 1362 3434 \nQ 1159 2731 1159 2009 \nQ 1159 1288 1364 580 \nQ 1569 -128 1984 -844 \nL 1484 -844 \nQ 1016 -109 783 600 \nQ 550 1309 550 2009 \nQ 550 2706 781 3412 \nQ 1013 4119 1484 4856 \nL 1984 4856 \nz\n\" transform=\"scale(0.015625)\"/>\n       <path id=\"DejaVuSans-29\" d=\"M 513 4856 \nL 1013 4856 \nQ 1481 4119 1714 3412 \nQ 1947 2706 1947 2009 \nQ 1947 1309 1714 600 \nQ 1481 -109 1013 -844 \nL 513 -844 \nQ 928 -128 1133 580 \nQ 1338 1288 1338 2009 \nQ 1338 2731 1133 3434 \nQ 928 4138 513 4856 \nz\n\" transform=\"scale(0.015625)\"/>\n      </defs>\n      <use xlink:href=\"#DejaVuSans-66\"/>\n      <use xlink:href=\"#DejaVuSans-28\" x=\"35.205078\"/>\n      <use xlink:href=\"#DejaVuSans-78\" x=\"74.21875\"/>\n      <use xlink:href=\"#DejaVuSans-29\" x=\"133.398438\"/>\n     </g>\n    </g>\n   </g>\n   <g id=\"line2d_19\">\n    <path d=\"M 59.021023 139.5 \nL 68.365522 138.490315 \nL 77.710021 135.805263 \nL 87.05451 131.849029 \nL 96.399009 126.916377 \nL 105.743508 121.226815 \nL 115.088008 114.946709 \nL 124.432507 108.204057 \nL 133.776995 101.098634 \nL 143.121495 93.709054 \nL 152.465994 86.097916 \nL 161.810482 78.315462 \nL 171.154993 70.402276 \nL 180.499481 62.391457 \nL 189.843969 54.310022 \nL 199.18848 46.180178 \nL 208.532968 38.020336 \nL 217.877479 29.845614 \nL 227.221967 21.66868 \nL 236.566477 13.5 \n\" clip-path=\"url(#p3a585c6f0a)\" style=\"fill: none; stroke: #1f77b4; stroke-width: 1.5; stroke-linecap: square\"/>\n   </g>\n   <g id=\"line2d_20\">\n    <path d=\"M 59.021023 139.5 \nL 68.365522 120.238771 \nL 77.710021 105.725096 \nL 87.05451 94.635941 \nL 96.399009 86.073287 \nL 105.743508 79.410373 \nL 115.088008 74.199202 \nL 124.432507 70.112901 \nL 133.776995 66.908716 \nL 143.121495 64.403477 \nL 152.465994 62.457078 \nL 161.810482 60.961029 \nL 171.154993 59.830369 \nL 180.499481 58.997928 \nL 189.843969 58.410116 \nL 199.18848 58.023838 \nL 208.532968 57.804185 \nL 217.877479 57.722684 \nL 227.221967 57.755982 \nL 236.566477 57.884825 \n\" clip-path=\"url(#p3a585c6f0a)\" style=\"fill: none; stroke-dasharray: 5.55,2.4; stroke-dashoffset: 0; stroke: #bf00bf; stroke-width: 1.5\"/>\n   </g>\n   <g id=\"patch_3\">\n    <path d=\"M 50.14375 145.8 \nL 50.14375 7.2 \n\" style=\"fill: none; stroke: #000000; stroke-width: 0.8; stroke-linejoin: miter; stroke-linecap: square\"/>\n   </g>\n   <g id=\"patch_4\">\n    <path d=\"M 245.44375 145.8 \nL 245.44375 7.2 \n\" style=\"fill: none; stroke: #000000; stroke-width: 0.8; stroke-linejoin: miter; stroke-linecap: square\"/>\n   </g>\n   <g id=\"patch_5\">\n    <path d=\"M 50.14375 145.8 \nL 245.44375 145.8 \n\" style=\"fill: none; stroke: #000000; stroke-width: 0.8; stroke-linejoin: miter; stroke-linecap: square\"/>\n   </g>\n   <g id=\"patch_6\">\n    <path d=\"M 50.14375 7.2 \nL 245.44375 7.2 \n\" style=\"fill: none; stroke: #000000; stroke-width: 0.8; stroke-linejoin: miter; stroke-linecap: square\"/>\n   </g>\n   <g id=\"legend_1\">\n    <g id=\"patch_7\">\n     <path d=\"M 57.14375 44.55625 \nL 139.351562 44.55625 \nQ 141.351562 44.55625 141.351562 42.55625 \nL 141.351562 14.2 \nQ 141.351562 12.2 139.351562 12.2 \nL 57.14375 12.2 \nQ 55.14375 12.2 55.14375 14.2 \nL 55.14375 42.55625 \nQ 55.14375 44.55625 57.14375 44.55625 \nz\n\" style=\"fill: #ffffff; opacity: 0.8; stroke: #cccccc; stroke-linejoin: miter\"/>\n    </g>\n    <g id=\"line2d_21\">\n     <path d=\"M 59.14375 20.298438 \nL 69.14375 20.298438 \nL 79.14375 20.298438 \n\" style=\"fill: none; stroke: #1f77b4; stroke-width: 1.5; stroke-linecap: square\"/>\n    </g>\n    <g id=\"text_12\">\n     <!-- f(x) -->\n     <g transform=\"translate(87.14375 23.798438) scale(0.1 -0.1)\">\n      <use xlink:href=\"#DejaVuSans-66\"/>\n      <use xlink:href=\"#DejaVuSans-28\" x=\"35.205078\"/>\n      <use xlink:href=\"#DejaVuSans-78\" x=\"74.21875\"/>\n      <use xlink:href=\"#DejaVuSans-29\" x=\"133.398438\"/>\n     </g>\n    </g>\n    <g id=\"line2d_22\">\n     <path d=\"M 59.14375 34.976562 \nL 69.14375 34.976562 \nL 79.14375 34.976562 \n\" style=\"fill: none; stroke-dasharray: 5.55,2.4; stroke-dashoffset: 0; stroke: #bf00bf; stroke-width: 1.5\"/>\n    </g>\n    <g id=\"text_13\">\n     <!-- derivative -->\n     <g transform=\"translate(87.14375 38.476562) scale(0.1 -0.1)\">\n      <defs>\n       <path id=\"DejaVuSans-64\" d=\"M 2906 2969 \nL 2906 4863 \nL 3481 4863 \nL 3481 0 \nL 2906 0 \nL 2906 525 \nQ 2725 213 2448 61 \nQ 2172 -91 1784 -91 \nQ 1150 -91 751 415 \nQ 353 922 353 1747 \nQ 353 2572 751 3078 \nQ 1150 3584 1784 3584 \nQ 2172 3584 2448 3432 \nQ 2725 3281 2906 2969 \nz\nM 947 1747 \nQ 947 1113 1208 752 \nQ 1469 391 1925 391 \nQ 2381 391 2643 752 \nQ 2906 1113 2906 1747 \nQ 2906 2381 2643 2742 \nQ 2381 3103 1925 3103 \nQ 1469 3103 1208 2742 \nQ 947 2381 947 1747 \nz\n\" transform=\"scale(0.015625)\"/>\n       <path id=\"DejaVuSans-65\" d=\"M 3597 1894 \nL 3597 1613 \nL 953 1613 \nQ 991 1019 1311 708 \nQ 1631 397 2203 397 \nQ 2534 397 2845 478 \nQ 3156 559 3463 722 \nL 3463 178 \nQ 3153 47 2828 -22 \nQ 2503 -91 2169 -91 \nQ 1331 -91 842 396 \nQ 353 884 353 1716 \nQ 353 2575 817 3079 \nQ 1281 3584 2069 3584 \nQ 2775 3584 3186 3129 \nQ 3597 2675 3597 1894 \nz\nM 3022 2063 \nQ 3016 2534 2758 2815 \nQ 2500 3097 2075 3097 \nQ 1594 3097 1305 2825 \nQ 1016 2553 972 2059 \nL 3022 2063 \nz\n\" transform=\"scale(0.015625)\"/>\n       <path id=\"DejaVuSans-72\" d=\"M 2631 2963 \nQ 2534 3019 2420 3045 \nQ 2306 3072 2169 3072 \nQ 1681 3072 1420 2755 \nQ 1159 2438 1159 1844 \nL 1159 0 \nL 581 0 \nL 581 3500 \nL 1159 3500 \nL 1159 2956 \nQ 1341 3275 1631 3429 \nQ 1922 3584 2338 3584 \nQ 2397 3584 2469 3576 \nQ 2541 3569 2628 3553 \nL 2631 2963 \nz\n\" transform=\"scale(0.015625)\"/>\n       <path id=\"DejaVuSans-69\" d=\"M 603 3500 \nL 1178 3500 \nL 1178 0 \nL 603 0 \nL 603 3500 \nz\nM 603 4863 \nL 1178 4863 \nL 1178 4134 \nL 603 4134 \nL 603 4863 \nz\n\" transform=\"scale(0.015625)\"/>\n       <path id=\"DejaVuSans-76\" d=\"M 191 3500 \nL 800 3500 \nL 1894 563 \nL 2988 3500 \nL 3597 3500 \nL 2284 0 \nL 1503 0 \nL 191 3500 \nz\n\" transform=\"scale(0.015625)\"/>\n       <path id=\"DejaVuSans-61\" d=\"M 2194 1759 \nQ 1497 1759 1228 1600 \nQ 959 1441 959 1056 \nQ 959 750 1161 570 \nQ 1363 391 1709 391 \nQ 2188 391 2477 730 \nQ 2766 1069 2766 1631 \nL 2766 1759 \nL 2194 1759 \nz\nM 3341 1997 \nL 3341 0 \nL 2766 0 \nL 2766 531 \nQ 2569 213 2275 61 \nQ 1981 -91 1556 -91 \nQ 1019 -91 701 211 \nQ 384 513 384 1019 \nQ 384 1609 779 1909 \nQ 1175 2209 1959 2209 \nL 2766 2209 \nL 2766 2266 \nQ 2766 2663 2505 2880 \nQ 2244 3097 1772 3097 \nQ 1472 3097 1187 3025 \nQ 903 2953 641 2809 \nL 641 3341 \nQ 956 3463 1253 3523 \nQ 1550 3584 1831 3584 \nQ 2591 3584 2966 3190 \nQ 3341 2797 3341 1997 \nz\n\" transform=\"scale(0.015625)\"/>\n       <path id=\"DejaVuSans-74\" d=\"M 1172 4494 \nL 1172 3500 \nL 2356 3500 \nL 2356 3053 \nL 1172 3053 \nL 1172 1153 \nQ 1172 725 1289 603 \nQ 1406 481 1766 481 \nL 2356 481 \nL 2356 0 \nL 1766 0 \nQ 1100 0 847 248 \nQ 594 497 594 1153 \nL 594 3053 \nL 172 3053 \nL 172 3500 \nL 594 3500 \nL 594 4494 \nL 1172 4494 \nz\n\" transform=\"scale(0.015625)\"/>\n      </defs>\n      <use xlink:href=\"#DejaVuSans-64\"/>\n      <use xlink:href=\"#DejaVuSans-65\" x=\"63.476562\"/>\n      <use xlink:href=\"#DejaVuSans-72\" x=\"125\"/>\n      <use xlink:href=\"#DejaVuSans-69\" x=\"166.113281\"/>\n      <use xlink:href=\"#DejaVuSans-76\" x=\"193.896484\"/>\n      <use xlink:href=\"#DejaVuSans-61\" x=\"253.076172\"/>\n      <use xlink:href=\"#DejaVuSans-74\" x=\"314.355469\"/>\n      <use xlink:href=\"#DejaVuSans-69\" x=\"353.564453\"/>\n      <use xlink:href=\"#DejaVuSans-76\" x=\"381.347656\"/>\n      <use xlink:href=\"#DejaVuSans-65\" x=\"440.527344\"/>\n     </g>\n    </g>\n   </g>\n  </g>\n </g>\n <defs>\n  <clipPath id=\"p3a585c6f0a\">\n   <rect x=\"50.14375\" y=\"7.2\" width=\"195.3\" height=\"138.6\"/>\n  </clipPath>\n </defs>\n</svg>\n",
      "text/plain": [
       "<Figure size 350x250 with 1 Axes>"
      ]
     },
     "execution_count": 45,
     "metadata": {
     },
     "output_type": "execute_result"
    }
   ],
   "source": [
    "\n",
    "q = torch.arange(1.0,3.0,0.1)\n",
    "q.requires_grad_(True)\n",
    "def f(a):\n",
    "    return torch.log(a)**2\n",
    "y=f(q)\n",
    "y.backward(gradient=torch.ones(len(y)))\n",
    "yprime=q.grad\n",
    "d2l.plot(q.detach().numpy(), [y.detach().numpy(), yprime.detach().numpy()], 'x', 'f(x)', legend=['f(x)', 'derivative'])"
   ]
  },
  {
   "cell_type": "markdown",
   "id": "c49ced",
   "metadata": {
    "collapsed": false
   },
   "source": [
    "**QUESTION 5**\n",
    "\n",
    "1. Use pandas to create a data set in your folder that corresponds to this CSV file:\n",
    "\n",
    "![csv list](customer2.png)\n",
    "\n",
    "Name that data set `customer_list.csv`.\n",
    "\n",
    "2. For the `customer_list.csv` file created above modify the data by using imputation on the categorical variable `Gender'` and deleting missing numerical values in the variables `Customer ID`, `Age`, `Purchase Amount` and replacing these data items for the average of the row data.\n",
    "\n",
    "3. Convert the curated data set `customer_list.csv` into three tensors `X1,X2` and `X3`. where `X1` contains the curated data for `Gender`, `X2` contains the curated data for `customerID,Age` and `X3` contains the data for the curated data for `PurchaseAmount`. Print `X1`,`X2` and `X3`."
   ]
  },
  {
   "cell_type": "code",
   "execution_count": 58,
   "id": "4825b5",
   "metadata": {
    "collapsed": false
   },
   "outputs": [
    {
     "name": "stdout",
     "output_type": "stream",
     "text": [
      "   Customer ID   Age  Gender  Purchase amount\n",
      "0        123.0   NaN    Male            130.0\n",
      "1        135.0  27.0     NaN            120.0\n",
      "2        112.0  24.0  Female             80.0\n",
      "3        142.0   NaN  Female             30.0\n",
      "4          NaN   NaN     NaN             45.0\n",
      "5        100.0  19.0    Male              NaN\n",
      "6          NaN   NaN  Female              NaN\n",
      "   Customer ID        Age  Purchase amount  Female   Male    NaN\n",
      "0        123.0  23.333333            130.0   False   True  False\n",
      "1        135.0  27.000000            120.0   False  False   True\n",
      "2        112.0  24.000000             80.0    True  False  False\n",
      "3        142.0  23.333333             30.0    True  False  False\n",
      "4        122.4  23.333333             45.0   False  False   True\n",
      "5        100.0  19.000000             81.0   False   True  False\n",
      "6        122.4  23.333333             81.0    True  False  False\n"
     ]
    }
   ],
   "source": [
    "if not os.path.exists(\"data\"):\n",
    "    os.makedirs(\"data\")\n",
    "data_file = os.path.join(\"data\", \"customer_list.csv\")\n",
    "with open(data_file, 'w') as f:\n",
    "    f.write('''Customer ID,Age,Gender,Purchase amount\n",
    "123,,Male,130\n",
    "135,27,,120\n",
    "112,24,Female,80\n",
    "142,,Female,30\n",
    ",,,45\n",
    "100,19,Male,\n",
    ",,Female,''')\n",
    " \n",
    "data = pd.read_csv(data_file)\n",
    "print(data)\n",
    "\n",
    "\n",
    "data.iloc[:, [0,1,3]]= data.iloc[:, [0,1,3]].fillna(data.iloc[:, [0,1,3]].mean())\n",
    "gender_dummies = pd.get_dummies(data['Gender'], dummy_na=True)\n",
    "data = pd.concat([data, gender_dummies], axis=1)\n",
    "data = data.drop('Gender', axis=1)\n",
    "\n",
    "print(data)"
   ]
  },
  {
   "cell_type": "markdown",
   "id": "f97565",
   "metadata": {
    "collapsed": false
   },
   "source": [
    "**END OF WORKSHEET**\n",
    "\n",
    "Make sure that you answered all the questions on time. This completed `Jupyter Notebook` will be collected and graded. \n",
    "\n",
    "Once the `Jupyter Notebook` is collected it can not be modified."
   ]
  }
 ],
 "metadata": {
  "kernelspec": {
   "argv": [
    "/usr/bin/python3",
    "-m",
    "ipykernel",
    "--HistoryManager.enabled=False",
    "--matplotlib=inline",
    "-c",
    "%config InlineBackend.figure_formats = set(['retina'])\nimport matplotlib; matplotlib.rcParams['figure.figsize'] = (12, 7)",
    "-f",
    "{connection_file}"
   ],
   "display_name": "Python 3 (system-wide)",
   "env": {
   },
   "language": "python",
   "metadata": {
    "cocalc": {
     "description": "Python 3 programming language",
     "priority": 100,
     "url": "https://www.python.org/"
    }
   },
   "name": "python3",
   "resource_dir": "/ext/jupyter/kernels/python3"
  },
  "language_info": {
   "codemirror_mode": {
    "name": "ipython",
    "version": 3
   },
   "file_extension": ".py",
   "mimetype": "text/x-python",
   "name": "python",
   "nbconvert_exporter": "python",
   "pygments_lexer": "ipython3",
   "version": "3.10.12"
  }
 },
 "nbformat": 4,
 "nbformat_minor": 4
}