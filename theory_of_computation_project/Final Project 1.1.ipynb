{
 "cells": [
  {
   "cell_type": "code",
   "execution_count": 7,
   "id": "25cfda",
   "metadata": {
    "collapsed": false
   },
   "outputs": [
    {
     "name": "stdout",
     "output_type": "stream",
     "text": [
      "Defaulting to user installation because normal site-packages is not writeable\r\n"
     ]
    },
    {
     "name": "stdout",
     "output_type": "stream",
     "text": [
      "Requirement already satisfied: automata-lib in /home/user/.local/lib/python3.10/site-packages (9.0.0)\r\n",
      "Requirement already satisfied: networkx>=2.6.2 in /usr/local/lib/python3.10/dist-packages (from automata-lib) (3.1)\r\n",
      "Requirement already satisfied: frozendict>=2.3.4 in /usr/local/lib/python3.10/dist-packages (from automata-lib) (2.4.0)\r\n",
      "Requirement already satisfied: typing-extensions>=4.5.0 in /usr/local/lib/python3.10/dist-packages (from automata-lib) (4.12.2)\r\n",
      "Requirement already satisfied: cached_method>=0.1.0 in /home/user/.local/lib/python3.10/site-packages (from automata-lib) (0.1.0)\r\n"
     ]
    },
    {
     "name": "stdout",
     "output_type": "stream",
     "text": [
      "Defaulting to user installation because normal site-packages is not writeable\r\n"
     ]
    },
    {
     "name": "stdout",
     "output_type": "stream",
     "text": [
      "Requirement already satisfied: coloraide in /home/user/.local/lib/python3.10/site-packages (4.2.1)\r\n"
     ]
    },
    {
     "name": "stdout",
     "output_type": "stream",
     "text": [
      "Defaulting to user installation because normal site-packages is not writeable\r\n"
     ]
    },
    {
     "name": "stdout",
     "output_type": "stream",
     "text": [
      "Requirement already satisfied: pygraphviz in /home/user/.local/lib/python3.10/site-packages (1.14)\r\n"
     ]
    },
    {
     "name": "stdout",
     "output_type": "stream",
     "text": [
      "Defaulting to user installation because normal site-packages is not writeable\r\n"
     ]
    },
    {
     "name": "stdout",
     "output_type": "stream",
     "text": [
      "Requirement already satisfied: visual_automata in /home/user/.local/lib/python3.10/site-packages (1.1.1)\r\n",
      "Requirement already satisfied: automata-lib in /home/user/.local/lib/python3.10/site-packages (from visual_automata) (9.0.0)\r\n",
      "Requirement already satisfied: pandas in /usr/local/lib/python3.10/dist-packages (from visual_automata) (2.1.4)\r\n",
      "Requirement already satisfied: graphviz in /usr/local/lib/python3.10/dist-packages (from visual_automata) (0.8.4)\r\n",
      "Requirement already satisfied: colormath in /home/user/.local/lib/python3.10/site-packages (from visual_automata) (3.0.0)\r\n",
      "Requirement already satisfied: jupyterlab in /usr/local/lib/python3.10/dist-packages (from visual_automata) (4.3.1)\r\n",
      "Requirement already satisfied: forbiddenfruit in /home/user/.local/lib/python3.10/site-packages (from visual_automata) (0.1.4)\r\n",
      "Requirement already satisfied: networkx>=2.6.2 in /usr/local/lib/python3.10/dist-packages (from automata-lib->visual_automata) (3.1)\r\n",
      "Requirement already satisfied: frozendict>=2.3.4 in /usr/local/lib/python3.10/dist-packages (from automata-lib->visual_automata) (2.4.0)\r\n",
      "Requirement already satisfied: typing-extensions>=4.5.0 in /usr/local/lib/python3.10/dist-packages (from automata-lib->visual_automata) (4.12.2)\r\n",
      "Requirement already satisfied: cached_method>=0.1.0 in /home/user/.local/lib/python3.10/site-packages (from automata-lib->visual_automata) (0.1.0)\r\n",
      "Requirement already satisfied: numpy in /usr/local/lib/python3.10/dist-packages (from colormath->visual_automata) (1.23.5)\r\n",
      "Requirement already satisfied: async-lru>=1.0.0 in /usr/local/lib/python3.10/dist-packages (from jupyterlab->visual_automata) (2.0.4)\r\n",
      "Requirement already satisfied: httpx>=0.25.0 in /usr/local/lib/python3.10/dist-packages (from jupyterlab->visual_automata) (0.27.2)\r\n",
      "Requirement already satisfied: ipykernel>=6.5.0 in /usr/local/lib/python3.10/dist-packages (from jupyterlab->visual_automata) (6.29.5)\r\n",
      "Requirement already satisfied: jinja2>=3.0.3 in /usr/local/lib/python3.10/dist-packages (from jupyterlab->visual_automata) (3.1.4)\r\n",
      "Requirement already satisfied: jupyter-core in /usr/local/lib/python3.10/dist-packages (from jupyterlab->visual_automata) (5.7.2)\r\n",
      "Requirement already satisfied: jupyter-lsp>=2.0.0 in /usr/local/lib/python3.10/dist-packages (from jupyterlab->visual_automata) (2.2.5)\r\n",
      "Requirement already satisfied: jupyter-server<3,>=2.4.0 in /usr/local/lib/python3.10/dist-packages (from jupyterlab->visual_automata) (2.14.2)\r\n",
      "Requirement already satisfied: jupyterlab-server<3,>=2.27.1 in /usr/local/lib/python3.10/dist-packages (from jupyterlab->visual_automata) (2.27.2)\r\n",
      "Requirement already satisfied: notebook-shim>=0.2 in /usr/local/lib/python3.10/dist-packages (from jupyterlab->visual_automata) (0.2.4)\r\n",
      "Requirement already satisfied: packaging in /usr/local/lib/python3.10/dist-packages (from jupyterlab->visual_automata) (23.2)\r\n",
      "Requirement already satisfied: setuptools>=40.1.0 in /usr/local/lib/python3.10/dist-packages (from jupyterlab->visual_automata) (75.6.0)\r\n",
      "Requirement already satisfied: tomli>=1.2.2 in /usr/local/lib/python3.10/dist-packages (from jupyterlab->visual_automata) (2.0.1)\r\n",
      "Requirement already satisfied: tornado>=6.2.0 in /usr/local/lib/python3.10/dist-packages (from jupyterlab->visual_automata) (6.2)\r\n",
      "Requirement already satisfied: traitlets in /usr/local/lib/python3.10/dist-packages (from jupyterlab->visual_automata) (5.14.3)\r\n"
     ]
    },
    {
     "name": "stdout",
     "output_type": "stream",
     "text": [
      "Requirement already satisfied: python-dateutil>=2.8.2 in /usr/local/lib/python3.10/dist-packages (from pandas->visual_automata) (2.8.2)\r\n",
      "Requirement already satisfied: pytz>=2020.1 in /usr/local/lib/python3.10/dist-packages (from pandas->visual_automata) (2024.2)\r\n",
      "Requirement already satisfied: tzdata>=2022.1 in /usr/local/lib/python3.10/dist-packages (from pandas->visual_automata) (2023.3)\r\n",
      "Requirement already satisfied: anyio in /usr/lib/python3/dist-packages (from httpx>=0.25.0->jupyterlab->visual_automata) (3.5.0)\r\n"
     ]
    },
    {
     "name": "stdout",
     "output_type": "stream",
     "text": [
      "Requirement already satisfied: certifi in /usr/local/lib/python3.10/dist-packages (from httpx>=0.25.0->jupyterlab->visual_automata) (2022.6.15)\r\n",
      "Requirement already satisfied: httpcore==1.* in /usr/local/lib/python3.10/dist-packages (from httpx>=0.25.0->jupyterlab->visual_automata) (1.0.2)\r\n",
      "Requirement already satisfied: idna in /usr/local/lib/python3.10/dist-packages (from httpx>=0.25.0->jupyterlab->visual_automata) (2.8)\r\n",
      "Requirement already satisfied: sniffio in /usr/local/lib/python3.10/dist-packages (from httpx>=0.25.0->jupyterlab->visual_automata) (1.3.1)\r\n",
      "Requirement already satisfied: h11<0.15,>=0.13 in /usr/lib/python3/dist-packages (from httpcore==1.*->httpx>=0.25.0->jupyterlab->visual_automata) (0.13.0)\r\n",
      "Requirement already satisfied: comm>=0.1.1 in /usr/local/lib/python3.10/dist-packages (from ipykernel>=6.5.0->jupyterlab->visual_automata) (0.2.2)\r\n",
      "Requirement already satisfied: debugpy>=1.6.5 in /usr/local/lib/python3.10/dist-packages (from ipykernel>=6.5.0->jupyterlab->visual_automata) (1.8.2)\r\n",
      "Requirement already satisfied: ipython>=7.23.1 in /usr/local/lib/python3.10/dist-packages (from ipykernel>=6.5.0->jupyterlab->visual_automata) (8.18.0)\r\n",
      "Requirement already satisfied: jupyter-client>=6.1.12 in /usr/local/lib/python3.10/dist-packages (from ipykernel>=6.5.0->jupyterlab->visual_automata) (7.4.9)\r\n",
      "Requirement already satisfied: matplotlib-inline>=0.1 in /usr/local/lib/python3.10/dist-packages (from ipykernel>=6.5.0->jupyterlab->visual_automata) (0.1.7)\r\n",
      "Requirement already satisfied: nest-asyncio in /usr/local/lib/python3.10/dist-packages (from ipykernel>=6.5.0->jupyterlab->visual_automata) (1.5.5)\r\n",
      "Requirement already satisfied: psutil in /usr/local/lib/python3.10/dist-packages (from ipykernel>=6.5.0->jupyterlab->visual_automata) (6.1.0)\r\n",
      "Requirement already satisfied: pyzmq>=24 in /usr/local/lib/python3.10/dist-packages (from ipykernel>=6.5.0->jupyterlab->visual_automata) (24.0.1)\r\n",
      "Requirement already satisfied: MarkupSafe>=2.0 in /usr/local/lib/python3.10/dist-packages (from jinja2>=3.0.3->jupyterlab->visual_automata) (2.1.1)\r\n",
      "Requirement already satisfied: platformdirs>=2.5 in /usr/local/lib/python3.10/dist-packages (from jupyter-core->jupyterlab->visual_automata) (3.9.1)\r\n",
      "Requirement already satisfied: argon2-cffi>=21.1 in /usr/local/lib/python3.10/dist-packages (from jupyter-server<3,>=2.4.0->jupyterlab->visual_automata) (21.3.0)\r\n",
      "Requirement already satisfied: jupyter-events>=0.9.0 in /usr/local/lib/python3.10/dist-packages (from jupyter-server<3,>=2.4.0->jupyterlab->visual_automata) (0.10.0)\r\n",
      "Requirement already satisfied: jupyter-server-terminals>=0.4.4 in /usr/local/lib/python3.10/dist-packages (from jupyter-server<3,>=2.4.0->jupyterlab->visual_automata) (0.5.3)\r\n",
      "Requirement already satisfied: nbconvert>=6.4.4 in /usr/local/lib/python3.10/dist-packages (from jupyter-server<3,>=2.4.0->jupyterlab->visual_automata) (7.16.4)\r\n",
      "Requirement already satisfied: nbformat>=5.3.0 in /usr/local/lib/python3.10/dist-packages (from jupyter-server<3,>=2.4.0->jupyterlab->visual_automata) (5.10.4)\r\n",
      "Requirement already satisfied: overrides>=5.0 in /usr/local/lib/python3.10/dist-packages (from jupyter-server<3,>=2.4.0->jupyterlab->visual_automata) (7.7.0)\r\n",
      "Requirement already satisfied: prometheus-client>=0.9 in /usr/local/lib/python3.10/dist-packages (from jupyter-server<3,>=2.4.0->jupyterlab->visual_automata) (0.14.1)\r\n",
      "Requirement already satisfied: send2trash>=1.8.2 in /usr/local/lib/python3.10/dist-packages (from jupyter-server<3,>=2.4.0->jupyterlab->visual_automata) (1.8.3)\r\n",
      "Requirement already satisfied: terminado>=0.8.3 in /usr/local/lib/python3.10/dist-packages (from jupyter-server<3,>=2.4.0->jupyterlab->visual_automata) (0.15.0)\r\n",
      "Requirement already satisfied: websocket-client>=1.7 in /usr/local/lib/python3.10/dist-packages (from jupyter-server<3,>=2.4.0->jupyterlab->visual_automata) (1.8.0)\r\n",
      "Requirement already satisfied: babel>=2.10 in /usr/local/lib/python3.10/dist-packages (from jupyterlab-server<3,>=2.27.1->jupyterlab->visual_automata) (2.16.0)\r\n",
      "Requirement already satisfied: json5>=0.9.0 in /usr/local/lib/python3.10/dist-packages (from jupyterlab-server<3,>=2.27.1->jupyterlab->visual_automata) (0.9.8)\r\n",
      "Requirement already satisfied: jsonschema>=4.18.0 in /usr/local/lib/python3.10/dist-packages (from jupyterlab-server<3,>=2.27.1->jupyterlab->visual_automata) (4.21.1)\r\n",
      "Requirement already satisfied: requests>=2.31 in /usr/local/lib/python3.10/dist-packages (from jupyterlab-server<3,>=2.27.1->jupyterlab->visual_automata) (2.32.3)\r\n",
      "Requirement already satisfied: six>=1.5 in /usr/local/lib/python3.10/dist-packages (from python-dateutil>=2.8.2->pandas->visual_automata) (1.16.0)\r\n"
     ]
    },
    {
     "name": "stdout",
     "output_type": "stream",
     "text": [
      "Requirement already satisfied: argon2-cffi-bindings in /usr/local/lib/python3.10/dist-packages (from argon2-cffi>=21.1->jupyter-server<3,>=2.4.0->jupyterlab->visual_automata) (21.2.0)\r\n"
     ]
    },
    {
     "name": "stdout",
     "output_type": "stream",
     "text": [
      "Requirement already satisfied: decorator in /usr/local/lib/python3.10/dist-packages (from ipython>=7.23.1->ipykernel>=6.5.0->jupyterlab->visual_automata) (4.4.2)\r\n",
      "Requirement already satisfied: jedi>=0.16 in /usr/local/lib/python3.10/dist-packages (from ipython>=7.23.1->ipykernel>=6.5.0->jupyterlab->visual_automata) (0.18.2)\r\n",
      "Requirement already satisfied: prompt-toolkit!=3.0.37,<3.1.0,>=3.0.30 in /usr/local/lib/python3.10/dist-packages (from ipython>=7.23.1->ipykernel>=6.5.0->jupyterlab->visual_automata) (3.0.36)\r\n",
      "Requirement already satisfied: pygments>=2.4.0 in /usr/local/lib/python3.10/dist-packages (from ipython>=7.23.1->ipykernel>=6.5.0->jupyterlab->visual_automata) (2.17.2)\r\n",
      "Requirement already satisfied: stack-data in /usr/local/lib/python3.10/dist-packages (from ipython>=7.23.1->ipykernel>=6.5.0->jupyterlab->visual_automata) (0.5.0)\r\n",
      "Requirement already satisfied: exceptiongroup in /usr/local/lib/python3.10/dist-packages (from ipython>=7.23.1->ipykernel>=6.5.0->jupyterlab->visual_automata) (1.0.4)\r\n",
      "Requirement already satisfied: pexpect>4.3 in /usr/lib/python3/dist-packages (from ipython>=7.23.1->ipykernel>=6.5.0->jupyterlab->visual_automata) (4.8.0)\r\n",
      "Requirement already satisfied: attrs>=22.2.0 in /usr/local/lib/python3.10/dist-packages (from jsonschema>=4.18.0->jupyterlab-server<3,>=2.27.1->jupyterlab->visual_automata) (24.2.0)\r\n",
      "Requirement already satisfied: jsonschema-specifications>=2023.03.6 in /usr/local/lib/python3.10/dist-packages (from jsonschema>=4.18.0->jupyterlab-server<3,>=2.27.1->jupyterlab->visual_automata) (2023.7.1)\r\n",
      "Requirement already satisfied: referencing>=0.28.4 in /usr/local/lib/python3.10/dist-packages (from jsonschema>=4.18.0->jupyterlab-server<3,>=2.27.1->jupyterlab->visual_automata) (0.30.2)\r\n",
      "Requirement already satisfied: rpds-py>=0.7.1 in /usr/local/lib/python3.10/dist-packages (from jsonschema>=4.18.0->jupyterlab-server<3,>=2.27.1->jupyterlab->visual_automata) (0.10.2)\r\n",
      "Requirement already satisfied: entrypoints in /usr/local/lib/python3.10/dist-packages (from jupyter-client>=6.1.12->ipykernel>=6.5.0->jupyterlab->visual_automata) (0.4)\r\n",
      "Requirement already satisfied: python-json-logger>=2.0.4 in /usr/local/lib/python3.10/dist-packages (from jupyter-events>=0.9.0->jupyter-server<3,>=2.4.0->jupyterlab->visual_automata) (2.0.4)\r\n"
     ]
    },
    {
     "name": "stdout",
     "output_type": "stream",
     "text": [
      "Requirement already satisfied: pyyaml>=5.3 in /usr/lib/python3/dist-packages (from jupyter-events>=0.9.0->jupyter-server<3,>=2.4.0->jupyterlab->visual_automata) (5.4.1)\r\n",
      "Requirement already satisfied: rfc3339-validator in /usr/local/lib/python3.10/dist-packages (from jupyter-events>=0.9.0->jupyter-server<3,>=2.4.0->jupyterlab->visual_automata) (0.1.4)\r\n",
      "Requirement already satisfied: rfc3986-validator>=0.1.1 in /usr/local/lib/python3.10/dist-packages (from jupyter-events>=0.9.0->jupyter-server<3,>=2.4.0->jupyterlab->visual_automata) (0.1.1)\r\n",
      "Requirement already satisfied: beautifulsoup4 in /usr/local/lib/python3.10/dist-packages (from nbconvert>=6.4.4->jupyter-server<3,>=2.4.0->jupyterlab->visual_automata) (4.12.3)\r\n",
      "Requirement already satisfied: bleach!=5.0.0 in /usr/local/lib/python3.10/dist-packages (from nbconvert>=6.4.4->jupyter-server<3,>=2.4.0->jupyterlab->visual_automata) (5.0.1)\r\n",
      "Requirement already satisfied: defusedxml in /usr/lib/python3/dist-packages (from nbconvert>=6.4.4->jupyter-server<3,>=2.4.0->jupyterlab->visual_automata) (0.7.1)\r\n",
      "Requirement already satisfied: jupyterlab-pygments in /usr/local/lib/python3.10/dist-packages (from nbconvert>=6.4.4->jupyter-server<3,>=2.4.0->jupyterlab->visual_automata) (0.2.2)\r\n",
      "Requirement already satisfied: mistune<4,>=2.0.3 in /usr/local/lib/python3.10/dist-packages (from nbconvert>=6.4.4->jupyter-server<3,>=2.4.0->jupyterlab->visual_automata) (2.0.4)\r\n",
      "Requirement already satisfied: nbclient>=0.5.0 in /usr/local/lib/python3.10/dist-packages (from nbconvert>=6.4.4->jupyter-server<3,>=2.4.0->jupyterlab->visual_automata) (0.6.3)\r\n",
      "Requirement already satisfied: pandocfilters>=1.4.1 in /usr/lib/python3/dist-packages (from nbconvert>=6.4.4->jupyter-server<3,>=2.4.0->jupyterlab->visual_automata) (1.5.0)\r\n",
      "Requirement already satisfied: tinycss2 in /usr/local/lib/python3.10/dist-packages (from nbconvert>=6.4.4->jupyter-server<3,>=2.4.0->jupyterlab->visual_automata) (1.4.0)\r\n",
      "Requirement already satisfied: fastjsonschema>=2.15 in /usr/local/lib/python3.10/dist-packages (from nbformat>=5.3.0->jupyter-server<3,>=2.4.0->jupyterlab->visual_automata) (2.16.1)\r\n"
     ]
    },
    {
     "name": "stdout",
     "output_type": "stream",
     "text": [
      "Requirement already satisfied: charset-normalizer<4,>=2 in /usr/lib/python3/dist-packages (from requests>=2.31->jupyterlab-server<3,>=2.27.1->jupyterlab->visual_automata) (2.0.6)\r\n",
      "Requirement already satisfied: urllib3<3,>=1.21.1 in /usr/local/lib/python3.10/dist-packages (from requests>=2.31->jupyterlab-server<3,>=2.27.1->jupyterlab->visual_automata) (2.2.1)\r\n",
      "Requirement already satisfied: ptyprocess in /usr/lib/python3/dist-packages (from terminado>=0.8.3->jupyter-server<3,>=2.4.0->jupyterlab->visual_automata) (0.7.0)\r\n",
      "Requirement already satisfied: webencodings in /usr/lib/python3/dist-packages (from bleach!=5.0.0->nbconvert>=6.4.4->jupyter-server<3,>=2.4.0->jupyterlab->visual_automata) (0.5.1)\r\n"
     ]
    },
    {
     "name": "stdout",
     "output_type": "stream",
     "text": [
      "Requirement already satisfied: parso<0.9.0,>=0.8.0 in /usr/local/lib/python3.10/dist-packages (from jedi>=0.16->ipython>=7.23.1->ipykernel>=6.5.0->jupyterlab->visual_automata) (0.8.3)\r\n",
      "Requirement already satisfied: fqdn in /usr/local/lib/python3.10/dist-packages (from jsonschema[format-nongpl]>=4.18.0->jupyter-events>=0.9.0->jupyter-server<3,>=2.4.0->jupyterlab->visual_automata) (1.5.1)\r\n",
      "Requirement already satisfied: isoduration in /usr/local/lib/python3.10/dist-packages (from jsonschema[format-nongpl]>=4.18.0->jupyter-events>=0.9.0->jupyter-server<3,>=2.4.0->jupyterlab->visual_automata) (20.11.0)\r\n",
      "Requirement already satisfied: jsonpointer>1.13 in /usr/local/lib/python3.10/dist-packages (from jsonschema[format-nongpl]>=4.18.0->jupyter-events>=0.9.0->jupyter-server<3,>=2.4.0->jupyterlab->visual_automata) (2.3)\r\n",
      "Requirement already satisfied: uri-template in /usr/local/lib/python3.10/dist-packages (from jsonschema[format-nongpl]>=4.18.0->jupyter-events>=0.9.0->jupyter-server<3,>=2.4.0->jupyterlab->visual_automata) (1.3.0)\r\n",
      "Requirement already satisfied: webcolors>=1.11 in /usr/local/lib/python3.10/dist-packages (from jsonschema[format-nongpl]>=4.18.0->jupyter-events>=0.9.0->jupyter-server<3,>=2.4.0->jupyterlab->visual_automata) (1.12)\r\n",
      "Requirement already satisfied: wcwidth in /usr/lib/python3/dist-packages (from prompt-toolkit!=3.0.37,<3.1.0,>=3.0.30->ipython>=7.23.1->ipykernel>=6.5.0->jupyterlab->visual_automata) (0.2.5)\r\n"
     ]
    },
    {
     "name": "stdout",
     "output_type": "stream",
     "text": [
      "Requirement already satisfied: cffi>=1.0.1 in /usr/local/lib/python3.10/dist-packages (from argon2-cffi-bindings->argon2-cffi>=21.1->jupyter-server<3,>=2.4.0->jupyterlab->visual_automata) (1.16.0)\r\n",
      "Requirement already satisfied: soupsieve>1.2 in /usr/lib/python3/dist-packages (from beautifulsoup4->nbconvert>=6.4.4->jupyter-server<3,>=2.4.0->jupyterlab->visual_automata) (2.3.1)\r\n",
      "Requirement already satisfied: executing in /usr/local/lib/python3.10/dist-packages (from stack-data->ipython>=7.23.1->ipykernel>=6.5.0->jupyterlab->visual_automata) (0.9.1)\r\n",
      "Requirement already satisfied: asttokens in /usr/local/lib/python3.10/dist-packages (from stack-data->ipython>=7.23.1->ipykernel>=6.5.0->jupyterlab->visual_automata) (2.0.5)\r\n",
      "Requirement already satisfied: pure-eval in /usr/local/lib/python3.10/dist-packages (from stack-data->ipython>=7.23.1->ipykernel>=6.5.0->jupyterlab->visual_automata) (0.2.2)\r\n",
      "Requirement already satisfied: pycparser in /usr/lib/python3/dist-packages (from cffi>=1.0.1->argon2-cffi-bindings->argon2-cffi>=21.1->jupyter-server<3,>=2.4.0->jupyterlab->visual_automata) (2.21)\r\n",
      "Requirement already satisfied: arrow>=0.15.0 in /usr/local/lib/python3.10/dist-packages (from isoduration->jsonschema[format-nongpl]>=4.18.0->jupyter-events>=0.9.0->jupyter-server<3,>=2.4.0->jupyterlab->visual_automata) (1.2.2)\r\n"
     ]
    },
    {
     "name": "stdout",
     "output_type": "stream",
     "text": [
      "Defaulting to user installation because normal site-packages is not writeable\r\n"
     ]
    },
    {
     "name": "stdout",
     "output_type": "stream",
     "text": [
      "Requirement already satisfied: automata-lib[visual] in /home/user/.local/lib/python3.10/site-packages (9.0.0)\r\n",
      "Requirement already satisfied: networkx>=2.6.2 in /usr/local/lib/python3.10/dist-packages (from automata-lib[visual]) (3.1)\r\n",
      "Requirement already satisfied: frozendict>=2.3.4 in /usr/local/lib/python3.10/dist-packages (from automata-lib[visual]) (2.4.0)\r\n",
      "Requirement already satisfied: typing-extensions>=4.5.0 in /usr/local/lib/python3.10/dist-packages (from automata-lib[visual]) (4.12.2)\r\n",
      "Requirement already satisfied: cached_method>=0.1.0 in /home/user/.local/lib/python3.10/site-packages (from automata-lib[visual]) (0.1.0)\r\n",
      "Requirement already satisfied: coloraide>=1.8.2 in /home/user/.local/lib/python3.10/site-packages (from automata-lib[visual]) (4.2.1)\r\n",
      "Requirement already satisfied: pygraphviz>=1.10 in /home/user/.local/lib/python3.10/site-packages (from automata-lib[visual]) (1.14)\r\n"
     ]
    }
   ],
   "source": [
    "!pip install automata-lib\n",
    "!pip install coloraide\n",
    "!pip install pygraphviz \n",
    "!pip install visual_automata\n",
    "!pip install 'automata-lib[visual]'"
   ]
  },
  {
   "cell_type": "code",
   "execution_count": 8,
   "id": "b45d65",
   "metadata": {
    "collapsed": false
   },
   "outputs": [
   ],
   "source": [
    "# FUnctions used for problems 1.1-1.4\n",
    "\n",
    "# Required Imports\n",
    "import pandas as pd  # For handling DataFrames\n",
    "from IPython.display import display, Markdown  # For displaying formatted text in Jupyter Notebook\n",
    "\n",
    "# Function to check if a given string is accepted or rejected by the DFA\n",
    "def checkAccept(dfa, st):\n",
    "    \"\"\"\n",
    "    Given a string and a DFA, this function returns a string saying if the string is accepted or rejected.\n",
    "    \n",
    "    Args:\n",
    "    dfa (DFA): The Deterministic Finite Automaton (DFA) to check against.\n",
    "    st (str): The input string to be checked.\n",
    "\n",
    "    Returns:\n",
    "    str: \"Accepted\" if the DFA accepts the input string, \"Rejected\" otherwise.\n",
    "    \"\"\"\n",
    "    if dfa.accepts_input(st):  # Check if DFA accepts the string\n",
    "        return \"Accepted\"\n",
    "    else:\n",
    "        return \"Rejected\"\n",
    "\n",
    "\n",
    "# Function to print a formal description of the DFA\n",
    "def printDescription(dfa):\n",
    "    \"\"\"\n",
    "    Given a DFA, this function prints its formal description including states, input symbols,\n",
    "    transition function, initial state, and final states.\n",
    "    \n",
    "    Args:\n",
    "    dfa (DFA): The DFA to be described.\n",
    "\n",
    "    Returns:\n",
    "    None: This function outputs the description directly in the notebook.\n",
    "    \"\"\"\n",
    "    # Print the DFA description in markdown format\n",
    "    display(Markdown(f\"**Q:** {set(dfa.states)}\"))  # Set of states\n",
    "    display(Markdown(f\"**Σ:** {set(dfa.input_symbols)}\"))  # Set of input symbols\n",
    "    display(Markdown(\"**δ:**\"))  # Transition function\n",
    "    getTransitionTable(dfa)  # Display the transition table\n",
    "    display(Markdown(f\"**q:** {dfa.initial_state}\"))  # Initial state\n",
    "    display(Markdown(f\"**F:** {set(dfa.final_states)}\"))  # Set of final states\n",
    "\n",
    "\n",
    "# Function to print the transition table of the DFA\n",
    "def getTransitionTable(dfa):\n",
    "    \"\"\"\n",
    "    Given a DFA, this function prints its transition table in a formatted table.\n",
    "    \n",
    "    Args:\n",
    "    dfa (DFA): The DFA whose transitions are to be displayed.\n",
    "\n",
    "    Returns:\n",
    "    None: This function outputs the transition table directly in the notebook.\n",
    "    \"\"\"\n",
    "    fd = dfa.transitions  # Get the transition dictionary from the DFA\n",
    "    d = {k: dict(v) for k, v in fd.items()}  # Convert transitions into a dictionary format\n",
    "    df = pd.DataFrame.from_dict(d)  # Create a DataFrame from the transition dictionary\n",
    "    df = df.T  # Transpose the DataFrame for better readability\n",
    "    display(df)  # Display the DataFrame as a table\n",
    "\n",
    "\n",
    "# Function to get the path through the DFA for a given input string\n",
    "def getPath(dfa, st):\n",
    "    \"\"\"\n",
    "    Given a DFA and an input string, this function returns the path the DFA takes\n",
    "    as it processes the string.\n",
    "    \n",
    "    Args:\n",
    "    dfa (DFA): The DFA to simulate.\n",
    "    st (str): The input string to be processed by the DFA.\n",
    "\n",
    "    Returns:\n",
    "    str: A string showing the path the DFA takes through its states.\n",
    "    \"\"\"\n",
    "    curr = dfa.initial_state  # Start at the initial state\n",
    "    st_final = \"→\" + curr  # Start building the path string\n",
    "    \n",
    "    # Iterate through each character in the input string\n",
    "    for char in st:\n",
    "        for from_state, to_state, symbol in dfa.iter_transitions():  # Iterate over all transitions\n",
    "            fromst = from_state\n",
    "            tost = to_state\n",
    "            sym = symbol\n",
    "            if curr == fromst:  # If current state matches the from_state\n",
    "                if char == sym:  # If the current symbol matches\n",
    "                    curr = tost  # Move to the next state\n",
    "                    st_final = st_final + \" →(\" + sym + \") \" + str(curr)  # Add the transition to the path\n",
    "                    break  # Move to the next character in the input string\n",
    "    return st_final  # Return the final path string"
   ]
  },
  {
   "cell_type": "code",
   "execution_count": 13,
   "id": "a93f9e",
   "metadata": {
    "collapsed": false
   },
   "outputs": [
   ],
   "source": [
    "# DFAs used in problems 1.1-1.4\n",
    "\n",
    "# Required Imports\n",
    "from automata.fa.dfa import DFA  # Import DFA class from automata library\n",
    "\n",
    "\n",
    "M1 = DFA(\n",
    "    states={'q1', 'q2','q3'},\n",
    "    input_symbols={'a', 'b'},\n",
    "    transitions={\n",
    "        'q1': {'a': 'q2', 'b': 'q1'},\n",
    "        'q2': {'a': 'q3', 'b': 'q3'},\n",
    "        'q3': {'a': 'q2', 'b': 'q1'}\n",
    "    },\n",
    "    initial_state='q1',\n",
    "    final_states={'q2'}\n",
    ")\n",
    "\n",
    "M2 = DFA(\n",
    "    states={'q1','q2','q3','q4'},\n",
    "    input_symbols={'a', 'b'},\n",
    "    transitions={\n",
    "        'q1': {'a': 'q1', 'b': 'q2'},\n",
    "        'q2': {'a': 'q3', 'b': 'q4'},\n",
    "        'q3': {'a': 'q2', 'b': 'q1'},\n",
    "        'q4': {'a': 'q3', 'b': 'q4'}\n",
    "    },\n",
    "    initial_state='q1',\n",
    "    final_states={'q1','q4'}\n",
    ")\n",
    "\n",
    "M = DFA(\n",
    "    states={'q1','q2','q3','q4','q5'},\n",
    "    input_symbols={'u', 'd'},\n",
    "    transitions={\n",
    "        'q1': {'u': 'q1', 'd': 'q2'},\n",
    "        'q2': {'u': 'q1', 'd': 'q3'},\n",
    "        'q3': {'u': 'q2', 'd': 'q4'},\n",
    "        'q4': {'u': 'q3', 'd': 'q5'},\n",
    "        'q5': {'u': 'q4', 'd': 'q5'}\n",
    "    },\n",
    "    initial_state='q3',\n",
    "    final_states={'q3'}\n",
    ")\n",
    "\n",
    "\n",
    "# a. {w | w begins with a 1 and ends with a 0}\n",
    "dfa_a = DFA(\n",
    "    states={'q1', 'q2', 'q3', 'q4'},\n",
    "    input_symbols={'0', '1'},\n",
    "    transitions={\n",
    "        'q1': {'1': 'q2', '0': 'q4'},\n",
    "        'q2': {'0': 'q3', '1': 'q2'},\n",
    "        'q3': {'0': 'q3', '1': 'q2'},\n",
    "        'q4': {'0': 'q4', '1': 'q4'}\n",
    "    },\n",
    "    initial_state='q1',\n",
    "    final_states={'q3'}\n",
    ")\n",
    "\n",
    "# b. {w | w contains at least three 1s}\n",
    "dfa_b = DFA(\n",
    "    states={'q1', 'q2', 'q3', 'q4'},\n",
    "    input_symbols={'0', '1'},\n",
    "    transitions={\n",
    "        'q1': {'0': 'q1', '1': 'q2'},\n",
    "        'q2': {'0': 'q2', '1': 'q3'},\n",
    "        'q3': {'0': 'q3', '1': 'q4'},\n",
    "        'q4': {'0': 'q4', '1': 'q4'}\n",
    "    },\n",
    "    initial_state='q1',\n",
    "    final_states={'q4'}\n",
    ")\n",
    "\n",
    "# c. {w | w contains the substring 0101}\n",
    "dfa_c = DFA(\n",
    "    states={'q1', 'q2', 'q3', 'q4', 'q5'},\n",
    "    input_symbols={'0', '1'},\n",
    "    transitions={\n",
    "        'q1': {'0': 'q2', '1': 'q1'},\n",
    "        'q2': {'0': 'q2', '1': 'q3'},\n",
    "        'q3': {'0': 'q4', '1': 'q1'},\n",
    "        'q4': {'0': 'q2', '1': 'q5'},\n",
    "        'q5': {'0': 'q5', '1': 'q5'}\n",
    "    },\n",
    "    initial_state='q1',\n",
    "    final_states={'q5'}\n",
    ")\n",
    "\n",
    "# d. {w | length at least 3 and third symbol is 0}\n",
    "dfa_d = DFA(\n",
    "    states={'q1', 'q2', 'q3', 'q4', 'q5'},\n",
    "    input_symbols={'0', '1'},\n",
    "    transitions={\n",
    "        'q1': {'0': 'q2', '1': 'q2'},\n",
    "        'q2': {'0': 'q3', '1': 'q3'},\n",
    "        'q3': {'0': 'q4', '1': 'q5'},\n",
    "        'q4': {'0': 'q4', '1': 'q4'},\n",
    "        'q5': {'0': 'q5', '1': 'q5'}\n",
    "    },\n",
    "    initial_state='q1',\n",
    "    final_states={'q4'}\n",
    ")\n",
    "\n",
    "# e. {w | w starts with 0 and has odd length, or starts with 1 and has even length}\n",
    "dfa_e = DFA(\n",
    "    states={'q1', 'q2', 'q3', 'q4','q5'},\n",
    "    input_symbols={'0', '1'},\n",
    "    transitions={\n",
    "        'q1': {'0': 'q2', '1': 'q4'},\n",
    "        'q2': {'0': 'q3', '1': 'q3'},\n",
    "        'q3': {'0': 'q2', '1': 'q2'},\n",
    "        'q4': {'0': 'q5', '1': 'q5'},\n",
    "        'q5': {'0': 'q4', '1': 'q4'}\n",
    "    },\n",
    "    initial_state='q1',\n",
    "    final_states={'q2', 'q5'}\n",
    ")\n",
    "\n",
    "\n",
    "# f. {w | w doesn't contain the substring 110}\n",
    "dfa_f = DFA(\n",
    "    states={'q1', 'q2', 'q3', 'q4'},\n",
    "    input_symbols={'0', '1'},\n",
    "    transitions={\n",
    "        'q1': {'0': 'q1', '1': 'q2'},\n",
    "        'q2': {'0': 'q1', '1': 'q3'},\n",
    "        'q3': {'0': 'q4', '1': 'q3'},\n",
    "        'q4': {'0': 'q4', '1': 'q4'}\n",
    "    },\n",
    "    initial_state='q1',\n",
    "    final_states={'q1', 'q2', 'q3'}\n",
    ")\n",
    "\n",
    "# g. {w | length of w is at most 5}\n",
    "dfa_g = DFA(\n",
    "    states={'q1', 'q2', 'q3', 'q4', 'q5', 'q6', 'q7'},\n",
    "    input_symbols={'0', '1'},\n",
    "    transitions={\n",
    "        'q1': {'0': 'q2', '1': 'q2'},\n",
    "        'q2': {'0': 'q3', '1': 'q3'},\n",
    "        'q3': {'0': 'q4', '1': 'q4'},\n",
    "        'q4': {'0': 'q5', '1': 'q5'},\n",
    "        'q5': {'0': 'q6', '1': 'q6'},\n",
    "        'q6': {'0': 'q7', '1': 'q7'},\n",
    "        'q7': {'0': 'q7', '1': 'q7'}\n",
    "    },\n",
    "    initial_state='q1',\n",
    "    final_states={'q1', 'q2', 'q3', 'q4', 'q5', 'q6'}\n",
    ")\n",
    "\n",
    "# h. {w | w is any string except 11 and 111}\n",
    "dfa_h = DFA(\n",
    "    states={'q1', 'q2', 'q3','q4','q5'},\n",
    "    input_symbols={'0', '1'},\n",
    "    transitions={\n",
    "        'q1': {'0': 'q5', '1': 'q2'},\n",
    "        'q2': {'0': 'q5', '1': 'q3'},\n",
    "        'q3': {'0': 'q5', '1': 'q4'},\n",
    "        'q4': {'0': 'q5', '1': 'q5'},\n",
    "        'q5': {'0': 'q5', '1': 'q5'}\n",
    "    },\n",
    "    initial_state='q1',\n",
    "    final_states={'q1', 'q2','q5'}\n",
    ")\n",
    "\n",
    "# i. {w | every odd position of w is a 1}\n",
    "dfa_i = DFA(\n",
    "    states={'q1', 'q2', 'q3'},\n",
    "    input_symbols={'0', '1'},\n",
    "    transitions={\n",
    "        'q1': {'1': 'q2', '0': 'q3'},\n",
    "        'q2': {'0': 'q1', '1': 'q1'},\n",
    "        'q3': {'0': 'q3', '1': 'q3'}\n",
    "    },\n",
    "    initial_state='q1',\n",
    "    final_states={'q1', 'q2'}\n",
    ")\n",
    "\n",
    "# j. {w | w contains at least two 0s and at most one 1}\n",
    "dfa_j = DFA(\n",
    "    states={'q1', 'q2', 'q3', 'q4','q5','q6','q7'},\n",
    "    input_symbols={'0', '1'},\n",
    "    transitions={\n",
    "        'q1': {'0': 'q2', '1': 'q4'},\n",
    "        'q2': {'0': 'q3', '1': 'q5'},\n",
    "        'q3': {'0': 'q3', '1': 'q6'},\n",
    "        'q4': {'0': 'q5', '1': 'q7'},\n",
    "        'q5': {'0': 'q6', '1': 'q7'},\n",
    "        'q6': {'0': 'q6', '1': 'q7'},\n",
    "        'q7': {'0': 'q7', '1': 'q7'}\n",
    "    },\n",
    "    initial_state='q1',\n",
    "    final_states={'q3','q6'}\n",
    ")\n",
    "\n",
    "# k. {ε, 0}\n",
    "dfa_k = DFA(\n",
    "    states={'q1', 'q2', 'q3'},\n",
    "    input_symbols={'0', '1'},\n",
    "    transitions={\n",
    "        'q1': {'0': 'q2', '1': 'q3'},\n",
    "        'q2': {'0': 'q3', '1': 'q3'},\n",
    "        'q3': {'0': 'q3', '1': 'q3'}\n",
    "    },\n",
    "    initial_state='q1',\n",
    "    final_states={'q1', 'q2'}\n",
    ")\n",
    "\n",
    "# l. {w | even number of 0s OR exactly two 1s}\n",
    "dfa_l = DFA(\n",
    "    states={'q1', 'q2', 'q3', 'q4', 'q5','q6','q7','q8'},\n",
    "    input_symbols={'0', '1'},\n",
    "    transitions={\n",
    "        'q1': {'0': 'q2', '1': 'q3'},\n",
    "        'q2': {'0': 'q1', '1': 'q4'},\n",
    "        'q3': {'0': 'q4', '1': 'q5'},\n",
    "        'q4': {'0': 'q3', '1': 'q6'},\n",
    "        'q5': {'0': 'q6', '1': 'q7'},\n",
    "        'q6': {'0': 'q5', '1': 'q8'},\n",
    "        'q7': {'0': 'q8', '1': 'q7'},\n",
    "        'q8': {'0': 'q7', '1': 'q8'}\n",
    "    },\n",
    "    initial_state='q1',\n",
    "    final_states={'q1', 'q3', 'q5', 'q6','q7'}\n",
    ")\n",
    "\n",
    "# m. ∅ (empty language)\n",
    "dfa_m = DFA(\n",
    "    states={'q1'},\n",
    "    input_symbols={'0', '1'},\n",
    "    transitions={\n",
    "        'q1': {'0': 'q1', '1': 'q1'}\n",
    "    },\n",
    "    initial_state='q1',\n",
    "    final_states=set()\n",
    ")\n",
    "\n",
    "# n. All strings except ε\n",
    "dfa_n = DFA(\n",
    "    states={'q1', 'q2'},\n",
    "    input_symbols={'0', '1'},\n",
    "    transitions={\n",
    "        'q1': {'0': 'q2', '1': 'q2'},\n",
    "        'q2': {'0': 'q2', '1': 'q2'}\n",
    "    },\n",
    "    initial_state='q1',\n",
    "    final_states={'q2'}\n",
    ")\n"
   ]
  },
  {
   "cell_type": "code",
   "execution_count": 11,
   "id": "c64e4f",
   "metadata": {
    "cocalc": {
     "outputs": {
      "3": {
       "name": "input",
       "opts": {
        "password": false,
        "prompt": "Enter a string"
       },
       "output_type": "stream",
       "value": "10010"
      }
     }
    },
    "collapsed": false
   },
   "outputs": [
    {
     "data": {
      "text/markdown": [
       "## **1.1**"
      ],
      "text/plain": [
       "<IPython.core.display.Markdown object>"
      ]
     },
     "execution_count": 11,
     "metadata": {
     },
     "output_type": "execute_result"
    },
    {
     "data": {
      "text/markdown": [
       "**a.** What is the start state of M1?\n",
       "\n",
       "q1"
      ],
      "text/plain": [
       "<IPython.core.display.Markdown object>"
      ]
     },
     "execution_count": 11,
     "metadata": {
     },
     "output_type": "execute_result"
    },
    {
     "data": {
      "text/markdown": [
       "**b.** What is the set of accept states of M1?\n",
       "\n",
       "{'q2'}"
      ],
      "text/plain": [
       "<IPython.core.display.Markdown object>"
      ]
     },
     "execution_count": 11,
     "metadata": {
     },
     "output_type": "execute_result"
    },
    {
     "data": {
      "text/markdown": [
       "**c.** What is the start state of M2?\n",
       "\n",
       "q1"
      ],
      "text/plain": [
       "<IPython.core.display.Markdown object>"
      ]
     },
     "execution_count": 11,
     "metadata": {
     },
     "output_type": "execute_result"
    },
    {
     "data": {
      "text/markdown": [
       "**d.** What is the set of accept states of M2?\n",
       "\n",
       "{'q4', 'q1'}"
      ],
      "text/plain": [
       "<IPython.core.display.Markdown object>"
      ]
     },
     "execution_count": 11,
     "metadata": {
     },
     "output_type": "execute_result"
    },
    {
     "data": {
      "text/markdown": [
       "**e.** What sequence of states does M1 go through on input `aabb`?\n",
       "\n",
       "→q1 →(a) q2 →(a) q3 →(b) q1 →(b) q1"
      ],
      "text/plain": [
       "<IPython.core.display.Markdown object>"
      ]
     },
     "execution_count": 11,
     "metadata": {
     },
     "output_type": "execute_result"
    },
    {
     "data": {
      "text/markdown": [
       "**f.** Does M1 accept the string `aabb`?\n",
       "\n",
       "Rejected"
      ],
      "text/plain": [
       "<IPython.core.display.Markdown object>"
      ]
     },
     "execution_count": 11,
     "metadata": {
     },
     "output_type": "execute_result"
    },
    {
     "data": {
      "text/markdown": [
       "**g.** Does M2 accept the string `ε`?\n",
       "\n",
       "Accepted"
      ],
      "text/plain": [
       "<IPython.core.display.Markdown object>"
      ]
     },
     "execution_count": 11,
     "metadata": {
     },
     "output_type": "execute_result"
    },
    {
     "data": {
      "text/markdown": [
       "## **1.2**"
      ],
      "text/plain": [
       "<IPython.core.display.Markdown object>"
      ]
     },
     "execution_count": 11,
     "metadata": {
     },
     "output_type": "execute_result"
    },
    {
     "data": {
      "text/markdown": [
       "**M1**"
      ],
      "text/plain": [
       "<IPython.core.display.Markdown object>"
      ]
     },
     "execution_count": 11,
     "metadata": {
     },
     "output_type": "execute_result"
    },
    {
     "data": {
      "text/markdown": [
       "**Q:** {'q3', 'q1', 'q2'}"
      ],
      "text/plain": [
       "<IPython.core.display.Markdown object>"
      ]
     },
     "execution_count": 11,
     "metadata": {
     },
     "output_type": "execute_result"
    },
    {
     "data": {
      "text/markdown": [
       "**Σ:** {'b', 'a'}"
      ],
      "text/plain": [
       "<IPython.core.display.Markdown object>"
      ]
     },
     "execution_count": 11,
     "metadata": {
     },
     "output_type": "execute_result"
    },
    {
     "data": {
      "text/markdown": [
       "**δ:**"
      ],
      "text/plain": [
       "<IPython.core.display.Markdown object>"
      ]
     },
     "execution_count": 11,
     "metadata": {
     },
     "output_type": "execute_result"
    },
    {
     "data": {
      "text/html": "<div>\n<style scoped>\n    .dataframe tbody tr th:only-of-type {\n        vertical-align: middle;\n    }\n\n    .dataframe tbody tr th {\n        vertical-align: top;\n    }\n\n    .dataframe thead th {\n        text-align: right;\n    }\n</style>\n<table border=\"1\" class=\"dataframe\">\n  <thead>\n    <tr style=\"text-align: right;\">\n      <th></th>\n      <th>a</th>\n      <th>b</th>\n    </tr>\n  </thead>\n  <tbody>\n    <tr>\n      <th>q1</th>\n      <td>q2</td>\n      <td>q1</td>\n    </tr>\n    <tr>\n      <th>q2</th>\n      <td>q3</td>\n      <td>q3</td>\n    </tr>\n    <tr>\n      <th>q3</th>\n      <td>q2</td>\n      <td>q1</td>\n    </tr>\n  </tbody>\n</table>\n</div>",
      "text/plain": [
       "     a   b\n",
       "q1  q2  q1\n",
       "q2  q3  q3\n",
       "q3  q2  q1"
      ]
     },
     "execution_count": 11,
     "metadata": {
     },
     "output_type": "execute_result"
    },
    {
     "data": {
      "text/markdown": [
       "**q:** q1"
      ],
      "text/plain": [
       "<IPython.core.display.Markdown object>"
      ]
     },
     "execution_count": 11,
     "metadata": {
     },
     "output_type": "execute_result"
    },
    {
     "data": {
      "text/markdown": [
       "**F:** {'q2'}"
      ],
      "text/plain": [
       "<IPython.core.display.Markdown object>"
      ]
     },
     "execution_count": 11,
     "metadata": {
     },
     "output_type": "execute_result"
    },
    {
     "name": "stdout",
     "output_type": "stream",
     "text": [
      "\n",
      "\n"
     ]
    },
    {
     "data": {
      "text/markdown": [
       "**M2**"
      ],
      "text/plain": [
       "<IPython.core.display.Markdown object>"
      ]
     },
     "execution_count": 11,
     "metadata": {
     },
     "output_type": "execute_result"
    },
    {
     "data": {
      "text/markdown": [
       "**Q:** {'q4', 'q3', 'q1', 'q2'}"
      ],
      "text/plain": [
       "<IPython.core.display.Markdown object>"
      ]
     },
     "execution_count": 11,
     "metadata": {
     },
     "output_type": "execute_result"
    },
    {
     "data": {
      "text/markdown": [
       "**Σ:** {'b', 'a'}"
      ],
      "text/plain": [
       "<IPython.core.display.Markdown object>"
      ]
     },
     "execution_count": 11,
     "metadata": {
     },
     "output_type": "execute_result"
    },
    {
     "data": {
      "text/markdown": [
       "**δ:**"
      ],
      "text/plain": [
       "<IPython.core.display.Markdown object>"
      ]
     },
     "execution_count": 11,
     "metadata": {
     },
     "output_type": "execute_result"
    },
    {
     "data": {
      "text/html": "<div>\n<style scoped>\n    .dataframe tbody tr th:only-of-type {\n        vertical-align: middle;\n    }\n\n    .dataframe tbody tr th {\n        vertical-align: top;\n    }\n\n    .dataframe thead th {\n        text-align: right;\n    }\n</style>\n<table border=\"1\" class=\"dataframe\">\n  <thead>\n    <tr style=\"text-align: right;\">\n      <th></th>\n      <th>a</th>\n      <th>b</th>\n    </tr>\n  </thead>\n  <tbody>\n    <tr>\n      <th>q1</th>\n      <td>q1</td>\n      <td>q2</td>\n    </tr>\n    <tr>\n      <th>q2</th>\n      <td>q3</td>\n      <td>q4</td>\n    </tr>\n    <tr>\n      <th>q3</th>\n      <td>q2</td>\n      <td>q1</td>\n    </tr>\n    <tr>\n      <th>q4</th>\n      <td>q3</td>\n      <td>q4</td>\n    </tr>\n  </tbody>\n</table>\n</div>",
      "text/plain": [
       "     a   b\n",
       "q1  q1  q2\n",
       "q2  q3  q4\n",
       "q3  q2  q1\n",
       "q4  q3  q4"
      ]
     },
     "execution_count": 11,
     "metadata": {
     },
     "output_type": "execute_result"
    },
    {
     "data": {
      "text/markdown": [
       "**q:** q1"
      ],
      "text/plain": [
       "<IPython.core.display.Markdown object>"
      ]
     },
     "execution_count": 11,
     "metadata": {
     },
     "output_type": "execute_result"
    },
    {
     "data": {
      "text/markdown": [
       "**F:** {'q4', 'q1'}"
      ],
      "text/plain": [
       "<IPython.core.display.Markdown object>"
      ]
     },
     "execution_count": 11,
     "metadata": {
     },
     "output_type": "execute_result"
    },
    {
     "name": "stdout",
     "output_type": "stream",
     "text": [
      "\n",
      "\n"
     ]
    },
    {
     "data": {
      "text/markdown": [
       "## **1.3**"
      ],
      "text/plain": [
       "<IPython.core.display.Markdown object>"
      ]
     },
     "execution_count": 11,
     "metadata": {
     },
     "output_type": "execute_result"
    },
    {
     "data": {
      "image/svg+xml": "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",
      "text/plain": [
       "DFA(states={'q3', 'q5', 'q4', 'q1', 'q2'}, input_symbols={'u', 'd'}, transitions={'q1': {'u': 'q1', 'd': 'q2'}, 'q2': {'u': 'q1', 'd': 'q3'}, 'q3': {'u': 'q2', 'd': 'q4'}, 'q4': {'u': 'q3', 'd': 'q5'}, 'q5': {'u': 'q4', 'd': 'q5'}}, initial_state='q3', final_states={'q3'}, allow_partial=False)"
      ]
     },
     "execution_count": 11,
     "metadata": {
     },
     "output_type": "execute_result"
    },
    {
     "data": {
      "text/markdown": [
       "## **1.4**"
      ],
      "text/plain": [
       "<IPython.core.display.Markdown object>"
      ]
     },
     "execution_count": 11,
     "metadata": {
     },
     "output_type": "execute_result"
    },
    {
     "data": {
      "text/markdown": [
       "**a.** {w | w begins with a 1 and ends with a 0}"
      ],
      "text/plain": [
       "<IPython.core.display.Markdown object>"
      ]
     },
     "execution_count": 11,
     "metadata": {
     },
     "output_type": "execute_result"
    },
    {
     "data": {
      "image/svg+xml": "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",
      "text/plain": [
       "DFA(states={'q4', 'q3', 'q1', 'q2'}, input_symbols={'0', '1'}, transitions={'q1': {'1': 'q2', '0': 'q4'}, 'q2': {'0': 'q3', '1': 'q2'}, 'q3': {'0': 'q3', '1': 'q2'}, 'q4': {'0': 'q4', '1': 'q4'}}, initial_state='q1', final_states={'q3'}, allow_partial=False)"
      ]
     },
     "execution_count": 11,
     "metadata": {
     },
     "output_type": "execute_result"
    },
    {
     "data": {
      "text/markdown": [
       "\n"
      ],
      "text/plain": [
       "<IPython.core.display.Markdown object>"
      ]
     },
     "execution_count": 11,
     "metadata": {
     },
     "output_type": "execute_result"
    },
    {
     "data": {
      "text/markdown": [
       "**b.** {w | w contains at least three 1s}"
      ],
      "text/plain": [
       "<IPython.core.display.Markdown object>"
      ]
     },
     "execution_count": 11,
     "metadata": {
     },
     "output_type": "execute_result"
    },
    {
     "data": {
      "image/svg+xml": "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",
      "text/plain": [
       "DFA(states={'q4', 'q3', 'q1', 'q2'}, input_symbols={'0', '1'}, transitions={'q1': {'0': 'q1', '1': 'q2'}, 'q2': {'0': 'q2', '1': 'q3'}, 'q3': {'0': 'q3', '1': 'q4'}, 'q4': {'0': 'q4', '1': 'q4'}}, initial_state='q1', final_states={'q4'}, allow_partial=False)"
      ]
     },
     "execution_count": 11,
     "metadata": {
     },
     "output_type": "execute_result"
    },
    {
     "data": {
      "text/markdown": [
       "\n"
      ],
      "text/plain": [
       "<IPython.core.display.Markdown object>"
      ]
     },
     "execution_count": 11,
     "metadata": {
     },
     "output_type": "execute_result"
    },
    {
     "data": {
      "text/markdown": [
       "**c.** {w | w contains the substring 0101}"
      ],
      "text/plain": [
       "<IPython.core.display.Markdown object>"
      ]
     },
     "execution_count": 11,
     "metadata": {
     },
     "output_type": "execute_result"
    },
    {
     "data": {
      "image/svg+xml": "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",
      "text/plain": [
       "DFA(states={'q3', 'q5', 'q4', 'q1', 'q2'}, input_symbols={'0', '1'}, transitions={'q1': {'0': 'q2', '1': 'q1'}, 'q2': {'0': 'q2', '1': 'q3'}, 'q3': {'0': 'q4', '1': 'q1'}, 'q4': {'0': 'q2', '1': 'q5'}, 'q5': {'0': 'q5', '1': 'q5'}}, initial_state='q1', final_states={'q5'}, allow_partial=False)"
      ]
     },
     "execution_count": 11,
     "metadata": {
     },
     "output_type": "execute_result"
    },
    {
     "data": {
      "text/markdown": [
       "\n"
      ],
      "text/plain": [
       "<IPython.core.display.Markdown object>"
      ]
     },
     "execution_count": 11,
     "metadata": {
     },
     "output_type": "execute_result"
    },
    {
     "data": {
      "text/markdown": [
       "**d.** {w | length at least 3 and third symbol is 0}"
      ],
      "text/plain": [
       "<IPython.core.display.Markdown object>"
      ]
     },
     "execution_count": 11,
     "metadata": {
     },
     "output_type": "execute_result"
    },
    {
     "data": {
      "image/svg+xml": "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",
      "text/plain": [
       "DFA(states={'q3', 'q5', 'q4', 'q1', 'q2'}, input_symbols={'0', '1'}, transitions={'q1': {'0': 'q2', '1': 'q2'}, 'q2': {'0': 'q3', '1': 'q3'}, 'q3': {'0': 'q4', '1': 'q5'}, 'q4': {'0': 'q4', '1': 'q4'}, 'q5': {'0': 'q5', '1': 'q5'}}, initial_state='q1', final_states={'q4'}, allow_partial=False)"
      ]
     },
     "execution_count": 11,
     "metadata": {
     },
     "output_type": "execute_result"
    },
    {
     "data": {
      "text/markdown": [
       "\n"
      ],
      "text/plain": [
       "<IPython.core.display.Markdown object>"
      ]
     },
     "execution_count": 11,
     "metadata": {
     },
     "output_type": "execute_result"
    },
    {
     "data": {
      "text/markdown": [
       "**e.** {w | starts with 0 and odd length, or starts with 1 and even length}"
      ],
      "text/plain": [
       "<IPython.core.display.Markdown object>"
      ]
     },
     "execution_count": 11,
     "metadata": {
     },
     "output_type": "execute_result"
    },
    {
     "data": {
      "image/svg+xml": "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",
      "text/plain": [
       "DFA(states={'q3', 'q5', 'q4', 'q1', 'q2'}, input_symbols={'0', '1'}, transitions={'q1': {'0': 'q2', '1': 'q4'}, 'q2': {'0': 'q3', '1': 'q3'}, 'q3': {'0': 'q2', '1': 'q2'}, 'q4': {'0': 'q5', '1': 'q5'}, 'q5': {'0': 'q4', '1': 'q4'}}, initial_state='q1', final_states={'q5', 'q2'}, allow_partial=False)"
      ]
     },
     "execution_count": 11,
     "metadata": {
     },
     "output_type": "execute_result"
    },
    {
     "data": {
      "text/markdown": [
       "\n"
      ],
      "text/plain": [
       "<IPython.core.display.Markdown object>"
      ]
     },
     "execution_count": 11,
     "metadata": {
     },
     "output_type": "execute_result"
    },
    {
     "data": {
      "text/markdown": [
       "**f.** {w | w doesn’t contain the substring 110}"
      ],
      "text/plain": [
       "<IPython.core.display.Markdown object>"
      ]
     },
     "execution_count": 11,
     "metadata": {
     },
     "output_type": "execute_result"
    },
    {
     "data": {
      "image/svg+xml": "PD94bWwgdmVyc2lvbj0iMS4wIiBlbmNvZGluZz0iVVRGLTgiIHN0YW5kYWxvbmU9Im5vIj8+CjwhRE9DVFlQRSBzdmcgUFVCTElDICItLy9XM0MvL0RURCBTVkcgMS4xLy9FTiIKICJodHRwOi8vd3d3LnczLm9yZy9HcmFwaGljcy9TVkcvMS4xL0RURC9zdmcxMS5kdGQiPgo8IS0tIEdlbmVyYXRlZCBieSBncmFwaHZpeiB2ZXJzaW9uIDIuNDMuMCAoMCkKIC0tPgo8IS0tIFBhZ2VzOiAxIC0tPgo8c3ZnIHdpZHRoPSIzOTJwdCIgaGVpZ2h0PSI5OHB0Igogdmlld0JveD0iMC4wMCAwLjAwIDM5Mi4zNCA5OC4yNSIgeG1sbnM9Imh0dHA6Ly93d3cudzMub3JnLzIwMDAvc3ZnIiB4bWxuczp4bGluaz0iaHR0cDovL3d3dy53My5vcmcvMTk5OS94bGluayI+CjxnIGlkPSJncmFwaDAiIGNsYXNzPSJncmFwaCIgdHJhbnNmb3JtPSJzY2FsZSgxIDEpIHJvdGF0ZSgwKSB0cmFuc2xhdGUoNCA5NC4yNSkiPgo8cG9seWdvbiBmaWxsPSJ3aGl0ZSIgc3Ryb2tlPSJ0cmFuc3BhcmVudCIgcG9pbnRzPSItNCw0IC00LC05NC4yNSAzODguMzQsLTk0LjI1IDM4OC4zNCw0IC00LDQiLz4KPCEtLSBlMzcwOGRmMSYjNDU7YjI2NyYjNDU7NGQ1YiYjNDU7OWRjYiYjNDU7NDMyNmUxOTFiZTFmIC0tPgo8ZyBpZD0ibm9kZTEiIGNsYXNzPSJub2RlIj4KPHRpdGxlPmUzNzA4ZGYxJiM0NTtiMjY3JiM0NTs0ZDViJiM0NTs5ZGNiJiM0NTs0MzI2ZTE5MWJlMWY8L3RpdGxlPgo8ZyBpZD0iYV9ub2RlMSI+PGEgeGxpbms6dGl0bGU9Ii4iPgo8ZWxsaXBzZSBmaWxsPSJibGFjayIgc3Ryb2tlPSJibGFjayIgY3g9IjEuOCIgY3k9Ii0zMC41IiByeD0iMS44IiByeT0iMS44Ii8+CjwvYT4KPC9nPgo8L2c+CjwhLS0gcTEgLS0+CjxnIGlkPSJub2RlMiIgY2xhc3M9Im5vZGUiPgo8dGl0bGU+cTE8L3RpdGxlPgo8ZWxsaXBzZSBmaWxsPSJub25lIiBzdHJva2U9ImJsYWNrIiBjeD0iNjcuMzUiIGN5PSItMzAuNSIgcng9IjI2LjUiIHJ5PSIyNi41Ii8+CjxlbGxpcHNlIGZpbGw9Im5vbmUiIHN0cm9rZT0iYmxhY2siIGN4PSI2Ny4zNSIgY3k9Ii0zMC41IiByeD0iMzAuNSIgcnk9IjMwLjUiLz4KPHRleHQgdGV4dC1hbmNob3I9Im1pZGRsZSIgeD0iNjcuMzUiIHk9Ii0yNi44IiBmb250LWZhbWlseT0iVGltZXMsc2VyaWYiIGZvbnQtc2l6ZT0iMTQuMDAiPnExPC90ZXh0Pgo8L2c+CjwhLS0gZTM3MDhkZjEmIzQ1O2IyNjcmIzQ1OzRkNWImIzQ1OzlkY2ImIzQ1OzQzMjZlMTkxYmUxZiYjNDU7Jmd0O3ExIC0tPgo8ZyBpZD0iZWRnZTEiIGNsYXNzPSJlZGdlIj4KPHRpdGxlPmUzNzA4ZGYxJiM0NTtiMjY3JiM0NTs0ZDViJiM0NTs5ZGNiJiM0NTs0MzI2ZTE5MWJlMWYmIzQ1OyZndDtxMTwvdGl0bGU+CjxnIGlkPSJhX2VkZ2UxIj48YSB4bGluazp0aXRsZT0iJiM0NTsmZ3Q7cTEiPgo8cGF0aCBmaWxsPSJub25lIiBzdHJva2U9ImJsYWNrIiBkPSJNMy45LC0zMC41QzcuNDksLTMwLjUgMTkuMzIsLTMwLjUgMzEuNzQsLTMwLjUiLz4KPHBvbHlnb24gZmlsbD0iYmxhY2siIHN0cm9rZT0iYmxhY2siIHBvaW50cz0iMzEuODMsLTMzLjQ4IDQwLjMzLC0zMC41IDMxLjgzLC0yNy41MyAzMS44MywtMzMuNDgiLz4KPC9hPgo8L2c+CjwvZz4KPCEtLSBxMSYjNDU7Jmd0O3ExIC0tPgo8ZyBpZD0iZWRnZTIiIGNsYXNzPSJlZGdlIj4KPHRpdGxlPnExJiM0NTsmZ3Q7cTE8L3RpdGxlPgo8cGF0aCBmaWxsPSJub25lIiBzdHJva2U9ImJsYWNrIiBkPSJNNTkuMTUsLTU2LjI1QzU4LjY5LC02Ni41OCA2MS40MiwtNzUuMjUgNjcuMzUsLTc1LjI1IDcxLjUyLC03NS4yNSA3NC4xMSwtNzAuOTYgNzUuMTEsLTY0LjgzIi8+Cjxwb2x5Z29uIGZpbGw9ImJsYWNrIiBzdHJva2U9ImJsYWNrIiBwb2ludHM9Ijc4LjA5LC02NC44OSA3NS41NSwtNTYuMjUgNzIuMTUsLTY0LjU5IDc4LjA5LC02NC44OSIvPgo8dGV4dCB0ZXh0LWFuY2hvcj0ibWlkZGxlIiB4PSI2Ny4zNSIgeT0iLTc5LjA1IiBmb250LWZhbWlseT0iVGltZXMsc2VyaWYiIGZvbnQtc2l6ZT0iMTQuMDAiPjA8L3RleHQ+CjwvZz4KPCEtLSBxMiAtLT4KPGcgaWQ9Im5vZGUzIiBjbGFzcz0ibm9kZSI+Cjx0aXRsZT5xMjwvdGl0bGU+CjxlbGxpcHNlIGZpbGw9Im5vbmUiIHN0cm9rZT0iYmxhY2siIGN4PSIxNjYuODQiIGN5PSItMzAuNSIgcng9IjI2LjUiIHJ5PSIyNi41Ii8+CjxlbGxpcHNlIGZpbGw9Im5vbmUiIHN0cm9rZT0iYmxhY2siIGN4PSIxNjYuODQiIGN5PSItMzAuNSIgcng9IjMwLjUiIHJ5PSIzMC41Ii8+Cjx0ZXh0IHRleHQtYW5jaG9yPSJtaWRkbGUiIHg9IjE2Ni44NCIgeT0iLTI2LjgiIGZvbnQtZmFtaWx5PSJUaW1lcyxzZXJpZiIgZm9udC1zaXplPSIxNC4wMCI+cTI8L3RleHQ+CjwvZz4KPCEtLSBxMSYjNDU7Jmd0O3EyIC0tPgo8ZyBpZD0iZWRnZTMiIGNsYXNzPSJlZGdlIj4KPHRpdGxlPnExJiM0NTsmZ3Q7cTI8L3RpdGxlPgo8cGF0aCBmaWxsPSJub25lIiBzdHJva2U9ImJsYWNrIiBkPSJNOTQuMjIsLTMwLjVDMTA1LjU3LC0zMC41IDExOS4wNiwtMzAuNSAxMzEuMjUsLTMwLjUiLz4KPHBvbHlnb24gZmlsbD0iYmxhY2siIHN0cm9rZT0iYmxhY2siIHBvaW50cz0iMTMxLjM1LC0zMy40OCAxMzkuODUsLTMwLjUgMTMxLjM1LC0yNy41MyAxMzEuMzUsLTMzLjQ4Ii8+Cjx0ZXh0IHRleHQtYW5jaG9yPSJtaWRkbGUiIHg9IjExNy4xIiB5PSItMzQuMyIgZm9udC1mYW1pbHk9IlRpbWVzLHNlcmlmIiBmb250LXNpemU9IjE0LjAwIj4xPC90ZXh0Pgo8L2c+CjwhLS0gcTImIzQ1OyZndDtxMSAtLT4KPGcgaWQ9ImVkZ2U0IiBjbGFzcz0iZWRnZSI+Cjx0aXRsZT5xMiYjNDU7Jmd0O3ExPC90aXRsZT4KPHBhdGggZmlsbD0ibm9uZSIgc3Ryb2tlPSJibGFjayIgZD0iTTE0My43NCwtMTYuODVDMTM0LjE4LC0xMi40OCAxMjIuNzYsLTkuMjkgMTEyLjEsLTExLjUgMTA3Ljg1LC0xMi4zOCAxMDMuNSwtMTMuNyA5OS4yOCwtMTUuMjQiLz4KPHBvbHlnb24gZmlsbD0iYmxhY2siIHN0cm9rZT0iYmxhY2siIHBvaW50cz0iOTguMTYsLTEyLjQ4IDkxLjM4LC0xOC40MSAxMDAuMzcsLTE4LjAxIDk4LjE2LC0xMi40OCIvPgo8dGV4dCB0ZXh0LWFuY2hvcj0ibWlkZGxlIiB4PSIxMTcuMSIgeT0iLTE1LjMiIGZvbnQtZmFtaWx5PSJUaW1lcyxzZXJpZiIgZm9udC1zaXplPSIxNC4wMCI+MDwvdGV4dD4KPC9nPgo8IS0tIHEzIC0tPgo8ZyBpZD0ibm9kZTQiIGNsYXNzPSJub2RlIj4KPHRpdGxlPnEzPC90aXRsZT4KPGVsbGlwc2UgZmlsbD0ibm9uZSIgc3Ryb2tlPSJibGFjayIgY3g9IjI2Ni4zNCIgY3k9Ii0zMC41IiByeD0iMjYuNSIgcnk9IjI2LjUiLz4KPGVsbGlwc2UgZmlsbD0ibm9uZSIgc3Ryb2tlPSJibGFjayIgY3g9IjI2Ni4zNCIgY3k9Ii0zMC41IiByeD0iMzAuNSIgcnk9IjMwLjUiLz4KPHRleHQgdGV4dC1hbmNob3I9Im1pZGRsZSIgeD0iMjY2LjM0IiB5PSItMjYuOCIgZm9udC1mYW1pbHk9IlRpbWVzLHNlcmlmIiBmb250LXNpemU9IjE0LjAwIj5xMzwvdGV4dD4KPC9nPgo8IS0tIHEyJiM0NTsmZ3Q7cTMgLS0+CjxnIGlkPSJlZGdlNSIgY2xhc3M9ImVkZ2UiPgo8dGl0bGU+cTImIzQ1OyZndDtxMzwvdGl0bGU+CjxwYXRoIGZpbGw9Im5vbmUiIHN0cm9rZT0iYmxhY2siIGQ9Ik0xOTMuNzIsLTMwLjVDMjA1LjA2LC0zMC41IDIxOC41NSwtMzAuNSAyMzAuNzUsLTMwLjUiLz4KPHBvbHlnb24gZmlsbD0iYmxhY2siIHN0cm9rZT0iYmxhY2siIHBvaW50cz0iMjMwLjg1LC0zMy40OCAyMzkuMzUsLTMwLjUgMjMwLjg1LC0yNy41MyAyMzAuODUsLTMzLjQ4Ii8+Cjx0ZXh0IHRleHQtYW5jaG9yPSJtaWRkbGUiIHg9IjIxNi41OSIgeT0iLTM0LjMiIGZvbnQtZmFtaWx5PSJUaW1lcyxzZXJpZiIgZm9udC1zaXplPSIxNC4wMCI+MTwvdGV4dD4KPC9nPgo8IS0tIHEzJiM0NTsmZ3Q7cTMgLS0+CjxnIGlkPSJlZGdlNiIgY2xhc3M9ImVkZ2UiPgo8dGl0bGU+cTMmIzQ1OyZndDtxMzwvdGl0bGU+CjxwYXRoIGZpbGw9Im5vbmUiIHN0cm9rZT0iYmxhY2siIGQ9Ik0yNTcuNDIsLTU1LjhDMjU2LjgsLTY2LjMzIDI1OS43OCwtNzUuMjUgMjY2LjM0LC03NS4yNSAyNzAuOTUsLTc1LjI1IDI3My43OSwtNzAuODQgMjc0Ljg2LC02NC41NiIvPgo8cG9seWdvbiBmaWxsPSJibGFjayIgc3Ryb2tlPSJibGFjayIgcG9pbnRzPSIyNzcuODQsLTY0LjQzIDI3NS4yNiwtNTUuOCAyNzEuOSwtNjQuMTYgMjc3Ljg0LC02NC40MyIvPgo8dGV4dCB0ZXh0LWFuY2hvcj0ibWlkZGxlIiB4PSIyNjYuMzQiIHk9Ii03OS4wNSIgZm9udC1mYW1pbHk9IlRpbWVzLHNlcmlmIiBmb250LXNpemU9IjE0LjAwIj4xPC90ZXh0Pgo8L2c+CjwhLS0gcTQgLS0+CjxnIGlkPSJub2RlNSIgY2xhc3M9Im5vZGUiPgo8dGl0bGU+cTQ8L3RpdGxlPgo8ZWxsaXBzZSBmaWxsPSJub25lIiBzdHJva2U9ImJsYWNrIiBjeD0iMzYxLjg0IiBjeT0iLTMwLjUiIHJ4PSIyMi41IiByeT0iMjIuNSIvPgo8dGV4dCB0ZXh0LWFuY2hvcj0ibWlkZGxlIiB4PSIzNjEuODQiIHk9Ii0yNi44IiBmb250LWZhbWlseT0iVGltZXMsc2VyaWYiIGZvbnQtc2l6ZT0iMTQuMDAiPnE0PC90ZXh0Pgo8L2c+CjwhLS0gcTMmIzQ1OyZndDtxNCAtLT4KPGcgaWQ9ImVkZ2U3IiBjbGFzcz0iZWRnZSI+Cjx0aXRsZT5xMyYjNDU7Jmd0O3E0PC90aXRsZT4KPHBhdGggZmlsbD0ibm9uZSIgc3Ryb2tlPSJibGFjayIgZD0iTTI5My4zOCwtMzAuNUMzMDQuODQsLTMwLjUgMzE4LjM3LC0zMC41IDMzMC4yOSwtMzAuNSIvPgo8cG9seWdvbiBmaWxsPSJibGFjayIgc3Ryb2tlPSJibGFjayIgcG9pbnRzPSIzMzAuNTQsLTMzLjQ4IDMzOS4wNCwtMzAuNSAzMzAuNTQsLTI3LjUzIDMzMC41NCwtMzMuNDgiLz4KPHRleHQgdGV4dC1hbmNob3I9Im1pZGRsZSIgeD0iMzE2LjA5IiB5PSItMzQuMyIgZm9udC1mYW1pbHk9IlRpbWVzLHNlcmlmIiBmb250LXNpemU9IjE0LjAwIj4wPC90ZXh0Pgo8L2c+CjwhLS0gcTQmIzQ1OyZndDtxNCAtLT4KPGcgaWQ9ImVkZ2U4IiBjbGFzcz0iZWRnZSI+Cjx0aXRsZT5xNCYjNDU7Jmd0O3E0PC90aXRsZT4KPHBhdGggZmlsbD0ibm9uZSIgc3Ryb2tlPSJibGFjayIgZD0iTTM1My43OSwtNTEuODhDMzUyLjc5LC02Mi4xNyAzNTUuNDgsLTcxLjI1IDM2MS44NCwtNzEuMjUgMzY2LjMxLC03MS4yNSAzNjguOTYsLTY2Ljc2IDM2OS44LC02MC41MiIvPgo8cG9seWdvbiBmaWxsPSJibGFjayIgc3Ryb2tlPSJibGFjayIgcG9pbnRzPSIzNzIuNzgsLTYwLjQxIDM2OS44OCwtNTEuODggMzY2LjgzLC02MC4zNiAzNzIuNzgsLTYwLjQxIi8+Cjx0ZXh0IHRleHQtYW5jaG9yPSJtaWRkbGUiIHg9IjM2MS44NCIgeT0iLTc1LjA1IiBmb250LWZhbWlseT0iVGltZXMsc2VyaWYiIGZvbnQtc2l6ZT0iMTQuMDAiPjAsMTwvdGV4dD4KPC9nPgo8L2c+Cjwvc3ZnPgo=",
      "text/plain": [
       "DFA(states={'q4', 'q3', 'q1', 'q2'}, input_symbols={'0', '1'}, transitions={'q1': {'0': 'q1', '1': 'q2'}, 'q2': {'0': 'q1', '1': 'q3'}, 'q3': {'0': 'q4', '1': 'q3'}, 'q4': {'0': 'q4', '1': 'q4'}}, initial_state='q1', final_states={'q3', 'q1', 'q2'}, allow_partial=False)"
      ]
     },
     "execution_count": 11,
     "metadata": {
     },
     "output_type": "execute_result"
    },
    {
     "data": {
      "text/markdown": [
       "\n"
      ],
      "text/plain": [
       "<IPython.core.display.Markdown object>"
      ]
     },
     "execution_count": 11,
     "metadata": {
     },
     "output_type": "execute_result"
    },
    {
     "data": {
      "text/markdown": [
       "**g.** {w | length of w is at most 5}"
      ],
      "text/plain": [
       "<IPython.core.display.Markdown object>"
      ]
     },
     "execution_count": 11,
     "metadata": {
     },
     "output_type": "execute_result"
    },
    {
     "data": {
      "image/svg+xml": "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",
      "text/plain": [
       "DFA(states={'q6', 'q3', 'q7', 'q5', 'q4', 'q1', 'q2'}, input_symbols={'0', '1'}, transitions={'q1': {'0': 'q2', '1': 'q2'}, 'q2': {'0': 'q3', '1': 'q3'}, 'q3': {'0': 'q4', '1': 'q4'}, 'q4': {'0': 'q5', '1': 'q5'}, 'q5': {'0': 'q6', '1': 'q6'}, 'q6': {'0': 'q7', '1': 'q7'}, 'q7': {'0': 'q7', '1': 'q7'}}, initial_state='q1', final_states={'q6', 'q3', 'q5', 'q4', 'q1', 'q2'}, allow_partial=False)"
      ]
     },
     "execution_count": 11,
     "metadata": {
     },
     "output_type": "execute_result"
    },
    {
     "data": {
      "text/markdown": [
       "\n"
      ],
      "text/plain": [
       "<IPython.core.display.Markdown object>"
      ]
     },
     "execution_count": 11,
     "metadata": {
     },
     "output_type": "execute_result"
    },
    {
     "data": {
      "text/markdown": [
       "**h.** {w | any string except 11 and 111}"
      ],
      "text/plain": [
       "<IPython.core.display.Markdown object>"
      ]
     },
     "execution_count": 11,
     "metadata": {
     },
     "output_type": "execute_result"
    },
    {
     "data": {
      "image/svg+xml": "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",
      "text/plain": [
       "DFA(states={'q3', 'q5', 'q4', 'q1', 'q2'}, input_symbols={'0', '1'}, transitions={'q1': {'0': 'q5', '1': 'q2'}, 'q2': {'0': 'q5', '1': 'q3'}, 'q3': {'0': 'q5', '1': 'q4'}, 'q4': {'0': 'q5', '1': 'q5'}, 'q5': {'0': 'q5', '1': 'q5'}}, initial_state='q1', final_states={'q5', 'q1', 'q2'}, allow_partial=False)"
      ]
     },
     "execution_count": 11,
     "metadata": {
     },
     "output_type": "execute_result"
    },
    {
     "data": {
      "text/markdown": [
       "\n"
      ],
      "text/plain": [
       "<IPython.core.display.Markdown object>"
      ]
     },
     "execution_count": 11,
     "metadata": {
     },
     "output_type": "execute_result"
    },
    {
     "data": {
      "text/markdown": [
       "**i.** {w | every odd position of w is a 1}"
      ],
      "text/plain": [
       "<IPython.core.display.Markdown object>"
      ]
     },
     "execution_count": 11,
     "metadata": {
     },
     "output_type": "execute_result"
    },
    {
     "data": {
      "image/svg+xml": "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",
      "text/plain": [
       "DFA(states={'q3', 'q1', 'q2'}, input_symbols={'0', '1'}, transitions={'q1': {'1': 'q2', '0': 'q3'}, 'q2': {'0': 'q1', '1': 'q1'}, 'q3': {'0': 'q3', '1': 'q3'}}, initial_state='q1', final_states={'q2', 'q1'}, allow_partial=False)"
      ]
     },
     "execution_count": 11,
     "metadata": {
     },
     "output_type": "execute_result"
    },
    {
     "data": {
      "text/markdown": [
       "\n"
      ],
      "text/plain": [
       "<IPython.core.display.Markdown object>"
      ]
     },
     "execution_count": 11,
     "metadata": {
     },
     "output_type": "execute_result"
    },
    {
     "data": {
      "text/markdown": [
       "**j.** {w | w contains at least two 0s and at most one 1}"
      ],
      "text/plain": [
       "<IPython.core.display.Markdown object>"
      ]
     },
     "execution_count": 11,
     "metadata": {
     },
     "output_type": "execute_result"
    },
    {
     "data": {
      "image/svg+xml": "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",
      "text/plain": [
       "DFA(states={'q6', 'q3', 'q7', 'q5', 'q4', 'q1', 'q2'}, input_symbols={'0', '1'}, transitions={'q1': {'0': 'q2', '1': 'q4'}, 'q2': {'0': 'q3', '1': 'q5'}, 'q3': {'0': 'q3', '1': 'q6'}, 'q4': {'0': 'q5', '1': 'q7'}, 'q5': {'0': 'q6', '1': 'q7'}, 'q6': {'0': 'q6', '1': 'q7'}, 'q7': {'0': 'q7', '1': 'q7'}}, initial_state='q1', final_states={'q6', 'q3'}, allow_partial=False)"
      ]
     },
     "execution_count": 11,
     "metadata": {
     },
     "output_type": "execute_result"
    },
    {
     "data": {
      "text/markdown": [
       "\n"
      ],
      "text/plain": [
       "<IPython.core.display.Markdown object>"
      ]
     },
     "execution_count": 11,
     "metadata": {
     },
     "output_type": "execute_result"
    },
    {
     "data": {
      "text/markdown": [
       "**k.** {ɛ, 0}"
      ],
      "text/plain": [
       "<IPython.core.display.Markdown object>"
      ]
     },
     "execution_count": 11,
     "metadata": {
     },
     "output_type": "execute_result"
    },
    {
     "data": {
      "image/svg+xml": "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",
      "text/plain": [
       "DFA(states={'q3', 'q1', 'q2'}, input_symbols={'0', '1'}, transitions={'q1': {'0': 'q2', '1': 'q3'}, 'q2': {'0': 'q3', '1': 'q3'}, 'q3': {'0': 'q3', '1': 'q3'}}, initial_state='q1', final_states={'q2', 'q1'}, allow_partial=False)"
      ]
     },
     "execution_count": 11,
     "metadata": {
     },
     "output_type": "execute_result"
    },
    {
     "data": {
      "text/markdown": [
       "\n"
      ],
      "text/plain": [
       "<IPython.core.display.Markdown object>"
      ]
     },
     "execution_count": 11,
     "metadata": {
     },
     "output_type": "execute_result"
    },
    {
     "data": {
      "text/markdown": [
       "**l.** {w | even number of 0s OR exactly two 1s}"
      ],
      "text/plain": [
       "<IPython.core.display.Markdown object>"
      ]
     },
     "execution_count": 11,
     "metadata": {
     },
     "output_type": "execute_result"
    },
    {
     "data": {
      "image/svg+xml": "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",
      "text/plain": [
       "DFA(states={'q6', 'q3', 'q4', 'q2', 'q1', 'q7', 'q8', 'q5'}, input_symbols={'0', '1'}, transitions={'q1': {'0': 'q2', '1': 'q3'}, 'q2': {'0': 'q1', '1': 'q4'}, 'q3': {'0': 'q4', '1': 'q5'}, 'q4': {'0': 'q3', '1': 'q6'}, 'q5': {'0': 'q6', '1': 'q7'}, 'q6': {'0': 'q5', '1': 'q8'}, 'q7': {'0': 'q8', '1': 'q7'}, 'q8': {'0': 'q7', '1': 'q8'}}, initial_state='q1', final_states={'q6', 'q3', 'q7', 'q5', 'q1'}, allow_partial=False)"
      ]
     },
     "execution_count": 11,
     "metadata": {
     },
     "output_type": "execute_result"
    },
    {
     "data": {
      "text/markdown": [
       "\n"
      ],
      "text/plain": [
       "<IPython.core.display.Markdown object>"
      ]
     },
     "execution_count": 11,
     "metadata": {
     },
     "output_type": "execute_result"
    },
    {
     "data": {
      "text/markdown": [
       "**m.** {∅ (empty language)}"
      ],
      "text/plain": [
       "<IPython.core.display.Markdown object>"
      ]
     },
     "execution_count": 11,
     "metadata": {
     },
     "output_type": "execute_result"
    },
    {
     "data": {
      "image/svg+xml": "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",
      "text/plain": [
       "DFA(states={'q1'}, input_symbols={'0', '1'}, transitions={'q1': {'0': 'q1', '1': 'q1'}}, initial_state='q1', final_states=set(), allow_partial=False)"
      ]
     },
     "execution_count": 11,
     "metadata": {
     },
     "output_type": "execute_result"
    },
    {
     "data": {
      "text/markdown": [
       "\n"
      ],
      "text/plain": [
       "<IPython.core.display.Markdown object>"
      ]
     },
     "execution_count": 11,
     "metadata": {
     },
     "output_type": "execute_result"
    },
    {
     "data": {
      "text/markdown": [
       "**n.** {w | all strings except ε}"
      ],
      "text/plain": [
       "<IPython.core.display.Markdown object>"
      ]
     },
     "execution_count": 11,
     "metadata": {
     },
     "output_type": "execute_result"
    },
    {
     "data": {
      "image/svg+xml": "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",
      "text/plain": [
       "DFA(states={'q2', 'q1'}, input_symbols={'0', '1'}, transitions={'q1': {'0': 'q2', '1': 'q2'}, 'q2': {'0': 'q2', '1': 'q2'}}, initial_state='q1', final_states={'q2'}, allow_partial=False)"
      ]
     },
     "execution_count": 11,
     "metadata": {
     },
     "output_type": "execute_result"
    },
    {
     "data": {
      "text/markdown": [
       "\n"
      ],
      "text/plain": [
       "<IPython.core.display.Markdown object>"
      ]
     },
     "execution_count": 11,
     "metadata": {
     },
     "output_type": "execute_result"
    }
   ],
   "source": [
    "# Prints solutions to problems 1.1-1.4\n",
    "\n",
    "# Necessary imports\n",
    "from IPython.display import display, Markdown\n",
    "from automata.fa.dfa import DFA\n",
    "\n",
    "display(Markdown(\"## **1.1**\"))\n",
    "display(Markdown(f\"**a.** What is the start state of M1?\\n\\n{M1.initial_state}\"))\n",
    "display(Markdown(f\"**b.** What is the set of accept states of M1?\\n\\n{set(M1.final_states)}\"))\n",
    "display(Markdown(f\"**c.** What is the start state of M2?\\n\\n{M2.initial_state}\"))\n",
    "display(Markdown(f\"**d.** What is the set of accept states of M2?\\n\\n{set(M2.final_states)}\"))\n",
    "display(Markdown(f\"**e.** What sequence of states does M1 go through on input `aabb`?\\n\\n{getPath(M1, 'aabb')}\"))\n",
    "display(Markdown(f\"**f.** Does M1 accept the string `aabb`?\\n\\n{checkAccept(M1, 'aabb')}\"))\n",
    "display(Markdown(f\"**g.** Does M2 accept the string `ε`?\\n\\n{checkAccept(M2, '')}\"))\n",
    "\n",
    "display(Markdown(\"## **1.2**\"))\n",
    "display(Markdown(f\"**M1**\"))\n",
    "printDescription(M1)\n",
    "print(\"\\n\")\n",
    "display(Markdown(f\"**M2**\"))\n",
    "printDescription(M2)\n",
    "print(\"\\n\")\n",
    "\n",
    "display(Markdown(\"## **1.3**\"))\n",
    "display(M)\n",
    "\n",
    "\n",
    "display(Markdown(\"## **1.4**\"))\n",
    "display(Markdown(\"**a.** {w | w begins with a 1 and ends with a 0}\"))\n",
    "display(dfa_a)\n",
    "display(Markdown(\"\\n\"))\n",
    "\n",
    "display(Markdown(\"**b.** {w | w contains at least three 1s}\"))\n",
    "display(dfa_b)\n",
    "display(Markdown(\"\\n\"))\n",
    "\n",
    "display(Markdown(\"**c.** {w | w contains the substring 0101}\"))\n",
    "display(dfa_c)\n",
    "display(Markdown(\"\\n\"))\n",
    "\n",
    "display(Markdown(\"**d.** {w | length at least 3 and third symbol is 0}\"))\n",
    "display(dfa_d)\n",
    "display(Markdown(\"\\n\"))\n",
    "\n",
    "display(Markdown(\"**e.** {w | starts with 0 and odd length, or starts with 1 and even length}\"))\n",
    "display(dfa_e)\n",
    "display(Markdown(\"\\n\"))\n",
    "\n",
    "display(Markdown(\"**f.** {w | w doesn’t contain the substring 110}\"))\n",
    "display(dfa_f)\n",
    "display(Markdown(\"\\n\"))\n",
    "\n",
    "display(Markdown(\"**g.** {w | length of w is at most 5}\"))\n",
    "display(dfa_g)\n",
    "display(Markdown(\"\\n\"))\n",
    "\n",
    "display(Markdown(\"**h.** {w | any string except 11 and 111}\"))\n",
    "display(dfa_h)\n",
    "display(Markdown(\"\\n\"))\n",
    "\n",
    "display(Markdown(\"**i.** {w | every odd position of w is a 1}\"))\n",
    "display(dfa_i)\n",
    "display(Markdown(\"\\n\"))\n",
    "\n",
    "display(Markdown(\"**j.** {w | w contains at least two 0s and at most one 1}\"))\n",
    "display(dfa_j)\n",
    "display(Markdown(\"\\n\"))\n",
    "\n",
    "display(Markdown(\"**k.** {ɛ, 0}\"))\n",
    "display(dfa_k)\n",
    "display(Markdown(\"\\n\"))\n",
    "\n",
    "display(Markdown(\"**l.** {w | even number of 0s OR exactly two 1s}\"))\n",
    "display(dfa_l)\n",
    "display(Markdown(\"\\n\"))\n",
    "\n",
    "display(Markdown(\"**m.** {∅ (empty language)}\"))\n",
    "display(dfa_m)\n",
    "display(Markdown(\"\\n\"))\n",
    "\n",
    "display(Markdown(\"**n.** {w | all strings except ε}\"))\n",
    "display(dfa_n)\n",
    "display(Markdown(\"\\n\"))"
   ]
  }
 ],
 "metadata": {
  "kernelspec": {
   "argv": [
    "/usr/bin/python3",
    "-m",
    "ipykernel",
    "--HistoryManager.enabled=False",
    "--matplotlib=inline",
    "-c",
    "%config InlineBackend.figure_formats = set(['retina'])\nimport matplotlib; matplotlib.rcParams['figure.figsize'] = (12, 7)",
    "-f",
    "{connection_file}"
   ],
   "display_name": "Python 3 (system-wide)",
   "env": {
   },
   "language": "python",
   "metadata": {
    "cocalc": {
     "description": "Python 3 programming language",
     "priority": 100,
     "url": "https://www.python.org/"
    }
   },
   "name": "python3",
   "resource_dir": "/ext/jupyter/kernels/python3"
  },
  "language_info": {
   "codemirror_mode": {
    "name": "ipython",
    "version": 3
   },
   "file_extension": ".py",
   "mimetype": "text/x-python",
   "name": "python",
   "nbconvert_exporter": "python",
   "pygments_lexer": "ipython3",
   "version": "3.10.12"
  }
 },
 "nbformat": 4,
 "nbformat_minor": 4
}