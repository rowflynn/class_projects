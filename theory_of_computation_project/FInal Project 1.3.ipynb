{
 "cells": [
  {
   "cell_type": "code",
   "execution_count": 38,
   "id": "0e1e2f",
   "metadata": {
    "collapsed": false
   },
   "outputs": [
   ],
   "source": [
    "from automata.fa.nfa import NFA\n",
    "\n",
    "nfa_a = NFA(\n",
    "    states={'q1','q2','q3','q4','q5','q6'},\n",
    "    input_symbols={'0', '1'},\n",
    "    transitions={\n",
    "        'q1': {'0': {'q2'}, '1': {'q2'}},\n",
    "        'q2': {'': {'q1'}, '0': {'q3'}},\n",
    "        'q3': {'0': {'q4'}},\n",
    "        'q4': {'0': {'q5'}},\n",
    "        'q5': {'0': {'q6'}, '1': {'q6'}},\n",
    "        'q6': {'': {'q5'}}\n",
    "    },\n",
    "    initial_state='q1',\n",
    "    final_states={'q6'}\n",
    ")\n",
    "\n",
    "nfa_b = NFA(\n",
    "    states={'q1','q2','q3','q4','q5','q6','q7','q8','q9','q10'},\n",
    "    input_symbols={'0', '1'},\n",
    "    transitions={\n",
    "        'q1': {'': {'q2','q8'}},\n",
    "        'q2': {'': {'q4'}, '0': {'q3'}},\n",
    "        'q3': {'0': {'q4'}},\n",
    "        'q4': {'': {'q2','q5'}},\n",
    "        'q5': {'1': {'q6'}},\n",
    "        'q6': {'1': {'q7'}},\n",
    "        'q7': {'': {'q1'}},\n",
    "        'q8': {'0': {'q9'}},\n",
    "        'q9': {'1': {'q10'}},\n",
    "        'q10': {'': {'q1'}}\n",
    "    },\n",
    "    initial_state='q1',\n",
    "    final_states={'q1','q7','q10'}\n",
    ")\n",
    "\n",
    "nfa_c = NFA(\n",
    "    states={'q1','q2'},\n",
    "    input_symbols={'0', '1'},\n",
    "    transitions={\n",
    "        'q1': {},\n",
    "        'q2': {'': {'q1'}}\n",
    "    },\n",
    "    initial_state='q1',\n",
    "    final_states={'q1'}\n",
    ")"
   ]
  },
  {
   "cell_type": "code",
   "execution_count": 2,
   "id": "7950f4",
   "metadata": {
    "collapsed": false
   },
   "outputs": [
    {
     "data": {
      "text/markdown": [
       "## **1.13**"
      ],
      "text/plain": [
       "<IPython.core.display.Markdown object>"
      ]
     },
     "execution_count": 2,
     "metadata": {
     },
     "output_type": "execute_result"
    },
    {
     "data": {
      "text/markdown": [
       "**a.** {w | w begins with a 1 and ends with a 0}"
      ],
      "text/plain": [
       "<IPython.core.display.Markdown object>"
      ]
     },
     "execution_count": 2,
     "metadata": {
     },
     "output_type": "execute_result"
    },
    {
     "data": {
      "text/markdown": [
       "$1\\Sigma^*0$"
      ],
      "text/plain": [
       "<IPython.core.display.Markdown object>"
      ]
     },
     "execution_count": 2,
     "metadata": {
     },
     "output_type": "execute_result"
    },
    {
     "data": {
      "text/markdown": [
       "**b.** {w | w contains at least three 1s}"
      ],
      "text/plain": [
       "<IPython.core.display.Markdown object>"
      ]
     },
     "execution_count": 2,
     "metadata": {
     },
     "output_type": "execute_result"
    },
    {
     "data": {
      "text/markdown": [
       "$\\Sigma^*1\\Sigma^*1\\Sigma^*1\\Sigma^*$"
      ],
      "text/plain": [
       "<IPython.core.display.Markdown object>"
      ]
     },
     "execution_count": 2,
     "metadata": {
     },
     "output_type": "execute_result"
    },
    {
     "data": {
      "text/markdown": [
       "**c.** {w | w contains the substring 0101}"
      ],
      "text/plain": [
       "<IPython.core.display.Markdown object>"
      ]
     },
     "execution_count": 2,
     "metadata": {
     },
     "output_type": "execute_result"
    },
    {
     "data": {
      "text/markdown": [
       "$\\Sigma^*0101\\Sigma^*$"
      ],
      "text/plain": [
       "<IPython.core.display.Markdown object>"
      ]
     },
     "execution_count": 2,
     "metadata": {
     },
     "output_type": "execute_result"
    },
    {
     "data": {
      "text/markdown": [
       "**d.** {w | length at least 3 and third symbol is 0}"
      ],
      "text/plain": [
       "<IPython.core.display.Markdown object>"
      ]
     },
     "execution_count": 2,
     "metadata": {
     },
     "output_type": "execute_result"
    },
    {
     "data": {
      "text/markdown": [
       "$\\Sigma\\Sigma0\\Sigma^*$"
      ],
      "text/plain": [
       "<IPython.core.display.Markdown object>"
      ]
     },
     "execution_count": 2,
     "metadata": {
     },
     "output_type": "execute_result"
    },
    {
     "data": {
      "text/markdown": [
       "**e.** {w | starts with 0 and odd length, or starts with 1 and even length}"
      ],
      "text/plain": [
       "<IPython.core.display.Markdown object>"
      ]
     },
     "execution_count": 2,
     "metadata": {
     },
     "output_type": "execute_result"
    },
    {
     "data": {
      "text/markdown": [
       "$(0(\\Sigma\\Sigma)^*)\\cup(1\\Sigma(\\Sigma\\Sigma)^*)$"
      ],
      "text/plain": [
       "<IPython.core.display.Markdown object>"
      ]
     },
     "execution_count": 2,
     "metadata": {
     },
     "output_type": "execute_result"
    },
    {
     "data": {
      "text/markdown": [
       "**f.** {w | w doesn’t contain the substring 110}"
      ],
      "text/plain": [
       "<IPython.core.display.Markdown object>"
      ]
     },
     "execution_count": 2,
     "metadata": {
     },
     "output_type": "execute_result"
    },
    {
     "data": {
      "text/markdown": [
       "$(0 \\cup 10)^* 1^*$"
      ],
      "text/plain": [
       "<IPython.core.display.Markdown object>"
      ]
     },
     "execution_count": 2,
     "metadata": {
     },
     "output_type": "execute_result"
    },
    {
     "data": {
      "text/markdown": [
       "**g.** {w | length of w is at most 5}"
      ],
      "text/plain": [
       "<IPython.core.display.Markdown object>"
      ]
     },
     "execution_count": 2,
     "metadata": {
     },
     "output_type": "execute_result"
    },
    {
     "data": {
      "text/markdown": [
       "$(\\Sigma\\cup\\varepsilon)(\\Sigma\\cup\\varepsilon)(\\Sigma\\cup\\varepsilon)(\\Sigma\\cup\\varepsilon)(\\Sigma\\cup\\varepsilon)$"
      ],
      "text/plain": [
       "<IPython.core.display.Markdown object>"
      ]
     },
     "execution_count": 2,
     "metadata": {
     },
     "output_type": "execute_result"
    },
    {
     "data": {
      "text/markdown": [
       "**h.** {w | any string except 11 and 111}"
      ],
      "text/plain": [
       "<IPython.core.display.Markdown object>"
      ]
     },
     "execution_count": 2,
     "metadata": {
     },
     "output_type": "execute_result"
    },
    {
     "data": {
      "text/markdown": [
       "$(\\varepsilon \\cup 1) \\cup \\Sigma^*0\\Sigma^* \\cup \\Sigma \\Sigma \\Sigma \\Sigma \\Sigma^*$"
      ],
      "text/plain": [
       "<IPython.core.display.Markdown object>"
      ]
     },
     "execution_count": 2,
     "metadata": {
     },
     "output_type": "execute_result"
    },
    {
     "data": {
      "text/markdown": [
       "**i.** {w | every odd position of w is a 1}"
      ],
      "text/plain": [
       "<IPython.core.display.Markdown object>"
      ]
     },
     "execution_count": 2,
     "metadata": {
     },
     "output_type": "execute_result"
    },
    {
     "data": {
      "text/markdown": [
       "$1(\\Sigma1)^*\\cup\\varepsilon$"
      ],
      "text/plain": [
       "<IPython.core.display.Markdown object>"
      ]
     },
     "execution_count": 2,
     "metadata": {
     },
     "output_type": "execute_result"
    },
    {
     "data": {
      "text/markdown": [
       "**j.** {w | w contains at least two 0s and at most one 1}"
      ],
      "text/plain": [
       "<IPython.core.display.Markdown object>"
      ]
     },
     "execution_count": 2,
     "metadata": {
     },
     "output_type": "execute_result"
    },
    {
     "data": {
      "text/markdown": [
       "$000^* \\cup 000^*10^* \\cup 0^*1000^* \\cup 00^*100^*$"
      ],
      "text/plain": [
       "<IPython.core.display.Markdown object>"
      ]
     },
     "execution_count": 2,
     "metadata": {
     },
     "output_type": "execute_result"
    },
    {
     "data": {
      "text/markdown": [
       "**k.** {ɛ, 0}"
      ],
      "text/plain": [
       "<IPython.core.display.Markdown object>"
      ]
     },
     "execution_count": 2,
     "metadata": {
     },
     "output_type": "execute_result"
    },
    {
     "data": {
      "text/markdown": [
       "$\\epsilon\\cup0$"
      ],
      "text/plain": [
       "<IPython.core.display.Markdown object>"
      ]
     },
     "execution_count": 2,
     "metadata": {
     },
     "output_type": "execute_result"
    },
    {
     "data": {
      "text/markdown": [
       "**l.** {w | even number of 0s OR exactly two 1s}"
      ],
      "text/plain": [
       "<IPython.core.display.Markdown object>"
      ]
     },
     "execution_count": 2,
     "metadata": {
     },
     "output_type": "execute_result"
    },
    {
     "data": {
      "text/markdown": [
       "$(1^*01^*01^*)^*\\cup0^*10^*10^*$"
      ],
      "text/plain": [
       "<IPython.core.display.Markdown object>"
      ]
     },
     "execution_count": 2,
     "metadata": {
     },
     "output_type": "execute_result"
    },
    {
     "data": {
      "text/markdown": [
       "**m.** {∅ (empty language)}"
      ],
      "text/plain": [
       "<IPython.core.display.Markdown object>"
      ]
     },
     "execution_count": 2,
     "metadata": {
     },
     "output_type": "execute_result"
    },
    {
     "data": {
      "text/markdown": [
       "$\\emptyset$"
      ],
      "text/plain": [
       "<IPython.core.display.Markdown object>"
      ]
     },
     "execution_count": 2,
     "metadata": {
     },
     "output_type": "execute_result"
    },
    {
     "data": {
      "text/markdown": [
       "**n.** {w | all strings except ε}"
      ],
      "text/plain": [
       "<IPython.core.display.Markdown object>"
      ]
     },
     "execution_count": 2,
     "metadata": {
     },
     "output_type": "execute_result"
    },
    {
     "data": {
      "text/markdown": [
       "$\\Sigma\\Sigma^*$"
      ],
      "text/plain": [
       "<IPython.core.display.Markdown object>"
      ]
     },
     "execution_count": 2,
     "metadata": {
     },
     "output_type": "execute_result"
    },
    {
     "data": {
      "text/markdown": [
       "## **1.14**"
      ],
      "text/plain": [
       "<IPython.core.display.Markdown object>"
      ]
     },
     "execution_count": 2,
     "metadata": {
     },
     "output_type": "execute_result"
    },
    {
     "data": {
      "text/markdown": [
       "**a.** $(0\\cup1)^*000(0\\cup1)^*$"
      ],
      "text/plain": [
       "<IPython.core.display.Markdown object>"
      ]
     },
     "execution_count": 2,
     "metadata": {
     },
     "output_type": "execute_result"
    },
    {
     "ename": "NameError",
     "evalue": "name 'nfa_a' is not defined",
     "output_type": "error",
     "traceback": [
      "\u001b[0;31m---------------------------------------------------------------------------\u001b[0m",
      "\u001b[0;31mNameError\u001b[0m                                 Traceback (most recent call last)",
      "Cell \u001b[0;32mIn[2], line 52\u001b[0m\n\u001b[1;32m     49\u001b[0m display(Markdown(\u001b[38;5;124m\"\u001b[39m\u001b[38;5;124m## **1.14**\u001b[39m\u001b[38;5;124m\"\u001b[39m))\n\u001b[1;32m     51\u001b[0m display(Markdown(\u001b[38;5;124m\"\u001b[39m\u001b[38;5;124m**a.** $(0\u001b[39m\u001b[38;5;130;01m\\\\\u001b[39;00m\u001b[38;5;124mcup1)^*000(0\u001b[39m\u001b[38;5;130;01m\\\\\u001b[39;00m\u001b[38;5;124mcup1)^*$\u001b[39m\u001b[38;5;124m\"\u001b[39m))\n\u001b[0;32m---> 52\u001b[0m display(\u001b[43mnfa_a\u001b[49m)\n\u001b[1;32m     53\u001b[0m display(Markdown(\u001b[38;5;124m\"\u001b[39m\u001b[38;5;130;01m\\n\u001b[39;00m\u001b[38;5;124m\"\u001b[39m))\n\u001b[1;32m     55\u001b[0m display(Markdown(\u001b[38;5;124m\"\u001b[39m\u001b[38;5;124m**b.** $(((00)^*(11))\u001b[39m\u001b[38;5;130;01m\\\\\u001b[39;00m\u001b[38;5;124mcup01)^*$\u001b[39m\u001b[38;5;124m\"\u001b[39m))\n",
      "\u001b[0;31mNameError\u001b[0m: name 'nfa_a' is not defined"
     ]
    }
   ],
   "source": [
    "from IPython.display import Markdown, display\n",
    "\n",
    "display(Markdown(\"## **1.13**\"))\n",
    "\n",
    "display(Markdown(\"**a.** {w | w begins with a 1 and ends with a 0}\"))\n",
    "display(Markdown(\"$1\\\\Sigma^*0$\"))\n",
    "\n",
    "display(Markdown(\"**b.** {w | w contains at least three 1s}\"))\n",
    "display(Markdown(\"$\\\\Sigma^*1\\\\Sigma^*1\\\\Sigma^*1\\\\Sigma^*$\"))\n",
    "\n",
    "display(Markdown(\"**c.** {w | w contains the substring 0101}\"))\n",
    "display(Markdown(\"$\\\\Sigma^*0101\\\\Sigma^*$\"))\n",
    "\n",
    "display(Markdown(\"**d.** {w | length at least 3 and third symbol is 0}\"))\n",
    "display(Markdown(\"$\\\\Sigma\\\\Sigma0\\\\Sigma^*$\"))\n",
    "\n",
    "display(Markdown(\"**e.** {w | starts with 0 and odd length, or starts with 1 and even length}\"))\n",
    "display(Markdown(\"$(0(\\\\Sigma\\\\Sigma)^*)\\\\cup(1\\\\Sigma(\\\\Sigma\\\\Sigma)^*)$\"))\n",
    "\n",
    "display(Markdown(\"**f.** {w | w doesn’t contain the substring 110}\"))\n",
    "display(Markdown(\"$(0 \\\\cup 10)^* 1^*$\"))\n",
    "\n",
    "display(Markdown(\"**g.** {w | length of w is at most 5}\"))\n",
    "display(Markdown(\"$(\\\\Sigma\\\\cup\\\\varepsilon)(\\\\Sigma\\\\cup\\\\varepsilon)(\\\\Sigma\\\\cup\\\\varepsilon)(\\\\Sigma\\\\cup\\\\varepsilon)(\\\\Sigma\\\\cup\\\\varepsilon)$\"))\n",
    "\n",
    "display(Markdown(\"**h.** {w | any string except 11 and 111}\"))\n",
    "display(Markdown(\"$(\\\\varepsilon \\\\cup 1) \\\\cup \\\\Sigma^*0\\\\Sigma^* \\\\cup \\\\Sigma \\\\Sigma \\\\Sigma \\\\Sigma \\\\Sigma^*$\"))\n",
    "\n",
    "display(Markdown(\"**i.** {w | every odd position of w is a 1}\"))\n",
    "display(Markdown(\"$1(\\\\Sigma1)^*\\\\cup\\\\varepsilon$\"))\n",
    "\n",
    "display(Markdown(\"**j.** {w | w contains at least two 0s and at most one 1}\"))\n",
    "display(Markdown(\"$000^* \\\\cup 000^*10^* \\\\cup 0^*1000^* \\\\cup 00^*100^*$\"))\n",
    "\n",
    "display(Markdown(\"**k.** {ɛ, 0}\"))\n",
    "display(Markdown(\"$\\\\epsilon\\\\cup0$\"))\n",
    "\n",
    "display(Markdown(\"**l.** {w | even number of 0s OR exactly two 1s}\"))\n",
    "display(Markdown(\"$(1^*01^*01^*)^*\\\\cup0^*10^*10^*$\"))\n",
    "\n",
    "display(Markdown(\"**m.** {∅ (empty language)}\"))\n",
    "display(Markdown(\"$\\\\emptyset$\"))\n",
    "\n",
    "display(Markdown(\"**n.** {w | all strings except ε}\"))\n",
    "display(Markdown(\"$\\\\Sigma\\\\Sigma^*$\"))\n",
    "\n",
    "\n",
    "\n",
    "display(Markdown(\"## **1.14**\"))\n",
    "\n",
    "display(Markdown(\"**a.** $(0\\\\cup1)^*000(0\\\\cup1)^*$\"))\n",
    "display(nfa_a)\n",
    "display(Markdown(\"\\n\"))\n",
    "\n",
    "display(Markdown(\"**b.** $(((00)^*(11))\\\\cup01)^*$\"))\n",
    "display(nfa_b)\n",
    "display(Markdown(\"\\n\"))\n",
    "\n",
    "display(Markdown(\"**c.** $\\\\emptyset^*$\"))\n",
    "display(nfa_c)\n",
    "display(Markdown(\"\\n\"))\n",
    "\n",
    "display(Markdown(\"## **1.15**\"))\n",
    "display(Markdown(\"**a.** aab, b | aba, bbbab\"))\n",
    "display(Markdown(\"**b.** abbab, ab | abba, bb\"))\n",
    "display(Markdown(\"**c.** aaaa, bb | ab, baab\"))\n",
    "display(Markdown(\"**d.** aaa, $\\\\varepsilon$ | aa, aaba\"))\n",
    "display(Markdown(\"**e.** babaaba, aba | aaa, abb\"))\n",
    "display(Markdown(\"**f.** aba, bab | ababab, baab\"))\n",
    "display(Markdown(\"**g.** b, ab | abb, ba\"))\n",
    "display(Markdown(\"**h.** a, bbab | $\\\\varepsilon$, $\\\\emptyset$\"))\n",
    "\n",
    "display(Markdown(\"## **1.16**\"))\n",
    "\n",
    "display(Markdown(\"**a.** $a^*b((ba^*b)^*\\\\cup a^*)^*$\"))\n",
    "display(Markdown(\"**b.** $(a\\\\cup b)a^*b(ba^*b)^*(a(a\\\\cup b)a^*b(ba^*b)^*)^*$\"))\n",
    "\n"
   ]
  }
 ],
 "metadata": {
  "kernelspec": {
   "argv": [
    "/usr/bin/python3",
    "-m",
    "ipykernel",
    "--HistoryManager.enabled=False",
    "--matplotlib=inline",
    "-c",
    "%config InlineBackend.figure_formats = set(['retina'])\nimport matplotlib; matplotlib.rcParams['figure.figsize'] = (12, 7)",
    "-f",
    "{connection_file}"
   ],
   "display_name": "Python 3 (system-wide)",
   "env": {
   },
   "language": "python",
   "metadata": {
    "cocalc": {
     "description": "Python 3 programming language",
     "priority": 100,
     "url": "https://www.python.org/"
    }
   },
   "name": "python3",
   "resource_dir": "/ext/jupyter/kernels/python3"
  }
 },
 "nbformat": 4,
 "nbformat_minor": 4
}