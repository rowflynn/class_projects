{
 "cells": [
  {
   "cell_type": "code",
   "execution_count": 5,
   "id": "fe2384",
   "metadata": {
    "collapsed": false
   },
   "outputs": [
   ],
   "source": [
    "from automata.fa.nfa import NFA\n",
    "\n",
    "nfa_a = NFA(\n",
    "    states={'q1','q2','q3','q4','q5','q6','q7','q8'},\n",
    "    input_symbols={'0', '1'},\n",
    "    transitions={\n",
    "        'q1': {'0': {'q5'}, '1': {'q2'}},\n",
    "        'q2': {'0': {'q4'}, '1': {'q3'}},\n",
    "        'q3': {'0': {'q8'}},\n",
    "        'q4': {'1': {'q8'}},\n",
    "        'q5': {'0': {'q6'}, '1': {'q7'}},\n",
    "        'q6': {'0': {'q8'}},\n",
    "        'q7': {'1': {'q8'}}\n",
    "    },\n",
    "    initial_state='q1',\n",
    "    final_states={'q8'}\n",
    ")\n",
    "\n",
    "nfa_b = NFA(\n",
    "    states={'q1','q2','q3','q4'},\n",
    "    input_symbols={'0', '1'},\n",
    "    transitions={\n",
    "        'q1': {'0': {'q3'}, '1': {'q2'}},\n",
    "        'q2': {'1': {'q4'}},\n",
    "        'q3': {'0': {'q4'}}\n",
    "    },\n",
    "    initial_state='q1',\n",
    "    final_states={'q4'}\n",
    ")"
   ]
  },
  {
   "cell_type": "code",
   "execution_count": 8,
   "id": "1ded63",
   "metadata": {
    "collapsed": false
   },
   "outputs": [
    {
     "data": {
      "text/markdown": [
       "## **1.17**"
      ],
      "text/plain": [
       "<IPython.core.display.Markdown object>"
      ]
     },
     "execution_count": 8,
     "metadata": {
     },
     "output_type": "execute_result"
    },
    {
     "data": {
      "text/markdown": [
       "Recall that by the Pumping Lemma, there exists a pumping length $p$ such that any string $s \\in L$ with $|s| \\geq p$ can be split into $s = xyz$ with:  \n",
       "1. $|xy| \\leq p$  \n",
       "2. $|y| > 0$  \n",
       "3. $xy^iz \\in L$ for all $i \\geq 0$  \n",
       "\n"
      ],
      "text/plain": [
       "<IPython.core.display.Markdown object>"
      ]
     },
     "execution_count": 8,
     "metadata": {
     },
     "output_type": "execute_result"
    },
    {
     "data": {
      "text/markdown": [
       "**a.**"
      ],
      "text/plain": [
       "<IPython.core.display.Markdown object>"
      ]
     },
     "execution_count": 8,
     "metadata": {
     },
     "output_type": "execute_result"
    },
    {
     "data": {
      "text/markdown": [
       "To prove that $L = \\{0^n1^n2^n \\mid n \\geq 0\\}$ is not regular, we will use proof by contradiction.  \n",
       "Assume that $L$ is regular.  \n",
       "Choose $s = 0^p1^p2^p \\in L$. Then $xy$ must be within the first $p$ symbols, all 0s. So $y = 0^k$ for $k > 0$.  \n",
       "Pumping $y$ gives us a string with more than $p$ 0s in the first block, but still only $p$ 1s and 2s in the other blocks. So the blocks are no longer equal.  \n",
       "Thus, $xy^2z \\notin L$, contradicting the Pumping Lemma. Therefore, $L$ is not regular."
      ],
      "text/plain": [
       "<IPython.core.display.Markdown object>"
      ]
     },
     "execution_count": 8,
     "metadata": {
     },
     "output_type": "execute_result"
    },
    {
     "data": {
      "text/markdown": [
       "**b.**"
      ],
      "text/plain": [
       "<IPython.core.display.Markdown object>"
      ]
     },
     "execution_count": 8,
     "metadata": {
     },
     "output_type": "execute_result"
    },
    {
     "data": {
      "text/markdown": [
       "To prove that $L =\\{www \\mid w \\in \\{ab\\}^* \\}$ is not regular, we will use proof by contradiction.  \n",
       "Assume that $L$ is regular.  \n",
       "Choose $w = a^p b \\in L$. Then $xy$ must be within the first $p$ symbols, all $a$s. So $y = a^k$ for $k > 0$.  \n",
       "Pumping $y$ gives us a string with more than $p$ $a$s in the first block, but still only $p$ $a$s in the other blocks. So the blocks are no longer equal.  \n",
       "Thus, $xy^2z \\notin L$, contradicting the Pumping Lemma. Therefore, $L$ is not regular."
      ],
      "text/plain": [
       "<IPython.core.display.Markdown object>"
      ]
     },
     "execution_count": 8,
     "metadata": {
     },
     "output_type": "execute_result"
    },
    {
     "data": {
      "text/markdown": [
       "**c.**"
      ],
      "text/plain": [
       "<IPython.core.display.Markdown object>"
      ]
     },
     "execution_count": 8,
     "metadata": {
     },
     "output_type": "execute_result"
    },
    {
     "data": {
      "text/markdown": [
       "To prove that $L = \\{ a^{2^n} \\mid n \\geq 0 \\}$ is not regular, we will use proof by contradiction.  \n",
       "Assume that $L$ is regular.  \n",
       "Choose $s = a^{2^k}$ for some $k$ such that $2^k \\geq p$.  \n",
       "Since $|xy| \\leq p$, both $x$ and $y$ consist only of $a$s from the beginning of the string.  \n",
       "Let $y = a^t$ where $t > 0$. Then $xy^2z = a^{2^k + t}$.  \n",
       "Now, $2^k + t$ is not a power of 2, since $0 < t < 2^k$ implies $2^k + t$ lies strictly between $2^k$ and $2^{k+1}$.  \n",
       "Hence, $xy^2z \\notin L$, violating the Pumping Lemma. Therefore, $L$ is not regular."
      ],
      "text/plain": [
       "<IPython.core.display.Markdown object>"
      ]
     },
     "execution_count": 8,
     "metadata": {
     },
     "output_type": "execute_result"
    },
    {
     "data": {
      "text/markdown": [
       "## **1.18**"
      ],
      "text/plain": [
       "<IPython.core.display.Markdown object>"
      ]
     },
     "execution_count": 8,
     "metadata": {
     },
     "output_type": "execute_result"
    },
    {
     "data": {
      "text/markdown": [
       "The error in this proof is the citation of Example 1.38. This example proves that $0^n 1^n$ cannot be pumped. This is only true because there must be an equal number of zeros and ones. This is not the case for $0^* 1^*$ so Example 1.38 cannot be cited."
      ],
      "text/plain": [
       "<IPython.core.display.Markdown object>"
      ]
     },
     "execution_count": 8,
     "metadata": {
     },
     "output_type": "execute_result"
    },
    {
     "data": {
      "text/markdown": [
       "## **1.23**"
      ],
      "text/plain": [
       "<IPython.core.display.Markdown object>"
      ]
     },
     "execution_count": 8,
     "metadata": {
     },
     "output_type": "execute_result"
    },
    {
     "data": {
      "text/markdown": [
       "Recall that by the Pumping Lemma, there exists a pumping length $p$ such that any string $s \\in L$ with $|s| \\geq p$ can be split into $s = xyz$ with:  \n",
       "1. $|xy| \\leq p$  \n",
       "2. $|y| > 0$  \n",
       "3. $xy^iz \\in L$ for all $i \\geq 0$  \n",
       "\n"
      ],
      "text/plain": [
       "<IPython.core.display.Markdown object>"
      ]
     },
     "execution_count": 8,
     "metadata": {
     },
     "output_type": "execute_result"
    },
    {
     "data": {
      "text/markdown": [
       "**a.**"
      ],
      "text/plain": [
       "<IPython.core.display.Markdown object>"
      ]
     },
     "execution_count": 8,
     "metadata": {
     },
     "output_type": "execute_result"
    },
    {
     "data": {
      "text/markdown": [
       "To prove that $L = \\{0^n1^m0^n \\mid m,n \\geq 0\\}$ is not regular, we will use proof by contradiction.  \n",
       "Assume that $L$ is regular.  \n",
       "Choose $s = 0^p1^p0^p \\in L$. Then $xy$ must be within the first $p$ symbols, all 0s. So $y = 0^k$ for $k > 0$.  \n",
       "Pumping $y$ gives us a string with more than $p$ 0s in the first block, but still only $p$ 0s in the last block. So the first and third blocks are no longer equal.  \n",
       "Thus, $xy^2z \\notin L$, contradicting the Pumping Lemma. Therefore, $L$ is not regular."
      ],
      "text/plain": [
       "<IPython.core.display.Markdown object>"
      ]
     },
     "execution_count": 8,
     "metadata": {
     },
     "output_type": "execute_result"
    },
    {
     "data": {
      "text/markdown": [
       "**b.**"
      ],
      "text/plain": [
       "<IPython.core.display.Markdown object>"
      ]
     },
     "execution_count": 8,
     "metadata": {
     },
     "output_type": "execute_result"
    },
    {
     "data": {
      "text/markdown": [
       "To prove that $L =$ The compliment of $\\{0^n1^n \\mid n \\geq 0\\}$ is not regular, we will use proof by contradiction.  \n",
       "Suppose $L$ were regular. Then since regular languages are closed under complement, its complement $\\{0^n1^n \\mid n \\geq 0\\}$ would also be regular.  \n",
       "We know that $\\{0^n1^n \\}$ is not regular which is a contradiction.  \n",
       "Therefore, $L$ is not regular."
      ],
      "text/plain": [
       "<IPython.core.display.Markdown object>"
      ]
     },
     "execution_count": 8,
     "metadata": {
     },
     "output_type": "execute_result"
    },
    {
     "data": {
      "text/markdown": [
       "**c.**"
      ],
      "text/plain": [
       "<IPython.core.display.Markdown object>"
      ]
     },
     "execution_count": 8,
     "metadata": {
     },
     "output_type": "execute_result"
    },
    {
     "data": {
      "text/markdown": [
       "To prove that $L = \\{0^m1^n \\mid m \\neq n\\}$ is not regular, we will use proof by contradiction.  \n",
       "Assume $L$ is regular  \n",
       "Suppose $L_1 = 0^m 1^n$ and $L_2 = 0^k 1^k$  \n",
       "So, $L =\\overline{\\overline{L_1}\\cup L_2} = L_1 - L_2$  \n",
       "We know that regular languages are closed under union and compliment, so $L_1$ and $L_2$ must be regular.  \n",
       "We know that $L_2 = 0^k 1^k$ is not regular so $L$ must not be regular."
      ],
      "text/plain": [
       "<IPython.core.display.Markdown object>"
      ]
     },
     "execution_count": 8,
     "metadata": {
     },
     "output_type": "execute_result"
    },
    {
     "data": {
      "text/markdown": [
       "**d.**"
      ],
      "text/plain": [
       "<IPython.core.display.Markdown object>"
      ]
     },
     "execution_count": 8,
     "metadata": {
     },
     "output_type": "execute_result"
    },
    {
     "data": {
      "text/markdown": [
       "To prove that $L = \\{w \\in \\{0,1\\}^* \\mid w \\text{ is not a palindrome}\\}$ is not regular, we will use proof by contradiction.  \n",
       "Assume, for contradiction, that $L$ is regular.  \n",
       "Then its complement $\\overline{L} = \\{w \\in \\{0,1\\}^* \\mid w \\text{ is a palindrome}\\}$ would also be regular (since regular languages are closed under complement).  \n",
       "Choose $s = 0^p1 0^p$. Clearly, $s$ is a palindrome and $|s| = 2p+1 \\geq p$, so $s \\in \\overline{L}$.  \n",
       "Since $|xy| \\leq p$, $y$ lies entirely in the first block of 0s. So $y = 0^k$ for some $k > 0$.  \n",
       "Consider $xy^2z = 0^{p+k}1 0^p$. This is not a palindrome because the two halves of the string no longer match.  \n",
       "Therefore, $xy^2z \\notin \\overline{L}$, contradicting the Pumping Lemma.  \n",
       "Hence, $\\overline{L}$ is not regular, so $L$ is also not regular."
      ],
      "text/plain": [
       "<IPython.core.display.Markdown object>"
      ]
     },
     "execution_count": 8,
     "metadata": {
     },
     "output_type": "execute_result"
    },
    {
     "data": {
      "text/markdown": [
       "## **1.24**"
      ],
      "text/plain": [
       "<IPython.core.display.Markdown object>"
      ]
     },
     "execution_count": 8,
     "metadata": {
     },
     "output_type": "execute_result"
    },
    {
     "data": {
      "text/markdown": [
       "To show that it is true that For any string $w=w_1w_2...w_n$, the reverse of $w$, written $w^R$, is the string $w$ in reverse order,$w_n...w_2w_1$ for any language $A$, where $A^R = \\{w|w \\in A\\}$ we will construct a finite automata.  \n",
       "For any DFA $D$ which accepts $A$, the DFA $D^R$ which accepts $A^R$ is constucted in this manner.  \n",
       "1. Reverse the direction of all transitions in $D$  \n",
       "2. Add a new state which had empty transitions to all of the accept stated of $D$.  \n",
       "3. Make all accept states in $D$ not accept states and make the start state an accept state.  \n",
       "4. Make the added state the start state.  \n",
       "\n",
       "This new automata $D^R$ accepts only strings in $A^R$."
      ],
      "text/plain": [
       "<IPython.core.display.Markdown object>"
      ]
     },
     "execution_count": 8,
     "metadata": {
     },
     "output_type": "execute_result"
    },
    {
     "data": {
      "text/markdown": [
       "## **1.25**"
      ],
      "text/plain": [
       "<IPython.core.display.Markdown object>"
      ]
     },
     "execution_count": 8,
     "metadata": {
     },
     "output_type": "execute_result"
    },
    {
     "data": {
      "text/markdown": [
       "To show that the given language is regular we will construct an automata which accepts it. The automata is shown-  \n"
      ],
      "text/plain": [
       "<IPython.core.display.Markdown object>"
      ]
     },
     "execution_count": 8,
     "metadata": {
     },
     "output_type": "execute_result"
    },
    {
     "data": {
      "image/svg+xml": "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",
      "text/plain": [
       "NFA(states={'q1', 'q7', 'q6', 'q8', 'q5', 'q3', 'q2', 'q4'}, input_symbols={'0', '1'}, transitions={'q1': {'0': {'q5'}, '1': {'q2'}}, 'q2': {'0': {'q4'}, '1': {'q3'}}, 'q3': {'0': {'q8'}}, 'q4': {'1': {'q8'}}, 'q5': {'0': {'q6'}, '1': {'q7'}}, 'q6': {'0': {'q8'}}, 'q7': {'1': {'q8'}}}, initial_state='q1', final_states={'q8'})"
      ]
     },
     "execution_count": 8,
     "metadata": {
     },
     "output_type": "execute_result"
    },
    {
     "data": {
      "text/markdown": [
       "## **1.26**"
      ],
      "text/plain": [
       "<IPython.core.display.Markdown object>"
      ]
     },
     "execution_count": 8,
     "metadata": {
     },
     "output_type": "execute_result"
    },
    {
     "data": {
      "text/markdown": [
       "The smallest possible automata is shown-  \n"
      ],
      "text/plain": [
       "<IPython.core.display.Markdown object>"
      ]
     },
     "execution_count": 8,
     "metadata": {
     },
     "output_type": "execute_result"
    },
    {
     "data": {
      "image/svg+xml": "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",
      "text/plain": [
       "NFA(states={'q1', 'q2', 'q4', 'q3'}, input_symbols={'0', '1'}, transitions={'q1': {'0': {'q3'}, '1': {'q2'}}, 'q2': {'1': {'q4'}}, 'q3': {'0': {'q4'}}}, initial_state='q1', final_states={'q4'})"
      ]
     },
     "execution_count": 8,
     "metadata": {
     },
     "output_type": "execute_result"
    },
    {
     "data": {
      "text/markdown": [
       "## **1.36**"
      ],
      "text/plain": [
       "<IPython.core.display.Markdown object>"
      ]
     },
     "execution_count": 8,
     "metadata": {
     },
     "output_type": "execute_result"
    },
    {
     "data": {
      "text/markdown": [
       "To prove that $ADD = \\{x=y+z\\mid x, y, z$ are binary integers, and $x$ is the sum of $y$ and $z\\}$ is not regular, we will use proof by contradiction.  \n",
       "Assume that $ADD$ is regular.  \n",
       "Choose $s = $\\'$x^p=y^p+z^p$\\'$ \\in ADD$ where $x \\neq 0$. Then $xy$ must be within the first $p$ symbols, containing some part of $x$. So $y = 0^k$ for $k > 0$.  \n",
       "Pumping $y$ gives us a value of $x$ which can increase independently of $y$ and $z$ destroting the equality.  \n",
       "Thus, $xy^2z \\notin L$, contradicting the Pumping Lemma. Therefore, $ADD$ is not regular."
      ],
      "text/plain": [
       "<IPython.core.display.Markdown object>"
      ]
     },
     "execution_count": 8,
     "metadata": {
     },
     "output_type": "execute_result"
    },
    {
     "data": {
      "text/markdown": [
       "## **1.37**"
      ],
      "text/plain": [
       "<IPython.core.display.Markdown object>"
      ]
     },
     "execution_count": 8,
     "metadata": {
     },
     "output_type": "execute_result"
    },
    {
     "data": {
      "text/markdown": [
       "Language $L = \\{a^i b^j c^k \\mid j = k\\}$ can be pumped.  \n",
       "Choose $s = a^pb^pc \\in L$. Then $xy$ must be within the first $p$ symbols, all $a$s.  \n",
       "Since there is no constraint on the number of $a$s this can safely be pumped despite the fact that we know $L$ is not regular.  \n",
       "This is okay because the Pumping Lemma is necessary for a language to be regular, but not sufficient to prove that a language is regular. In other words, $L$ is regular $\\Rightarrow L$ can be pumped, but $L$ can be pumped $\\not\\Rightarrow L$ is regular."
      ],
      "text/plain": [
       "<IPython.core.display.Markdown object>"
      ]
     },
     "execution_count": 8,
     "metadata": {
     },
     "output_type": "execute_result"
    }
   ],
   "source": [
    "from IPython.display import Markdown, display\n",
    "\n",
    "display(Markdown(\"## **1.17**\"))\n",
    "\n",
    "display(Markdown(\"Recall that by the Pumping Lemma, there exists a pumping length $p$ such that any string $s \\\\in L$ with $|s| \\\\geq p$ can be split into $s = xyz$ with:  \\n\"\n",
    "\"1. $|xy| \\\\leq p$  \\n\"\n",
    "\"2. $|y| > 0$  \\n\"\n",
    "\"3. $xy^iz \\\\in L$ for all $i \\\\geq 0$  \\n\\n\"))\n",
    "\n",
    "display(Markdown(\"**a.**\"))\n",
    "display(Markdown(\n",
    "\"To prove that $L = \\\\{0^n1^n2^n \\\\mid n \\\\geq 0\\\\}$ is not regular, we will use proof by contradiction.  \\n\"\n",
    "\"Assume that $L$ is regular.  \\n\"\n",
    "\"Choose $s = 0^p1^p2^p \\\\in L$. Then $xy$ must be within the first $p$ symbols, all 0s. So $y = 0^k$ for $k > 0$.  \\n\"\n",
    "\"Pumping $y$ gives us a string with more than $p$ 0s in the first block, but still only $p$ 1s and 2s in the other blocks. So the blocks are no longer equal.  \\n\"\n",
    "\"Thus, $xy^2z \\\\notin L$, contradicting the Pumping Lemma. Therefore, $L$ is not regular.\"\n",
    "))\n",
    "\n",
    "display(Markdown(\"**b.**\"))\n",
    "display(Markdown(\n",
    "\"To prove that $L =\\\\{www \\\\mid w \\\\in \\\\{ab\\\\}^* \\\\}$ is not regular, we will use proof by contradiction.  \\n\"\n",
    "\"Assume that $L$ is regular.  \\n\"\n",
    "\"Choose $w = a^p b \\\\in L$. Then $xy$ must be within the first $p$ symbols, all $a$s. So $y = a^k$ for $k > 0$.  \\n\"\n",
    "\"Pumping $y$ gives us a string with more than $p$ $a$s in the first block, but still only $p$ $a$s in the other blocks. So the blocks are no longer equal.  \\n\"\n",
    "\"Thus, $xy^2z \\\\notin L$, contradicting the Pumping Lemma. Therefore, $L$ is not regular.\"\n",
    "))\n",
    "\n",
    "\n",
    "display(Markdown(\"**c.**\"))\n",
    "display(Markdown(\n",
    "\"To prove that $L = \\\\{ a^{2^n} \\\\mid n \\\\geq 0 \\\\}$ is not regular, we will use proof by contradiction.  \\n\"\n",
    "\"Assume that $L$ is regular.  \\n\"\n",
    "\"Choose $s = a^{2^k}$ for some $k$ such that $2^k \\\\geq p$.  \\n\"\n",
    "\"Since $|xy| \\\\leq p$, both $x$ and $y$ consist only of $a$s from the beginning of the string.  \\n\"\n",
    "\"Let $y = a^t$ where $t > 0$. Then $xy^2z = a^{2^k + t}$.  \\n\"\n",
    "\"Now, $2^k + t$ is not a power of 2, since $0 < t < 2^k$ implies $2^k + t$ lies strictly between $2^k$ and $2^{k+1}$.  \\n\"\n",
    "\"Hence, $xy^2z \\\\notin L$, violating the Pumping Lemma. Therefore, $L$ is not regular.\"\n",
    "))\n",
    "\n",
    "display(Markdown(\"## **1.18**\"))\n",
    "display(Markdown(\"The error in this proof is the citation of Example 1.38. This example proves that $0^n 1^n$ cannot be pumped. This is only true because there must be an equal number of zeros and ones. This is not the case for $0^* 1^*$ so Example 1.38 cannot be cited.\"))\n",
    "\n",
    "display(Markdown(\"## **1.23**\"))\n",
    "\n",
    "display(Markdown(\"Recall that by the Pumping Lemma, there exists a pumping length $p$ such that any string $s \\\\in L$ with $|s| \\\\geq p$ can be split into $s = xyz$ with:  \\n\"\n",
    "\"1. $|xy| \\\\leq p$  \\n\"\n",
    "\"2. $|y| > 0$  \\n\"\n",
    "\"3. $xy^iz \\\\in L$ for all $i \\\\geq 0$  \\n\\n\"))\n",
    "\n",
    "display(Markdown(\"**a.**\"))\n",
    "display(Markdown(\n",
    "\"To prove that $L = \\\\{0^n1^m0^n \\\\mid m,n \\\\geq 0\\\\}$ is not regular, we will use proof by contradiction.  \\n\"\n",
    "\"Assume that $L$ is regular.  \\n\"\n",
    "\"Choose $s = 0^p1^p0^p \\\\in L$. Then $xy$ must be within the first $p$ symbols, all 0s. So $y = 0^k$ for $k > 0$.  \\n\"\n",
    "\"Pumping $y$ gives us a string with more than $p$ 0s in the first block, but still only $p$ 0s in the last block. So the first and third blocks are no longer equal.  \\n\"\n",
    "\"Thus, $xy^2z \\\\notin L$, contradicting the Pumping Lemma. Therefore, $L$ is not regular.\"\n",
    "))\n",
    "\n",
    "display(Markdown(\"**b.**\"))\n",
    "display(Markdown(\n",
    "\"To prove that $L =$ The compliment of $\\\\{0^n1^n \\\\mid n \\\\geq 0\\\\}$ is not regular, we will use proof by contradiction.  \\n\"\n",
    "\"Suppose $L$ were regular. Then since regular languages are closed under complement, its complement $\\\\{0^n1^n \\\\mid n \\\\geq 0\\\\}$ would also be regular.  \\n\"\n",
    "\"We know that $\\\\{0^n1^n \\\\}$ is not regular which is a contradiction.  \\n\"\n",
    "\"Therefore, $L$ is not regular.\"\n",
    "))\n",
    "\n",
    "display(Markdown(\"**c.**\"))\n",
    "display(Markdown(\n",
    "\"To prove that $L = \\\\{0^m1^n \\\\mid m \\\\neq n\\\\}$ is not regular, we will use proof by contradiction.  \\n\"\n",
    "\"Assume $L$ is regular  \\n\"\n",
    "\"Suppose $L_1 = 0^m 1^n$ and $L_2 = 0^k 1^k$  \\n\"\n",
    "\"So, $L =\\\\overline{\\overline{L_1}\\\\cup L_2} = L_1 - L_2$  \\n\"\n",
    "\"We know that regular languages are closed under union and compliment, so $L_1$ and $L_2$ must be regular.  \\n\"\n",
    "\"We know that $L_2 = 0^k 1^k$ is not regular so $L$ must not be regular.\"\n",
    "))\n",
    "\n",
    "\n",
    "display(Markdown(\"**d.**\"))\n",
    "display(Markdown(\n",
    "\"To prove that $L = \\\\{w \\\\in \\\\{0,1\\\\}^* \\\\mid w \\\\text{ is not a palindrome}\\\\}$ is not regular, we will use proof by contradiction.  \\n\"\n",
    "\"Assume, for contradiction, that $L$ is regular.  \\n\"\n",
    "\"Then its complement $\\\\overline{L} = \\\\{w \\\\in \\\\{0,1\\\\}^* \\\\mid w \\\\text{ is a palindrome}\\\\}$ would also be regular (since regular languages are closed under complement).  \\n\"\n",
    "\"Choose $s = 0^p1 0^p$. Clearly, $s$ is a palindrome and $|s| = 2p+1 \\\\geq p$, so $s \\\\in \\\\overline{L}$.  \\n\"\n",
    "\"Since $|xy| \\\\leq p$, $y$ lies entirely in the first block of 0s. So $y = 0^k$ for some $k > 0$.  \\n\"\n",
    "\"Consider $xy^2z = 0^{p+k}1 0^p$. This is not a palindrome because the two halves of the string no longer match.  \\n\"\n",
    "\"Therefore, $xy^2z \\\\notin \\\\overline{L}$, contradicting the Pumping Lemma.  \\n\"\n",
    "\"Hence, $\\\\overline{L}$ is not regular, so $L$ is also not regular.\"\n",
    "))\n",
    "\n",
    "display(Markdown(\"## **1.24**\"))\n",
    "display(Markdown(\"To show that it is true that For any string $w=w_1w_2...w_n$, the reverse of $w$, written $w^R$, is the string $w$ in reverse order,$w_n...w_2w_1$ for any language $A$, where $A^R = \\\\{w|w \\\\in A\\\\}$ we will construct a finite automata.  \\n\"\n",
    "\"For any DFA $D$ which accepts $A$, the DFA $D^R$ which accepts $A^R$ is constucted in this manner.  \\n\"\n",
    "\"1. Reverse the direction of all transitions in $D$  \\n\"\n",
    "\"2. Add a new state which had empty transitions to all of the accept stated of $D$.  \\n\"\n",
    "\"3. Make all accept states in $D$ not accept states and make the start state an accept state.  \\n\"\n",
    "\"4. Make the added state the start state.  \\n\\n\"\n",
    "\"This new automata $D^R$ accepts only strings in $A^R$.\"))\n",
    "\n",
    "display(Markdown(\"## **1.25**\"))\n",
    "display(Markdown(\"To show that the given language is regular we will construct an automata which accepts it. The automata is shown-  \\n\"))\n",
    "display(nfa_a)\n",
    "\n",
    "display(Markdown(\"## **1.26**\"))\n",
    "display(Markdown(\"The smallest possible automata is shown-  \\n\"))\n",
    "display(nfa_b)\n",
    "\n",
    "display(Markdown(\"## **1.36**\"))\n",
    "\n",
    "display(Markdown(\n",
    "\"To prove that $ADD = \\\\{x=y+z\\\\mid x, y, z$ are binary integers, and $x$ is the sum of $y$ and $z\\\\}$ is not regular, we will use proof by contradiction.  \\n\"\n",
    "\"Assume that $ADD$ is regular.  \\n\"\n",
    "\"Choose $s = $\\\\'$x^p=y^p+z^p$\\\\'$ \\\\in ADD$ where $x \\\\neq 0$. Then $xy$ must be within the first $p$ symbols, containing some part of $x$. So $y = 0^k$ for $k > 0$.  \\n\"\n",
    "\"Pumping $y$ gives us a value of $x$ which can increase independently of $y$ and $z$ destroting the equality.  \\n\"\n",
    "\"Thus, $xy^2z \\\\notin L$, contradicting the Pumping Lemma. Therefore, $ADD$ is not regular.\"\n",
    "))\n",
    "\n",
    "display(Markdown(\"## **1.37**\"))\n",
    "display(Markdown(\"Language $L = \\\\{a^i b^j c^k \\\\mid j = k\\\\}$ can be pumped.  \\n\"\n",
    "\"Choose $s = a^pb^pc \\\\in L$. Then $xy$ must be within the first $p$ symbols, all $a$s.  \\n\"\n",
    "\"Since there is no constraint on the number of $a$s this can safely be pumped despite the fact that we know $L$ is not regular.  \\n\"\n",
    "\"This is okay because the Pumping Lemma is necessary for a language to be regular, but not sufficient to prove that a language is regular. In other words, $L$ is regular $\\\\Rightarrow L$ can be pumped, but $L$ can be pumped $\\\\not\\\\Rightarrow L$ is regular.\"\n",
    "                \n",
    "))"
   ]
  }
 ],
 "metadata": {
  "kernelspec": {
   "argv": [
    "/usr/bin/python3",
    "-m",
    "ipykernel",
    "--HistoryManager.enabled=False",
    "--matplotlib=inline",
    "-c",
    "%config InlineBackend.figure_formats = set(['retina'])\nimport matplotlib; matplotlib.rcParams['figure.figsize'] = (12, 7)",
    "-f",
    "{connection_file}"
   ],
   "display_name": "Python 3 (system-wide)",
   "env": {
   },
   "language": "python",
   "metadata": {
    "cocalc": {
     "description": "Python 3 programming language",
     "priority": 100,
     "url": "https://www.python.org/"
    }
   },
   "name": "python3",
   "resource_dir": "/ext/jupyter/kernels/python3"
  },
  "language_info": {
   "codemirror_mode": {
    "name": "ipython",
    "version": 3
   },
   "file_extension": ".py",
   "mimetype": "text/x-python",
   "name": "python",
   "nbconvert_exporter": "python",
   "pygments_lexer": "ipython3",
   "version": "3.10.12"
  }
 },
 "nbformat": 4,
 "nbformat_minor": 4
}