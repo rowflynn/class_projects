{
 "cells": [
  {
   "cell_type": "code",
   "execution_count": 4,
   "id": "446c1a",
   "metadata": {
    "collapsed": false
   },
   "outputs": [
    {
     "name": "stdout",
     "output_type": "stream",
     "text": [
      "Defaulting to user installation because normal site-packages is not writeable\r\n"
     ]
    },
    {
     "name": "stdout",
     "output_type": "stream",
     "text": [
      "Requirement already satisfied: automata-lib in /home/user/.local/lib/python3.10/site-packages (9.0.0)\r\n",
      "Requirement already satisfied: networkx>=2.6.2 in /usr/local/lib/python3.10/dist-packages (from automata-lib) (3.1)\r\n",
      "Requirement already satisfied: frozendict>=2.3.4 in /usr/local/lib/python3.10/dist-packages (from automata-lib) (2.4.0)\r\n",
      "Requirement already satisfied: typing-extensions>=4.5.0 in /usr/local/lib/python3.10/dist-packages (from automata-lib) (4.12.2)\r\n",
      "Requirement already satisfied: cached_method>=0.1.0 in /home/user/.local/lib/python3.10/site-packages (from automata-lib) (0.1.0)\r\n"
     ]
    },
    {
     "name": "stdout",
     "output_type": "stream",
     "text": [
      "Defaulting to user installation because normal site-packages is not writeable\r\n"
     ]
    },
    {
     "name": "stdout",
     "output_type": "stream",
     "text": [
      "Requirement already satisfied: coloraide in /home/user/.local/lib/python3.10/site-packages (4.2.1)\r\n"
     ]
    },
    {
     "name": "stdout",
     "output_type": "stream",
     "text": [
      "Defaulting to user installation because normal site-packages is not writeable\r\n"
     ]
    },
    {
     "name": "stdout",
     "output_type": "stream",
     "text": [
      "Requirement already satisfied: pygraphviz in /home/user/.local/lib/python3.10/site-packages (1.14)\r\n"
     ]
    },
    {
     "name": "stdout",
     "output_type": "stream",
     "text": [
      "Defaulting to user installation because normal site-packages is not writeable\r\n"
     ]
    },
    {
     "name": "stdout",
     "output_type": "stream",
     "text": [
      "Requirement already satisfied: visual_automata in /home/user/.local/lib/python3.10/site-packages (1.1.1)\r\n",
      "Requirement already satisfied: automata-lib in /home/user/.local/lib/python3.10/site-packages (from visual_automata) (9.0.0)\r\n",
      "Requirement already satisfied: pandas in /usr/local/lib/python3.10/dist-packages (from visual_automata) (2.1.4)\r\n",
      "Requirement already satisfied: graphviz in /usr/local/lib/python3.10/dist-packages (from visual_automata) (0.8.4)\r\n",
      "Requirement already satisfied: colormath in /home/user/.local/lib/python3.10/site-packages (from visual_automata) (3.0.0)\r\n",
      "Requirement already satisfied: jupyterlab in /usr/local/lib/python3.10/dist-packages (from visual_automata) (4.3.1)\r\n",
      "Requirement already satisfied: forbiddenfruit in /home/user/.local/lib/python3.10/site-packages (from visual_automata) (0.1.4)\r\n",
      "Requirement already satisfied: networkx>=2.6.2 in /usr/local/lib/python3.10/dist-packages (from automata-lib->visual_automata) (3.1)\r\n",
      "Requirement already satisfied: frozendict>=2.3.4 in /usr/local/lib/python3.10/dist-packages (from automata-lib->visual_automata) (2.4.0)\r\n",
      "Requirement already satisfied: typing-extensions>=4.5.0 in /usr/local/lib/python3.10/dist-packages (from automata-lib->visual_automata) (4.12.2)\r\n",
      "Requirement already satisfied: cached_method>=0.1.0 in /home/user/.local/lib/python3.10/site-packages (from automata-lib->visual_automata) (0.1.0)\r\n",
      "Requirement already satisfied: numpy in /usr/local/lib/python3.10/dist-packages (from colormath->visual_automata) (1.23.5)\r\n",
      "Requirement already satisfied: async-lru>=1.0.0 in /usr/local/lib/python3.10/dist-packages (from jupyterlab->visual_automata) (2.0.4)\r\n"
     ]
    },
    {
     "name": "stdout",
     "output_type": "stream",
     "text": [
      "Requirement already satisfied: httpx>=0.25.0 in /usr/local/lib/python3.10/dist-packages (from jupyterlab->visual_automata) (0.27.2)\r\n",
      "Requirement already satisfied: ipykernel>=6.5.0 in /usr/local/lib/python3.10/dist-packages (from jupyterlab->visual_automata) (6.29.5)\r\n",
      "Requirement already satisfied: jinja2>=3.0.3 in /usr/local/lib/python3.10/dist-packages (from jupyterlab->visual_automata) (3.1.4)\r\n",
      "Requirement already satisfied: jupyter-core in /usr/local/lib/python3.10/dist-packages (from jupyterlab->visual_automata) (5.7.2)\r\n",
      "Requirement already satisfied: jupyter-lsp>=2.0.0 in /usr/local/lib/python3.10/dist-packages (from jupyterlab->visual_automata) (2.2.5)\r\n",
      "Requirement already satisfied: jupyter-server<3,>=2.4.0 in /usr/local/lib/python3.10/dist-packages (from jupyterlab->visual_automata) (2.14.2)\r\n",
      "Requirement already satisfied: jupyterlab-server<3,>=2.27.1 in /usr/local/lib/python3.10/dist-packages (from jupyterlab->visual_automata) (2.27.2)\r\n",
      "Requirement already satisfied: notebook-shim>=0.2 in /usr/local/lib/python3.10/dist-packages (from jupyterlab->visual_automata) (0.2.4)\r\n",
      "Requirement already satisfied: packaging in /usr/local/lib/python3.10/dist-packages (from jupyterlab->visual_automata) (23.2)\r\n",
      "Requirement already satisfied: setuptools>=40.1.0 in /usr/local/lib/python3.10/dist-packages (from jupyterlab->visual_automata) (75.6.0)\r\n",
      "Requirement already satisfied: tomli>=1.2.2 in /usr/local/lib/python3.10/dist-packages (from jupyterlab->visual_automata) (2.0.1)\r\n",
      "Requirement already satisfied: tornado>=6.2.0 in /usr/local/lib/python3.10/dist-packages (from jupyterlab->visual_automata) (6.2)\r\n",
      "Requirement already satisfied: traitlets in /usr/local/lib/python3.10/dist-packages (from jupyterlab->visual_automata) (5.14.3)\r\n"
     ]
    },
    {
     "name": "stdout",
     "output_type": "stream",
     "text": [
      "Requirement already satisfied: python-dateutil>=2.8.2 in /usr/local/lib/python3.10/dist-packages (from pandas->visual_automata) (2.8.2)\r\n",
      "Requirement already satisfied: pytz>=2020.1 in /usr/local/lib/python3.10/dist-packages (from pandas->visual_automata) (2024.2)\r\n",
      "Requirement already satisfied: tzdata>=2022.1 in /usr/local/lib/python3.10/dist-packages (from pandas->visual_automata) (2023.3)\r\n",
      "Requirement already satisfied: anyio in /usr/lib/python3/dist-packages (from httpx>=0.25.0->jupyterlab->visual_automata) (3.5.0)\r\n",
      "Requirement already satisfied: certifi in /usr/local/lib/python3.10/dist-packages (from httpx>=0.25.0->jupyterlab->visual_automata) (2022.6.15)\r\n",
      "Requirement already satisfied: httpcore==1.* in /usr/local/lib/python3.10/dist-packages (from httpx>=0.25.0->jupyterlab->visual_automata) (1.0.2)\r\n",
      "Requirement already satisfied: idna in /usr/local/lib/python3.10/dist-packages (from httpx>=0.25.0->jupyterlab->visual_automata) (2.8)\r\n",
      "Requirement already satisfied: sniffio in /usr/local/lib/python3.10/dist-packages (from httpx>=0.25.0->jupyterlab->visual_automata) (1.3.1)\r\n",
      "Requirement already satisfied: h11<0.15,>=0.13 in /usr/lib/python3/dist-packages (from httpcore==1.*->httpx>=0.25.0->jupyterlab->visual_automata) (0.13.0)\r\n",
      "Requirement already satisfied: comm>=0.1.1 in /usr/local/lib/python3.10/dist-packages (from ipykernel>=6.5.0->jupyterlab->visual_automata) (0.2.2)\r\n",
      "Requirement already satisfied: debugpy>=1.6.5 in /usr/local/lib/python3.10/dist-packages (from ipykernel>=6.5.0->jupyterlab->visual_automata) (1.8.2)\r\n",
      "Requirement already satisfied: ipython>=7.23.1 in /usr/local/lib/python3.10/dist-packages (from ipykernel>=6.5.0->jupyterlab->visual_automata) (8.18.0)\r\n",
      "Requirement already satisfied: jupyter-client>=6.1.12 in /usr/local/lib/python3.10/dist-packages (from ipykernel>=6.5.0->jupyterlab->visual_automata) (7.4.9)\r\n",
      "Requirement already satisfied: matplotlib-inline>=0.1 in /usr/local/lib/python3.10/dist-packages (from ipykernel>=6.5.0->jupyterlab->visual_automata) (0.1.7)\r\n",
      "Requirement already satisfied: nest-asyncio in /usr/local/lib/python3.10/dist-packages (from ipykernel>=6.5.0->jupyterlab->visual_automata) (1.5.5)\r\n",
      "Requirement already satisfied: psutil in /usr/local/lib/python3.10/dist-packages (from ipykernel>=6.5.0->jupyterlab->visual_automata) (6.1.0)\r\n",
      "Requirement already satisfied: pyzmq>=24 in /usr/local/lib/python3.10/dist-packages (from ipykernel>=6.5.0->jupyterlab->visual_automata) (24.0.1)\r\n",
      "Requirement already satisfied: MarkupSafe>=2.0 in /usr/local/lib/python3.10/dist-packages (from jinja2>=3.0.3->jupyterlab->visual_automata) (2.1.1)\r\n",
      "Requirement already satisfied: platformdirs>=2.5 in /usr/local/lib/python3.10/dist-packages (from jupyter-core->jupyterlab->visual_automata) (3.9.1)\r\n"
     ]
    },
    {
     "name": "stdout",
     "output_type": "stream",
     "text": [
      "Requirement already satisfied: argon2-cffi>=21.1 in /usr/local/lib/python3.10/dist-packages (from jupyter-server<3,>=2.4.0->jupyterlab->visual_automata) (21.3.0)\r\n",
      "Requirement already satisfied: jupyter-events>=0.9.0 in /usr/local/lib/python3.10/dist-packages (from jupyter-server<3,>=2.4.0->jupyterlab->visual_automata) (0.10.0)\r\n",
      "Requirement already satisfied: jupyter-server-terminals>=0.4.4 in /usr/local/lib/python3.10/dist-packages (from jupyter-server<3,>=2.4.0->jupyterlab->visual_automata) (0.5.3)\r\n",
      "Requirement already satisfied: nbconvert>=6.4.4 in /usr/local/lib/python3.10/dist-packages (from jupyter-server<3,>=2.4.0->jupyterlab->visual_automata) (7.16.4)\r\n",
      "Requirement already satisfied: nbformat>=5.3.0 in /usr/local/lib/python3.10/dist-packages (from jupyter-server<3,>=2.4.0->jupyterlab->visual_automata) (5.10.4)\r\n",
      "Requirement already satisfied: overrides>=5.0 in /usr/local/lib/python3.10/dist-packages (from jupyter-server<3,>=2.4.0->jupyterlab->visual_automata) (7.7.0)\r\n",
      "Requirement already satisfied: prometheus-client>=0.9 in /usr/local/lib/python3.10/dist-packages (from jupyter-server<3,>=2.4.0->jupyterlab->visual_automata) (0.14.1)\r\n",
      "Requirement already satisfied: send2trash>=1.8.2 in /usr/local/lib/python3.10/dist-packages (from jupyter-server<3,>=2.4.0->jupyterlab->visual_automata) (1.8.3)\r\n",
      "Requirement already satisfied: terminado>=0.8.3 in /usr/local/lib/python3.10/dist-packages (from jupyter-server<3,>=2.4.0->jupyterlab->visual_automata) (0.15.0)\r\n",
      "Requirement already satisfied: websocket-client>=1.7 in /usr/local/lib/python3.10/dist-packages (from jupyter-server<3,>=2.4.0->jupyterlab->visual_automata) (1.8.0)\r\n",
      "Requirement already satisfied: babel>=2.10 in /usr/local/lib/python3.10/dist-packages (from jupyterlab-server<3,>=2.27.1->jupyterlab->visual_automata) (2.16.0)\r\n",
      "Requirement already satisfied: json5>=0.9.0 in /usr/local/lib/python3.10/dist-packages (from jupyterlab-server<3,>=2.27.1->jupyterlab->visual_automata) (0.9.8)\r\n",
      "Requirement already satisfied: jsonschema>=4.18.0 in /usr/local/lib/python3.10/dist-packages (from jupyterlab-server<3,>=2.27.1->jupyterlab->visual_automata) (4.21.1)\r\n",
      "Requirement already satisfied: requests>=2.31 in /usr/local/lib/python3.10/dist-packages (from jupyterlab-server<3,>=2.27.1->jupyterlab->visual_automata) (2.32.3)\r\n",
      "Requirement already satisfied: six>=1.5 in /usr/local/lib/python3.10/dist-packages (from python-dateutil>=2.8.2->pandas->visual_automata) (1.16.0)\r\n"
     ]
    },
    {
     "name": "stdout",
     "output_type": "stream",
     "text": [
      "Requirement already satisfied: argon2-cffi-bindings in /usr/local/lib/python3.10/dist-packages (from argon2-cffi>=21.1->jupyter-server<3,>=2.4.0->jupyterlab->visual_automata) (21.2.0)\r\n",
      "Requirement already satisfied: decorator in /usr/local/lib/python3.10/dist-packages (from ipython>=7.23.1->ipykernel>=6.5.0->jupyterlab->visual_automata) (4.4.2)\r\n",
      "Requirement already satisfied: jedi>=0.16 in /usr/local/lib/python3.10/dist-packages (from ipython>=7.23.1->ipykernel>=6.5.0->jupyterlab->visual_automata) (0.18.2)\r\n",
      "Requirement already satisfied: prompt-toolkit!=3.0.37,<3.1.0,>=3.0.30 in /usr/local/lib/python3.10/dist-packages (from ipython>=7.23.1->ipykernel>=6.5.0->jupyterlab->visual_automata) (3.0.36)\r\n",
      "Requirement already satisfied: pygments>=2.4.0 in /usr/local/lib/python3.10/dist-packages (from ipython>=7.23.1->ipykernel>=6.5.0->jupyterlab->visual_automata) (2.17.2)\r\n",
      "Requirement already satisfied: stack-data in /usr/local/lib/python3.10/dist-packages (from ipython>=7.23.1->ipykernel>=6.5.0->jupyterlab->visual_automata) (0.5.0)\r\n",
      "Requirement already satisfied: exceptiongroup in /usr/local/lib/python3.10/dist-packages (from ipython>=7.23.1->ipykernel>=6.5.0->jupyterlab->visual_automata) (1.0.4)\r\n",
      "Requirement already satisfied: pexpect>4.3 in /usr/lib/python3/dist-packages (from ipython>=7.23.1->ipykernel>=6.5.0->jupyterlab->visual_automata) (4.8.0)\r\n",
      "Requirement already satisfied: attrs>=22.2.0 in /usr/local/lib/python3.10/dist-packages (from jsonschema>=4.18.0->jupyterlab-server<3,>=2.27.1->jupyterlab->visual_automata) (24.2.0)\r\n",
      "Requirement already satisfied: jsonschema-specifications>=2023.03.6 in /usr/local/lib/python3.10/dist-packages (from jsonschema>=4.18.0->jupyterlab-server<3,>=2.27.1->jupyterlab->visual_automata) (2023.7.1)\r\n",
      "Requirement already satisfied: referencing>=0.28.4 in /usr/local/lib/python3.10/dist-packages (from jsonschema>=4.18.0->jupyterlab-server<3,>=2.27.1->jupyterlab->visual_automata) (0.30.2)\r\n",
      "Requirement already satisfied: rpds-py>=0.7.1 in /usr/local/lib/python3.10/dist-packages (from jsonschema>=4.18.0->jupyterlab-server<3,>=2.27.1->jupyterlab->visual_automata) (0.10.2)\r\n",
      "Requirement already satisfied: entrypoints in /usr/local/lib/python3.10/dist-packages (from jupyter-client>=6.1.12->ipykernel>=6.5.0->jupyterlab->visual_automata) (0.4)\r\n",
      "Requirement already satisfied: python-json-logger>=2.0.4 in /usr/local/lib/python3.10/dist-packages (from jupyter-events>=0.9.0->jupyter-server<3,>=2.4.0->jupyterlab->visual_automata) (2.0.4)\r\n",
      "Requirement already satisfied: pyyaml>=5.3 in /usr/lib/python3/dist-packages (from jupyter-events>=0.9.0->jupyter-server<3,>=2.4.0->jupyterlab->visual_automata) (5.4.1)\r\n",
      "Requirement already satisfied: rfc3339-validator in /usr/local/lib/python3.10/dist-packages (from jupyter-events>=0.9.0->jupyter-server<3,>=2.4.0->jupyterlab->visual_automata) (0.1.4)\r\n",
      "Requirement already satisfied: rfc3986-validator>=0.1.1 in /usr/local/lib/python3.10/dist-packages (from jupyter-events>=0.9.0->jupyter-server<3,>=2.4.0->jupyterlab->visual_automata) (0.1.1)\r\n"
     ]
    },
    {
     "name": "stdout",
     "output_type": "stream",
     "text": [
      "Requirement already satisfied: beautifulsoup4 in /usr/local/lib/python3.10/dist-packages (from nbconvert>=6.4.4->jupyter-server<3,>=2.4.0->jupyterlab->visual_automata) (4.12.3)\r\n",
      "Requirement already satisfied: bleach!=5.0.0 in /usr/local/lib/python3.10/dist-packages (from nbconvert>=6.4.4->jupyter-server<3,>=2.4.0->jupyterlab->visual_automata) (5.0.1)\r\n",
      "Requirement already satisfied: defusedxml in /usr/lib/python3/dist-packages (from nbconvert>=6.4.4->jupyter-server<3,>=2.4.0->jupyterlab->visual_automata) (0.7.1)\r\n",
      "Requirement already satisfied: jupyterlab-pygments in /usr/local/lib/python3.10/dist-packages (from nbconvert>=6.4.4->jupyter-server<3,>=2.4.0->jupyterlab->visual_automata) (0.2.2)\r\n",
      "Requirement already satisfied: mistune<4,>=2.0.3 in /usr/local/lib/python3.10/dist-packages (from nbconvert>=6.4.4->jupyter-server<3,>=2.4.0->jupyterlab->visual_automata) (2.0.4)\r\n",
      "Requirement already satisfied: nbclient>=0.5.0 in /usr/local/lib/python3.10/dist-packages (from nbconvert>=6.4.4->jupyter-server<3,>=2.4.0->jupyterlab->visual_automata) (0.6.3)\r\n",
      "Requirement already satisfied: pandocfilters>=1.4.1 in /usr/lib/python3/dist-packages (from nbconvert>=6.4.4->jupyter-server<3,>=2.4.0->jupyterlab->visual_automata) (1.5.0)\r\n",
      "Requirement already satisfied: tinycss2 in /usr/local/lib/python3.10/dist-packages (from nbconvert>=6.4.4->jupyter-server<3,>=2.4.0->jupyterlab->visual_automata) (1.4.0)\r\n",
      "Requirement already satisfied: fastjsonschema>=2.15 in /usr/local/lib/python3.10/dist-packages (from nbformat>=5.3.0->jupyter-server<3,>=2.4.0->jupyterlab->visual_automata) (2.16.1)\r\n",
      "Requirement already satisfied: charset-normalizer<4,>=2 in /usr/lib/python3/dist-packages (from requests>=2.31->jupyterlab-server<3,>=2.27.1->jupyterlab->visual_automata) (2.0.6)\r\n",
      "Requirement already satisfied: urllib3<3,>=1.21.1 in /usr/local/lib/python3.10/dist-packages (from requests>=2.31->jupyterlab-server<3,>=2.27.1->jupyterlab->visual_automata) (2.2.1)\r\n",
      "Requirement already satisfied: ptyprocess in /usr/lib/python3/dist-packages (from terminado>=0.8.3->jupyter-server<3,>=2.4.0->jupyterlab->visual_automata) (0.7.0)\r\n"
     ]
    },
    {
     "name": "stdout",
     "output_type": "stream",
     "text": [
      "Requirement already satisfied: webencodings in /usr/lib/python3/dist-packages (from bleach!=5.0.0->nbconvert>=6.4.4->jupyter-server<3,>=2.4.0->jupyterlab->visual_automata) (0.5.1)\r\n",
      "Requirement already satisfied: parso<0.9.0,>=0.8.0 in /usr/local/lib/python3.10/dist-packages (from jedi>=0.16->ipython>=7.23.1->ipykernel>=6.5.0->jupyterlab->visual_automata) (0.8.3)\r\n",
      "Requirement already satisfied: fqdn in /usr/local/lib/python3.10/dist-packages (from jsonschema[format-nongpl]>=4.18.0->jupyter-events>=0.9.0->jupyter-server<3,>=2.4.0->jupyterlab->visual_automata) (1.5.1)\r\n",
      "Requirement already satisfied: isoduration in /usr/local/lib/python3.10/dist-packages (from jsonschema[format-nongpl]>=4.18.0->jupyter-events>=0.9.0->jupyter-server<3,>=2.4.0->jupyterlab->visual_automata) (20.11.0)\r\n",
      "Requirement already satisfied: jsonpointer>1.13 in /usr/local/lib/python3.10/dist-packages (from jsonschema[format-nongpl]>=4.18.0->jupyter-events>=0.9.0->jupyter-server<3,>=2.4.0->jupyterlab->visual_automata) (2.3)\r\n",
      "Requirement already satisfied: uri-template in /usr/local/lib/python3.10/dist-packages (from jsonschema[format-nongpl]>=4.18.0->jupyter-events>=0.9.0->jupyter-server<3,>=2.4.0->jupyterlab->visual_automata) (1.3.0)\r\n",
      "Requirement already satisfied: webcolors>=1.11 in /usr/local/lib/python3.10/dist-packages (from jsonschema[format-nongpl]>=4.18.0->jupyter-events>=0.9.0->jupyter-server<3,>=2.4.0->jupyterlab->visual_automata) (1.12)\r\n"
     ]
    },
    {
     "name": "stdout",
     "output_type": "stream",
     "text": [
      "Requirement already satisfied: wcwidth in /usr/lib/python3/dist-packages (from prompt-toolkit!=3.0.37,<3.1.0,>=3.0.30->ipython>=7.23.1->ipykernel>=6.5.0->jupyterlab->visual_automata) (0.2.5)\r\n",
      "Requirement already satisfied: cffi>=1.0.1 in /usr/local/lib/python3.10/dist-packages (from argon2-cffi-bindings->argon2-cffi>=21.1->jupyter-server<3,>=2.4.0->jupyterlab->visual_automata) (1.16.0)\r\n",
      "Requirement already satisfied: soupsieve>1.2 in /usr/lib/python3/dist-packages (from beautifulsoup4->nbconvert>=6.4.4->jupyter-server<3,>=2.4.0->jupyterlab->visual_automata) (2.3.1)\r\n",
      "Requirement already satisfied: executing in /usr/local/lib/python3.10/dist-packages (from stack-data->ipython>=7.23.1->ipykernel>=6.5.0->jupyterlab->visual_automata) (0.9.1)\r\n",
      "Requirement already satisfied: asttokens in /usr/local/lib/python3.10/dist-packages (from stack-data->ipython>=7.23.1->ipykernel>=6.5.0->jupyterlab->visual_automata) (2.0.5)\r\n",
      "Requirement already satisfied: pure-eval in /usr/local/lib/python3.10/dist-packages (from stack-data->ipython>=7.23.1->ipykernel>=6.5.0->jupyterlab->visual_automata) (0.2.2)\r\n",
      "Requirement already satisfied: pycparser in /usr/lib/python3/dist-packages (from cffi>=1.0.1->argon2-cffi-bindings->argon2-cffi>=21.1->jupyter-server<3,>=2.4.0->jupyterlab->visual_automata) (2.21)\r\n"
     ]
    },
    {
     "name": "stdout",
     "output_type": "stream",
     "text": [
      "Requirement already satisfied: arrow>=0.15.0 in /usr/local/lib/python3.10/dist-packages (from isoduration->jsonschema[format-nongpl]>=4.18.0->jupyter-events>=0.9.0->jupyter-server<3,>=2.4.0->jupyterlab->visual_automata) (1.2.2)\r\n"
     ]
    },
    {
     "name": "stdout",
     "output_type": "stream",
     "text": [
      "Defaulting to user installation because normal site-packages is not writeable\r\n"
     ]
    },
    {
     "name": "stdout",
     "output_type": "stream",
     "text": [
      "Requirement already satisfied: automata-lib[visual] in /home/user/.local/lib/python3.10/site-packages (9.0.0)\r\n",
      "Requirement already satisfied: networkx>=2.6.2 in /usr/local/lib/python3.10/dist-packages (from automata-lib[visual]) (3.1)\r\n",
      "Requirement already satisfied: frozendict>=2.3.4 in /usr/local/lib/python3.10/dist-packages (from automata-lib[visual]) (2.4.0)\r\n",
      "Requirement already satisfied: typing-extensions>=4.5.0 in /usr/local/lib/python3.10/dist-packages (from automata-lib[visual]) (4.12.2)\r\n",
      "Requirement already satisfied: cached_method>=0.1.0 in /home/user/.local/lib/python3.10/site-packages (from automata-lib[visual]) (0.1.0)\r\n",
      "Requirement already satisfied: coloraide>=1.8.2 in /home/user/.local/lib/python3.10/site-packages (from automata-lib[visual]) (4.2.1)\r\n",
      "Requirement already satisfied: pygraphviz>=1.10 in /home/user/.local/lib/python3.10/site-packages (from automata-lib[visual]) (1.14)\r\n"
     ]
    }
   ],
   "source": [
    "!pip install automata-lib\n",
    "!pip install coloraide\n",
    "!pip install pygraphviz \n",
    "!pip install visual_automata\n",
    "!pip install 'automata-lib[visual]'"
   ]
  },
  {
   "cell_type": "code",
   "execution_count": 6,
   "id": "d683d0",
   "metadata": {
    "collapsed": false
   },
   "outputs": [
   ],
   "source": [
    "# NFAs used in problems 1.5-\n",
    "\n",
    "# Required Imports\n",
    "from automata.fa.nfa import NFA  # Import DFA class from automata library\n",
    "from automata.fa.dfa import DFA\n",
    "\n",
    "nfa_a = NFA(\n",
    "    states={'q1', 'q2','q3'},\n",
    "    input_symbols={'0', '1'},\n",
    "    transitions={\n",
    "        'q1': {'0': {'q1','q2'}, '1': {'q1'}},\n",
    "        'q2': {'0': {'q3'}},\n",
    "    },\n",
    "    initial_state='q1',\n",
    "    final_states={'q3'}\n",
    ")\n",
    "\n",
    "nfa_b = NFA(\n",
    "    states={'q1', 'q2','q3','q4','q5'},\n",
    "    input_symbols={'0', '1'},\n",
    "    transitions={\n",
    "        'q1': {'0': {'q1','q2'}, '1': {'q1'}},\n",
    "        'q2': {'1': {'q3'}},\n",
    "        'q3': {'0': {'q4'}},\n",
    "        'q4': {'1': {'q5'}},\n",
    "        'q5': {'0': {'q5'}, '1': {'q5'}},\n",
    "    },\n",
    "    initial_state='q1',\n",
    "    final_states={'q5'}\n",
    ")\n",
    "\n",
    "nfa_c = NFA(\n",
    "    states={'q1', 'q2','q3','q4','q5','q6'},\n",
    "    input_symbols={'0', '1'},\n",
    "    transitions={\n",
    "        'q1': {'': {'q2','q4'}},\n",
    "        'q2': {'0': {'q3'}, '1': {'q2'}},\n",
    "        'q3': {'0': {'q2'}, '1': {'q3'}},\n",
    "        'q4': {'0': {'q4'}, '1': {'q5'}},\n",
    "        'q5': {'0': {'q5'}, '1': {'q6'}},\n",
    "        'q6': {'0': {'q6'}}\n",
    "    },\n",
    "    initial_state='q1',\n",
    "    final_states={'q2','q6'}\n",
    ")\n",
    "\n",
    "nfa_d = NFA(\n",
    "    states={'q1', 'q2'},\n",
    "    input_symbols={'0', '1'},\n",
    "    transitions={\n",
    "        'q1': {'0': {'q2'}},\n",
    "\n",
    "    },\n",
    "    initial_state='q1',\n",
    "    final_states={'q2'}\n",
    ")\n",
    "\n",
    "nfa_e = NFA(\n",
    "    states={'q1', 'q2','q3'},\n",
    "    input_symbols={'0', '1'},\n",
    "    transitions={\n",
    "        'q1': {'': {'q2'}, '0': {'q1'}},\n",
    "        'q2': {'0': {'q3'}, '1': {'q2'}},\n",
    "        'q3': {'0': {'q3'}}\n",
    "\n",
    "    },\n",
    "    initial_state='q1',\n",
    "    final_states={'q3'}\n",
    ")\n",
    "\n",
    "nfa_f = NFA(\n",
    "    states={'q1'},\n",
    "    input_symbols={'0', '1'},\n",
    "    transitions={\n",
    "    },\n",
    "    initial_state='q1',\n",
    "    final_states={'q1'}\n",
    ")\n",
    "\n",
    "nfa_g = NFA(\n",
    "    states={'q1'},\n",
    "    input_symbols={'0', '1'},\n",
    "    transitions={\n",
    "        'q1': {'0': {'q1'}}\n",
    "    },\n",
    "    initial_state='q1',\n",
    "    final_states={'q1'}\n",
    ")\n",
    "\n",
    "\n",
    "nfa_a_union_b = NFA(\n",
    "    states={'q1', 'q2', 'q3', 'q4', 'q5', 'q6', 'q7', 'q8', 'q9'},\n",
    "    input_symbols={'0', '1'},\n",
    "    transitions={\n",
    "        # ε-transitions from new start state\n",
    "        'q1': {'': {'q2', 'q6'}},\n",
    "\n",
    "        # Renamed dfa_a transitions\n",
    "        'q2': {'1': {'q3'}, '0': {'q5'}},\n",
    "        'q3': {'0': {'q4'}, '1': {'q3'}},\n",
    "        'q4': {'0': {'q4'}, '1': {'q3'}},\n",
    "        'q5': {'0': {'q5'}, '1': {'q5'}},\n",
    "\n",
    "        # Renamed dfa_b transitions\n",
    "        'q6': {'0': {'q6'}, '1': {'q7'}},\n",
    "        'q7': {'0': {'q7'}, '1': {'q8'}},\n",
    "        'q8': {'0': {'q8'}, '1': {'q9'}},\n",
    "        'q9': {'0': {'q9'}, '1': {'q9'}},\n",
    "    },\n",
    "    initial_state='q1',\n",
    "    final_states={'q4', 'q9'}\n",
    ")\n",
    "\n",
    "\n",
    "nfa_c_union_f = NFA(\n",
    "    states={'q1', 'q2', 'q3', 'q4', 'q5', 'q6', 'q7', 'q8', 'q9', 'q10'},\n",
    "    input_symbols={'0', '1'},\n",
    "    transitions={\n",
    "        # ε-transitions from new start state\n",
    "        'q1': {'': {'q2', 'q7'}},\n",
    "\n",
    "        # Renamed dfa_c transitions\n",
    "        'q2': {'0': {'q3'}, '1': {'q2'}},\n",
    "        'q3': {'0': {'q3'}, '1': {'q4'}},\n",
    "        'q4': {'0': {'q5'}, '1': {'q2'}},\n",
    "        'q5': {'0': {'q3'}, '1': {'q6'}},\n",
    "        'q6': {'0': {'q6'}, '1': {'q6'}},\n",
    "\n",
    "        # Renamed dfa_f transitions\n",
    "        'q7': {'0': {'q7'}, '1': {'q8'}},\n",
    "        'q8': {'0': {'q7'}, '1': {'q9'}},\n",
    "        'q9': {'0': {'q10'}, '1': {'q9'}},\n",
    "        'q10': {'0': {'q10'}, '1': {'q10'}},\n",
    "    },\n",
    "    initial_state='q1',\n",
    "    final_states={'q6', 'q7', 'q8', 'q9'}\n",
    ")\n",
    "\n",
    "\n",
    "\n",
    "\n",
    "nfa_g_cat_i = NFA(\n",
    "    states={'q1', 'q2', 'q3', 'q4', 'q5', 'q6', 'q7', 'q8', 'q9', 'q10'},\n",
    "    input_symbols={'0', '1'},\n",
    "    transitions={\n",
    "        # dfa_g transitions\n",
    "        'q1': {'0': {'q2'}, '1': {'q2'}, '': {'q8'}},\n",
    "        'q2': {'0': {'q3'}, '1': {'q3'}, '': {'q8'}},\n",
    "        'q3': {'0': {'q4'}, '1': {'q4'}, '': {'q8'}},\n",
    "        'q4': {'0': {'q5'}, '1': {'q5'}, '': {'q8'}},\n",
    "        'q5': {'0': {'q6'}, '1': {'q6'}, '': {'q8'}},\n",
    "        'q6': {'0': {'q7'}, '1': {'q7'}, '': {'q8'}},\n",
    "        'q7': {'0': {'q7'}, '1': {'q7'}},\n",
    "\n",
    "        # dfa_i transitions (renamed)\n",
    "        'q8': {'1': {'q9'}, '0': {'q10'}},\n",
    "        'q9': {'0': {'q8'}, '1': {'q8'}},\n",
    "        'q10': {'0': {'q10'}, '1': {'q10'}}\n",
    "    },\n",
    "    initial_state='q1',\n",
    "    final_states={'q8', 'q9'}\n",
    ")\n",
    "\n",
    "\n",
    "nfa_b_cat_m = NFA(\n",
    "    states={\n",
    "        'q1', 'q2', 'q3', 'q4',  # from dfa_b\n",
    "        'q5'                    # from dfa_m (renamed q1 → q5)\n",
    "    },\n",
    "    input_symbols={'0', '1'},\n",
    "    transitions={\n",
    "        # Transitions from dfa_b\n",
    "        'q1': {'0': {'q1'}, '1': {'q2'}},\n",
    "        'q2': {'0': {'q2'}, '1': {'q3'}},\n",
    "        'q3': {'0': {'q3'}, '1': {'q4'}},\n",
    "        'q4': {'0': {'q4'}, '1': {'q4'}, '': {'q5'}},  # ε-transition to q5\n",
    "\n",
    "        # Transitions from dfa_m\n",
    "        'q5': {'0': {'q5'}, '1': {'q5'}}\n",
    "    },\n",
    "    initial_state='q1',\n",
    "    final_states=set()  # No accepting states (dfa_m accepts nothing)\n",
    ")\n",
    "\n",
    "\n",
    "nfa_b_star = NFA(\n",
    "    states={'q0','q1', 'q2', 'q3', 'q4'},\n",
    "    input_symbols={'0', '1'},\n",
    "    transitions={\n",
    "        'q0': {'': {'q1'}},\n",
    "        'q1': {'0': {'q1'}, '1': {'q2'}},\n",
    "        'q2': {'0': {'q2'}, '1': {'q3'}},\n",
    "        'q3': {'0': {'q3'}, '1': {'q4'}},\n",
    "        'q4': {'': {'q1'}, '0': {'q4'}, '1': {'q4'}}\n",
    "    },\n",
    "    initial_state='q0',\n",
    "    final_states={'q0','q4'}\n",
    ")\n",
    "\n",
    "nfa_j_star = NFA(\n",
    "    states={'q0','q1', 'q2', 'q3', 'q4','q5','q6','q7'},\n",
    "    input_symbols={'0', '1'},\n",
    "    transitions={\n",
    "        'q0': {'': {'q1'}},\n",
    "        'q1': {'0': {'q2'}, '1': {'q4'}},\n",
    "        'q2': {'0': {'q3'}, '1': {'q5'}},\n",
    "        'q3': {'': {'q1'}, '0': {'q3'}, '1': {'q6'}},\n",
    "        'q4': {'0': {'q5'}, '1': {'q7'}},\n",
    "        'q5': {'0': {'q6'}, '1': {'q7'}},\n",
    "        'q6': {'': {'q1'}, '0': {'q6'}, '1': {'q7'}},\n",
    "        'q7': {'0': {'q7'}, '1': {'q7'}}\n",
    "    },\n",
    "    initial_state='q0',\n",
    "    final_states={'q0','q3','q6'}\n",
    ")\n",
    "\n",
    "nfa_m_star = NFA(\n",
    "    states={'q0','q1'},\n",
    "    input_symbols={'0', '1'},\n",
    "    transitions={\n",
    "        'q0': {'': {'q1'}},\n",
    "        'q1': {'0': {'q1'}, '1': {'q1'}}\n",
    "    },\n",
    "    initial_state='q0',\n",
    "    final_states={'q0'}\n",
    ")\n",
    "\n",
    "nfa_acc = NFA(\n",
    "    states={'q0','q1'},\n",
    "    input_symbols={'0', '1'},\n",
    "    transitions={\n",
    "        'q0': {'0': {'q0'}, '1': {'q1'}},\n",
    "        'q1': {'0': {'q1'}, '1': {'q1'}}\n",
    "    },\n",
    "    initial_state='q0',\n",
    "    final_states={'q1'}\n",
    ")\n",
    "\n",
    "nfa_acc_c = NFA(\n",
    "    states={'q0','q1'},\n",
    "    input_symbols={'0', '1'},\n",
    "    transitions={\n",
    "        'q0': {'0': {'q0'}, '1': {'q1'}},\n",
    "        'q1': {'0': {'q1'}, '1': {'q1'}}\n",
    "    },\n",
    "    initial_state='q0',\n",
    "    final_states={'q0'}\n",
    ")\n",
    "\n",
    "dfa_a_convert = DFA(\n",
    "    states={'e','1','2','1,2'},\n",
    "    input_symbols={'a', 'b'},\n",
    "    transitions={\n",
    "        'e': {'a': 'e', 'b': 'e'},\n",
    "        '1': {'a': '1,2', 'b': '2'},\n",
    "        '2': {'a': 'e', 'b': '1'},\n",
    "        '1,2': {'a': '1,2', 'b': '2'},\n",
    "    },\n",
    "    initial_state='1',\n",
    "    final_states={'1','1,2'}\n",
    ")\n",
    "\n",
    "dfa_b_convert = DFA(\n",
    "    states={'e','1','2','1,2','1,3','2,3','1,2,3'},\n",
    "    input_symbols={'a', 'b'},\n",
    "    transitions={\n",
    "        'e': {'a': 'e', 'b': 'e'},\n",
    "        '1': {'a': '1,2,3', 'b': 'e'},\n",
    "        '2': {'a': '1,2', 'b': 'e'},\n",
    "        '3': {'a': '2', 'b': '2,3'},\n",
    "        '1,2': {'a': '1,2,3', 'b': 'e'},\n",
    "        '1,3': {'a': '1,2,3', 'b': '2,3'},\n",
    "        '2,3': {'a': '1,2', 'b': '2,3'},\n",
    "        '1,2,3': {'a': '1,2,3', 'b': '2,3'}\n",
    "    },\n",
    "    initial_state='1',\n",
    "    final_states={'2','1,2','2,3','1,2,3'}\n",
    ")\n",
    "\n"
   ]
  },
  {
   "cell_type": "code",
   "execution_count": 9,
   "id": "cb07cf",
   "metadata": {
    "collapsed": false
   },
   "outputs": [
    {
     "data": {
      "text/markdown": [
       "## **1.5**"
      ],
      "text/plain": [
       "<IPython.core.display.Markdown object>"
      ]
     },
     "execution_count": 9,
     "metadata": {
     },
     "output_type": "execute_result"
    },
    {
     "data": {
      "text/markdown": [
       "**a.** {w | w ends with 00}"
      ],
      "text/plain": [
       "<IPython.core.display.Markdown object>"
      ]
     },
     "execution_count": 9,
     "metadata": {
     },
     "output_type": "execute_result"
    },
    {
     "data": {
      "image/svg+xml": "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",
      "text/plain": [
       "NFA(states={'q3', 'q1', 'q2'}, input_symbols={'0', '1'}, transitions={'q1': {'0': {'q1', 'q2'}, '1': {'q1'}}, 'q2': {'0': {'q3'}}}, initial_state='q1', final_states={'q3'})"
      ]
     },
     "execution_count": 9,
     "metadata": {
     },
     "output_type": "execute_result"
    },
    {
     "data": {
      "text/markdown": [
       "\n"
      ],
      "text/plain": [
       "<IPython.core.display.Markdown object>"
      ]
     },
     "execution_count": 9,
     "metadata": {
     },
     "output_type": "execute_result"
    },
    {
     "data": {
      "text/markdown": [
       "**b.** {w | w contains the substring 0101}"
      ],
      "text/plain": [
       "<IPython.core.display.Markdown object>"
      ]
     },
     "execution_count": 9,
     "metadata": {
     },
     "output_type": "execute_result"
    },
    {
     "data": {
      "image/svg+xml": "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",
      "text/plain": [
       "NFA(states={'q5', 'q3', 'q2', 'q4', 'q1'}, input_symbols={'0', '1'}, transitions={'q1': {'0': {'q1', 'q2'}, '1': {'q1'}}, 'q2': {'1': {'q3'}}, 'q3': {'0': {'q4'}}, 'q4': {'1': {'q5'}}, 'q5': {'0': {'q5'}, '1': {'q5'}}}, initial_state='q1', final_states={'q5'})"
      ]
     },
     "execution_count": 9,
     "metadata": {
     },
     "output_type": "execute_result"
    },
    {
     "data": {
      "text/markdown": [
       "\n"
      ],
      "text/plain": [
       "<IPython.core.display.Markdown object>"
      ]
     },
     "execution_count": 9,
     "metadata": {
     },
     "output_type": "execute_result"
    },
    {
     "data": {
      "text/markdown": [
       "**c.** {w | even number of 0s OR exactly two 1s}"
      ],
      "text/plain": [
       "<IPython.core.display.Markdown object>"
      ]
     },
     "execution_count": 9,
     "metadata": {
     },
     "output_type": "execute_result"
    },
    {
     "data": {
      "image/svg+xml": "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",
      "text/plain": [
       "NFA(states={'q5', 'q3', 'q6', 'q2', 'q4', 'q1'}, input_symbols={'0', '1'}, transitions={'q1': {'': {'q4', 'q2'}}, 'q2': {'0': {'q3'}, '1': {'q2'}}, 'q3': {'0': {'q2'}, '1': {'q3'}}, 'q4': {'0': {'q4'}, '1': {'q5'}}, 'q5': {'0': {'q5'}, '1': {'q6'}}, 'q6': {'0': {'q6'}}}, initial_state='q1', final_states={'q6', 'q2'})"
      ]
     },
     "execution_count": 9,
     "metadata": {
     },
     "output_type": "execute_result"
    },
    {
     "data": {
      "text/markdown": [
       "\n"
      ],
      "text/plain": [
       "<IPython.core.display.Markdown object>"
      ]
     },
     "execution_count": 9,
     "metadata": {
     },
     "output_type": "execute_result"
    },
    {
     "data": {
      "text/markdown": [
       "**d.** {w | w = 0}"
      ],
      "text/plain": [
       "<IPython.core.display.Markdown object>"
      ]
     },
     "execution_count": 9,
     "metadata": {
     },
     "output_type": "execute_result"
    },
    {
     "data": {
      "image/svg+xml": "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",
      "text/plain": [
       "NFA(states={'q1', 'q2'}, input_symbols={'0', '1'}, transitions={'q1': {'0': {'q2'}}}, initial_state='q1', final_states={'q2'})"
      ]
     },
     "execution_count": 9,
     "metadata": {
     },
     "output_type": "execute_result"
    },
    {
     "data": {
      "text/markdown": [
       "\n"
      ],
      "text/plain": [
       "<IPython.core.display.Markdown object>"
      ]
     },
     "execution_count": 9,
     "metadata": {
     },
     "output_type": "execute_result"
    },
    {
     "data": {
      "text/markdown": [
       "**e.** {w | w matches 0\\*1\\*0\\*0}"
      ],
      "text/plain": [
       "<IPython.core.display.Markdown object>"
      ]
     },
     "execution_count": 9,
     "metadata": {
     },
     "output_type": "execute_result"
    },
    {
     "data": {
      "image/svg+xml": "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",
      "text/plain": [
       "NFA(states={'q3', 'q1', 'q2'}, input_symbols={'0', '1'}, transitions={'q1': {'': {'q2'}, '0': {'q1'}}, 'q2': {'0': {'q3'}, '1': {'q2'}}, 'q3': {'0': {'q3'}}}, initial_state='q1', final_states={'q3'})"
      ]
     },
     "execution_count": 9,
     "metadata": {
     },
     "output_type": "execute_result"
    },
    {
     "data": {
      "text/markdown": [
       "\n"
      ],
      "text/plain": [
       "<IPython.core.display.Markdown object>"
      ]
     },
     "execution_count": 9,
     "metadata": {
     },
     "output_type": "execute_result"
    },
    {
     "data": {
      "text/markdown": [
       "**f.** {ε}"
      ],
      "text/plain": [
       "<IPython.core.display.Markdown object>"
      ]
     },
     "execution_count": 9,
     "metadata": {
     },
     "output_type": "execute_result"
    },
    {
     "data": {
      "image/svg+xml": "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",
      "text/plain": [
       "NFA(states={'q1'}, input_symbols={'0', '1'}, transitions={}, initial_state='q1', final_states={'q1'})"
      ]
     },
     "execution_count": 9,
     "metadata": {
     },
     "output_type": "execute_result"
    },
    {
     "data": {
      "text/markdown": [
       "\n"
      ],
      "text/plain": [
       "<IPython.core.display.Markdown object>"
      ]
     },
     "execution_count": 9,
     "metadata": {
     },
     "output_type": "execute_result"
    },
    {
     "data": {
      "text/markdown": [
       "**g.** {w | w ∈ 0\\*}"
      ],
      "text/plain": [
       "<IPython.core.display.Markdown object>"
      ]
     },
     "execution_count": 9,
     "metadata": {
     },
     "output_type": "execute_result"
    },
    {
     "data": {
      "image/svg+xml": "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",
      "text/plain": [
       "NFA(states={'q1'}, input_symbols={'0', '1'}, transitions={'q1': {'0': {'q1'}}}, initial_state='q1', final_states={'q1'})"
      ]
     },
     "execution_count": 9,
     "metadata": {
     },
     "output_type": "execute_result"
    },
    {
     "data": {
      "text/markdown": [
       "\n"
      ],
      "text/plain": [
       "<IPython.core.display.Markdown object>"
      ]
     },
     "execution_count": 9,
     "metadata": {
     },
     "output_type": "execute_result"
    },
    {
     "data": {
      "text/markdown": [
       "## **1.6**"
      ],
      "text/plain": [
       "<IPython.core.display.Markdown object>"
      ]
     },
     "execution_count": 9,
     "metadata": {
     },
     "output_type": "execute_result"
    },
    {
     "data": {
      "text/markdown": [
       "**a union b**"
      ],
      "text/plain": [
       "<IPython.core.display.Markdown object>"
      ]
     },
     "execution_count": 9,
     "metadata": {
     },
     "output_type": "execute_result"
    },
    {
     "data": {
      "image/svg+xml": "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",
      "text/plain": [
       "NFA(states={'q7', 'q3', 'q6', 'q8', 'q1', 'q2', 'q9', 'q4', 'q5'}, input_symbols={'0', '1'}, transitions={'q1': {'': {'q6', 'q2'}}, 'q2': {'1': {'q3'}, '0': {'q5'}}, 'q3': {'0': {'q4'}, '1': {'q3'}}, 'q4': {'0': {'q4'}, '1': {'q3'}}, 'q5': {'0': {'q5'}, '1': {'q5'}}, 'q6': {'0': {'q6'}, '1': {'q7'}}, 'q7': {'0': {'q7'}, '1': {'q8'}}, 'q8': {'0': {'q8'}, '1': {'q9'}}, 'q9': {'0': {'q9'}, '1': {'q9'}}}, initial_state='q1', final_states={'q4', 'q9'})"
      ]
     },
     "execution_count": 9,
     "metadata": {
     },
     "output_type": "execute_result"
    },
    {
     "data": {
      "text/markdown": [
       "\n"
      ],
      "text/plain": [
       "<IPython.core.display.Markdown object>"
      ]
     },
     "execution_count": 9,
     "metadata": {
     },
     "output_type": "execute_result"
    },
    {
     "data": {
      "text/markdown": [
       "**c union f**"
      ],
      "text/plain": [
       "<IPython.core.display.Markdown object>"
      ]
     },
     "execution_count": 9,
     "metadata": {
     },
     "output_type": "execute_result"
    },
    {
     "data": {
      "image/svg+xml": "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",
      "text/plain": [
       "NFA(states={'q7', 'q3', 'q6', 'q8', 'q1', 'q2', 'q9', 'q4', 'q10', 'q5'}, input_symbols={'0', '1'}, transitions={'q1': {'': {'q7', 'q2'}}, 'q2': {'0': {'q3'}, '1': {'q2'}}, 'q3': {'0': {'q3'}, '1': {'q4'}}, 'q4': {'0': {'q5'}, '1': {'q2'}}, 'q5': {'0': {'q3'}, '1': {'q6'}}, 'q6': {'0': {'q6'}, '1': {'q6'}}, 'q7': {'0': {'q7'}, '1': {'q8'}}, 'q8': {'0': {'q7'}, '1': {'q9'}}, 'q9': {'0': {'q10'}, '1': {'q9'}}, 'q10': {'0': {'q10'}, '1': {'q10'}}}, initial_state='q1', final_states={'q7', 'q6', 'q8', 'q9'})"
      ]
     },
     "execution_count": 9,
     "metadata": {
     },
     "output_type": "execute_result"
    },
    {
     "data": {
      "text/markdown": [
       "\n"
      ],
      "text/plain": [
       "<IPython.core.display.Markdown object>"
      ]
     },
     "execution_count": 9,
     "metadata": {
     },
     "output_type": "execute_result"
    },
    {
     "data": {
      "text/markdown": [
       "## **1.7**"
      ],
      "text/plain": [
       "<IPython.core.display.Markdown object>"
      ]
     },
     "execution_count": 9,
     "metadata": {
     },
     "output_type": "execute_result"
    },
    {
     "data": {
      "text/markdown": [
       "**g concatenation i**"
      ],
      "text/plain": [
       "<IPython.core.display.Markdown object>"
      ]
     },
     "execution_count": 9,
     "metadata": {
     },
     "output_type": "execute_result"
    },
    {
     "data": {
      "image/svg+xml": "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",
      "text/plain": [
       "NFA(states={'q7', 'q3', 'q6', 'q8', 'q1', 'q2', 'q9', 'q4', 'q10', 'q5'}, input_symbols={'0', '1'}, transitions={'q1': {'0': {'q2'}, '1': {'q2'}, '': {'q8'}}, 'q2': {'0': {'q3'}, '1': {'q3'}, '': {'q8'}}, 'q3': {'0': {'q4'}, '1': {'q4'}, '': {'q8'}}, 'q4': {'0': {'q5'}, '1': {'q5'}, '': {'q8'}}, 'q5': {'0': {'q6'}, '1': {'q6'}, '': {'q8'}}, 'q6': {'0': {'q7'}, '1': {'q7'}, '': {'q8'}}, 'q7': {'0': {'q7'}, '1': {'q7'}}, 'q8': {'1': {'q9'}, '0': {'q10'}}, 'q9': {'0': {'q8'}, '1': {'q8'}}, 'q10': {'0': {'q10'}, '1': {'q10'}}}, initial_state='q1', final_states={'q8', 'q9'})"
      ]
     },
     "execution_count": 9,
     "metadata": {
     },
     "output_type": "execute_result"
    },
    {
     "data": {
      "text/markdown": [
       "\n"
      ],
      "text/plain": [
       "<IPython.core.display.Markdown object>"
      ]
     },
     "execution_count": 9,
     "metadata": {
     },
     "output_type": "execute_result"
    },
    {
     "data": {
      "text/markdown": [
       "**b concatenation m**"
      ],
      "text/plain": [
       "<IPython.core.display.Markdown object>"
      ]
     },
     "execution_count": 9,
     "metadata": {
     },
     "output_type": "execute_result"
    },
    {
     "data": {
      "image/svg+xml": "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",
      "text/plain": [
       "NFA(states={'q5', 'q3', 'q2', 'q4', 'q1'}, input_symbols={'0', '1'}, transitions={'q1': {'0': {'q1'}, '1': {'q2'}}, 'q2': {'0': {'q2'}, '1': {'q3'}}, 'q3': {'0': {'q3'}, '1': {'q4'}}, 'q4': {'0': {'q4'}, '1': {'q4'}, '': {'q5'}}, 'q5': {'0': {'q5'}, '1': {'q5'}}}, initial_state='q1', final_states=set())"
      ]
     },
     "execution_count": 9,
     "metadata": {
     },
     "output_type": "execute_result"
    },
    {
     "data": {
      "text/markdown": [
       "\n"
      ],
      "text/plain": [
       "<IPython.core.display.Markdown object>"
      ]
     },
     "execution_count": 9,
     "metadata": {
     },
     "output_type": "execute_result"
    },
    {
     "data": {
      "text/markdown": [
       "## **1.8**"
      ],
      "text/plain": [
       "<IPython.core.display.Markdown object>"
      ]
     },
     "execution_count": 9,
     "metadata": {
     },
     "output_type": "execute_result"
    },
    {
     "data": {
      "text/markdown": [
       "**b**\\*"
      ],
      "text/plain": [
       "<IPython.core.display.Markdown object>"
      ]
     },
     "execution_count": 9,
     "metadata": {
     },
     "output_type": "execute_result"
    },
    {
     "data": {
      "image/svg+xml": "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",
      "text/plain": [
       "NFA(states={'q3', 'q1', 'q2', 'q4', 'q0'}, input_symbols={'0', '1'}, transitions={'q0': {'': {'q1'}}, 'q1': {'0': {'q1'}, '1': {'q2'}}, 'q2': {'0': {'q2'}, '1': {'q3'}}, 'q3': {'0': {'q3'}, '1': {'q4'}}, 'q4': {'': {'q1'}, '0': {'q4'}, '1': {'q4'}}}, initial_state='q0', final_states={'q4', 'q0'})"
      ]
     },
     "execution_count": 9,
     "metadata": {
     },
     "output_type": "execute_result"
    },
    {
     "data": {
      "text/markdown": [
       "\n"
      ],
      "text/plain": [
       "<IPython.core.display.Markdown object>"
      ]
     },
     "execution_count": 9,
     "metadata": {
     },
     "output_type": "execute_result"
    },
    {
     "data": {
      "text/markdown": [
       "**j**\\*"
      ],
      "text/plain": [
       "<IPython.core.display.Markdown object>"
      ]
     },
     "execution_count": 9,
     "metadata": {
     },
     "output_type": "execute_result"
    },
    {
     "data": {
      "image/svg+xml": "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",
      "text/plain": [
       "NFA(states={'q7', 'q3', 'q6', 'q0', 'q1', 'q2', 'q4', 'q5'}, input_symbols={'0', '1'}, transitions={'q0': {'': {'q1'}}, 'q1': {'0': {'q2'}, '1': {'q4'}}, 'q2': {'0': {'q3'}, '1': {'q5'}}, 'q3': {'': {'q1'}, '0': {'q3'}, '1': {'q6'}}, 'q4': {'0': {'q5'}, '1': {'q7'}}, 'q5': {'0': {'q6'}, '1': {'q7'}}, 'q6': {'': {'q1'}, '0': {'q6'}, '1': {'q7'}}, 'q7': {'0': {'q7'}, '1': {'q7'}}}, initial_state='q0', final_states={'q3', 'q6', 'q0'})"
      ]
     },
     "execution_count": 9,
     "metadata": {
     },
     "output_type": "execute_result"
    },
    {
     "data": {
      "text/markdown": [
       "\n"
      ],
      "text/plain": [
       "<IPython.core.display.Markdown object>"
      ]
     },
     "execution_count": 9,
     "metadata": {
     },
     "output_type": "execute_result"
    },
    {
     "data": {
      "text/markdown": [
       "**m**\\*"
      ],
      "text/plain": [
       "<IPython.core.display.Markdown object>"
      ]
     },
     "execution_count": 9,
     "metadata": {
     },
     "output_type": "execute_result"
    },
    {
     "data": {
      "image/svg+xml": "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",
      "text/plain": [
       "NFA(states={'q0', 'q1'}, input_symbols={'0', '1'}, transitions={'q0': {'': {'q1'}}, 'q1': {'0': {'q1'}, '1': {'q1'}}}, initial_state='q0', final_states={'q0'})"
      ]
     },
     "execution_count": 9,
     "metadata": {
     },
     "output_type": "execute_result"
    },
    {
     "data": {
      "text/markdown": [
       "\n"
      ],
      "text/plain": [
       "<IPython.core.display.Markdown object>"
      ]
     },
     "execution_count": 9,
     "metadata": {
     },
     "output_type": "execute_result"
    },
    {
     "data": {
      "text/markdown": [
       "## **1.9**"
      ],
      "text/plain": [
       "<IPython.core.display.Markdown object>"
      ]
     },
     "execution_count": 9,
     "metadata": {
     },
     "output_type": "execute_result"
    },
    {
     "data": {
      "text/markdown": [
       "To show that it is true that any NFA, there is an equivalent one with only one accept state, we will construct one.  \n",
       "For any DFA $D$ which accepts $A$, the DFA $D_O$ which has onle one accept state is constucted in this manner.  \n",
       "1. Add a new state which is an accept state  \n",
       "2. Give all original accept states an empty transition to the new accept state.  \n",
       "3. Make all accept states in $D$ not accept states.  \n",
       "\n",
       "This new automata $D_O$ accepts the same language as $D$ with only one accept state."
      ],
      "text/plain": [
       "<IPython.core.display.Markdown object>"
      ]
     },
     "execution_count": 9,
     "metadata": {
     },
     "output_type": "execute_result"
    },
    {
     "data": {
      "text/markdown": [
       "## **1.10**"
      ],
      "text/plain": [
       "<IPython.core.display.Markdown object>"
      ]
     },
     "execution_count": 9,
     "metadata": {
     },
     "output_type": "execute_result"
    },
    {
     "data": {
      "text/markdown": [
       "Since a DFA $D$ must have exactly one path for every input string $s$, we know that it will either end in an accept state or a non-accept state. This means that all strings in a language which are not accepted by a language will end in a non-accept state. By switching the accept and non-accept states the new machine $D_C$ will now accept all strings which are not accepted by $D$ and will not accept any strings which are accepted by $D$. This means that the new machine $D_C$ accepts the compliment of $D$."
      ],
      "text/plain": [
       "<IPython.core.display.Markdown object>"
      ]
     },
     "execution_count": 9,
     "metadata": {
     },
     "output_type": "execute_result"
    },
    {
     "data": {
      "text/markdown": [
       "## **1.11**"
      ],
      "text/plain": [
       "<IPython.core.display.Markdown object>"
      ]
     },
     "execution_count": 9,
     "metadata": {
     },
     "output_type": "execute_result"
    },
    {
     "data": {
      "text/markdown": [
       "Consider the NFA shown-"
      ],
      "text/plain": [
       "<IPython.core.display.Markdown object>"
      ]
     },
     "execution_count": 9,
     "metadata": {
     },
     "output_type": "execute_result"
    },
    {
     "data": {
      "image/svg+xml": "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",
      "text/plain": [
       "NFA(states={'q0', 'q1'}, input_symbols={'0', '1'}, transitions={'q0': {'0': {'q0'}, '1': {'q1'}}, 'q1': {'0': {'q1'}, '1': {'q1'}}}, initial_state='q0', final_states={'q1'})"
      ]
     },
     "execution_count": 9,
     "metadata": {
     },
     "output_type": "execute_result"
    },
    {
     "data": {
      "text/markdown": [
       "\n"
      ],
      "text/plain": [
       "<IPython.core.display.Markdown object>"
      ]
     },
     "execution_count": 9,
     "metadata": {
     },
     "output_type": "execute_result"
    },
    {
     "data": {
      "text/markdown": [
       "This NFA accepts all strings which contain a 1. The compliment of this language is all string which do not contain a 1, however ther DFA with the accept and non accept states-"
      ],
      "text/plain": [
       "<IPython.core.display.Markdown object>"
      ]
     },
     "execution_count": 9,
     "metadata": {
     },
     "output_type": "execute_result"
    },
    {
     "data": {
      "image/svg+xml": "PD94bWwgdmVyc2lvbj0iMS4wIiBlbmNvZGluZz0iVVRGLTgiIHN0YW5kYWxvbmU9Im5vIj8+CjwhRE9DVFlQRSBzdmcgUFVCTElDICItLy9XM0MvL0RURCBTVkcgMS4xLy9FTiIKICJodHRwOi8vd3d3LnczLm9yZy9HcmFwaGljcy9TVkcvMS4xL0RURC9zdmcxMS5kdGQiPgo8IS0tIEdlbmVyYXRlZCBieSBncmFwaHZpeiB2ZXJzaW9uIDIuNDMuMCAoMCkKIC0tPgo8IS0tIFBhZ2VzOiAxIC0tPgo8c3ZnIHdpZHRoPSIxOTNwdCIgaGVpZ2h0PSI5OHB0Igogdmlld0JveD0iMC4wMCAwLjAwIDE5My4zNCA5OC4yNSIgeG1sbnM9Imh0dHA6Ly93d3cudzMub3JnLzIwMDAvc3ZnIiB4bWxuczp4bGluaz0iaHR0cDovL3d3dy53My5vcmcvMTk5OS94bGluayI+CjxnIGlkPSJncmFwaDAiIGNsYXNzPSJncmFwaCIgdHJhbnNmb3JtPSJzY2FsZSgxIDEpIHJvdGF0ZSgwKSB0cmFuc2xhdGUoNCA5NC4yNSkiPgo8cG9seWdvbiBmaWxsPSJ3aGl0ZSIgc3Ryb2tlPSJ0cmFuc3BhcmVudCIgcG9pbnRzPSItNCw0IC00LC05NC4yNSAxODkuMzQsLTk0LjI1IDE4OS4zNCw0IC00LDQiLz4KPCEtLSA5MDcyZGQ2NCYjNDU7MzhhMSYjNDU7NGNhMiYjNDU7YTY5OSYjNDU7MzhkY2VmNmY0YjBkIC0tPgo8ZyBpZD0ibm9kZTEiIGNsYXNzPSJub2RlIj4KPHRpdGxlPjkwNzJkZDY0JiM0NTszOGExJiM0NTs0Y2EyJiM0NTthNjk5JiM0NTszOGRjZWY2ZjRiMGQ8L3RpdGxlPgo8ZyBpZD0iYV9ub2RlMSI+PGEgeGxpbms6dGl0bGU9Ii4iPgo8ZWxsaXBzZSBmaWxsPSJibGFjayIgc3Ryb2tlPSJibGFjayIgY3g9IjEuOCIgY3k9Ii0zMC41IiByeD0iMS44IiByeT0iMS44Ii8+CjwvYT4KPC9nPgo8L2c+CjwhLS0gcTAgLS0+CjxnIGlkPSJub2RlMiIgY2xhc3M9Im5vZGUiPgo8dGl0bGU+cTA8L3RpdGxlPgo8ZWxsaXBzZSBmaWxsPSJub25lIiBzdHJva2U9ImJsYWNrIiBjeD0iNjcuMzUiIGN5PSItMzAuNSIgcng9IjI2LjUiIHJ5PSIyNi41Ii8+CjxlbGxpcHNlIGZpbGw9Im5vbmUiIHN0cm9rZT0iYmxhY2siIGN4PSI2Ny4zNSIgY3k9Ii0zMC41IiByeD0iMzAuNSIgcnk9IjMwLjUiLz4KPHRleHQgdGV4dC1hbmNob3I9Im1pZGRsZSIgeD0iNjcuMzUiIHk9Ii0yNi44IiBmb250LWZhbWlseT0iVGltZXMsc2VyaWYiIGZvbnQtc2l6ZT0iMTQuMDAiPnEwPC90ZXh0Pgo8L2c+CjwhLS0gOTA3MmRkNjQmIzQ1OzM4YTEmIzQ1OzRjYTImIzQ1O2E2OTkmIzQ1OzM4ZGNlZjZmNGIwZCYjNDU7Jmd0O3EwIC0tPgo8ZyBpZD0iZWRnZTEiIGNsYXNzPSJlZGdlIj4KPHRpdGxlPjkwNzJkZDY0JiM0NTszOGExJiM0NTs0Y2EyJiM0NTthNjk5JiM0NTszOGRjZWY2ZjRiMGQmIzQ1OyZndDtxMDwvdGl0bGU+CjxnIGlkPSJhX2VkZ2UxIj48YSB4bGluazp0aXRsZT0iJiM0NTsmZ3Q7cTAiPgo8cGF0aCBmaWxsPSJub25lIiBzdHJva2U9ImJsYWNrIiBkPSJNMy45LC0zMC41QzcuNDksLTMwLjUgMTkuMzIsLTMwLjUgMzEuNzQsLTMwLjUiLz4KPHBvbHlnb24gZmlsbD0iYmxhY2siIHN0cm9rZT0iYmxhY2siIHBvaW50cz0iMzEuODMsLTMzLjQ4IDQwLjMzLC0zMC41IDMxLjgzLC0yNy41MyAzMS44MywtMzMuNDgiLz4KPC9hPgo8L2c+CjwvZz4KPCEtLSBxMCYjNDU7Jmd0O3EwIC0tPgo8ZyBpZD0iZWRnZTIiIGNsYXNzPSJlZGdlIj4KPHRpdGxlPnEwJiM0NTsmZ3Q7cTA8L3RpdGxlPgo8cGF0aCBmaWxsPSJub25lIiBzdHJva2U9ImJsYWNrIiBkPSJNNTkuMTUsLTU2LjI1QzU4LjY5LC02Ni41OCA2MS40MiwtNzUuMjUgNjcuMzUsLTc1LjI1IDcxLjUyLC03NS4yNSA3NC4xMSwtNzAuOTYgNzUuMTEsLTY0LjgzIi8+Cjxwb2x5Z29uIGZpbGw9ImJsYWNrIiBzdHJva2U9ImJsYWNrIiBwb2ludHM9Ijc4LjA5LC02NC44OSA3NS41NSwtNTYuMjUgNzIuMTUsLTY0LjU5IDc4LjA5LC02NC44OSIvPgo8dGV4dCB0ZXh0LWFuY2hvcj0ibWlkZGxlIiB4PSI2Ny4zNSIgeT0iLTc5LjA1IiBmb250LWZhbWlseT0iVGltZXMsc2VyaWYiIGZvbnQtc2l6ZT0iMTQuMDAiPjA8L3RleHQ+CjwvZz4KPCEtLSBxMSAtLT4KPGcgaWQ9Im5vZGUzIiBjbGFzcz0ibm9kZSI+Cjx0aXRsZT5xMTwvdGl0bGU+CjxlbGxpcHNlIGZpbGw9Im5vbmUiIHN0cm9rZT0iYmxhY2siIGN4PSIxNjIuODQiIGN5PSItMzAuNSIgcng9IjIyLjUiIHJ5PSIyMi41Ii8+Cjx0ZXh0IHRleHQtYW5jaG9yPSJtaWRkbGUiIHg9IjE2Mi44NCIgeT0iLTI2LjgiIGZvbnQtZmFtaWx5PSJUaW1lcyxzZXJpZiIgZm9udC1zaXplPSIxNC4wMCI+cTE8L3RleHQ+CjwvZz4KPCEtLSBxMCYjNDU7Jmd0O3ExIC0tPgo8ZyBpZD0iZWRnZTMiIGNsYXNzPSJlZGdlIj4KPHRpdGxlPnEwJiM0NTsmZ3Q7cTE8L3RpdGxlPgo8cGF0aCBmaWxsPSJub25lIiBzdHJva2U9ImJsYWNrIiBkPSJNOTQuMzksLTMwLjVDMTA1Ljg1LC0zMC41IDExOS4zOCwtMzAuNSAxMzEuMywtMzAuNSIvPgo8cG9seWdvbiBmaWxsPSJibGFjayIgc3Ryb2tlPSJibGFjayIgcG9pbnRzPSIxMzEuNTUsLTMzLjQ4IDE0MC4wNSwtMzAuNSAxMzEuNTUsLTI3LjUzIDEzMS41NSwtMzMuNDgiLz4KPHRleHQgdGV4dC1hbmNob3I9Im1pZGRsZSIgeD0iMTE3LjEiIHk9Ii0zNC4zIiBmb250LWZhbWlseT0iVGltZXMsc2VyaWYiIGZvbnQtc2l6ZT0iMTQuMDAiPjE8L3RleHQ+CjwvZz4KPCEtLSBxMSYjNDU7Jmd0O3ExIC0tPgo8ZyBpZD0iZWRnZTQiIGNsYXNzPSJlZGdlIj4KPHRpdGxlPnExJiM0NTsmZ3Q7cTE8L3RpdGxlPgo8cGF0aCBmaWxsPSJub25lIiBzdHJva2U9ImJsYWNrIiBkPSJNMTU0LjgsLTUxLjg4QzE1My44LC02Mi4xNyAxNTYuNDgsLTcxLjI1IDE2Mi44NCwtNzEuMjUgMTY3LjMyLC03MS4yNSAxNjkuOTcsLTY2Ljc2IDE3MC44MSwtNjAuNTIiLz4KPHBvbHlnb24gZmlsbD0iYmxhY2siIHN0cm9rZT0iYmxhY2siIHBvaW50cz0iMTczLjc5LC02MC40MSAxNzAuODksLTUxLjg4IDE2Ny44NCwtNjAuMzYgMTczLjc5LC02MC40MSIvPgo8dGV4dCB0ZXh0LWFuY2hvcj0ibWlkZGxlIiB4PSIxNjIuODQiIHk9Ii03NS4wNSIgZm9udC1mYW1pbHk9IlRpbWVzLHNlcmlmIiBmb250LXNpemU9IjE0LjAwIj4wLDE8L3RleHQ+CjwvZz4KPC9nPgo8L3N2Zz4K",
      "text/plain": [
       "NFA(states={'q0', 'q1'}, input_symbols={'0', '1'}, transitions={'q0': {'0': {'q0'}, '1': {'q1'}}, 'q1': {'0': {'q1'}, '1': {'q1'}}}, initial_state='q0', final_states={'q0'})"
      ]
     },
     "execution_count": 9,
     "metadata": {
     },
     "output_type": "execute_result"
    },
    {
     "data": {
      "text/markdown": [
       "\n"
      ],
      "text/plain": [
       "<IPython.core.display.Markdown object>"
      ]
     },
     "execution_count": 9,
     "metadata": {
     },
     "output_type": "execute_result"
    },
    {
     "data": {
      "text/markdown": [
       "-accepts all strings."
      ],
      "text/plain": [
       "<IPython.core.display.Markdown object>"
      ]
     },
     "execution_count": 9,
     "metadata": {
     },
     "output_type": "execute_result"
    },
    {
     "data": {
      "text/markdown": [
       "## **1.12**"
      ],
      "text/plain": [
       "<IPython.core.display.Markdown object>"
      ]
     },
     "execution_count": 9,
     "metadata": {
     },
     "output_type": "execute_result"
    },
    {
     "data": {
      "text/markdown": [
       "**(a)**"
      ],
      "text/plain": [
       "<IPython.core.display.Markdown object>"
      ]
     },
     "execution_count": 9,
     "metadata": {
     },
     "output_type": "execute_result"
    },
    {
     "data": {
      "image/svg+xml": "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",
      "text/plain": [
       "DFA(states={'1,2', '2', 'e', '1'}, input_symbols={'a', 'b'}, transitions={'e': {'a': 'e', 'b': 'e'}, '1': {'a': '1,2', 'b': '2'}, '2': {'a': 'e', 'b': '1'}, '1,2': {'a': '1,2', 'b': '2'}}, initial_state='1', final_states={'1,2', '1'}, allow_partial=False)"
      ]
     },
     "execution_count": 9,
     "metadata": {
     },
     "output_type": "execute_result"
    },
    {
     "data": {
      "text/markdown": [
       "\n"
      ],
      "text/plain": [
       "<IPython.core.display.Markdown object>"
      ]
     },
     "execution_count": 9,
     "metadata": {
     },
     "output_type": "execute_result"
    },
    {
     "data": {
      "text/markdown": [
       "**(b)**"
      ],
      "text/plain": [
       "<IPython.core.display.Markdown object>"
      ]
     },
     "execution_count": 9,
     "metadata": {
     },
     "output_type": "execute_result"
    },
    {
     "data": {
      "image/svg+xml": "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",
      "text/plain": [
       "DFA(states={'2', '1,2', '1,3', '1,2,3', '2,3', 'e', '1'}, input_symbols={'a', 'b'}, transitions={'e': {'a': 'e', 'b': 'e'}, '1': {'a': '1,2,3', 'b': 'e'}, '2': {'a': '1,2', 'b': 'e'}, '3': {'a': '2', 'b': '2,3'}, '1,2': {'a': '1,2,3', 'b': 'e'}, '1,3': {'a': '1,2,3', 'b': '2,3'}, '2,3': {'a': '1,2', 'b': '2,3'}, '1,2,3': {'a': '1,2,3', 'b': '2,3'}}, initial_state='1', final_states={'2,3', '2', '1,2', '1,2,3'}, allow_partial=False)"
      ]
     },
     "execution_count": 9,
     "metadata": {
     },
     "output_type": "execute_result"
    },
    {
     "data": {
      "text/markdown": [
       "\n"
      ],
      "text/plain": [
       "<IPython.core.display.Markdown object>"
      ]
     },
     "execution_count": 9,
     "metadata": {
     },
     "output_type": "execute_result"
    }
   ],
   "source": [
    "from IPython.display import display, Markdown\n",
    "from automata.fa.dfa import DFA\n",
    "\n",
    "display(Markdown(\"## **1.5**\"))\n",
    "\n",
    "display(Markdown(\"**a.** {w | w ends with 00}\"))\n",
    "display(nfa_a)\n",
    "display(Markdown(\"\\n\"))\n",
    "\n",
    "display(Markdown(\"**b.** {w | w contains the substring 0101}\"))\n",
    "display(nfa_b)\n",
    "display(Markdown(\"\\n\"))\n",
    "\n",
    "display(Markdown(\"**c.** {w | even number of 0s OR exactly two 1s}\"))\n",
    "display(nfa_c)\n",
    "display(Markdown(\"\\n\"))\n",
    "\n",
    "display(Markdown(\"**d.** {w | w = 0}\"))\n",
    "display(nfa_d)\n",
    "display(Markdown(\"\\n\"))\n",
    "\n",
    "display(Markdown(\"**e.** {w | w matches 0\\*1\\*0\\*0}\"))\n",
    "display(nfa_e)\n",
    "display(Markdown(\"\\n\"))\n",
    "\n",
    "display(Markdown(\"**f.** {ε}\"))\n",
    "display(nfa_f)\n",
    "display(Markdown(\"\\n\"))\n",
    "\n",
    "display(Markdown(\"**g.** {w | w ∈ 0\\*}\"))\n",
    "display(nfa_g)\n",
    "display(Markdown(\"\\n\"))\n",
    "\n",
    "display(Markdown(\"## **1.6**\"))\n",
    "display(Markdown(\"**a union b**\"))\n",
    "display(nfa_a_union_b)\n",
    "display(Markdown(\"\\n\"))\n",
    "\n",
    "display(Markdown(\"**c union f**\"))\n",
    "display(nfa_c_union_f)\n",
    "display(Markdown(\"\\n\"))\n",
    "\n",
    "display(Markdown(\"## **1.7**\"))\n",
    "display(Markdown(\"**g concatenation i**\"))\n",
    "display(nfa_g_cat_i)\n",
    "display(Markdown(\"\\n\"))\n",
    "\n",
    "display(Markdown(\"**b concatenation m**\"))\n",
    "display(nfa_b_cat_m)\n",
    "display(Markdown(\"\\n\"))\n",
    "\n",
    "display(Markdown(\"## **1.8**\"))\n",
    "display(Markdown(\"**b**\\\\*\"))\n",
    "display(nfa_b_star)\n",
    "display(Markdown(\"\\n\"))\n",
    "\n",
    "display(Markdown(\"**j**\\\\*\"))\n",
    "display(nfa_j_star)\n",
    "display(Markdown(\"\\n\"))\n",
    "\n",
    "display(Markdown(\"**m**\\\\*\"))\n",
    "display(nfa_m_star)\n",
    "display(Markdown(\"\\n\"))\n",
    "\n",
    "display(Markdown(\"## **1.9**\"))\n",
    "display(Markdown(\"To show that it is true that any NFA, there is an equivalent one with only one accept state, we will construct one.  \\n\"\n",
    "\"For any DFA $D$ which accepts $A$, the DFA $D_O$ which has onle one accept state is constucted in this manner.  \\n\"\n",
    "\"1. Add a new state which is an accept state  \\n\"\n",
    "\"2. Give all original accept states an empty transition to the new accept state.  \\n\"\n",
    "\"3. Make all accept states in $D$ not accept states.  \\n\\n\"\n",
    "\"This new automata $D_O$ accepts the same language as $D$ with only one accept state.\"))\n",
    "\n",
    "\n",
    "display(Markdown(\"## **1.10**\"))\n",
    "display(Markdown(\"Since a DFA $D$ must have exactly one path for every input string $s$, we know that it will either end in an accept state or a non-accept state. This means that all strings in a language which are not accepted by a language will end in a non-accept state. By switching the accept and non-accept states the new machine $D_C$ will now accept all strings which are not accepted by $D$ and will not accept any strings which are accepted by $D$. This means that the new machine $D_C$ accepts the compliment of $D$.\"))\n",
    "\n",
    "\n",
    "display(Markdown(\"## **1.11**\"))\n",
    "display(Markdown(\"Consider the NFA shown-\"))\n",
    "display(nfa_acc)\n",
    "display(Markdown(\"\\n\"))\n",
    "display(Markdown(\"This NFA accepts all strings which contain a 1. The compliment of this language is all string which do not contain a 1, however ther DFA with the accept and non accept states-\"))\n",
    "display(nfa_acc_c)\n",
    "display(Markdown(\"\\n\"))\n",
    "display(Markdown(\"-accepts all strings.\"))\n",
    "\n",
    "display(Markdown(\"## **1.12**\"))\n",
    "display(Markdown(\"**(a)**\"))\n",
    "display(dfa_a_convert)\n",
    "display(Markdown(\"\\n\"))\n",
    "\n",
    "display(Markdown(\"**(b)**\"))\n",
    "display(dfa_b_convert)\n",
    "display(Markdown(\"\\n\"))\n"
   ]
  }
 ],
 "metadata": {
  "kernelspec": {
   "argv": [
    "/usr/bin/python3",
    "-m",
    "ipykernel",
    "--HistoryManager.enabled=False",
    "--matplotlib=inline",
    "-c",
    "%config InlineBackend.figure_formats = set(['retina'])\nimport matplotlib; matplotlib.rcParams['figure.figsize'] = (12, 7)",
    "-f",
    "{connection_file}"
   ],
   "display_name": "Python 3 (system-wide)",
   "env": {
   },
   "language": "python",
   "metadata": {
    "cocalc": {
     "description": "Python 3 programming language",
     "priority": 100,
     "url": "https://www.python.org/"
    }
   },
   "name": "python3",
   "resource_dir": "/ext/jupyter/kernels/python3"
  },
  "language_info": {
   "codemirror_mode": {
    "name": "ipython",
    "version": 3
   },
   "file_extension": ".py",
   "mimetype": "text/x-python",
   "name": "python",
   "nbconvert_exporter": "python",
   "pygments_lexer": "ipython3",
   "version": "3.10.12"
  }
 },
 "nbformat": 4,
 "nbformat_minor": 4
}